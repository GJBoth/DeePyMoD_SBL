{
 "cells": [
  {
   "cell_type": "markdown",
   "metadata": {},
   "source": [
    "In this notebook we implement and experiment with lasso for the sparsity."
   ]
  },
  {
   "cell_type": "code",
   "execution_count": 1,
   "metadata": {},
   "outputs": [],
   "source": [
    "import numpy as np\n",
    "import seaborn as sns\n",
    "import matplotlib.pyplot as plt\n",
    "from DeePyMoD_SBL.data.diffusion import library\n",
    "\n",
    "np.random.seed(42)"
   ]
  },
  {
   "cell_type": "code",
   "execution_count": 2,
   "metadata": {},
   "outputs": [],
   "source": [
    "# Making data\n",
    "x_points = 100\n",
    "t_points = 25\n",
    "x_grid, t_grid = np.meshgrid(np.linspace(-10, 10, x_points), np.linspace(0, 1, t_points), indexing='ij')"
   ]
  },
  {
   "cell_type": "code",
   "execution_count": 3,
   "metadata": {},
   "outputs": [],
   "source": [
    "# running library\n",
    "time_deriv, theta = library(x_grid.reshape(-1, 1), t_grid.reshape(-1, 1))"
   ]
  },
  {
   "cell_type": "code",
   "execution_count": 4,
   "metadata": {},
   "outputs": [
    {
     "name": "stderr",
     "output_type": "stream",
     "text": [
      "/opt/conda/lib/python3.6/site-packages/ipykernel_launcher.py:2: FutureWarning: `rcond` parameter will change to the default of machine precision times ``max(M, N)`` where M and N are the input matrix dimensions.\n",
      "To use the future default and silence this warning we advise to pass `rcond=None`, to keep using the old, explicitly pass `rcond=-1`.\n",
      "  \n"
     ]
    },
    {
     "data": {
      "text/plain": [
       "array([[-1.63868918e-15],\n",
       "       [ 1.09490062e-15],\n",
       "       [ 2.00000000e+00],\n",
       "       [-1.99292069e-16],\n",
       "       [-1.63466030e-15],\n",
       "       [-2.44870886e-15],\n",
       "       [-6.40287504e-16],\n",
       "       [-3.00767500e-16],\n",
       "       [-5.68286369e-16],\n",
       "       [ 4.04989345e-15],\n",
       "       [-2.32815344e-17],\n",
       "       [ 4.00411254e-16]])"
      ]
     },
     "execution_count": 4,
     "metadata": {},
     "output_type": "execute_result"
    }
   ],
   "source": [
    "# running simple lsqt sq\n",
    "np.linalg.lstsq(theta, time_deriv)[0]"
   ]
  },
  {
   "cell_type": "markdown",
   "metadata": {},
   "source": [
    "We should normalize the data to make life easier:"
   ]
  },
  {
   "cell_type": "code",
   "execution_count": 5,
   "metadata": {},
   "outputs": [],
   "source": [
    "theta_normed = theta / np.linalg.norm(theta, axis=0, keepdims=True)\n",
    "normalization = np.linalg.norm(theta, axis=0)"
   ]
  },
  {
   "cell_type": "code",
   "execution_count": 6,
   "metadata": {},
   "outputs": [
    {
     "name": "stderr",
     "output_type": "stream",
     "text": [
      "/opt/conda/lib/python3.6/site-packages/ipykernel_launcher.py:2: FutureWarning: `rcond` parameter will change to the default of machine precision times ``max(M, N)`` where M and N are the input matrix dimensions.\n",
      "To use the future default and silence this warning we advise to pass `rcond=None`, to keep using the old, explicitly pass `rcond=-1`.\n",
      "  \n"
     ]
    },
    {
     "data": {
      "text/plain": [
       "array([[-1.24219023e-16],\n",
       "       [ 9.19051452e-16],\n",
       "       [ 2.00000000e+00],\n",
       "       [-7.41222024e-17],\n",
       "       [-1.01472948e-15],\n",
       "       [-2.95408622e-15],\n",
       "       [ 8.98332473e-16],\n",
       "       [-1.19224976e-16],\n",
       "       [-3.50268091e-16],\n",
       "       [ 4.82623380e-15],\n",
       "       [ 4.12967009e-16],\n",
       "       [ 4.65483978e-16]])"
      ]
     },
     "execution_count": 6,
     "metadata": {},
     "output_type": "execute_result"
    }
   ],
   "source": [
    "# running simple lsqt sq\n",
    "np.linalg.lstsq(theta_normed, time_deriv)[0] / normalization[:, None]"
   ]
  },
  {
   "cell_type": "markdown",
   "metadata": {},
   "source": [
    "# Noise free exploration"
   ]
  },
  {
   "cell_type": "code",
   "execution_count": 7,
   "metadata": {},
   "outputs": [],
   "source": [
    "from sklearn.linear_model import Lasso\n",
    "from sklearn.linear_model import LassoCV\n",
    "from sklearn.linear_model import lasso_path"
   ]
  },
  {
   "cell_type": "code",
   "execution_count": 99,
   "metadata": {},
   "outputs": [],
   "source": [
    "reg = Lasso(alpha=1e-5, fit_intercept=False)"
   ]
  },
  {
   "cell_type": "code",
   "execution_count": 100,
   "metadata": {},
   "outputs": [
    {
     "data": {
      "text/plain": [
       "Lasso(alpha=1e-05, copy_X=True, fit_intercept=False, max_iter=1000,\n",
       "      normalize=False, positive=False, precompute=False, random_state=None,\n",
       "      selection='cyclic', tol=0.0001, warm_start=False)"
      ]
     },
     "execution_count": 100,
     "metadata": {},
     "output_type": "execute_result"
    }
   ],
   "source": [
    "reg.fit(theta_normed, time_deriv)"
   ]
  },
  {
   "cell_type": "code",
   "execution_count": 103,
   "metadata": {},
   "outputs": [
    {
     "data": {
      "text/plain": [
       "array([-0.        , -0.        ,  1.99659939,  0.        , -0.        ,\n",
       "       -0.        ,  0.        ,  0.        , -0.        , -0.        ,\n",
       "        0.        ,  0.        ])"
      ]
     },
     "execution_count": 103,
     "metadata": {},
     "output_type": "execute_result"
    }
   ],
   "source": [
    "reg.coef_ / normalization"
   ]
  },
  {
   "cell_type": "markdown",
   "metadata": {},
   "source": [
    "Doesn't make a big difference but we should because its correct..."
   ]
  },
  {
   "cell_type": "markdown",
   "metadata": {},
   "source": [
    "Now let's plot a lasso path:"
   ]
  },
  {
   "cell_type": "code",
   "execution_count": 104,
   "metadata": {},
   "outputs": [],
   "source": [
    "reg = lasso_path(theta_normed, time_deriv, alphas=np.logspace(-7, -1, 100), fit_intercept=False)"
   ]
  },
  {
   "cell_type": "code",
   "execution_count": 106,
   "metadata": {},
   "outputs": [
    {
     "data": {
      "image/png": "[encoded data removed]",
      "text/plain": [
       "<Figure size 432x288 with 1 Axes>"
      ]
     },
     "metadata": {
      "needs_background": "light"
     },
     "output_type": "display_data"
    }
   ],
   "source": [
    "for coeff_idx in np.arange(reg[1].shape[1]):\n",
    "    plt.semilogx(reg[0], reg[1][0, coeff_idx, :] / normalization[coeff_idx])\n",
    "    \n",
    "plt.xlabel('alpha')\n",
    "plt.ylabel('val')\n",
    "plt.show()"
   ]
  },
  {
   "cell_type": "markdown",
   "metadata": {},
   "source": [
    "# Noise"
   ]
  },
  {
   "cell_type": "markdown",
   "metadata": {},
   "source": [
    "Now let's add some noise..."
   ]
  },
  {
   "cell_type": "code",
   "execution_count": 107,
   "metadata": {},
   "outputs": [],
   "source": [
    "noise_level = 0.1\n",
    "noise = np.var(time_deriv) * noise_level\n",
    "t = time_deriv + np.random.normal(scale= np.sqrt(noise), size=time_deriv.shape)"
   ]
  },
  {
   "cell_type": "code",
   "execution_count": 108,
   "metadata": {},
   "outputs": [],
   "source": [
    "reg = lasso_path(theta_normed, t, alphas=np.logspace(-7, -1, 100), fit_intercept=False)"
   ]
  },
  {
   "cell_type": "code",
   "execution_count": 109,
   "metadata": {},
   "outputs": [
    {
     "data": {
      "image/png": "[encoded data removed]",
      "text/plain": [
       "<Figure size 432x288 with 1 Axes>"
      ]
     },
     "metadata": {
      "needs_background": "light"
     },
     "output_type": "display_data"
    }
   ],
   "source": [
    "for coeff_idx in np.arange(reg[1].shape[1]):\n",
    "    plt.semilogx(reg[0], reg[1][0, coeff_idx, :] / normalization[coeff_idx])\n",
    "    \n",
    "plt.xlabel('alpha')\n",
    "plt.ylabel('val')\n",
    "plt.show()"
   ]
  },
  {
   "cell_type": "code",
   "execution_count": 127,
   "metadata": {},
   "outputs": [
    {
     "data": {
      "image/png": "[encoded data removed]",
      "text/plain": [
       "<Figure size 432x288 with 1 Axes>"
      ]
     },
     "metadata": {
      "needs_background": "light"
     },
     "output_type": "display_data"
    }
   ],
   "source": [
    "for coeff_idx in np.arange(reg[1].shape[1]):\n",
    "    plt.plot(reg[0], np.abs(reg[1][0, coeff_idx, :]))\n",
    "    \n",
    "plt.xscale('log')\n",
    "#plt.yscale('log')\n",
    "plt.xlabel('alpha')\n",
    "plt.ylabel('val')\n",
    "plt.show()"
   ]
  },
  {
   "cell_type": "markdown",
   "metadata": {},
   "source": [
    "# Range of noise"
   ]
  },
  {
   "cell_type": "code",
   "execution_count": 43,
   "metadata": {},
   "outputs": [],
   "source": [
    "noise_levels = np.linspace(1e-3, 0.5, 100)"
   ]
  },
  {
   "cell_type": "code",
   "execution_count": 44,
   "metadata": {},
   "outputs": [],
   "source": [
    "reg = Lasso(alpha=1e-5, fit_intercept=False)\n",
    "result = []\n",
    "threshold = 0.1"
   ]
  },
  {
   "cell_type": "code",
   "execution_count": null,
   "metadata": {},
   "outputs": [],
   "source": []
  },
  {
   "cell_type": "code",
   "execution_count": 45,
   "metadata": {},
   "outputs": [
    {
     "data": {
      "text/plain": [
       "0.2940645766126493"
      ]
     },
     "execution_count": 45,
     "metadata": {},
     "output_type": "execute_result"
    }
   ],
   "source": [
    "np.std(time_deriv)"
   ]
  },
  {
   "cell_type": "code",
   "execution_count": 46,
   "metadata": {},
   "outputs": [],
   "source": [
    "for noise in noise_levels:\n",
    "    t = time_deriv + np.random.normal(scale= noise * np.std(time_deriv), size=time_deriv.shape)\n",
    "    t_normed = t / np.linalg.norm(t)\n",
    "    reg.fit(theta_normed, t_normed)\n",
    "    thresholded_result = reg.coef_\n",
    "    thresholded_result[np.abs(reg.coef_)< threshold]\n",
    "    result.append(thresholded_result)\n",
    "    \n",
    "result = np.array(result)"
   ]
  },
  {
   "cell_type": "code",
   "execution_count": 47,
   "metadata": {},
   "outputs": [
    {
     "data": {
      "text/plain": [
       "<matplotlib.axes._subplots.AxesSubplot at 0x7f819a040f28>"
      ]
     },
     "execution_count": 47,
     "metadata": {},
     "output_type": "execute_result"
    },
    {
     "data": {
      "image/png": "[encoded data removed]",
      "text/plain": [
       "<Figure size 432x288 with 2 Axes>"
      ]
     },
     "metadata": {
      "needs_background": "light"
     },
     "output_type": "display_data"
    }
   ],
   "source": [
    "sns.heatmap(result)"
   ]
  },
  {
   "cell_type": "code",
   "execution_count": 48,
   "metadata": {},
   "outputs": [],
   "source": [
    "result_contrasted = result\n",
    "result_contrasted[result != 0.0] = 1.0"
   ]
  },
  {
   "cell_type": "code",
   "execution_count": 49,
   "metadata": {},
   "outputs": [
    {
     "data": {
      "text/plain": [
       "<matplotlib.axes._subplots.AxesSubplot at 0x7f8199ebda90>"
      ]
     },
     "execution_count": 49,
     "metadata": {},
     "output_type": "execute_result"
    },
    {
     "data": {
      "image/png": "[encoded data removed]",
      "text/plain": [
       "<Figure size 432x288 with 2 Axes>"
      ]
     },
     "metadata": {
      "needs_background": "light"
     },
     "output_type": "display_data"
    }
   ],
   "source": [
    "sns.heatmap(result_contrasted.T)"
   ]
  },
  {
   "cell_type": "code",
   "execution_count": null,
   "metadata": {},
   "outputs": [],
   "source": []
  },
  {
   "cell_type": "code",
   "execution_count": null,
   "metadata": {},
   "outputs": [],
   "source": []
  },
  {
   "cell_type": "markdown",
   "metadata": {},
   "source": [
    "# Script for data"
   ]
  },
  {
   "cell_type": "code",
   "execution_count": 50,
   "metadata": {},
   "outputs": [],
   "source": [
    "# Imports and settings\n",
    "import numpy as np\n",
    "from sklearn.linear_model import Lasso\n",
    "\n",
    "np.random.seed(42)"
   ]
  },
  {
   "cell_type": "code",
   "execution_count": 51,
   "metadata": {},
   "outputs": [],
   "source": [
    "# Loading data\n",
    "data_dict = np.load('data.npy', allow_pickle=True).item()\n",
    "time_deriv = data_dict['time_deriv']\n",
    "theta = data_dict['theta']\n"
   ]
  },
  {
   "cell_type": "code",
   "execution_count": 74,
   "metadata": {},
   "outputs": [],
   "source": [
    "# Initializing\n",
    "noise_levels = np.linspace(1e-3, 1.0, 100)\n",
    "\n",
    "repeats = 10"
   ]
  },
  {
   "cell_type": "code",
   "execution_count": 75,
   "metadata": {},
   "outputs": [],
   "source": [
    "result = []\n",
    "# Running Lasso\n",
    "for noise in noise_levels:\n",
    "    single_noise_result = []\n",
    "    for repeat in np.arange(repeats):\n",
    "        reg = Lasso(alpha=1e-5, fit_intercept=False)\n",
    "        t = time_deriv + np.random.normal(scale=noise * np.std(time_deriv), size=time_deriv.shape)\n",
    "        t_normed = t / np.linalg.norm(t)\n",
    "        theta_normed = theta / np.linalg.norm(theta, axis=0, keepdims=True)\n",
    "        reg.fit(theta_normed, t_normed)\n",
    "        single_noise_result.append(reg.coef_)\n",
    "    result.append(single_noise_result)\n",
    "\n",
    "result = np.array(result)\n"
   ]
  },
  {
   "cell_type": "code",
   "execution_count": null,
   "metadata": {},
   "outputs": [],
   "source": []
  },
  {
   "cell_type": "code",
   "execution_count": 79,
   "metadata": {},
   "outputs": [],
   "source": [
    "# Thresholding and averaging\n",
    "threshold = 0.0\n",
    "thresholded_result = result\n",
    "thresholded_result[np.abs(result) <= threshold] = 0.0\n",
    "thresholded_result[np.abs(result) > threshold] = 1.0\n",
    "\n",
    "correct_vec = np.zeros(12)\n",
    "correct_vec[2] = 1.0\n",
    "\n",
    "correct_result = np.all(thresholded_result == correct_vec[None, None, :], axis=2)\n"
   ]
  },
  {
   "cell_type": "code",
   "execution_count": 80,
   "metadata": {},
   "outputs": [
    {
     "name": "stdout",
     "output_type": "stream",
     "text": [
      "[1.  1.  1.  1.  1.  1.  1.  1.  1.  1.  1.  1.  1.  1.  1.  1.  1.  0.9\n",
      " 1.  1.  1.  1.  1.  0.9 0.9 0.9 0.9 0.9 0.9 0.9 0.9 0.9 0.9 0.7 0.8 0.9\n",
      " 0.8 0.8 0.7 0.7 0.7 0.9 0.8 0.6 1.  0.8 0.8 0.6 0.6 0.6 0.8 0.8 0.9 0.8\n",
      " 0.6 0.8 0.6 0.5 0.8 0.6 0.5 0.9 0.5 0.7 0.5 0.6 0.5 0.7 0.8 0.3 0.9 0.6\n",
      " 0.6 0.3 0.1 0.7 0.3 0.5 0.5 0.7 0.1 0.6 0.5 0.6 0.3 0.2 0.7 0.5 0.3 0.6\n",
      " 0.5 0.5 0.6 0.2 0.5 0.5 0.3 0.3 0.4 0.6]\n"
     ]
    }
   ],
   "source": [
    "print(np.mean(correct_result, axis=1))"
   ]
  },
  {
   "cell_type": "code",
   "execution_count": null,
   "metadata": {},
   "outputs": [],
   "source": [
    "\n",
    "\n",
    "\n",
    "\n",
    "\n",
    "\n",
    "\n",
    "thresholded_result[-1, 0, :]\n",
    "\n",
    "data_dict = {'noise_levels': noise_levels, 'fit': result}\n"
   ]
  }
 ],
 "metadata": {
  "kernelspec": {
   "display_name": "Python 3",
   "language": "python",
   "name": "python3"
  },
  "language_info": {
   "codemirror_mode": {
    "name": "ipython",
    "version": 3
   },
   "file_extension": ".py",
   "mimetype": "text/x-python",
   "name": "python",
   "nbconvert_exporter": "python",
   "pygments_lexer": "ipython3",
   "version": "3.6.9"
  }
 },
 "nbformat": 4,
 "nbformat_minor": 4
}
