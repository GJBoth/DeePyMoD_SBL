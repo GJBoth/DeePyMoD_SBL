{
 "cells": [
  {
   "cell_type": "code",
   "execution_count": 1,
   "metadata": {},
   "outputs": [],
   "source": [
    "# Imports\n",
    "import numpy as np\n",
    "import torch\n",
    "\n",
    "from phimal_utilities.data import Dataset\n",
    "from phimal_utilities.data.burgers import BurgersDelta\n",
    "from DeePyMoD_SBL.deepymod_torch.library_functions import library_1D_in\n",
    "from DeePyMoD_SBL.deepymod_torch.DeepMod import DeepMod, DeepModDynamic\n",
    "from sklearn.linear_model import LassoLarsIC\n",
    "\n",
    "# Settings and parameters\n",
    "if torch.cuda.is_available():\n",
    "    torch.set_default_tensor_type('torch.cuda.FloatTensor')\n",
    "np.random.seed(42)\n",
    "torch.manual_seed(42)\n",
    "torch.backends.cudnn.deterministic = True\n",
    "torch.backends.cudnn.benchmark = False"
   ]
  },
  {
   "cell_type": "markdown",
   "metadata": {},
   "source": [
    "# Making data"
   ]
  },
  {
   "cell_type": "code",
   "execution_count": 2,
   "metadata": {},
   "outputs": [],
   "source": [
    "v = 0.1\n",
    "A = 1.0\n",
    "\n",
    "# Making grid\n",
    "x = np.linspace(-3, 4, 100)\n",
    "t = np.linspace(0.5, 5.0, 50)\n",
    "x_grid, t_grid = np.meshgrid(x, t, indexing='ij')\n",
    "\n",
    "# Making data\n",
    "dataset = Dataset(BurgersDelta, v=v, A=A)\n",
    "X_train, y_train = dataset.create_dataset(x_grid.reshape(-1, 1), t_grid.reshape(-1, 1), n_samples=2000, noise=0.1, random=True)"
   ]
  },
  {
   "cell_type": "markdown",
   "metadata": {},
   "source": [
    "# deepmod + log_prob"
   ]
  },
  {
   "cell_type": "code",
   "execution_count": 4,
   "metadata": {},
   "outputs": [],
   "source": [
    "config = {'n_in': 2, 'hidden_dims': [30, 30, 30, 30, 30], 'n_out': 1, 'library_function':library_1D_in, 'library_args':{'poly_order':2, 'diff_order': 2}}\n",
    "model = DeepMod(**config)\n",
    "\n",
    "sigma = torch.tensor(0.1, dtype=torch.float32, requires_grad=True)"
   ]
  },
  {
   "cell_type": "code",
   "execution_count": 5,
   "metadata": {},
   "outputs": [],
   "source": [
    "optimizer = torch.optim.Adam([{'params': model.parameters(), 'betas': (0.99, 0.999)}, {'params': sigma, 'betas': (0.99, 0.999)}], amsgrad=True)"
   ]
  },
  {
   "cell_type": "code",
   "execution_count": 9,
   "metadata": {},
   "outputs": [],
   "source": [
    "prediction = model(X_train)[0]\n",
    "N = prediction.shape[0]"
   ]
  },
  {
   "cell_type": "code",
   "execution_count": 26,
   "metadata": {},
   "outputs": [
    {
     "data": {
      "text/plain": [
       "tensor([[3.5898]], grad_fn=<AddBackward0>)"
      ]
     },
     "execution_count": 26,
     "metadata": {},
     "output_type": "execute_result"
    }
   ],
   "source": [
    "1/2*torch.log(2*np.pi*sigma**2) + 1/(2 * N * sigma**2) * (y_train - prediction).T @ (y_train - prediction)"
   ]
  },
  {
   "cell_type": "code",
   "execution_count": 27,
   "metadata": {},
   "outputs": [
    {
     "data": {
      "text/plain": [
       "tensor([3.5898], grad_fn=<AddBackward0>)"
      ]
     },
     "execution_count": 27,
     "metadata": {},
     "output_type": "execute_result"
    }
   ],
   "source": [
    "ll = "
   ]
  },
  {
   "cell_type": "code",
   "execution_count": 24,
   "metadata": {},
   "outputs": [
    {
     "data": {
      "text/plain": [
       "tensor(3.5898, grad_fn=<SumBackward0>)"
      ]
     },
     "execution_count": 24,
     "metadata": {},
     "output_type": "execute_result"
    }
   ],
   "source": [
    "torch.sum(ll.squeeze())"
   ]
  },
  {
   "cell_type": "code",
   "execution_count": null,
   "metadata": {},
   "outputs": [],
   "source": [
    "\n",
    "# Running deepmod\n",
    "\n",
    "\n",
    "\n",
    "\n",
    "train_dynamic(model, X_train, y_train, optimizer, 20000, loss_func_args={'start_sparsity_update': 50000, 'sparsity_update_period': 200})\n",
    "\n",
    "torch.save(model.state_dict(), 'data/deepmod_lstsq.pt')"
   ]
  },
  {
   "cell_type": "code",
   "execution_count": null,
   "metadata": {},
   "outputs": [],
   "source": [
    "def train(model, data, target, optimizer, max_iterations, loss_func_args={'l1':1e-5, 'noise': sigma}):\n",
    "    '''Trains the deepmod model with MSE, regression and l1 cost function. Updates model in-place.'''\n",
    "    start_time = time.time()\n",
    "    number_of_terms = [coeff_vec.shape[0] for coeff_vec in model(data)[3]]\n",
    "    board = Tensorboard(number_of_terms)\n",
    "\n",
    "    # Training\n",
    "    print('| Iteration | Progress | Time remaining |     Cost |      MSE |      Reg |       L1 |')\n",
    "    for iteration in torch.arange(0, max_iterations + 1):\n",
    "        # Calculating prediction and library and scaling\n",
    "        prediction, time_deriv_list, sparse_theta_list, coeff_vector_list, theta = model(data)\n",
    "        coeff_vector_scaled_list = scaling(coeff_vector_list, sparse_theta_list, time_deriv_list) \n",
    "        \n",
    "        # Calculating loss\n",
    "        loss_reg = reg_loss(time_deriv_list, sparse_theta_list, coeff_vector_list)\n",
    "        loss_mse = torch.mean((prediction - target)**2, dim=0) * 1 / (2*sigma**2) + 1/2*torch.log(2*np.pi*sigma**2)\n",
    "        loss_l1 = l1_loss(coeff_vector_scaled_list, loss_func_args['l1'])\n",
    "        loss = torch.sum(loss_reg) + torch.sum(loss_mse) + torch.sum(loss_l1)\n",
    "        \n",
    "        # Writing\n",
    "        if iteration % 100 == 0:\n",
    "            progress(iteration, start_time, max_iterations, loss.item(), torch.sum(loss_mse).item(), torch.sum(loss_reg).item(), torch.sum(loss_l1).item())\n",
    "            board.write(iteration, loss, loss_mse, loss_reg, loss_l1, coeff_vector_list, coeff_vector_scaled_list)\n",
    "\n",
    "        # Optimizer step\n",
    "        optimizer.zero_grad()\n",
    "        loss.backward()\n",
    "        optimizer.step()\n",
    "    board.close()"
   ]
  },
  {
   "cell_type": "markdown",
   "metadata": {},
   "source": [
    "loss should be a tensor "
   ]
  },
  {
   "cell_type": "code",
   "execution_count": null,
   "metadata": {},
   "outputs": [],
   "source": [
    "ll = 1/2*torch.log(2*np.pi*sigma**2) + 1/(2 * N * sigma**2) * (y_train - prediction).T @ (y_train - prediction)"
   ]
  }
 ],
 "metadata": {
  "kernelspec": {
   "display_name": "Python 3",
   "language": "python",
   "name": "python3"
  },
  "language_info": {
   "codemirror_mode": {
    "name": "ipython",
    "version": 3
   },
   "file_extension": ".py",
   "mimetype": "text/x-python",
   "name": "python",
   "nbconvert_exporter": "python",
   "pygments_lexer": "ipython3",
   "version": "3.6.9"
  }
 },
 "nbformat": 4,
 "nbformat_minor": 4
}
