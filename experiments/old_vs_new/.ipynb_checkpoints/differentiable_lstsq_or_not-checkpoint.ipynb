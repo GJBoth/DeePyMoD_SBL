{
 "cells": [
  {
   "cell_type": "code",
   "execution_count": 1,
   "metadata": {},
   "outputs": [],
   "source": [
    "# Imports\n",
    "import numpy as np\n",
    "import torch\n",
    "\n",
    "from phimal_utilities.analysis import load_tensorboard\n",
    "from phimal_utilities.data import Dataset\n",
    "from phimal_utilities.data.burgers import BurgersDelta\n",
    "from DeePyMoD_SBL.deepymod_torch.library_functions import library_1D_in\n",
    "from DeePyMoD_SBL.deepymod_torch.DeepMod import DeepModDynamic\n",
    "from sklearn.linear_model import LassoLarsIC\n",
    "\n",
    "import time\n",
    "from DeePyMoD_SBL.deepymod_torch.output import Tensorboard, progress\n",
    "from DeePyMoD_SBL.deepymod_torch.losses import reg_loss, mse_loss, l1_loss\n",
    "from DeePyMoD_SBL.deepymod_torch.sparsity import scaling, threshold\n",
    "from numpy import pi\n",
    "\n",
    "import matplotlib.pyplot as plt\n",
    "import seaborn as sns\n",
    "sns.set()\n",
    "\n",
    "# Settings and parameters\n",
    "if torch.cuda.is_available():\n",
    "    torch.set_default_tensor_type('torch.cuda.FloatTensor')\n",
    "np.random.seed(42)\n",
    "torch.manual_seed(42)\n",
    "torch.backends.cudnn.deterministic = True\n",
    "torch.backends.cudnn.benchmark = False"
   ]
  },
  {
   "cell_type": "markdown",
   "metadata": {},
   "source": [
    "# Making data"
   ]
  },
  {
   "cell_type": "code",
   "execution_count": 2,
   "metadata": {},
   "outputs": [],
   "source": [
    "v = 0.1\n",
    "A = 1.0\n",
    "\n",
    "# Making grid\n",
    "x = np.linspace(-3, 4, 80)\n",
    "t = np.linspace(0.5, 5.0, 25)\n",
    "x_grid, t_grid = np.meshgrid(x, t, indexing='ij')\n",
    "\n",
    "# Making data\n",
    "dataset = Dataset(BurgersDelta, v=v, A=A)\n",
    "X_train, y_train = dataset.create_dataset(x_grid.reshape(-1, 1), t_grid.reshape(-1, 1), n_samples=0, noise=0.1, random=False)\n",
    "\n",
    "theta = dataset.library(x_grid.reshape(-1, 1), t_grid.reshape(-1, 1), poly_order=2, deriv_order=2)\n",
    "dt = dataset.time_deriv(x_grid.reshape(-1, 1), t_grid.reshape(-1, 1))\n"
   ]
  },
  {
   "cell_type": "markdown",
   "metadata": {},
   "source": [
    "# Running non-differentiable"
   ]
  },
  {
   "cell_type": "code",
   "execution_count": 3,
   "metadata": {},
   "outputs": [],
   "source": [
    "def train(model, data, target, optimizer, max_iterations, loss_func_args):\n",
    "    '''Trains the deepmod model with MSE, regression and l1 cost function. Updates model in-place.'''\n",
    "    start_time = time.time()\n",
    "    number_of_terms = [coeff_vec.shape[0] for coeff_vec in model(data)[3]]\n",
    "    board = Tensorboard(number_of_terms)\n",
    "    \n",
    "    # Training\n",
    "    print('| Iteration | Progress | Time remaining |     Cost |      MSE |      Reg |       LL |')\n",
    "    for iteration in torch.arange(0, max_iterations + 1):\n",
    "        # Calculating prediction and library and scaling\n",
    "        prediction, time_deriv_list, sparse_theta_list, coeff_vector_list, theta = model(data)\n",
    "        coeff_vector_scaled_list = scaling(coeff_vector_list, sparse_theta_list, time_deriv_list) \n",
    "        \n",
    "        # Calculating loss\n",
    "        with torch.no_grad():\n",
    "            t = theta.detach()\n",
    "            dt = time_deriv_list[0].detach()\n",
    "            coeff_vector_list = [torch.inverse(t.T @ t) @ (t.T @ dt)] # normal equation for least squares\n",
    "            \n",
    "        loss_mse = mse_loss(prediction, target)\n",
    "        loss_reg = reg_loss(time_deriv_list, sparse_theta_list, coeff_vector_list)\n",
    "        loss = torch.sum(2 * torch.log(2 * pi * loss_mse) + loss_reg / loss_mse) \n",
    "        \n",
    "        # Writing\n",
    "        if iteration % 100 == 0:\n",
    "            # Write progress to command line\n",
    "            progress(iteration, start_time, max_iterations, loss.item(), torch.sum(loss_mse).item(), torch.sum(loss_reg).item(), torch.sum(loss_reg).item())\n",
    "            \n",
    "            # Calculate error for theta\n",
    "            theta_true = loss_func_args['library']\n",
    "            dt_true = loss_func_args['time_deriv']\n",
    "            mae_library = torch.mean(torch.abs(theta - theta_true), dim=0)\n",
    "            mae_dt = torch.mean(torch.abs(dt_true - time_deriv_list[0]), dim=0)\n",
    "            \n",
    "            # Write to tensorboard\n",
    "            board.write(iteration, loss, loss_mse, loss_reg, loss_reg, coeff_vector_list, coeff_vector_scaled_list, mae_library=mae_library, mae_time_deriv=mae_dt)\n",
    "\n",
    "        # Optimizer step\n",
    "        optimizer.zero_grad()\n",
    "        loss.backward()\n",
    "        optimizer.step()\n",
    "\n",
    "    board.close()"
   ]
  },
  {
   "cell_type": "code",
   "execution_count": 4,
   "metadata": {},
   "outputs": [],
   "source": [
    "# Running deepmod\n",
    "config = {'n_in': 2, 'hidden_dims': [30, 30, 30, 30, 30], 'n_out': 1, 'library_function':library_1D_in, 'library_args':{'poly_order':2, 'diff_order': 2}, 'sparsity_estimator': LassoLarsIC(fit_intercept=False)}\n",
    "model = DeepModDynamic(**config)\n",
    "optimizer = torch.optim.Adam(model.network_parameters(), betas=(0.99, 0.999), amsgrad=True)"
   ]
  },
  {
   "cell_type": "code",
   "execution_count": 5,
   "metadata": {},
   "outputs": [
    {
     "name": "stdout",
     "output_type": "stream",
     "text": [
      "| Iteration | Progress | Time remaining |     Cost |      MSE |      Reg |       LL |\n",
      "      10000    100.00%               0s   3.61e-04   3.56e-04   4.99e-06   4.99e-06 "
     ]
    }
   ],
   "source": [
    "train(model, X_train, y_train, optimizer, 10000, loss_func_args={'library':torch.tensor(theta) ,'time_deriv': torch.tensor(dt)})"
   ]
  },
  {
   "cell_type": "code",
   "execution_count": 43,
   "metadata": {},
   "outputs": [],
   "source": [
    "df = load_tensorboard('runs/non_differentiable/')"
   ]
  },
  {
   "cell_type": "code",
   "execution_count": 47,
   "metadata": {},
   "outputs": [
    {
     "data": {
      "text/plain": [
       "[<matplotlib.lines.Line2D at 0x7f3de4194668>]"
      ]
     },
     "execution_count": 47,
     "metadata": {},
     "output_type": "execute_result"
    },
    {
     "data": {
      "image/png": "[encoded data removed]",
      "text/plain": [
       "<Figure size 432x288 with 1 Axes>"
      ]
     },
     "metadata": {
      "needs_background": "light"
     },
     "output_type": "display_data"
    }
   ],
   "source": [
    "plt.semilogy(df.index, df['MSE_0'])"
   ]
  },
  {
   "cell_type": "code",
   "execution_count": 48,
   "metadata": {},
   "outputs": [
    {
     "data": {
      "text/plain": [
       "[<matplotlib.lines.Line2D at 0x7f3de4732b00>]"
      ]
     },
     "execution_count": 48,
     "metadata": {},
     "output_type": "execute_result"
    },
    {
     "data": {
      "image/png": "[encoded data removed]",
      "text/plain": [
       "<Figure size 432x288 with 1 Axes>"
      ]
     },
     "metadata": {
      "needs_background": "light"
     },
     "output_type": "display_data"
    }
   ],
   "source": [
    "plt.semilogy(df.index, df['Regression_0'])"
   ]
  },
  {
   "cell_type": "code",
   "execution_count": 49,
   "metadata": {},
   "outputs": [
    {
     "data": {
      "text/plain": [
       "Index(['Total_loss', 'MSE_0', 'Regression_0', 'L1_0', 'coeff_0_0', 'coeff_0_1',\n",
       "       'coeff_0_2', 'coeff_0_3', 'coeff_0_4', 'coeff_0_5', 'coeff_0_6',\n",
       "       'coeff_0_7', 'coeff_0_8', 'scaled_coeff_0_0', 'scaled_coeff_0_1',\n",
       "       'scaled_coeff_0_2', 'scaled_coeff_0_3', 'scaled_coeff_0_4',\n",
       "       'scaled_coeff_0_5', 'scaled_coeff_0_6', 'scaled_coeff_0_7',\n",
       "       'scaled_coeff_0_8', 'mae_library_0', 'mae_library_1', 'mae_library_2',\n",
       "       'mae_library_3', 'mae_library_4', 'mae_library_5', 'mae_library_6',\n",
       "       'mae_library_7', 'mae_library_8', 'mae_time_deriv'],\n",
       "      dtype='object')"
      ]
     },
     "execution_count": 49,
     "metadata": {},
     "output_type": "execute_result"
    }
   ],
   "source": [
    "df.keys()"
   ]
  },
  {
   "cell_type": "code",
   "execution_count": 50,
   "metadata": {},
   "outputs": [],
   "source": [
    "coeff_keys = [key for key in df.keys() if key[:5] == 'coeff']"
   ]
  },
  {
   "cell_type": "code",
   "execution_count": 51,
   "metadata": {},
   "outputs": [
    {
     "data": {
      "text/plain": [
       "['coeff_0_0',\n",
       " 'coeff_0_1',\n",
       " 'coeff_0_2',\n",
       " 'coeff_0_3',\n",
       " 'coeff_0_4',\n",
       " 'coeff_0_5',\n",
       " 'coeff_0_6',\n",
       " 'coeff_0_7',\n",
       " 'coeff_0_8']"
      ]
     },
     "execution_count": 51,
     "metadata": {},
     "output_type": "execute_result"
    }
   ],
   "source": [
    "coeff_keys"
   ]
  },
  {
   "cell_type": "code",
   "execution_count": 53,
   "metadata": {},
   "outputs": [
    {
     "data": {
      "text/plain": [
       "(-1, 1)"
      ]
     },
     "execution_count": 53,
     "metadata": {},
     "output_type": "execute_result"
    },
    {
     "data": {
      "image/png": "[encoded data removed]",
      "text/plain": [
       "<Figure size 432x288 with 1 Axes>"
      ]
     },
     "metadata": {
      "needs_background": "light"
     },
     "output_type": "display_data"
    }
   ],
   "source": [
    "for key in coeff_keys:\n",
    "    plt.plot(df[key])\n",
    "plt.ylim(-1, 1)"
   ]
  },
  {
   "cell_type": "markdown",
   "metadata": {},
   "source": [
    "# Differentiable version"
   ]
  },
  {
   "cell_type": "code",
   "execution_count": null,
   "metadata": {},
   "outputs": [],
   "source": [
    "def train(model, data, target, optimizer, max_iterations, loss_func_args):\n",
    "    '''Trains the deepmod model with MSE, regression and l1 cost function. Updates model in-place.'''\n",
    "    start_time = time.time()\n",
    "    number_of_terms = [coeff_vec.shape[0] for coeff_vec in model(data)[3]]\n",
    "    board = Tensorboard(number_of_terms)\n",
    "    \n",
    "    # Training\n",
    "    print('| Iteration | Progress | Time remaining |     Cost |      MSE |      Reg |       LL |')\n",
    "    for iteration in torch.arange(0, max_iterations + 1):\n",
    "        # Calculating prediction and library and scaling\n",
    "        prediction, time_deriv_list, sparse_theta_list, coeff_vector_list, theta = model(data)\n",
    "        coeff_vector_scaled_list = scaling(coeff_vector_list, sparse_theta_list, time_deriv_list) \n",
    "        \n",
    "        # Calculating loss\n",
    "        loss_mse = mse_loss(prediction, target)\n",
    "        loss_reg = reg_loss(time_deriv_list, sparse_theta_list, coeff_vector_list)\n",
    "        loss = torch.sum(2 * torch.log(2 * pi * loss_mse) + loss_reg / loss_mse) \n",
    "        \n",
    "        # Writing\n",
    "        if iteration % 100 == 0:\n",
    "            # Write progress to command line\n",
    "            progress(iteration, start_time, max_iterations, loss.item(), torch.sum(loss_mse).item(), torch.sum(loss_reg).item(), torch.sum(loss_reg).item())\n",
    "            \n",
    "            # Calculate error for theta\n",
    "            theta_true = loss_func_args['library']\n",
    "            dt_true = loss_func_args['time_deriv']\n",
    "            mae_library = torch.mean(torch.abs(theta - theta_true), dim=0)\n",
    "            mae_dt = torch.mean(torch.abs(dt_true - time_deriv_list[0]), dim=0)\n",
    "            \n",
    "            # Write to tensorboard\n",
    "            board.write(iteration, loss, loss_mse, loss_reg, loss_reg, coeff_vector_list, coeff_vector_scaled_list, mae_library=mae_library, mae_time_deriv=mae_dt)\n",
    "\n",
    "        # Optimizer step\n",
    "        optimizer.zero_grad()\n",
    "        loss.backward()\n",
    "        optimizer.step()\n",
    "\n",
    "    board.close()\n",
    "    "
   ]
  }
 ],
 "metadata": {
  "kernelspec": {
   "display_name": "Python 3",
   "language": "python",
   "name": "python3"
  },
  "language_info": {
   "codemirror_mode": {
    "name": "ipython",
    "version": 3
   },
   "file_extension": ".py",
   "mimetype": "text/x-python",
   "name": "python",
   "nbconvert_exporter": "python",
   "pygments_lexer": "ipython3",
   "version": "3.6.9"
  }
 },
 "nbformat": 4,
 "nbformat_minor": 4
}
