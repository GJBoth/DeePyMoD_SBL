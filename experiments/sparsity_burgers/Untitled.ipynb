{
 "cells": [
  {
   "cell_type": "code",
   "execution_count": 3,
   "metadata": {},
   "outputs": [],
   "source": [
    "from DeePyMoD_SBL.data import Burgers\n",
    "from DeePyMoD_SBL.SBL import SBL\n",
    "\n",
    "import numpy as np"
   ]
  },
  {
   "cell_type": "markdown",
   "metadata": {},
   "source": [
    "# Making data"
   ]
  },
  {
   "cell_type": "code",
   "execution_count": 4,
   "metadata": {},
   "outputs": [],
   "source": [
    "x_points = 100\n",
    "t_points = 25\n",
    "x_grid, t_grid = np.meshgrid(np.linspace(-10, 10, x_points), np.linspace(1e-4, 1, t_points), indexing='ij')"
   ]
  },
  {
   "cell_type": "code",
   "execution_count": 5,
   "metadata": {},
   "outputs": [],
   "source": [
    "burgers = Burgers(0.1, 1)\n",
    "theta = burgers.library(x_grid.reshape(-1, 1), t_grid.reshape(-1, 1))\n",
    "time_deriv = burgers.time_deriv(x_grid.reshape(-1, 1), t_grid.reshape(-1, 1))"
   ]
  },
  {
   "cell_type": "markdown",
   "metadata": {},
   "source": [
    "# Unnormalized data"
   ]
  },
  {
   "cell_type": "code",
   "execution_count": 14,
   "metadata": {},
   "outputs": [
    {
     "data": {
      "text/plain": [
       "(array([[        inf],\n",
       "        [        inf],\n",
       "        [97.37811216],\n",
       "        [        inf],\n",
       "        [        inf],\n",
       "        [ 1.02436196],\n",
       "        [        inf],\n",
       "        [        inf],\n",
       "        [        inf],\n",
       "        [        inf],\n",
       "        [        inf],\n",
       "        [        inf]]), array([[ 0.09953405],\n",
       "        [-0.98796991]]), array([[8.09500418e-07, 2.42010669e-07],\n",
       "        [2.42010669e-07, 1.32887998e-04]]), array([[0.37532969]]))"
      ]
     },
     "execution_count": 14,
     "metadata": {},
     "output_type": "execute_result"
    }
   ],
   "source": [
    "level = 0.5\n",
    "y = time_deriv + level*np.std(time_deriv)* np.random.normal(size=time_deriv.shape)\n",
    "SBL(theta, y)"
   ]
  },
  {
   "cell_type": "markdown",
   "metadata": {},
   "source": [
    "# Normalized data"
   ]
  },
  {
   "cell_type": "code",
   "execution_count": 15,
   "metadata": {},
   "outputs": [],
   "source": [
    "theta_normed = theta / np.linalg.norm(theta, axis=0, keepdims=True)\n",
    "y_normed = y / np.linalg.norm(y)"
   ]
  },
  {
   "cell_type": "code",
   "execution_count": 16,
   "metadata": {},
   "outputs": [
    {
     "data": {
      "text/plain": [
       "(array([[       inf],\n",
       "        [       inf],\n",
       "        [1.96980604],\n",
       "        [       inf],\n",
       "        [       inf],\n",
       "        [3.40180261],\n",
       "        [       inf],\n",
       "        [       inf],\n",
       "        [       inf],\n",
       "        [       inf],\n",
       "        [       inf],\n",
       "        [       inf]]), array([[ 0.6998269 ],\n",
       "        [-0.54214553]]), array([[4.00179616e-05, 9.33739263e-07],\n",
       "        [9.33739263e-07, 4.00156697e-05]]), array([[7.94457496e-05]]))"
      ]
     },
     "execution_count": 16,
     "metadata": {},
     "output_type": "execute_result"
    }
   ],
   "source": [
    "SBL(theta_normed, y_normed)"
   ]
  },
  {
   "cell_type": "code",
   "execution_count": null,
   "metadata": {},
   "outputs": [],
   "source": []
  }
 ],
 "metadata": {
  "kernelspec": {
   "display_name": "Python 3",
   "language": "python",
   "name": "python3"
  },
  "language_info": {
   "codemirror_mode": {
    "name": "ipython",
    "version": 3
   },
   "file_extension": ".py",
   "mimetype": "text/x-python",
   "name": "python",
   "nbconvert_exporter": "python",
   "pygments_lexer": "ipython3",
   "version": "3.6.9"
  }
 },
 "nbformat": 4,
 "nbformat_minor": 4
}
