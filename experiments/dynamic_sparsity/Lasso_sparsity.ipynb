{
 "cells": [
  {
   "cell_type": "code",
   "execution_count": 1,
   "metadata": {},
   "outputs": [
    {
     "name": "stderr",
     "output_type": "stream",
     "text": [
      "/opt/conda/lib/python3.6/site-packages/tensorboard/compat/tensorflow_stub/dtypes.py:541: FutureWarning: Passing (type, 1) or '1type' as a synonym of type is deprecated; in a future version of numpy, it will be understood as (type, (1,)) / '(1,)type'.\n",
      "  _np_qint8 = np.dtype([(\"qint8\", np.int8, 1)])\n",
      "/opt/conda/lib/python3.6/site-packages/tensorboard/compat/tensorflow_stub/dtypes.py:542: FutureWarning: Passing (type, 1) or '1type' as a synonym of type is deprecated; in a future version of numpy, it will be understood as (type, (1,)) / '(1,)type'.\n",
      "  _np_quint8 = np.dtype([(\"quint8\", np.uint8, 1)])\n",
      "/opt/conda/lib/python3.6/site-packages/tensorboard/compat/tensorflow_stub/dtypes.py:543: FutureWarning: Passing (type, 1) or '1type' as a synonym of type is deprecated; in a future version of numpy, it will be understood as (type, (1,)) / '(1,)type'.\n",
      "  _np_qint16 = np.dtype([(\"qint16\", np.int16, 1)])\n",
      "/opt/conda/lib/python3.6/site-packages/tensorboard/compat/tensorflow_stub/dtypes.py:544: FutureWarning: Passing (type, 1) or '1type' as a synonym of type is deprecated; in a future version of numpy, it will be understood as (type, (1,)) / '(1,)type'.\n",
      "  _np_quint16 = np.dtype([(\"quint16\", np.uint16, 1)])\n",
      "/opt/conda/lib/python3.6/site-packages/tensorboard/compat/tensorflow_stub/dtypes.py:545: FutureWarning: Passing (type, 1) or '1type' as a synonym of type is deprecated; in a future version of numpy, it will be understood as (type, (1,)) / '(1,)type'.\n",
      "  _np_qint32 = np.dtype([(\"qint32\", np.int32, 1)])\n",
      "/opt/conda/lib/python3.6/site-packages/tensorboard/compat/tensorflow_stub/dtypes.py:550: FutureWarning: Passing (type, 1) or '1type' as a synonym of type is deprecated; in a future version of numpy, it will be understood as (type, (1,)) / '(1,)type'.\n",
      "  np_resource = np.dtype([(\"resource\", np.ubyte, 1)])\n"
     ]
    }
   ],
   "source": [
    "import numpy as np\n",
    "import pandas as pd\n",
    "import torch\n",
    "\n",
    "from DeePyMoD_SBL.data import Burgers\n",
    "from DeePyMoD_SBL.deepymod_torch.library_functions import library_1D_in\n",
    "from DeePyMoD_SBL.deepymod_torch.DeepMod import DeepMod, DeepModDynamic\n",
    "from DeePyMoD_SBL.deepymod_torch.output import Tensorboard, progress\n",
    "from DeePyMoD_SBL.deepymod_torch.losses import reg_loss, mse_loss\n",
    "from DeePyMoD_SBL.deepymod_torch.training import train\n",
    "from DeePyMoD_SBL.Lasso import lasso\n",
    "from DeePyMoD_SBL.deepymod_torch.sparsity import scaling\n",
    "\n",
    "if torch.cuda.is_available():\n",
    "    torch.set_default_tensor_type('torch.cuda.FloatTensor')\n",
    "\n",
    "import matplotlib.pyplot as plt\n",
    "\n",
    "\n",
    "import time\n",
    "\n",
    "\n",
    "%load_ext autoreload\n",
    "%autoreload 2"
   ]
  },
  {
   "cell_type": "markdown",
   "metadata": {},
   "source": [
    "# useful funcs"
   ]
  },
  {
   "cell_type": "code",
   "execution_count": 2,
   "metadata": {},
   "outputs": [],
   "source": [
    "import os\n",
    "from tensorboard.backend.event_processing.event_accumulator import EventAccumulator\n",
    "\n",
    "def load_tensorboard(path):\n",
    "    # Assumes one file per folder\n",
    "    event_file = next(filter(lambda filename: filename[:6] =='events', os.listdir(path)))\n",
    "    summary_iterator = EventAccumulator(str(path + event_file)).Reload()\n",
    "    \n",
    "    tags = summary_iterator.Tags()['scalars']\n",
    "    steps = np.array([event.step for event in summary_iterator.Scalars(tags[0])])\n",
    "    data = np.array([[event.value for event in summary_iterator.Scalars(tag)] for tag in tags]).T\n",
    "    df = pd.DataFrame(data=data, index=steps, columns=tags)\n",
    "    \n",
    "    return df"
   ]
  },
  {
   "cell_type": "code",
   "execution_count": 3,
   "metadata": {},
   "outputs": [],
   "source": [
    "def soft_threshold(x, alpha):\n",
    "    return torch.max(torch.abs(x) - alpha, torch.zeros_like(x)) * torch.sign(x)"
   ]
  },
  {
   "cell_type": "code",
   "execution_count": 4,
   "metadata": {},
   "outputs": [],
   "source": [
    "def lasso(X, y, l1, conv_tol=1e-7, w=None):\n",
    "    L = 2 * torch.symeig(X.T @ X).eigenvalues.max()\n",
    "    \n",
    "    if w == None:\n",
    "        w = torch.zeros((X.shape[1], 1), dtype=torch.float32) # if not given, start with zeros, else do warm restart\n",
    "        \n",
    "    t = torch.tensor(1.0)\n",
    "    z = w\n",
    "    \n",
    "    converged=False\n",
    "    while not converged:\n",
    "        w_old = w\n",
    "        t_old = t\n",
    "        z_old = z\n",
    "        \n",
    "        w = soft_threshold(z_old - 2 * X.T @ (X @ z_old - y) / L, l1/L)\n",
    "        t = (1 + torch.sqrt(1 + 4 * t_old**2))/2\n",
    "        z = w + (t_old - 1) / t * (w - w_old)\n",
    "        converged = torch.max(torch.abs(w - w_old)) < conv_tol\n",
    "    return w"
   ]
  },
  {
   "cell_type": "markdown",
   "metadata": {},
   "source": [
    "# Making data"
   ]
  },
  {
   "cell_type": "code",
   "execution_count": 5,
   "metadata": {},
   "outputs": [],
   "source": [
    "x = np.linspace(-2, 5, 75)\n",
    "t = np.linspace(0.5, 5.0, 25)\n",
    "\n",
    "x_grid, t_grid = np.meshgrid(x, t, indexing='ij')"
   ]
  },
  {
   "cell_type": "code",
   "execution_count": 6,
   "metadata": {},
   "outputs": [],
   "source": [
    "dataset = Burgers(0.1, 1.0)"
   ]
  },
  {
   "cell_type": "code",
   "execution_count": 7,
   "metadata": {},
   "outputs": [],
   "source": [
    "u = dataset.solution(x_grid, t_grid)"
   ]
  },
  {
   "cell_type": "code",
   "execution_count": 8,
   "metadata": {},
   "outputs": [],
   "source": [
    "X = np.concatenate((t_grid.reshape(-1, 1), x_grid.reshape(-1, 1)), axis=1)\n",
    "y = u.reshape(-1, 1)"
   ]
  },
  {
   "cell_type": "code",
   "execution_count": 9,
   "metadata": {},
   "outputs": [],
   "source": [
    "X_train = torch.tensor(X, dtype=torch.float32, requires_grad=True)\n",
    "y_train = torch.tensor(y, dtype=torch.float32, requires_grad=True)"
   ]
  },
  {
   "cell_type": "code",
   "execution_count": 10,
   "metadata": {},
   "outputs": [
    {
     "data": {
      "text/plain": [
       "[<matplotlib.lines.Line2D at 0x7f1ae6c694e0>]"
      ]
     },
     "execution_count": 10,
     "metadata": {},
     "output_type": "execute_result"
    },
    {
     "data": {
      "image/png": "[encoded data removed]",
      "text/plain": [
       "<Figure size 432x288 with 1 Axes>"
      ]
     },
     "metadata": {
      "needs_background": "light"
     },
     "output_type": "display_data"
    }
   ],
   "source": [
    "plt.plot(x, u[:, 1])\n",
    "plt.plot(x, u[:, 24])"
   ]
  },
  {
   "cell_type": "markdown",
   "metadata": {},
   "source": [
    "# Running new"
   ]
  },
  {
   "cell_type": "code",
   "execution_count": 11,
   "metadata": {},
   "outputs": [],
   "source": [
    "noise_level = 0.05"
   ]
  },
  {
   "cell_type": "code",
   "execution_count": 12,
   "metadata": {},
   "outputs": [],
   "source": [
    "X_train = torch.tensor(X, dtype=torch.float32, requires_grad=True)\n",
    "y_train = torch.tensor(y + noise_level * np.std(y) * np.random.randn(y.size, 1), dtype=torch.float32, requires_grad=True)"
   ]
  },
  {
   "cell_type": "code",
   "execution_count": 13,
   "metadata": {},
   "outputs": [],
   "source": [
    "config = {'n_in': 2, 'hidden_dims': [30, 30, 30, 30, 30], 'n_out': 1, 'library_function':library_1D_in, 'library_args':{'poly_order':2, 'diff_order': 2}}"
   ]
  },
  {
   "cell_type": "code",
   "execution_count": 14,
   "metadata": {},
   "outputs": [],
   "source": [
    "model = DeepModDynamic(**config)"
   ]
  },
  {
   "cell_type": "code",
   "execution_count": 15,
   "metadata": {},
   "outputs": [],
   "source": [
    "optimizer = torch.optim.Adam(model.network_parameters(), betas=(0.99, 0.999), amsgrad=True)"
   ]
  },
  {
   "cell_type": "markdown",
   "metadata": {},
   "source": [
    "Let's first train it for 10k iterations and see if we can set some terms to zero:"
   ]
  },
  {
   "cell_type": "code",
   "execution_count": 16,
   "metadata": {},
   "outputs": [
    {
     "name": "stdout",
     "output_type": "stream",
     "text": [
      "| Iteration | Progress | Time remaining |     Cost |      MSE |      Reg |       L1 |\n",
      "       5000    100.00%               0s   1.21e-04   1.06e-04   1.54e-05   0.00e+00 "
     ]
    }
   ],
   "source": [
    "data = X_train\n",
    "target = y_train\n",
    "max_iterations = 5000\n",
    "loss_func_args={'l1':torch.tensor(1e-5), 'conv_tol': torch.tensor(1e-3)}\n",
    "\n",
    "\n",
    "print('| Iteration | Progress | Time remaining |     Cost |      MSE |      Reg |       L1 |')\n",
    "for iteration in torch.arange(0, max_iterations + 1):\n",
    "    # Calculating prediction and library and scaling\n",
    "    prediction, time_deriv_list, sparse_theta_list, coeff_vector_list, theta = model(data)\n",
    "    coeff_vector_scaled_list = scaling(coeff_vector_list, sparse_theta_list, time_deriv_list)\n",
    "        \n",
    "    # Calculating loss\n",
    "    loss_reg = reg_loss(time_deriv_list, sparse_theta_list, coeff_vector_list)\n",
    "    loss_mse = mse_loss(prediction, target)\n",
    "    loss = torch.sum(loss_reg) + torch.sum(loss_mse)\n",
    "        \n",
    "    # Writing\n",
    "    if iteration % 100 == 0:\n",
    "        progress(iteration, 0.0, max_iterations, loss.item(), torch.sum(loss_mse).item(), torch.sum(loss_reg).item(), 0.0)\n",
    "           \n",
    "    # Optimizer step\n",
    "    optimizer.zero_grad()\n",
    "    loss.backward()\n",
    "    optimizer.step()"
   ]
  },
  {
   "cell_type": "markdown",
   "metadata": {},
   "source": [
    "Now let's see if we can cut some terms already:"
   ]
  },
  {
   "cell_type": "code",
   "execution_count": 17,
   "metadata": {},
   "outputs": [
    {
     "data": {
      "text/plain": [
       "[tensor([[-6.4164e-04],\n",
       "         [-2.0623e-02],\n",
       "         [ 1.0023e-01],\n",
       "         [ 8.8985e-02],\n",
       "         [-9.9753e-01],\n",
       "         [-6.2859e-02],\n",
       "         [-2.9010e-01],\n",
       "         [ 2.4751e-01],\n",
       "         [ 1.2117e-02]], grad_fn=<MmBackward>)]"
      ]
     },
     "execution_count": 17,
     "metadata": {},
     "output_type": "execute_result"
    }
   ],
   "source": [
    "model.fit.coeff_vector"
   ]
  },
  {
   "cell_type": "code",
   "execution_count": 18,
   "metadata": {},
   "outputs": [
    {
     "data": {
      "text/plain": [
       "tensor([[-0.0042],\n",
       "        [-0.0418],\n",
       "        [ 0.6873],\n",
       "        [ 0.1385],\n",
       "        [-1.0194],\n",
       "        [-0.3210],\n",
       "        [-0.2569],\n",
       "        [ 0.1805],\n",
       "        [ 0.0588]], grad_fn=<MulBackward0>)"
      ]
     },
     "execution_count": 18,
     "metadata": {},
     "output_type": "execute_result"
    }
   ],
   "source": [
    "coeff_vector_scaled_list[0]"
   ]
  },
  {
   "cell_type": "code",
   "execution_count": 19,
   "metadata": {},
   "outputs": [],
   "source": [
    "_, time_deriv_list, _, _, theta = model(X_train)"
   ]
  },
  {
   "cell_type": "code",
   "execution_count": 20,
   "metadata": {},
   "outputs": [],
   "source": [
    "with torch.no_grad():\n",
    "    dt = time_deriv_list[0] / torch.norm(time_deriv_list[0])\n",
    "    theta_normed = theta / torch.norm(theta, dim=0, keepdim=True)\n",
    "    w_ini = model.fit.coeff_vector[0].detach()"
   ]
  },
  {
   "cell_type": "markdown",
   "metadata": {},
   "source": [
    "The least squares solution of the scaled problem:"
   ]
  },
  {
   "cell_type": "code",
   "execution_count": 21,
   "metadata": {},
   "outputs": [
    {
     "data": {
      "text/plain": [
       "tensor([[-0.0042],\n",
       "        [-0.0418],\n",
       "        [ 0.6873],\n",
       "        [ 0.1385],\n",
       "        [-1.0194],\n",
       "        [-0.3210],\n",
       "        [-0.2568],\n",
       "        [ 0.1805],\n",
       "        [ 0.0588]])"
      ]
     },
     "execution_count": 21,
     "metadata": {},
     "output_type": "execute_result"
    }
   ],
   "source": [
    "torch.inverse(theta_normed.T @ theta_normed) @ theta_normed.T @ dt"
   ]
  },
  {
   "cell_type": "code",
   "execution_count": 22,
   "metadata": {},
   "outputs": [],
   "source": [
    "lasso_coeff = lasso(theta_normed, dt, l1=torch.tensor(1e-2), conv_tol=torch.tensor(1e-7))"
   ]
  },
  {
   "cell_type": "code",
   "execution_count": 23,
   "metadata": {},
   "outputs": [
    {
     "data": {
      "text/plain": [
       "tensor([[ 0.0178],\n",
       "        [-0.1220],\n",
       "        [ 0.5782],\n",
       "        [ 0.0000],\n",
       "        [-0.8065],\n",
       "        [-0.0000],\n",
       "        [-0.0682],\n",
       "        [-0.0000],\n",
       "        [-0.0790]])"
      ]
     },
     "execution_count": 23,
     "metadata": {},
     "output_type": "execute_result"
    }
   ],
   "source": [
    "lasso_coeff"
   ]
  },
  {
   "cell_type": "code",
   "execution_count": 24,
   "metadata": {},
   "outputs": [
    {
     "data": {
      "text/plain": [
       "tensor([0, 1, 2, 4, 6, 8])"
      ]
     },
     "execution_count": 24,
     "metadata": {},
     "output_type": "execute_result"
    }
   ],
   "source": [
    "torch.where(torch.abs(lasso_coeff)> 1e-6)[0]"
   ]
  },
  {
   "cell_type": "code",
   "execution_count": 27,
   "metadata": {},
   "outputs": [
    {
     "name": "stdout",
     "output_type": "stream",
     "text": [
      "| Iteration | Progress | Time remaining |     Cost |      MSE |      Reg |       L1 |\n",
      "          0      0.00%               0s   9.57e-05   9.15e-05   4.13e-06   0.00e+00 tensor([[ 0.0000],\n",
      "        [-0.0583],\n",
      "        [ 0.5386],\n",
      "        [-0.0000],\n",
      "        [-0.8265],\n",
      "        [ 0.0000],\n",
      "        [-0.0000],\n",
      "        [-0.0000],\n",
      "        [ 0.0000]])\n",
      "[tensor([1, 2, 4])]\n",
      "        200      2.00%     77765468160s   1.04e-04   9.37e-05   1.02e-05   0.00e+00 tensor([[-0.0000],\n",
      "        [-0.0556],\n",
      "        [ 0.5546],\n",
      "        [-0.0000],\n",
      "        [-0.8237],\n",
      "        [ 0.0000],\n",
      "        [-0.0000],\n",
      "        [-0.0000],\n",
      "        [ 0.0000]])\n",
      "[tensor([1, 2, 4])]\n",
      "        400      4.00%     38089207808s   9.99e-05   9.25e-05   7.35e-06   0.00e+00 tensor([[-0.0000],\n",
      "        [-0.0481],\n",
      "        [ 0.5569],\n",
      "        [-0.0000],\n",
      "        [-0.8312],\n",
      "        [ 0.0000],\n",
      "        [-0.0000],\n",
      "        [-0.0000],\n",
      "        [ 0.0000]])\n",
      "[tensor([1, 2, 4])]\n",
      "        600      6.00%     23805755392s   9.83e-05   9.16e-05   6.70e-06   0.00e+00 tensor([[ 0.0000],\n",
      "        [-0.0457],\n",
      "        [ 0.5555],\n",
      "        [-0.0000],\n",
      "        [-0.8338],\n",
      "        [ 0.0000],\n",
      "        [-0.0000],\n",
      "        [-0.0000],\n",
      "        [ 0.0000]])\n",
      "[tensor([1, 2, 4])]\n",
      "        800      8.00%     17457553408s   9.74e-05   9.13e-05   6.09e-06   0.00e+00 tensor([[ 0.0000],\n",
      "        [-0.0437],\n",
      "        [ 0.5567],\n",
      "        [-0.0000],\n",
      "        [-0.8355],\n",
      "        [ 0.0000],\n",
      "        [-0.0000],\n",
      "        [-0.0000],\n",
      "        [ 0.0000]])\n",
      "[tensor([1, 2, 4])]\n",
      "       1000     10.00%     14283453440s   9.68e-05   9.11e-05   5.69e-06   0.00e+00 tensor([[ 0.0000],\n",
      "        [-0.0422],\n",
      "        [ 0.5572],\n",
      "        [-0.0000],\n",
      "        [-0.8369],\n",
      "        [ 0.0000],\n",
      "        [-0.0000],\n",
      "        [-0.0000],\n",
      "        [ 0.0000]])\n",
      "[tensor([1, 2, 4])]\n",
      "       1200     12.00%     11109352448s   9.63e-05   9.09e-05   5.34e-06   0.00e+00 tensor([[ 0.0000],\n",
      "        [-0.0415],\n",
      "        [ 0.5576],\n",
      "        [-0.0000],\n",
      "        [-0.8373],\n",
      "        [ 0.0000],\n",
      "        [-0.0000],\n",
      "        [-0.0000],\n",
      "        [ 0.0000]])\n",
      "[tensor([1, 2, 4])]\n",
      "       1400     14.00%      9522302976s   9.58e-05   9.08e-05   5.04e-06   0.00e+00 tensor([[ 0.0000],\n",
      "        [-0.0409],\n",
      "        [ 0.5581],\n",
      "        [-0.0000],\n",
      "        [-0.8377],\n",
      "        [ 0.0000],\n",
      "        [-0.0000],\n",
      "        [-0.0000],\n",
      "        [ 0.0000]])\n",
      "[tensor([1, 2, 4])]\n",
      "       1600     16.00%      7935252480s   9.54e-05   9.07e-05   4.77e-06   0.00e+00 tensor([[ 0.0000],\n",
      "        [-0.0398],\n",
      "        [ 0.5587],\n",
      "        [-0.0000],\n",
      "        [-0.8387],\n",
      "        [ 0.0000],\n",
      "        [-0.0000],\n",
      "        [-0.0000],\n",
      "        [ 0.0000]])\n",
      "[tensor([1, 2, 4])]\n",
      "       1800     18.00%      6348201984s   9.51e-05   9.06e-05   4.52e-06   0.00e+00 tensor([[ 0.0000],\n",
      "        [-0.0403],\n",
      "        [ 0.5589],\n",
      "        [-0.0000],\n",
      "        [-0.8379],\n",
      "        [ 0.0000],\n",
      "        [-0.0000],\n",
      "        [-0.0000],\n",
      "        [ 0.0000]])\n",
      "[tensor([1, 2, 4])]\n",
      "       2000     20.00%      6348201984s   9.48e-05   9.05e-05   4.30e-06   0.00e+00 tensor([[ 0.0000],\n",
      "        [-0.0402],\n",
      "        [ 0.5593],\n",
      "        [-0.0000],\n",
      "        [-0.8378],\n",
      "        [ 0.0000],\n",
      "        [-0.0000],\n",
      "        [-0.0000],\n",
      "        [ 0.0000]])\n",
      "[tensor([1, 2, 4])]\n",
      "       2200     22.00%      4761151488s   9.45e-05   9.04e-05   4.10e-06   0.00e+00 tensor([[ 0.0000],\n",
      "        [-0.0399],\n",
      "        [ 0.5597],\n",
      "        [-0.0000],\n",
      "        [-0.8379],\n",
      "        [ 0.0000],\n",
      "        [-0.0000],\n",
      "        [-0.0000],\n",
      "        [ 0.0000]])\n",
      "[tensor([1, 2, 4])]\n",
      "       2400     24.00%      4761151488s   9.43e-05   9.03e-05   3.91e-06   0.00e+00 tensor([[ 0.0000],\n",
      "        [-0.0398],\n",
      "        [ 0.5600],\n",
      "        [-0.0000],\n",
      "        [-0.8379],\n",
      "        [ 0.0000],\n",
      "        [-0.0000],\n",
      "        [-0.0000],\n",
      "        [ 0.0000]])\n",
      "[tensor([1, 2, 4])]\n",
      "       2600     26.00%      3174100992s   9.40e-05   9.03e-05   3.74e-06   0.00e+00 tensor([[ 0.0000],\n",
      "        [-0.0394],\n",
      "        [ 0.5604],\n",
      "        [-0.0000],\n",
      "        [-0.8382],\n",
      "        [ 0.0000],\n",
      "        [-0.0000],\n",
      "        [-0.0000],\n",
      "        [ 0.0000]])\n",
      "[tensor([1, 2, 4])]\n",
      "       2800     28.00%      3174100992s   9.38e-05   9.02e-05   3.59e-06   0.00e+00 tensor([[ 0.0000],\n",
      "        [-0.0394],\n",
      "        [ 0.5606],\n",
      "        [-0.0000],\n",
      "        [-0.8379],\n",
      "        [ 0.0000],\n",
      "        [-0.0000],\n",
      "        [-0.0000],\n",
      "        [ 0.0000]])\n",
      "[tensor([1, 2, 4])]\n",
      "       3000     30.00%      3174100992s   9.36e-05   9.02e-05   3.45e-06   0.00e+00 tensor([[ 0.0000],\n",
      "        [-0.0392],\n",
      "        [ 0.5610],\n",
      "        [-0.0000],\n",
      "        [-0.8381],\n",
      "        [ 0.0000],\n",
      "        [-0.0000],\n",
      "        [-0.0000],\n",
      "        [ 0.0000]])\n",
      "[tensor([1, 2, 4])]\n",
      "       3200     32.00%      3174100992s   9.34e-05   9.01e-05   3.32e-06   0.00e+00 tensor([[ 0.0000],\n",
      "        [-0.0390],\n",
      "        [ 0.5612],\n",
      "        [-0.0000],\n",
      "        [-0.8381],\n",
      "        [ 0.0000],\n",
      "        [-0.0000],\n",
      "        [-0.0000],\n",
      "        [ 0.0000]])\n",
      "[tensor([1, 2, 4])]\n",
      "       3400     34.00%      1587050496s   9.33e-05   9.01e-05   3.19e-06   0.00e+00 tensor([[ 0.0000],\n",
      "        [-0.0389],\n",
      "        [ 0.5615],\n",
      "        [-0.0000],\n",
      "        [-0.8381],\n",
      "        [ 0.0000],\n",
      "        [-0.0000],\n",
      "        [-0.0000],\n",
      "        [ 0.0000]])\n",
      "[tensor([1, 2, 4])]\n",
      "       3600     36.00%      1587050496s   9.31e-05   9.00e-05   3.08e-06   0.00e+00 tensor([[ 0.0000],\n",
      "        [-0.0388],\n",
      "        [ 0.5617],\n",
      "        [-0.0000],\n",
      "        [-0.8381],\n",
      "        [ 0.0000],\n",
      "        [-0.0000],\n",
      "        [-0.0000],\n",
      "        [ 0.0000]])\n",
      "[tensor([1, 2, 4])]\n",
      "       3800     38.00%      1587050496s   9.30e-05   9.00e-05   2.98e-06   0.00e+00 tensor([[ 0.0000],\n",
      "        [-0.0387],\n",
      "        [ 0.5619],\n",
      "        [-0.0000],\n",
      "        [-0.8381],\n",
      "        [ 0.0000],\n",
      "        [-0.0000],\n",
      "        [-0.0000],\n",
      "        [ 0.0000]])\n",
      "[tensor([1, 2, 4])]\n",
      "       4000     40.00%      1587050496s   9.29e-05   9.00e-05   2.88e-06   0.00e+00 tensor([[ 0.0000],\n",
      "        [-0.0386],\n",
      "        [ 0.5621],\n",
      "        [-0.0000],\n",
      "        [-0.8381],\n",
      "        [ 0.0000],\n",
      "        [-0.0000],\n",
      "        [-0.0000],\n",
      "        [ 0.0000]])\n",
      "[tensor([1, 2, 4])]\n",
      "       4200     42.00%      1587050496s   9.27e-05   8.99e-05   2.79e-06   0.00e+00 tensor([[ 0.0000],\n",
      "        [-0.0385],\n",
      "        [ 0.5623],\n",
      "        [-0.0000],\n",
      "        [-0.8381],\n",
      "        [ 0.0000],\n",
      "        [-0.0000],\n",
      "        [-0.0000],\n",
      "        [ 0.0000]])\n",
      "[tensor([1, 2, 4])]\n",
      "       4400     44.00%      1587050496s   9.26e-05   8.99e-05   2.71e-06   0.00e+00 tensor([[ 0.0000],\n",
      "        [-0.0386],\n",
      "        [ 0.5624],\n",
      "        [-0.0000],\n",
      "        [-0.8379],\n",
      "        [ 0.0000],\n",
      "        [-0.0000],\n",
      "        [-0.0000],\n",
      "        [ 0.0000]])\n",
      "[tensor([1, 2, 4])]\n",
      "       4600     46.00%      1587050496s   9.25e-05   8.99e-05   2.63e-06   0.00e+00 tensor([[ 0.0000],\n",
      "        [-0.0382],\n",
      "        [ 0.5626],\n",
      "        [-0.0000],\n",
      "        [-0.8382],\n",
      "        [ 0.0000],\n",
      "        [-0.0000],\n",
      "        [-0.0000],\n",
      "        [ 0.0000]])\n",
      "[tensor([1, 2, 4])]\n",
      "       4800     48.00%      1587050496s   9.24e-05   8.98e-05   2.55e-06   0.00e+00 tensor([[ 0.0000],\n",
      "        [-0.0383],\n",
      "        [ 0.5627],\n",
      "        [-0.0000],\n",
      "        [-0.8381],\n",
      "        [ 0.0000],\n",
      "        [-0.0000],\n",
      "        [-0.0000],\n",
      "        [ 0.0000]])\n",
      "[tensor([1, 2, 4])]\n",
      "       5000     50.00%      1587050496s   9.23e-05   8.98e-05   2.48e-06   0.00e+00 tensor([[ 0.0000],\n",
      "        [-0.0380],\n",
      "        [ 0.5629],\n",
      "        [-0.0000],\n",
      "        [-0.8383],\n",
      "        [ 0.0000],\n",
      "        [-0.0000],\n",
      "        [-0.0000],\n",
      "        [ 0.0000]])\n",
      "[tensor([1, 2, 4])]\n",
      "       5200     52.00%               0s   9.22e-05   8.98e-05   2.42e-06   0.00e+00 tensor([[ 0.0000],\n",
      "        [-0.0380],\n",
      "        [ 0.5630],\n",
      "        [-0.0000],\n",
      "        [-0.8382],\n",
      "        [ 0.0000],\n",
      "        [-0.0000],\n",
      "        [-0.0000],\n",
      "        [ 0.0000]])\n",
      "[tensor([1, 2, 4])]\n",
      "       5400     54.00%               0s   9.21e-05   8.98e-05   2.35e-06   0.00e+00 tensor([[ 0.0000],\n",
      "        [-0.0378],\n",
      "        [ 0.5631],\n",
      "        [-0.0000],\n",
      "        [-0.8383],\n",
      "        [ 0.0000],\n",
      "        [-0.0000],\n",
      "        [-0.0000],\n",
      "        [ 0.0000]])\n",
      "[tensor([1, 2, 4])]\n",
      "       5600     56.00%               0s   9.20e-05   8.97e-05   2.30e-06   0.00e+00 tensor([[ 0.0000],\n",
      "        [-0.0378],\n",
      "        [ 0.5632],\n",
      "        [-0.0000],\n",
      "        [-0.8383],\n",
      "        [ 0.0000],\n",
      "        [-0.0000],\n",
      "        [-0.0000],\n",
      "        [ 0.0000]])\n",
      "[tensor([1, 2, 4])]\n",
      "       5800     58.00%               0s   9.20e-05   8.97e-05   2.24e-06   0.00e+00 tensor([[ 0.0000],\n",
      "        [-0.0377],\n",
      "        [ 0.5634],\n",
      "        [-0.0000],\n",
      "        [-0.8384],\n",
      "        [ 0.0000],\n",
      "        [-0.0000],\n",
      "        [-0.0000],\n",
      "        [ 0.0000]])\n",
      "[tensor([1, 2, 4])]\n",
      "       6000     60.00%               0s   9.19e-05   8.97e-05   2.19e-06   0.00e+00 tensor([[ 0.0000],\n",
      "        [-0.0376],\n",
      "        [ 0.5635],\n",
      "        [-0.0000],\n",
      "        [-0.8384],\n",
      "        [ 0.0000],\n",
      "        [-0.0000],\n",
      "        [-0.0000],\n",
      "        [ 0.0000]])\n",
      "[tensor([1, 2, 4])]\n",
      "       6200     62.00%               0s   9.18e-05   8.97e-05   2.14e-06   0.00e+00 tensor([[ 0.0000],\n",
      "        [-0.0375],\n",
      "        [ 0.5636],\n",
      "        [-0.0000],\n",
      "        [-0.8384],\n",
      "        [ 0.0000],\n",
      "        [-0.0000],\n",
      "        [-0.0000],\n",
      "        [ 0.0000]])\n",
      "[tensor([1, 2, 4])]\n",
      "       6400     64.00%               0s   9.18e-05   8.97e-05   2.09e-06   0.00e+00 tensor([[ 0.0000],\n",
      "        [-0.0374],\n",
      "        [ 0.5637],\n",
      "        [-0.0000],\n",
      "        [-0.8385],\n",
      "        [ 0.0000],\n",
      "        [-0.0000],\n",
      "        [-0.0000],\n",
      "        [ 0.0000]])\n",
      "[tensor([1, 2, 4])]\n",
      "       6600     66.00%               0s   9.17e-05   8.96e-05   2.05e-06   0.00e+00 tensor([[ 0.0000],\n",
      "        [-0.0373],\n",
      "        [ 0.5638],\n",
      "        [-0.0000],\n",
      "        [-0.8385],\n",
      "        [ 0.0000],\n",
      "        [-0.0000],\n",
      "        [-0.0000],\n",
      "        [ 0.0000]])\n",
      "[tensor([1, 2, 4])]\n",
      "       6800     68.00%               0s   9.16e-05   8.96e-05   2.01e-06   0.00e+00 tensor([[ 0.0000],\n",
      "        [-0.0373],\n",
      "        [ 0.5639],\n",
      "        [-0.0000],\n",
      "        [-0.8385],\n",
      "        [ 0.0000],\n",
      "        [-0.0000],\n",
      "        [-0.0000],\n",
      "        [ 0.0000]])\n",
      "[tensor([1, 2, 4])]\n",
      "       7000     70.00%               0s   9.16e-05   8.96e-05   1.97e-06   0.00e+00 tensor([[ 0.0000],\n",
      "        [-0.0368],\n",
      "        [ 0.5641],\n",
      "        [-0.0000],\n",
      "        [-0.8390],\n",
      "        [ 0.0000],\n",
      "        [-0.0000],\n",
      "        [-0.0000],\n",
      "        [ 0.0000]])\n",
      "[tensor([1, 2, 4])]\n",
      "       7200     72.00%               0s   9.15e-05   8.96e-05   1.93e-06   0.00e+00 tensor([[ 0.0000],\n",
      "        [-0.0371],\n",
      "        [ 0.5640],\n",
      "        [-0.0000],\n",
      "        [-0.8386],\n",
      "        [ 0.0000],\n",
      "        [-0.0000],\n",
      "        [-0.0000],\n",
      "        [ 0.0000]])\n",
      "[tensor([1, 2, 4])]\n",
      "       7400     74.00%               0s   9.15e-05   8.96e-05   1.89e-06   0.00e+00 tensor([[ 0.0000],\n",
      "        [-0.0370],\n",
      "        [ 0.5641],\n",
      "        [-0.0000],\n",
      "        [-0.8387],\n",
      "        [ 0.0000],\n",
      "        [-0.0000],\n",
      "        [-0.0000],\n",
      "        [ 0.0000]])\n",
      "[tensor([1, 2, 4])]\n",
      "       7600     76.00%               0s   9.14e-05   8.96e-05   1.86e-06   0.00e+00 tensor([[ 0.0000],\n",
      "        [-0.0369],\n",
      "        [ 0.5642],\n",
      "        [-0.0000],\n",
      "        [-0.8387],\n",
      "        [ 0.0000],\n",
      "        [-0.0000],\n",
      "        [-0.0000],\n",
      "        [ 0.0000]])\n",
      "[tensor([1, 2, 4])]\n",
      "       7800     78.00%               0s   9.14e-05   8.95e-05   1.83e-06   0.00e+00 tensor([[ 0.0000],\n",
      "        [-0.0368],\n",
      "        [ 0.5643],\n",
      "        [-0.0000],\n",
      "        [-0.8388],\n",
      "        [ 0.0000],\n",
      "        [-0.0000],\n",
      "        [-0.0000],\n",
      "        [ 0.0000]])\n",
      "[tensor([1, 2, 4])]\n",
      "       8000     80.00%               0s   9.13e-05   8.95e-05   1.79e-06   0.00e+00 tensor([[ 0.0000],\n",
      "        [-0.0368],\n",
      "        [ 0.5643],\n",
      "        [-0.0000],\n",
      "        [-0.8388],\n",
      "        [ 0.0000],\n",
      "        [-0.0000],\n",
      "        [-0.0000],\n",
      "        [ 0.0000]])\n",
      "[tensor([1, 2, 4])]\n",
      "       8200     82.00%               0s   9.13e-05   8.95e-05   1.76e-06   0.00e+00 tensor([[ 0.0000],\n",
      "        [-0.0367],\n",
      "        [ 0.5644],\n",
      "        [-0.0000],\n",
      "        [-0.8388],\n",
      "        [ 0.0000],\n",
      "        [-0.0000],\n",
      "        [-0.0000],\n",
      "        [ 0.0000]])\n",
      "[tensor([1, 2, 4])]\n",
      "       8400     84.00%               0s   9.12e-05   8.95e-05   1.74e-06   0.00e+00 tensor([[ 0.0000],\n",
      "        [-0.0367],\n",
      "        [ 0.5644],\n",
      "        [-0.0000],\n",
      "        [-0.8388],\n",
      "        [ 0.0000],\n",
      "        [-0.0000],\n",
      "        [-0.0000],\n",
      "        [ 0.0000]])\n",
      "[tensor([1, 2, 4])]\n",
      "       8600     86.00%               0s   9.12e-05   8.95e-05   1.71e-06   0.00e+00 tensor([[ 0.0000],\n",
      "        [-0.0367],\n",
      "        [ 0.5645],\n",
      "        [-0.0000],\n",
      "        [-0.8388],\n",
      "        [ 0.0000],\n",
      "        [-0.0000],\n",
      "        [-0.0000],\n",
      "        [ 0.0000]])\n",
      "[tensor([1, 2, 4])]\n",
      "       8800     88.00%               0s   9.12e-05   8.95e-05   1.68e-06   0.00e+00 tensor([[ 0.0000],\n",
      "        [-0.0366],\n",
      "        [ 0.5646],\n",
      "        [-0.0000],\n",
      "        [-0.8388],\n",
      "        [ 0.0000],\n",
      "        [-0.0000],\n",
      "        [-0.0000],\n",
      "        [ 0.0000]])\n",
      "[tensor([1, 2, 4])]\n",
      "       9000     90.00%               0s   9.11e-05   8.95e-05   1.66e-06   0.00e+00 tensor([[ 0.0000],\n",
      "        [-0.0366],\n",
      "        [ 0.5646],\n",
      "        [-0.0000],\n",
      "        [-0.8388],\n",
      "        [ 0.0000],\n",
      "        [-0.0000],\n",
      "        [-0.0000],\n",
      "        [ 0.0000]])\n",
      "[tensor([1, 2, 4])]\n",
      "       9200     92.00%               0s   9.11e-05   8.95e-05   1.63e-06   0.00e+00 tensor([[ 0.0000],\n",
      "        [-0.0365],\n",
      "        [ 0.5647],\n",
      "        [-0.0000],\n",
      "        [-0.8389],\n",
      "        [ 0.0000],\n",
      "        [-0.0000],\n",
      "        [-0.0000],\n",
      "        [ 0.0000]])\n",
      "[tensor([1, 2, 4])]\n",
      "       9400     94.00%               0s   9.11e-05   8.94e-05   1.61e-06   0.00e+00 tensor([[ 0.0000],\n",
      "        [-0.0365],\n",
      "        [ 0.5647],\n",
      "        [-0.0000],\n",
      "        [-0.8389],\n",
      "        [ 0.0000],\n",
      "        [-0.0000],\n",
      "        [-0.0000],\n",
      "        [ 0.0000]])\n",
      "[tensor([1, 2, 4])]\n",
      "       9600     96.00%               0s   9.10e-05   8.94e-05   1.59e-06   0.00e+00 tensor([[ 0.0000],\n",
      "        [-0.0365],\n",
      "        [ 0.5648],\n",
      "        [-0.0000],\n",
      "        [-0.8389],\n",
      "        [ 0.0000],\n",
      "        [-0.0000],\n",
      "        [-0.0000],\n",
      "        [ 0.0000]])\n",
      "[tensor([1, 2, 4])]\n",
      "       9800     98.00%               0s   9.10e-05   8.94e-05   1.56e-06   0.00e+00 tensor([[ 0.0000],\n",
      "        [-0.0370],\n",
      "        [ 0.5646],\n",
      "        [-0.0000],\n",
      "        [-0.8383],\n",
      "        [ 0.0000],\n",
      "        [-0.0000],\n",
      "        [-0.0000],\n",
      "        [ 0.0000]])\n",
      "[tensor([1, 2, 4])]\n",
      "      10000    100.00%               0s   9.10e-05   8.94e-05   1.54e-06   0.00e+00 tensor([[ 0.0000],\n",
      "        [-0.0364],\n",
      "        [ 0.5648],\n",
      "        [-0.0000],\n",
      "        [-0.8389],\n",
      "        [ 0.0000],\n",
      "        [-0.0000],\n",
      "        [-0.0000],\n",
      "        [ 0.0000]])\n",
      "[tensor([1, 2, 4])]\n"
     ]
    }
   ],
   "source": [
    "data = X_train\n",
    "target = y_train\n",
    "max_iterations = 10000\n",
    "loss_func_args={'l1':torch.tensor(1e-1), 'conv_tol': torch.tensor(1e-7)}\n",
    "\n",
    "\n",
    "print('| Iteration | Progress | Time remaining |     Cost |      MSE |      Reg |       L1 |')\n",
    "for iteration in torch.arange(0, max_iterations + 1):\n",
    "    # Calculating prediction and library and scaling\n",
    "    prediction, time_deriv_list, sparse_theta_list, coeff_vector_list, theta = model(data)\n",
    "    coeff_vector_scaled_list = scaling(coeff_vector_list, sparse_theta_list, time_deriv_list)\n",
    "        \n",
    "    # Calculating loss\n",
    "    loss_reg = reg_loss(time_deriv_list, sparse_theta_list, coeff_vector_list)\n",
    "    loss_mse = mse_loss(prediction, target)\n",
    "    loss = torch.sum(loss_reg) + torch.sum(loss_mse)\n",
    "        \n",
    "    # Writing\n",
    "    if iteration % 100 == 0:\n",
    "        progress(iteration, 0.0, max_iterations, loss.item(), torch.sum(loss_mse).item(), torch.sum(loss_reg).item(), 0.0)\n",
    "           \n",
    "    # Optimizer step\n",
    "    optimizer.zero_grad()\n",
    "    loss.backward()\n",
    "    optimizer.step()\n",
    "    \n",
    "    with torch.no_grad():\n",
    "        if iteration % 200 == 0:\n",
    "            with torch.no_grad():\n",
    "                dt = time_deriv_list[0] / torch.norm(time_deriv_list[0])\n",
    "                theta_normed = theta / torch.norm(theta, dim=0, keepdim=True)\n",
    "                lasso_coeff = lasso(theta_normed, dt, l1=loss_func_args['l1'], conv_tol=loss_func_args['conv_tol'])\n",
    "                model.fit.sparsity_mask = [torch.where(torch.abs(lasso_coeff)> 1e-6)[0]]\n",
    "                print(lasso_coeff)\n",
    "                print(model.fit.sparsity_mask)\n",
    "                "
   ]
  },
  {
   "cell_type": "code",
   "execution_count": 28,
   "metadata": {},
   "outputs": [
    {
     "data": {
      "text/plain": [
       "[tensor([[ 0.0012],\n",
       "         [ 0.0991],\n",
       "         [-1.0048]], grad_fn=<MmBackward>)]"
      ]
     },
     "execution_count": 28,
     "metadata": {},
     "output_type": "execute_result"
    }
   ],
   "source": [
    "model.fit.coeff_vector"
   ]
  },
  {
   "cell_type": "code",
   "execution_count": 29,
   "metadata": {},
   "outputs": [
    {
     "data": {
      "text/plain": [
       "tensor([[ 0.0022],\n",
       "        [ 0.6393],\n",
       "        [-0.9405]], grad_fn=<MulBackward0>)"
      ]
     },
     "execution_count": 29,
     "metadata": {},
     "output_type": "execute_result"
    }
   ],
   "source": [
    "coeff_vector_scaled_list[0]"
   ]
  },
  {
   "cell_type": "code",
   "execution_count": 48,
   "metadata": {},
   "outputs": [],
   "source": [
    "lasso_coeff = lasso(theta_normed, dt, l1=torch.tensor(1e-2), conv_tol=torch.tensor(1e-9))"
   ]
  },
  {
   "cell_type": "code",
   "execution_count": 49,
   "metadata": {},
   "outputs": [
    {
     "data": {
      "text/plain": [
       "tensor([[ 0.0000],\n",
       "        [-0.0017],\n",
       "        [ 0.6319],\n",
       "        [-0.0000],\n",
       "        [-0.9303],\n",
       "        [ 0.0000],\n",
       "        [-0.0000],\n",
       "        [-0.0000],\n",
       "        [ 0.0000]])"
      ]
     },
     "execution_count": 49,
     "metadata": {},
     "output_type": "execute_result"
    }
   ],
   "source": [
    "lasso_coeff"
   ]
  },
  {
   "cell_type": "code",
   "execution_count": 43,
   "metadata": {},
   "outputs": [],
   "source": [
    "sparse_theta_normed = sparse_theta_list[0].detach()\n",
    "sparse_theta_normed = sparse_theta_normed / torch.norm(sparse_theta_normed, dim=0, keepdim=True)"
   ]
  },
  {
   "cell_type": "code",
   "execution_count": 44,
   "metadata": {},
   "outputs": [
    {
     "ename": "RuntimeError",
     "evalue": "CUDA out of memory. Tried to allocate 2.00 MiB (GPU 0; 11.78 GiB total capacity; 7.30 GiB already allocated; 6.25 MiB free; 7.30 GiB reserved in total by PyTorch)",
     "output_type": "error",
     "traceback": [
      "\u001b[0;31m---------------------------------------------------------------------------\u001b[0m",
      "\u001b[0;31mRuntimeError\u001b[0m                              Traceback (most recent call last)",
      "\u001b[0;32m<ipython-input-44-173e45d6f360>\u001b[0m in \u001b[0;36m<module>\u001b[0;34m\u001b[0m\n\u001b[0;32m----> 1\u001b[0;31m \u001b[0mlasso\u001b[0m\u001b[0;34m(\u001b[0m\u001b[0msparse_theta_normed\u001b[0m\u001b[0;34m,\u001b[0m \u001b[0mdt\u001b[0m\u001b[0;34m,\u001b[0m \u001b[0ml1\u001b[0m\u001b[0;34m=\u001b[0m\u001b[0mtorch\u001b[0m\u001b[0;34m.\u001b[0m\u001b[0mtensor\u001b[0m\u001b[0;34m(\u001b[0m\u001b[0;36m1e-3\u001b[0m\u001b[0;34m)\u001b[0m\u001b[0;34m,\u001b[0m \u001b[0mconv_tol\u001b[0m\u001b[0;34m=\u001b[0m\u001b[0mtorch\u001b[0m\u001b[0;34m.\u001b[0m\u001b[0mtensor\u001b[0m\u001b[0;34m(\u001b[0m\u001b[0;36m1e-9\u001b[0m\u001b[0;34m)\u001b[0m\u001b[0;34m)\u001b[0m\u001b[0;34m\u001b[0m\u001b[0;34m\u001b[0m\u001b[0m\n\u001b[0m",
      "\u001b[0;32m<ipython-input-4-305a38682797>\u001b[0m in \u001b[0;36mlasso\u001b[0;34m(X, y, l1, conv_tol, w)\u001b[0m\n\u001b[1;32m      1\u001b[0m \u001b[0;32mdef\u001b[0m \u001b[0mlasso\u001b[0m\u001b[0;34m(\u001b[0m\u001b[0mX\u001b[0m\u001b[0;34m,\u001b[0m \u001b[0my\u001b[0m\u001b[0;34m,\u001b[0m \u001b[0ml1\u001b[0m\u001b[0;34m,\u001b[0m \u001b[0mconv_tol\u001b[0m\u001b[0;34m=\u001b[0m\u001b[0;36m1e-7\u001b[0m\u001b[0;34m,\u001b[0m \u001b[0mw\u001b[0m\u001b[0;34m=\u001b[0m\u001b[0;32mNone\u001b[0m\u001b[0;34m)\u001b[0m\u001b[0;34m:\u001b[0m\u001b[0;34m\u001b[0m\u001b[0;34m\u001b[0m\u001b[0m\n\u001b[0;32m----> 2\u001b[0;31m     \u001b[0mL\u001b[0m \u001b[0;34m=\u001b[0m \u001b[0;36m2\u001b[0m \u001b[0;34m*\u001b[0m \u001b[0mtorch\u001b[0m\u001b[0;34m.\u001b[0m\u001b[0msymeig\u001b[0m\u001b[0;34m(\u001b[0m\u001b[0mX\u001b[0m\u001b[0;34m.\u001b[0m\u001b[0mT\u001b[0m \u001b[0;34m@\u001b[0m \u001b[0mX\u001b[0m\u001b[0;34m)\u001b[0m\u001b[0;34m.\u001b[0m\u001b[0meigenvalues\u001b[0m\u001b[0;34m.\u001b[0m\u001b[0mmax\u001b[0m\u001b[0;34m(\u001b[0m\u001b[0;34m)\u001b[0m\u001b[0;34m\u001b[0m\u001b[0;34m\u001b[0m\u001b[0m\n\u001b[0m\u001b[1;32m      3\u001b[0m \u001b[0;34m\u001b[0m\u001b[0m\n\u001b[1;32m      4\u001b[0m     \u001b[0;32mif\u001b[0m \u001b[0mw\u001b[0m \u001b[0;34m==\u001b[0m \u001b[0;32mNone\u001b[0m\u001b[0;34m:\u001b[0m\u001b[0;34m\u001b[0m\u001b[0;34m\u001b[0m\u001b[0m\n\u001b[1;32m      5\u001b[0m         \u001b[0mw\u001b[0m \u001b[0;34m=\u001b[0m \u001b[0mtorch\u001b[0m\u001b[0;34m.\u001b[0m\u001b[0mzeros\u001b[0m\u001b[0;34m(\u001b[0m\u001b[0;34m(\u001b[0m\u001b[0mX\u001b[0m\u001b[0;34m.\u001b[0m\u001b[0mshape\u001b[0m\u001b[0;34m[\u001b[0m\u001b[0;36m1\u001b[0m\u001b[0;34m]\u001b[0m\u001b[0;34m,\u001b[0m \u001b[0;36m1\u001b[0m\u001b[0;34m)\u001b[0m\u001b[0;34m,\u001b[0m \u001b[0mdtype\u001b[0m\u001b[0;34m=\u001b[0m\u001b[0mtorch\u001b[0m\u001b[0;34m.\u001b[0m\u001b[0mfloat32\u001b[0m\u001b[0;34m)\u001b[0m \u001b[0;31m# if not given, start with zeros, else do warm restart\u001b[0m\u001b[0;34m\u001b[0m\u001b[0;34m\u001b[0m\u001b[0m\n",
      "\u001b[0;31mRuntimeError\u001b[0m: CUDA out of memory. Tried to allocate 2.00 MiB (GPU 0; 11.78 GiB total capacity; 7.30 GiB already allocated; 6.25 MiB free; 7.30 GiB reserved in total by PyTorch)"
     ]
    }
   ],
   "source": [
    "lasso(sparse_theta_normed, dt, l1=torch.tensor(1e-3), conv_tol=torch.tensor(1e-9))"
   ]
  },
  {
   "cell_type": "code",
   "execution_count": 45,
   "metadata": {},
   "outputs": [
    {
     "ename": "RuntimeError",
     "evalue": "CUDA out of memory. Tried to allocate 2.00 MiB (GPU 0; 11.78 GiB total capacity; 7.30 GiB already allocated; 6.25 MiB free; 7.30 GiB reserved in total by PyTorch)",
     "output_type": "error",
     "traceback": [
      "\u001b[0;31m---------------------------------------------------------------------------\u001b[0m",
      "\u001b[0;31mRuntimeError\u001b[0m                              Traceback (most recent call last)",
      "\u001b[0;32m<ipython-input-45-6756554db96a>\u001b[0m in \u001b[0;36m<module>\u001b[0;34m\u001b[0m\n\u001b[0;32m----> 1\u001b[0;31m \u001b[0mlasso_path\u001b[0m \u001b[0;34m=\u001b[0m \u001b[0;34m[\u001b[0m\u001b[0mlasso\u001b[0m\u001b[0;34m(\u001b[0m\u001b[0msparse_theta_normed\u001b[0m\u001b[0;34m,\u001b[0m \u001b[0mdt\u001b[0m\u001b[0;34m,\u001b[0m \u001b[0ml1\u001b[0m\u001b[0;34m=\u001b[0m\u001b[0mtorch\u001b[0m\u001b[0;34m.\u001b[0m\u001b[0mtensor\u001b[0m\u001b[0;34m(\u001b[0m\u001b[0malpha\u001b[0m\u001b[0;34m)\u001b[0m\u001b[0;34m,\u001b[0m \u001b[0mconv_tol\u001b[0m\u001b[0;34m=\u001b[0m\u001b[0mtorch\u001b[0m\u001b[0;34m.\u001b[0m\u001b[0mtensor\u001b[0m\u001b[0;34m(\u001b[0m\u001b[0;36m1e-9\u001b[0m\u001b[0;34m)\u001b[0m\u001b[0;34m)\u001b[0m\u001b[0;34m.\u001b[0m\u001b[0mcpu\u001b[0m \u001b[0;32mfor\u001b[0m \u001b[0malpha\u001b[0m \u001b[0;32min\u001b[0m \u001b[0mnp\u001b[0m\u001b[0;34m.\u001b[0m\u001b[0mlogspace\u001b[0m\u001b[0;34m(\u001b[0m\u001b[0;34m-\u001b[0m\u001b[0;36m7\u001b[0m\u001b[0;34m,\u001b[0m \u001b[0;36m1\u001b[0m\u001b[0;34m,\u001b[0m \u001b[0;36m100\u001b[0m\u001b[0;34m)\u001b[0m\u001b[0;34m]\u001b[0m\u001b[0;34m\u001b[0m\u001b[0;34m\u001b[0m\u001b[0m\n\u001b[0m",
      "\u001b[0;32m<ipython-input-45-6756554db96a>\u001b[0m in \u001b[0;36m<listcomp>\u001b[0;34m(.0)\u001b[0m\n\u001b[0;32m----> 1\u001b[0;31m \u001b[0mlasso_path\u001b[0m \u001b[0;34m=\u001b[0m \u001b[0;34m[\u001b[0m\u001b[0mlasso\u001b[0m\u001b[0;34m(\u001b[0m\u001b[0msparse_theta_normed\u001b[0m\u001b[0;34m,\u001b[0m \u001b[0mdt\u001b[0m\u001b[0;34m,\u001b[0m \u001b[0ml1\u001b[0m\u001b[0;34m=\u001b[0m\u001b[0mtorch\u001b[0m\u001b[0;34m.\u001b[0m\u001b[0mtensor\u001b[0m\u001b[0;34m(\u001b[0m\u001b[0malpha\u001b[0m\u001b[0;34m)\u001b[0m\u001b[0;34m,\u001b[0m \u001b[0mconv_tol\u001b[0m\u001b[0;34m=\u001b[0m\u001b[0mtorch\u001b[0m\u001b[0;34m.\u001b[0m\u001b[0mtensor\u001b[0m\u001b[0;34m(\u001b[0m\u001b[0;36m1e-9\u001b[0m\u001b[0;34m)\u001b[0m\u001b[0;34m)\u001b[0m\u001b[0;34m.\u001b[0m\u001b[0mcpu\u001b[0m \u001b[0;32mfor\u001b[0m \u001b[0malpha\u001b[0m \u001b[0;32min\u001b[0m \u001b[0mnp\u001b[0m\u001b[0;34m.\u001b[0m\u001b[0mlogspace\u001b[0m\u001b[0;34m(\u001b[0m\u001b[0;34m-\u001b[0m\u001b[0;36m7\u001b[0m\u001b[0;34m,\u001b[0m \u001b[0;36m1\u001b[0m\u001b[0;34m,\u001b[0m \u001b[0;36m100\u001b[0m\u001b[0;34m)\u001b[0m\u001b[0;34m]\u001b[0m\u001b[0;34m\u001b[0m\u001b[0;34m\u001b[0m\u001b[0m\n\u001b[0m",
      "\u001b[0;32m<ipython-input-4-305a38682797>\u001b[0m in \u001b[0;36mlasso\u001b[0;34m(X, y, l1, conv_tol, w)\u001b[0m\n\u001b[1;32m      1\u001b[0m \u001b[0;32mdef\u001b[0m \u001b[0mlasso\u001b[0m\u001b[0;34m(\u001b[0m\u001b[0mX\u001b[0m\u001b[0;34m,\u001b[0m \u001b[0my\u001b[0m\u001b[0;34m,\u001b[0m \u001b[0ml1\u001b[0m\u001b[0;34m,\u001b[0m \u001b[0mconv_tol\u001b[0m\u001b[0;34m=\u001b[0m\u001b[0;36m1e-7\u001b[0m\u001b[0;34m,\u001b[0m \u001b[0mw\u001b[0m\u001b[0;34m=\u001b[0m\u001b[0;32mNone\u001b[0m\u001b[0;34m)\u001b[0m\u001b[0;34m:\u001b[0m\u001b[0;34m\u001b[0m\u001b[0;34m\u001b[0m\u001b[0m\n\u001b[0;32m----> 2\u001b[0;31m     \u001b[0mL\u001b[0m \u001b[0;34m=\u001b[0m \u001b[0;36m2\u001b[0m \u001b[0;34m*\u001b[0m \u001b[0mtorch\u001b[0m\u001b[0;34m.\u001b[0m\u001b[0msymeig\u001b[0m\u001b[0;34m(\u001b[0m\u001b[0mX\u001b[0m\u001b[0;34m.\u001b[0m\u001b[0mT\u001b[0m \u001b[0;34m@\u001b[0m \u001b[0mX\u001b[0m\u001b[0;34m)\u001b[0m\u001b[0;34m.\u001b[0m\u001b[0meigenvalues\u001b[0m\u001b[0;34m.\u001b[0m\u001b[0mmax\u001b[0m\u001b[0;34m(\u001b[0m\u001b[0;34m)\u001b[0m\u001b[0;34m\u001b[0m\u001b[0;34m\u001b[0m\u001b[0m\n\u001b[0m\u001b[1;32m      3\u001b[0m \u001b[0;34m\u001b[0m\u001b[0m\n\u001b[1;32m      4\u001b[0m     \u001b[0;32mif\u001b[0m \u001b[0mw\u001b[0m \u001b[0;34m==\u001b[0m \u001b[0;32mNone\u001b[0m\u001b[0;34m:\u001b[0m\u001b[0;34m\u001b[0m\u001b[0;34m\u001b[0m\u001b[0m\n\u001b[1;32m      5\u001b[0m         \u001b[0mw\u001b[0m \u001b[0;34m=\u001b[0m \u001b[0mtorch\u001b[0m\u001b[0;34m.\u001b[0m\u001b[0mzeros\u001b[0m\u001b[0;34m(\u001b[0m\u001b[0;34m(\u001b[0m\u001b[0mX\u001b[0m\u001b[0;34m.\u001b[0m\u001b[0mshape\u001b[0m\u001b[0;34m[\u001b[0m\u001b[0;36m1\u001b[0m\u001b[0;34m]\u001b[0m\u001b[0;34m,\u001b[0m \u001b[0;36m1\u001b[0m\u001b[0;34m)\u001b[0m\u001b[0;34m,\u001b[0m \u001b[0mdtype\u001b[0m\u001b[0;34m=\u001b[0m\u001b[0mtorch\u001b[0m\u001b[0;34m.\u001b[0m\u001b[0mfloat32\u001b[0m\u001b[0;34m)\u001b[0m \u001b[0;31m# if not given, start with zeros, else do warm restart\u001b[0m\u001b[0;34m\u001b[0m\u001b[0;34m\u001b[0m\u001b[0m\n",
      "\u001b[0;31mRuntimeError\u001b[0m: CUDA out of memory. Tried to allocate 2.00 MiB (GPU 0; 11.78 GiB total capacity; 7.30 GiB already allocated; 6.25 MiB free; 7.30 GiB reserved in total by PyTorch)"
     ]
    }
   ],
   "source": [
    "lasso_path = [lasso(sparse_theta_normed, dt, l1=torch.tensor(alpha), conv_tol=torch.tensor(1e-9)).cpu for alpha in np.logspace(-7, 1, 100)]"
   ]
  },
  {
   "cell_type": "markdown",
   "metadata": {},
   "source": [
    "# Analysis"
   ]
  },
  {
   "cell_type": "markdown",
   "metadata": {},
   "source": [
    "So the basic version worked, which is great news :) Now let's analyse the results a bit, cause its weird it didnt find the right coefficient"
   ]
  },
  {
   "cell_type": "code",
   "execution_count": 1,
   "metadata": {},
   "outputs": [
    {
     "ename": "NameError",
     "evalue": "name 'model' is not defined",
     "output_type": "error",
     "traceback": [
      "\u001b[0;31m---------------------------------------------------------------------------\u001b[0m",
      "\u001b[0;31mNameError\u001b[0m                                 Traceback (most recent call last)",
      "\u001b[0;32m<ipython-input-1-c3e0a12a851d>\u001b[0m in \u001b[0;36m<module>\u001b[0;34m\u001b[0m\n\u001b[0;32m----> 1\u001b[0;31m \u001b[0mprediction\u001b[0m\u001b[0;34m,\u001b[0m \u001b[0mtime_deriv_list\u001b[0m\u001b[0;34m,\u001b[0m \u001b[0msparse_theta_list\u001b[0m\u001b[0;34m,\u001b[0m \u001b[0mcoeff_vector_list\u001b[0m\u001b[0;34m,\u001b[0m \u001b[0mtheta\u001b[0m \u001b[0;34m=\u001b[0m \u001b[0mmodel\u001b[0m\u001b[0;34m(\u001b[0m\u001b[0mdata\u001b[0m\u001b[0;34m)\u001b[0m\u001b[0;34m\u001b[0m\u001b[0;34m\u001b[0m\u001b[0m\n\u001b[0m",
      "\u001b[0;31mNameError\u001b[0m: name 'model' is not defined"
     ]
    }
   ],
   "source": [
    "prediction, time_deriv_list, sparse_theta_list, coeff_vector_list, theta = model(data)"
   ]
  },
  {
   "cell_type": "code",
   "execution_count": 353,
   "metadata": {},
   "outputs": [],
   "source": [
    "u_inf = prediction.cpu().detach().numpy().reshape(x_grid.shape)"
   ]
  },
  {
   "cell_type": "code",
   "execution_count": 354,
   "metadata": {},
   "outputs": [
    {
     "data": {
      "text/plain": [
       "[<matplotlib.lines.Line2D at 0x7f9cb8d5bda0>]"
      ]
     },
     "execution_count": 354,
     "metadata": {},
     "output_type": "execute_result"
    },
    {
     "data": {
      "image/png": "[encoded data removed]",
      "text/plain": [
       "<Figure size 432x288 with 1 Axes>"
      ]
     },
     "metadata": {
      "needs_background": "light"
     },
     "output_type": "display_data"
    }
   ],
   "source": [
    "plt.plot(x, u[:, 1])\n",
    "plt.plot(x, u_inf[:, 1], '--')\n",
    "plt.plot(x, u[:, 24])\n",
    "plt.plot(x, u_inf[:, 24], '--')"
   ]
  },
  {
   "cell_type": "code",
   "execution_count": 324,
   "metadata": {},
   "outputs": [],
   "source": [
    "theta_inf = theta.cpu().detach().numpy()\n",
    "dt_inf = time_deriv_list[0].cpu().detach().numpy()"
   ]
  },
  {
   "cell_type": "code",
   "execution_count": 325,
   "metadata": {},
   "outputs": [
    {
     "data": {
      "text/plain": [
       "(array([[ 0.09960804],\n",
       "        [-1.4153868 ]], dtype=float32),\n",
       " array([0.00159913], dtype=float32),\n",
       " 2,\n",
       " array([36.12801  ,  3.7353694], dtype=float32))"
      ]
     },
     "execution_count": 325,
     "metadata": {},
     "output_type": "execute_result"
    }
   ],
   "source": [
    "np.linalg.lstsq(sparse_theta_list[0].cpu().detach().numpy(), dt_inf, rcond=None)"
   ]
  },
  {
   "cell_type": "code",
   "execution_count": 326,
   "metadata": {},
   "outputs": [],
   "source": [
    "theta_true = dataset.library(x_grid.reshape(-1, 1), t_grid.reshape(-1, 1)).reshape(-1, 3, 4)[:, :, :3].reshape(-1, 9)\n",
    "dt_true = dataset.time_deriv(x_grid.reshape(-1, 1), t_grid.reshape(-1, 1))"
   ]
  },
  {
   "cell_type": "code",
   "execution_count": 327,
   "metadata": {},
   "outputs": [
    {
     "data": {
      "text/plain": [
       "0.0014109271428993874"
      ]
     },
     "execution_count": 327,
     "metadata": {},
     "output_type": "execute_result"
    }
   ],
   "source": [
    "np.mean((dt_inf-dt_true)**2)"
   ]
  },
  {
   "cell_type": "code",
   "execution_count": 302,
   "metadata": {},
   "outputs": [
    {
     "data": {
      "text/plain": [
       "0.38432627453223484"
      ]
     },
     "execution_count": 302,
     "metadata": {},
     "output_type": "execute_result"
    }
   ],
   "source": [
    "np.max((dt_inf - dt_true)**2)"
   ]
  },
  {
   "cell_type": "code",
   "execution_count": 319,
   "metadata": {},
   "outputs": [
    {
     "data": {
      "text/plain": [
       "<matplotlib.colorbar.Colorbar at 0x7f9cb98341d0>"
      ]
     },
     "execution_count": 319,
     "metadata": {},
     "output_type": "execute_result"
    },
    {
     "data": {
      "image/png": "[encoded data removed]",
      "text/plain": [
       "<Figure size 432x288 with 2 Axes>"
      ]
     },
     "metadata": {
      "needs_background": "light"
     },
     "output_type": "display_data"
    }
   ],
   "source": [
    "plt.contourf(x_grid, t_grid, np.abs((dt_inf-dt_true).reshape(x_grid.shape)))\n",
    "plt.colorbar()"
   ]
  },
  {
   "cell_type": "code",
   "execution_count": 265,
   "metadata": {},
   "outputs": [
    {
     "data": {
      "text/plain": [
       "array([0.00000000e+00, 2.11861354e-05, 1.99658989e-03, 5.48178753e-07,\n",
       "       5.59031682e-06, 6.85367445e-04, 2.86565209e-07, 3.14908373e-06,\n",
       "       4.70344883e-04])"
      ]
     },
     "execution_count": 265,
     "metadata": {},
     "output_type": "execute_result"
    }
   ],
   "source": [
    "np.mean((theta_true - theta_inf)**2, axis=0)"
   ]
  },
  {
   "cell_type": "markdown",
   "metadata": {},
   "source": [
    "Which is fairly high for the diffusion component..."
   ]
  },
  {
   "cell_type": "code",
   "execution_count": 266,
   "metadata": {},
   "outputs": [
    {
     "data": {
      "text/plain": [
       "array([ 0.00347116,  0.0012011 , -0.00070819, ...,  0.00168181,\n",
       "        0.00161378,  0.00127247])"
      ]
     },
     "execution_count": 266,
     "metadata": {},
     "output_type": "execute_result"
    }
   ],
   "source": [
    "theta_true[:, 2] - theta_inf[:, 2]"
   ]
  },
  {
   "cell_type": "code",
   "execution_count": 282,
   "metadata": {},
   "outputs": [
    {
     "data": {
      "text/plain": [
       "[<matplotlib.lines.Line2D at 0x7f9cb9faf438>]"
      ]
     },
     "execution_count": 282,
     "metadata": {},
     "output_type": "execute_result"
    },
    {
     "data": {
      "image/png": "[encoded data removed]",
      "text/plain": [
       "<Figure size 432x288 with 1 Axes>"
      ]
     },
     "metadata": {
      "needs_background": "light"
     },
     "output_type": "display_data"
    }
   ],
   "source": [
    "frame = 1\n",
    "plt.plot(x, theta_true[:, 2].reshape(x_grid.shape)[:, frame])\n",
    "plt.plot(x, theta_inf[:, 2].reshape(x_grid.shape)[:, frame])"
   ]
  },
  {
   "cell_type": "code",
   "execution_count": 280,
   "metadata": {},
   "outputs": [
    {
     "data": {
      "text/plain": [
       "array([4.54030913e-02, 2.10957736e-03, 4.79374676e-04, 2.21865371e-04,\n",
       "       1.66019334e-04, 1.79721151e-04, 2.00113516e-04, 1.99965630e-04,\n",
       "       1.77247817e-04, 1.42161526e-04, 1.06532573e-04, 7.81903511e-05,\n",
       "       5.97654154e-05, 5.00016960e-05, 4.58266524e-05, 4.40672353e-05,\n",
       "       4.24195137e-05, 3.97275916e-05, 3.58080748e-05, 3.10876286e-05,\n",
       "       2.62524712e-05, 2.19930031e-05, 1.88837741e-05, 1.73508220e-05,\n",
       "       1.77028056e-05])"
      ]
     },
     "execution_count": 280,
     "metadata": {},
     "output_type": "execute_result"
    }
   ],
   "source": [
    "np.mean((theta_true[:, 2].reshape(x_grid.shape) - theta_inf[:, 2].reshape(x_grid.shape))**2, axis=0)"
   ]
  },
  {
   "cell_type": "markdown",
   "metadata": {},
   "source": [
    "Ah so maybe it's to sharp?"
   ]
  },
  {
   "cell_type": "markdown",
   "metadata": {},
   "source": [
    "What if we fit and skip the first two frames:"
   ]
  },
  {
   "cell_type": "code",
   "execution_count": 290,
   "metadata": {},
   "outputs": [],
   "source": [
    "sparse_theta = sparse_theta_list[0].cpu().detach().numpy()\n",
    "\n",
    "sparse_theta_fit = sparse_theta.reshape((*x_grid.shape, 2))[:, 2:, :].reshape(-1, 2)\n",
    "dt_fit = dt_inf.reshape(x_grid.shape)[:, 2:].reshape(-1, 1)"
   ]
  },
  {
   "cell_type": "code",
   "execution_count": 291,
   "metadata": {},
   "outputs": [
    {
     "data": {
      "text/plain": [
       "(array([[ 0.09933005],\n",
       "        [-1.4173105 ]], dtype=float32),\n",
       " array([0.00166264], dtype=float32),\n",
       " 2,\n",
       " array([22.394403 ,  2.2797236], dtype=float32))"
      ]
     },
     "execution_count": 291,
     "metadata": {},
     "output_type": "execute_result"
    }
   ],
   "source": [
    "np.linalg.lstsq(sparse_theta_fit, dt_fit, rcond=None)"
   ]
  },
  {
   "cell_type": "code",
   "execution_count": 318,
   "metadata": {},
   "outputs": [
    {
     "data": {
      "text/plain": [
       "[<matplotlib.lines.Line2D at 0x7f9cb98f30f0>]"
      ]
     },
     "execution_count": 318,
     "metadata": {},
     "output_type": "execute_result"
    },
    {
     "data": {
      "image/png": "[encoded data removed]",
      "text/plain": [
       "<Figure size 432x288 with 1 Axes>"
      ]
     },
     "metadata": {
      "needs_background": "light"
     },
     "output_type": "display_data"
    }
   ],
   "source": [
    "frame = 10\n",
    "plt.plot(x, dt_inf.reshape(x_grid.shape)[:, frame])\n",
    "plt.plot(x, dt_true.reshape(x_grid.shape)[:, frame])"
   ]
  },
  {
   "cell_type": "markdown",
   "metadata": {},
   "source": [
    "Thats weird..."
   ]
  },
  {
   "cell_type": "code",
   "execution_count": 330,
   "metadata": {},
   "outputs": [
    {
     "data": {
      "text/plain": [
       "[<matplotlib.lines.Line2D at 0x7f9cb9656240>]"
      ]
     },
     "execution_count": 330,
     "metadata": {},
     "output_type": "execute_result"
    },
    {
     "data": {
      "image/png": "[encoded data removed]",
      "text/plain": [
       "<Figure size 432x288 with 1 Axes>"
      ]
     },
     "metadata": {
      "needs_background": "light"
     },
     "output_type": "display_data"
    }
   ],
   "source": [
    "frame = 10\n",
    "\n",
    "plt.plot(x, u[:, frame])\n",
    "plt.plot(x, u_inf[:, frame], '--')\n",
    "\n",
    "plt.plot(x, u[:, frame+1])\n",
    "plt.plot(x, u_inf[:, frame+1], '--')\n",
    "\n",
    "plt.plot(x, u[:, frame-1])\n",
    "plt.plot(x, u_inf[:, frame-1], '--')"
   ]
  },
  {
   "cell_type": "code",
   "execution_count": 331,
   "metadata": {},
   "outputs": [
    {
     "data": {
      "text/plain": [
       "[<matplotlib.lines.Line2D at 0x7f9cb960d2e8>]"
      ]
     },
     "execution_count": 331,
     "metadata": {},
     "output_type": "execute_result"
    },
    {
     "data": {
      "image/png": "[encoded data removed]",
      "text/plain": [
       "<Figure size 432x288 with 1 Axes>"
      ]
     },
     "metadata": {
      "needs_background": "light"
     },
     "output_type": "display_data"
    }
   ],
   "source": [
    "plt.plot(x, dt_inf.reshape(x_grid.shape)[:, frame])\n",
    "plt.plot(x, dt_true.reshape(x_grid.shape)[:, frame])"
   ]
  },
  {
   "cell_type": "code",
   "execution_count": 334,
   "metadata": {},
   "outputs": [
    {
     "data": {
      "text/plain": [
       "(75, 25)"
      ]
     },
     "execution_count": 334,
     "metadata": {},
     "output_type": "execute_result"
    }
   ],
   "source": [
    "u_inf.shape"
   ]
  },
  {
   "cell_type": "code",
   "execution_count": 336,
   "metadata": {},
   "outputs": [
    {
     "data": {
      "text/plain": [
       "array([[-3.8487117e-03, -3.2537777e-03, -1.7883381e-03, ...,\n",
       "         2.1198194e-03,  2.1108787e-03,  2.1008651e-03],\n",
       "       [-3.3885639e-03, -2.7466614e-03, -1.2353659e-03, ...,\n",
       "         2.4203856e-03,  2.3516417e-03,  2.3120244e-03],\n",
       "       [-2.8107166e-03, -2.1185477e-03, -5.5901211e-04, ...,\n",
       "         2.6552279e-03,  2.5275152e-03,  2.4611950e-03],\n",
       "       ...,\n",
       "       [-3.6279359e-04, -1.3089180e-04,  5.0107639e-05, ...,\n",
       "         6.1186153e-04,  8.4801513e-04,  1.0120074e-03],\n",
       "       [-4.0094057e-04, -1.7726421e-04, -1.3113022e-06, ...,\n",
       "         6.4063072e-04,  8.0251694e-04,  9.2005730e-04],\n",
       "       [-4.3567023e-04, -2.2037824e-04, -5.0902367e-05, ...,\n",
       "         6.9276494e-04,  7.9977512e-04,  8.8318187e-04]], dtype=float32)"
      ]
     },
     "execution_count": 336,
     "metadata": {},
     "output_type": "execute_result"
    }
   ],
   "source": []
  },
  {
   "cell_type": "code",
   "execution_count": 344,
   "metadata": {},
   "outputs": [
    {
     "data": {
      "text/plain": [
       "<matplotlib.legend.Legend at 0x7f9cb8e86d30>"
      ]
     },
     "execution_count": 344,
     "metadata": {},
     "output_type": "execute_result"
    },
    {
     "data": {
      "image/png": "[encoded data removed]",
      "text/plain": [
       "<Figure size 432x288 with 1 Axes>"
      ]
     },
     "metadata": {
      "needs_background": "light"
     },
     "output_type": "display_data"
    }
   ],
   "source": [
    "frame = 10\n",
    "plt.plot(x, dt_inf.reshape(x_grid.shape)[:, frame], label='Inferred')\n",
    "plt.plot(x, dt_true.reshape(x_grid.shape)[:, frame], label='True')\n",
    "plt.plot(x, np.gradient(u_inf, t, axis=1)[:, frame], 'k--', label='Numerical of inferred')\n",
    "\n",
    "plt.plot(x, np.gradient(u, t, axis=1)[:, frame], 'r--', label='Numerical of u')\n",
    "\n",
    "plt.legend()"
   ]
  },
  {
   "cell_type": "markdown",
   "metadata": {},
   "source": [
    "Alright so the problem is the time derivative"
   ]
  },
  {
   "cell_type": "code",
   "execution_count": null,
   "metadata": {},
   "outputs": [],
   "source": []
  }
 ],
 "metadata": {
  "kernelspec": {
   "display_name": "Python 3",
   "language": "python",
   "name": "python3"
  },
  "language_info": {
   "codemirror_mode": {
    "name": "ipython",
    "version": 3
   },
   "file_extension": ".py",
   "mimetype": "text/x-python",
   "name": "python",
   "nbconvert_exporter": "python",
   "pygments_lexer": "ipython3",
   "version": "3.6.9"
  }
 },
 "nbformat": 4,
 "nbformat_minor": 4
}
