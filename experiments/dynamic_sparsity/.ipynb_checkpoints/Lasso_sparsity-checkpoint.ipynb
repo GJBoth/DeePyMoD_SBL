{
 "cells": [
  {
   "cell_type": "code",
   "execution_count": 91,
   "metadata": {},
   "outputs": [
    {
     "name": "stdout",
     "output_type": "stream",
     "text": [
      "The autoreload extension is already loaded. To reload it, use:\n",
      "  %reload_ext autoreload\n"
     ]
    }
   ],
   "source": [
    "import numpy as np\n",
    "import pandas as pd\n",
    "import torch\n",
    "\n",
    "from DeePyMoD_SBL.data import Burgers\n",
    "from DeePyMoD_SBL.deepymod_torch.library_functions import library_1D_in\n",
    "from DeePyMoD_SBL.deepymod_torch.DeepMod import DeepMod, DeepModDynamic\n",
    "from DeePyMoD_SBL.deepymod_torch.output import Tensorboard, progress\n",
    "from DeePyMoD_SBL.deepymod_torch.losses import reg_loss, mse_loss\n",
    "from DeePyMoD_SBL.deepymod_torch.training import train\n",
    "from DeePyMoD_SBL.Lasso import lasso\n",
    "from DeePyMoD_SBL.deepymod_torch.sparsity import scaling\n",
    "\n",
    "if torch.cuda.is_available():\n",
    "    torch.set_default_tensor_type('torch.cuda.FloatTensor')\n",
    "\n",
    "import matplotlib.pyplot as plt\n",
    "\n",
    "\n",
    "import time\n",
    "\n",
    "\n",
    "\n",
    "%load_ext autoreload\n",
    "%autoreload 2"
   ]
  },
  {
   "cell_type": "markdown",
   "metadata": {},
   "source": [
    "# useful funcs"
   ]
  },
  {
   "cell_type": "code",
   "execution_count": 2,
   "metadata": {},
   "outputs": [],
   "source": [
    "import os\n",
    "from tensorboard.backend.event_processing.event_accumulator import EventAccumulator\n",
    "\n",
    "def load_tensorboard(path):\n",
    "    # Assumes one file per folder\n",
    "    event_file = next(filter(lambda filename: filename[:6] =='events', os.listdir(path)))\n",
    "    summary_iterator = EventAccumulator(str(path + event_file)).Reload()\n",
    "    \n",
    "    tags = summary_iterator.Tags()['scalars']\n",
    "    steps = np.array([event.step for event in summary_iterator.Scalars(tags[0])])\n",
    "    data = np.array([[event.value for event in summary_iterator.Scalars(tag)] for tag in tags]).T\n",
    "    df = pd.DataFrame(data=data, index=steps, columns=tags)\n",
    "    \n",
    "    return df"
   ]
  },
  {
   "cell_type": "code",
   "execution_count": 3,
   "metadata": {},
   "outputs": [],
   "source": [
    "def soft_threshold(x, alpha):\n",
    "    return torch.max(torch.abs(x) - alpha, torch.zeros_like(x)) * torch.sign(x)"
   ]
  },
  {
   "cell_type": "code",
   "execution_count": 4,
   "metadata": {},
   "outputs": [],
   "source": [
    "def lasso(X, y, l1, conv_tol=1e-7, w=None):\n",
    "    L = 2 * torch.symeig(X.T @ X).eigenvalues.max()\n",
    "    \n",
    "    if w == None:\n",
    "        w = torch.zeros((X.shape[1], 1), dtype=torch.float32) # if not given, start with zeros, else do warm restart\n",
    "        \n",
    "    t = torch.tensor(1.0)\n",
    "    z = w\n",
    "    \n",
    "    converged=False\n",
    "    while not converged:\n",
    "        w_old = w\n",
    "        t_old = t\n",
    "        z_old = z\n",
    "        \n",
    "        w = soft_threshold(z_old - 2 * X.T @ (X @ z_old - y) / L, l1/L)\n",
    "        t = (1 + torch.sqrt(1 + 4 * t_old**2))/2\n",
    "        z = w + (t_old - 1) / t * (w - w_old)\n",
    "        converged = torch.max(torch.abs(w - w_old)) < conv_tol\n",
    "    return w"
   ]
  },
  {
   "cell_type": "markdown",
   "metadata": {},
   "source": [
    "# Making data"
   ]
  },
  {
   "cell_type": "code",
   "execution_count": 5,
   "metadata": {},
   "outputs": [],
   "source": [
    "x = np.linspace(-2, 5, 75)\n",
    "t = np.linspace(0.5, 5.0, 25)\n",
    "\n",
    "x_grid, t_grid = np.meshgrid(x, t, indexing='ij')"
   ]
  },
  {
   "cell_type": "code",
   "execution_count": 6,
   "metadata": {},
   "outputs": [],
   "source": [
    "dataset = Burgers(0.1, 1.0)"
   ]
  },
  {
   "cell_type": "code",
   "execution_count": 7,
   "metadata": {},
   "outputs": [],
   "source": [
    "u = dataset.solution(x_grid, t_grid)"
   ]
  },
  {
   "cell_type": "code",
   "execution_count": 8,
   "metadata": {},
   "outputs": [],
   "source": [
    "X = np.concatenate((t_grid.reshape(-1, 1), x_grid.reshape(-1, 1)), axis=1)\n",
    "y = u.reshape(-1, 1)"
   ]
  },
  {
   "cell_type": "code",
   "execution_count": 9,
   "metadata": {},
   "outputs": [],
   "source": [
    "X_train = torch.tensor(X, dtype=torch.float32, requires_grad=True)\n",
    "y_train = torch.tensor(y, dtype=torch.float32, requires_grad=True)"
   ]
  },
  {
   "cell_type": "code",
   "execution_count": 10,
   "metadata": {},
   "outputs": [
    {
     "data": {
      "text/plain": [
       "[<matplotlib.lines.Line2D at 0x7f9d3b8e3128>]"
      ]
     },
     "execution_count": 10,
     "metadata": {},
     "output_type": "execute_result"
    },
    {
     "data": {
      "image/png": "[encoded data removed]",
      "text/plain": [
       "<Figure size 432x288 with 1 Axes>"
      ]
     },
     "metadata": {
      "needs_background": "light"
     },
     "output_type": "display_data"
    }
   ],
   "source": [
    "plt.plot(x, u[:, 1])\n",
    "plt.plot(x, u[:, 24])"
   ]
  },
  {
   "cell_type": "markdown",
   "metadata": {},
   "source": [
    "# Running new"
   ]
  },
  {
   "cell_type": "code",
   "execution_count": 98,
   "metadata": {},
   "outputs": [],
   "source": [
    "noise_level = 0.05"
   ]
  },
  {
   "cell_type": "code",
   "execution_count": 99,
   "metadata": {},
   "outputs": [],
   "source": [
    "X_train = torch.tensor(X, dtype=torch.float32, requires_grad=True)\n",
    "y_train = torch.tensor(y + noise_level * np.std(y) * np.random.randn(y.size, 1), dtype=torch.float32, requires_grad=True)"
   ]
  },
  {
   "cell_type": "code",
   "execution_count": 100,
   "metadata": {},
   "outputs": [],
   "source": [
    "config = {'n_in': 2, 'hidden_dims': [20, 20, 20, 20], 'n_out': 1, 'library_function':library_1D_in, 'library_args':{'poly_order':2, 'diff_order': 2}}"
   ]
  },
  {
   "cell_type": "code",
   "execution_count": 101,
   "metadata": {},
   "outputs": [],
   "source": [
    "model = DeepModDynamic(**config)"
   ]
  },
  {
   "cell_type": "code",
   "execution_count": 102,
   "metadata": {},
   "outputs": [],
   "source": [
    "optimizer = torch.optim.Adam(model.network_parameters(), betas=(0.99, 0.999), amsgrad=True)"
   ]
  },
  {
   "cell_type": "code",
   "execution_count": 103,
   "metadata": {},
   "outputs": [
    {
     "name": "stdout",
     "output_type": "stream",
     "text": [
      "| Iteration | Progress | Time remaining |     Cost |      MSE |      Reg |       L1 |\n",
      "       5000    100.00%               0s   1.17e-04   7.27e-05   1.79e-05   2.66e-05 "
     ]
    }
   ],
   "source": [
    "train(model, X_train, y_train, optimizer, 5000,  loss_func_args={'l1':torch.tensor(1e-5), 'conv_tol': torch.tensor(1e-5)})"
   ]
  },
  {
   "cell_type": "markdown",
   "metadata": {},
   "source": [
    "Now let's see if we can cut some terms already:"
   ]
  },
  {
   "cell_type": "code",
   "execution_count": 104,
   "metadata": {},
   "outputs": [
    {
     "data": {
      "text/plain": [
       "[tensor([[-3.1395e-04],\n",
       "         [-1.9283e-02],\n",
       "         [ 9.2569e-02],\n",
       "         [ 8.3215e-02],\n",
       "         [-1.5256e+00],\n",
       "         [-3.1579e-02],\n",
       "         [-3.6252e-01],\n",
       "         [ 7.3908e-01],\n",
       "         [-4.2408e-02]], grad_fn=<MmBackward>)]"
      ]
     },
     "execution_count": 104,
     "metadata": {},
     "output_type": "execute_result"
    }
   ],
   "source": [
    "model.fit.coeff_vector"
   ]
  },
  {
   "cell_type": "code",
   "execution_count": 107,
   "metadata": {},
   "outputs": [],
   "source": [
    "_, time_deriv_list, sparse_theta_list, _ = model(X_train)"
   ]
  },
  {
   "cell_type": "code",
   "execution_count": 124,
   "metadata": {},
   "outputs": [],
   "source": [
    "with torch.no_grad():\n",
    "    dt = time_deriv_list[0] / torch.norm(time_deriv_list[0])\n",
    "    theta = sparse_theta_list[0] / torch.norm(sparse_theta_list[0], dim=0, keepdim=True)\n",
    "    w_ini = model.fit.coeff_vector[0].detach()"
   ]
  },
  {
   "cell_type": "markdown",
   "metadata": {},
   "source": [
    "The least squares solution of the scaled problem:"
   ]
  },
  {
   "cell_type": "code",
   "execution_count": 119,
   "metadata": {},
   "outputs": [
    {
     "data": {
      "text/plain": [
       "tensor([[-0.0028],\n",
       "        [-0.0389],\n",
       "        [ 0.6097],\n",
       "        [ 0.1307],\n",
       "        [-1.1367],\n",
       "        [-0.1112],\n",
       "        [-0.2407],\n",
       "        [ 0.2876],\n",
       "        [-0.1037]])"
      ]
     },
     "execution_count": 119,
     "metadata": {},
     "output_type": "execute_result"
    }
   ],
   "source": [
    "torch.inverse(theta.T @ theta) @ theta.T @ dt"
   ]
  },
  {
   "cell_type": "code",
   "execution_count": 140,
   "metadata": {},
   "outputs": [],
   "source": [
    "lasso_coeff = lasso(theta, dt, l1=torch.tensor(1e-5), conv_tol=torch.tensor(1e-7))"
   ]
  },
  {
   "cell_type": "code",
   "execution_count": 143,
   "metadata": {},
   "outputs": [
    {
     "data": {
      "text/plain": [
       "tensor([2, 3, 4, 5, 6, 7, 8])"
      ]
     },
     "execution_count": 143,
     "metadata": {},
     "output_type": "execute_result"
    }
   ],
   "source": [
    "torch.where(torch.abs(lasso_coeff)> 0.05)[0]"
   ]
  },
  {
   "cell_type": "code",
   "execution_count": 149,
   "metadata": {},
   "outputs": [],
   "source": [
    "def train_lasso(model, data, target, optimizer, max_iterations, loss_func_args={'l1':torch.tensor(1e-5), 'conv_tol': torch.tensor(1e-3)}):\n",
    "    '''Trains the deepmod model with MSE, regression and l1 cost function. Updates model in-place.'''\n",
    "    start_time = time.time()\n",
    "    number_of_terms = [coeff_vec.shape[0] for coeff_vec in model(data)[3]]\n",
    "    board = Tensorboard(number_of_terms)\n",
    "\n",
    "    # Training\n",
    "    print('| Iteration | Progress | Time remaining |     Cost |      MSE |      Reg |       L1 |')\n",
    "    for iteration in torch.arange(0, max_iterations + 1):\n",
    "        # Calculating prediction and library and scaling\n",
    "        prediction, time_deriv_list, sparse_theta_list, coeff_vector_list, theta = model(data)\n",
    "        coeff_vector_scaled_list = scaling(coeff_vector_list, sparse_theta_list, time_deriv_list)\n",
    "        \n",
    "        # Calculating loss\n",
    "        loss_reg = reg_loss(time_deriv_list, sparse_theta_list, coeff_vector_list)\n",
    "        loss_mse = mse_loss(prediction, target)\n",
    "        loss = torch.sum(loss_reg) + torch.sum(loss_mse)\n",
    "        \n",
    "        # Writing\n",
    "        if iteration % 100 == 0:\n",
    "            progress(iteration, start_time, max_iterations, loss.item(), torch.sum(loss_mse).item(), torch.sum(loss_reg).item(), 0.0)\n",
    "            board.write(iteration, loss, loss_mse, loss_reg, loss_reg, coeff_vector_list, coeff_vector_scaled_list)\n",
    "\n",
    "        # Optimizer step\n",
    "        optimizer.zero_grad()\n",
    "        loss.backward()\n",
    "        optimizer.step()\n",
    "        \n",
    "        # Updating sparsity pattern\n",
    "        if iteration % 100 == 0:\n",
    "            with torch.no_grad():\n",
    "                normed_theta = sparse_theta_list[0] / torch.norm(sparse_theta_list[0], dim=0, keepdim=True)\n",
    "                dt = time_deriv_list[0] / torch.norm(time_deriv_list[0])\n",
    "                coeff_lasso = lasso(normed_theta, dt, l1=loss_func_args['l1'], conv_tol=loss_func_args['conv_tol'])\n",
    "                model.fit.sparsity_mask = [torch.where(torch.abs(coeff_lasso) > 0.05)[0]]\n",
    "                print(coeff_lasso)\n",
    "                print(model.fit.sparsity_mask)\n",
    "    board.close()"
   ]
  },
  {
   "cell_type": "code",
   "execution_count": 150,
   "metadata": {},
   "outputs": [],
   "source": [
    "optimizer = torch.optim.Adam(model.network_parameters(), betas=(0.99, 0.999), amsgrad=True)"
   ]
  },
  {
   "cell_type": "code",
   "execution_count": 148,
   "metadata": {},
   "outputs": [
    {
     "name": "stdout",
     "output_type": "stream",
     "text": [
      "| Iteration | Progress | Time remaining |     Cost |      MSE |      Reg |       L1 |\n",
      "          0      0.00%               0s   9.06e-05   7.27e-05   1.79e-05   0.00e+00 tensor([[-0.0029],\n",
      "        [-0.0391],\n",
      "        [ 0.6109],\n",
      "        [ 0.1306],\n",
      "        [-1.1359],\n",
      "        [-0.1160],\n",
      "        [-0.2408],\n",
      "        [ 0.2871],\n",
      "        [-0.1000]])\n",
      "[tensor([2, 3, 4, 5, 6, 7, 8])]\n",
      "        100      0.40%             461s   1.90e-04   1.63e-04   2.69e-05   0.00e+00 tensor([[-0.0115],\n",
      "        [ 0.0364],\n",
      "        [ 0.5776],\n",
      "        [ 0.1698],\n",
      "        [-1.2701],\n",
      "        [-0.0518],\n",
      "        [-0.2769],\n",
      "        [ 0.3453],\n",
      "        [-0.1562]])\n",
      "[tensor([2, 3, 4, 5, 6, 7, 8])]\n",
      "        200      0.80%             456s   1.04e-04   8.47e-05   1.93e-05   0.00e+00 tensor([[-0.0112],\n",
      "        [-0.0055],\n",
      "        [ 0.5753],\n",
      "        [ 0.1608],\n",
      "        [-1.1969],\n",
      "        [-0.0365],\n",
      "        [-0.2667],\n",
      "        [ 0.3100],\n",
      "        [-0.1631]])\n",
      "[tensor([2, 3, 4, 6, 7, 8])]\n",
      "        300      1.20%             453s   9.59e-05   7.59e-05   2.00e-05   0.00e+00 tensor([[-0.0048],\n",
      "        [-0.0329],\n",
      "        [ 0.5922],\n",
      "        [ 0.1396],\n",
      "        [-1.1412],\n",
      "        [-0.0359],\n",
      "        [-0.2408],\n",
      "        [ 0.2809],\n",
      "        [-0.1659]])\n",
      "[tensor([2, 3, 4, 6, 7, 8])]\n",
      "        400      1.60%             450s   9.66e-05   7.56e-05   2.09e-05   0.00e+00 tensor([[-0.0027],\n",
      "        [-0.0364],\n",
      "        [ 0.5902],\n",
      "        [ 0.1303],\n",
      "        [-1.1276],\n",
      "        [-0.0134],\n",
      "        [-0.2289],\n",
      "        [ 0.2678],\n",
      "        [-0.1850]])\n",
      "[tensor([2, 3, 4, 6, 7, 8])]\n",
      "        500      2.00%             450s   9.21e-05   7.21e-05   2.00e-05   0.00e+00 tensor([[-0.0032],\n",
      "        [-0.0171],\n",
      "        [ 0.5828],\n",
      "        [ 0.1271],\n",
      "        [-1.1502],\n",
      "        [ 0.0090],\n",
      "        [-0.2244],\n",
      "        [ 0.2696],\n",
      "        [-0.1936]])\n",
      "[tensor([2, 3, 4, 6, 7, 8])]\n",
      "        600      2.40%             441s   8.94e-05   6.98e-05   1.96e-05   0.00e+00 tensor([[-0.0027],\n",
      "        [-0.0242],\n",
      "        [ 0.5888],\n",
      "        [ 0.1228],\n",
      "        [-1.1348],\n",
      "        [ 0.0046],\n",
      "        [-0.2150],\n",
      "        [ 0.2601],\n",
      "        [-0.1879]])\n",
      "[tensor([2, 3, 4, 6, 7, 8])]\n",
      "        700      2.80%             437s   8.81e-05   6.93e-05   1.88e-05   0.00e+00 tensor([[-0.0034],\n",
      "        [-0.0204],\n",
      "        [ 0.5910],\n",
      "        [ 0.1210],\n",
      "        [-1.1384],\n",
      "        [ 0.0054],\n",
      "        [-0.2097],\n",
      "        [ 0.2596],\n",
      "        [-0.1854]])\n",
      "[tensor([2, 3, 4, 6, 7, 8])]\n",
      "        800      3.20%             441s   8.69e-05   6.85e-05   1.84e-05   0.00e+00 tensor([[-0.0032],\n",
      "        [-0.0180],\n",
      "        [ 0.5926],\n",
      "        [ 0.1159],\n",
      "        [-1.1374],\n",
      "        [ 0.0091],\n",
      "        [-0.2013],\n",
      "        [ 0.2552],\n",
      "        [-0.1833]])\n",
      "[tensor([2, 3, 4, 6, 7, 8])]\n",
      "        900      3.60%             430s   8.57e-05   6.79e-05   1.78e-05   0.00e+00 tensor([[-0.0037],\n",
      "        [-0.0154],\n",
      "        [ 0.5928],\n",
      "        [ 0.1118],\n",
      "        [-1.1378],\n",
      "        [ 0.0155],\n",
      "        [-0.1929],\n",
      "        [ 0.2516],\n",
      "        [-0.1827]])\n",
      "[tensor([2, 3, 4, 6, 7, 8])]\n",
      "       1000      4.00%             442s   8.46e-05   6.73e-05   1.73e-05   0.00e+00 tensor([[-0.0033],\n",
      "        [-0.0139],\n",
      "        [ 0.5933],\n",
      "        [ 0.1063],\n",
      "        [-1.1357],\n",
      "        [ 0.0218],\n",
      "        [-0.1832],\n",
      "        [ 0.2463],\n",
      "        [-0.1823]])\n",
      "[tensor([2, 3, 4, 6, 7, 8])]\n",
      "       1100      4.40%             425s   8.36e-05   6.67e-05   1.69e-05   0.00e+00 tensor([[-0.0033],\n",
      "        [-0.0126],\n",
      "        [ 0.5941],\n",
      "        [ 0.1011],\n",
      "        [-1.1329],\n",
      "        [ 0.0269],\n",
      "        [-0.1743],\n",
      "        [ 0.2409],\n",
      "        [-0.1813]])\n",
      "[tensor([2, 3, 4, 6, 7, 8])]\n",
      "       1200      4.80%             420s   8.26e-05   6.62e-05   1.64e-05   0.00e+00 tensor([[-0.0033],\n",
      "        [-0.0109],\n",
      "        [ 0.5944],\n",
      "        [ 0.0968],\n",
      "        [-1.1309],\n",
      "        [ 0.0317],\n",
      "        [-0.1664],\n",
      "        [ 0.2359],\n",
      "        [-0.1801]])\n",
      "[tensor([2, 3, 4, 6, 7, 8])]\n",
      "       1300      5.20%             430s   8.17e-05   6.57e-05   1.60e-05   0.00e+00 tensor([[-0.0033],\n",
      "        [-0.0096],\n",
      "        [ 0.5946],\n",
      "        [ 0.0926],\n",
      "        [-1.1284],\n",
      "        [ 0.0367],\n",
      "        [-0.1586],\n",
      "        [ 0.2307],\n",
      "        [-0.1791]])\n",
      "[tensor([2, 3, 4, 6, 7, 8])]\n",
      "       1400      5.60%             412s   8.08e-05   6.52e-05   1.55e-05   0.00e+00 tensor([[-0.0032],\n",
      "        [-0.0083],\n",
      "        [ 0.5947],\n",
      "        [ 0.0884],\n",
      "        [-1.1261],\n",
      "        [ 0.0415],\n",
      "        [-0.1510],\n",
      "        [ 0.2256],\n",
      "        [-0.1781]])\n",
      "[tensor([2, 3, 4, 6, 7, 8])]\n",
      "       1500      6.00%             414s   7.99e-05   6.47e-05   1.51e-05   0.00e+00 tensor([[-0.0032],\n",
      "        [-0.0070],\n",
      "        [ 0.5948],\n",
      "        [ 0.0844],\n",
      "        [-1.1237],\n",
      "        [ 0.0463],\n",
      "        [-0.1438],\n",
      "        [ 0.2206],\n",
      "        [-0.1773]])\n",
      "[tensor([2, 3, 4, 6, 7, 8])]\n",
      "       1600      6.40%             411s   7.91e-05   6.43e-05   1.48e-05   0.00e+00 tensor([[-0.0032],\n",
      "        [-0.0059],\n",
      "        [ 0.5948],\n",
      "        [ 0.0805],\n",
      "        [-1.1212],\n",
      "        [ 0.0508],\n",
      "        [-0.1367],\n",
      "        [ 0.2156],\n",
      "        [-0.1765]])\n",
      "[tensor([2, 3, 4, 5, 6, 7, 8])]\n",
      "       1700      6.80%             404s   7.79e-05   6.40e-05   1.38e-05   0.00e+00 tensor([[-0.0028],\n",
      "        [-0.0046],\n",
      "        [ 0.5924],\n",
      "        [ 0.0816],\n",
      "        [-1.1183],\n",
      "        [ 0.0500],\n",
      "        [-0.1386],\n",
      "        [ 0.2106],\n",
      "        [-0.1730]])\n",
      "[tensor([2, 3, 4, 6, 7, 8])]\n",
      "       1800      7.20%             395s   7.76e-05   6.36e-05   1.40e-05   0.00e+00 tensor([[-0.0033],\n",
      "        [-0.0027],\n",
      "        [ 0.5972],\n",
      "        [ 0.0738],\n",
      "        [-1.1210],\n",
      "        [ 0.0490],\n",
      "        [-0.1248],\n",
      "        [ 0.2107],\n",
      "        [-0.1670]])\n",
      "[tensor([2, 3, 4, 6, 7, 8])]\n",
      "       1900      7.60%             417s   7.69e-05   6.32e-05   1.37e-05   0.00e+00 tensor([[-0.0028],\n",
      "        [-0.0029],\n",
      "        [ 0.5928],\n",
      "        [ 0.0710],\n",
      "        [-1.1135],\n",
      "        [ 0.0660],\n",
      "        [-0.1187],\n",
      "        [ 0.2009],\n",
      "        [-0.1755]])\n",
      "[tensor([2, 3, 4, 5, 6, 7, 8])]\n",
      "       2000      8.00%             403s   7.59e-05   6.29e-05   1.30e-05   0.00e+00 tensor([[-0.0026],\n",
      "        [-0.0030],\n",
      "        [ 0.5916],\n",
      "        [ 0.0706],\n",
      "        [-1.1072],\n",
      "        [ 0.0652],\n",
      "        [-0.1187],\n",
      "        [ 0.1937],\n",
      "        [-0.1726]])\n",
      "[tensor([2, 3, 4, 5, 6, 7, 8])]\n",
      "       2100      8.40%             384s   7.52e-05   6.27e-05   1.25e-05   0.00e+00 tensor([[-2.4889e-03],\n",
      "        [ 3.0719e-04],\n",
      "        [ 5.9286e-01],\n",
      "        [ 6.8090e-02],\n",
      "        [-1.1127e+00],\n",
      "        [ 6.0609e-02],\n",
      "        [-1.1485e-01],\n",
      "        [ 1.9581e-01],\n",
      "        [-1.6578e-01]])\n",
      "[tensor([2, 3, 4, 5, 6, 7, 8])]\n",
      "       2200      8.80%             404s   7.47e-05   6.25e-05   1.22e-05   0.00e+00 tensor([[-2.4228e-03],\n",
      "        [ 4.8144e-04],\n",
      "        [ 5.9237e-01],\n",
      "        [ 6.6713e-02],\n",
      "        [-1.1091e+00],\n",
      "        [ 5.9882e-02],\n",
      "        [-1.1194e-01],\n",
      "        [ 1.9106e-01],\n",
      "        [-1.6150e-01]])\n",
      "[tensor([2, 3, 4, 5, 6, 7, 8])]\n",
      "       2300      9.20%             381s   7.41e-05   6.22e-05   1.20e-05   0.00e+00 tensor([[-2.3403e-03],\n",
      "        [ 1.7479e-04],\n",
      "        [ 5.9136e-01],\n",
      "        [ 6.4525e-02],\n",
      "        [-1.1040e+00],\n",
      "        [ 6.4963e-02],\n",
      "        [-1.0759e-01],\n",
      "        [ 1.8492e-01],\n",
      "        [-1.6205e-01]])\n",
      "[tensor([2, 3, 4, 5, 6, 7, 8])]\n"
     ]
    },
    {
     "ename": "KeyboardInterrupt",
     "evalue": "",
     "output_type": "error",
     "traceback": [
      "\u001b[0;31m---------------------------------------------------------------------------\u001b[0m",
      "\u001b[0;31mKeyboardInterrupt\u001b[0m                         Traceback (most recent call last)",
      "\u001b[0;32m<ipython-input-148-e7941e17179e>\u001b[0m in \u001b[0;36m<module>\u001b[0;34m\u001b[0m\n\u001b[0;32m----> 1\u001b[0;31m \u001b[0mtrain_lasso\u001b[0m\u001b[0;34m(\u001b[0m\u001b[0mmodel\u001b[0m\u001b[0;34m,\u001b[0m \u001b[0mX_train\u001b[0m\u001b[0;34m,\u001b[0m \u001b[0my_train\u001b[0m\u001b[0;34m,\u001b[0m \u001b[0moptimizer\u001b[0m\u001b[0;34m,\u001b[0m \u001b[0;36m25000\u001b[0m\u001b[0;34m,\u001b[0m  \u001b[0mloss_func_args\u001b[0m\u001b[0;34m=\u001b[0m\u001b[0;34m{\u001b[0m\u001b[0;34m'l1'\u001b[0m\u001b[0;34m:\u001b[0m\u001b[0mtorch\u001b[0m\u001b[0;34m.\u001b[0m\u001b[0mtensor\u001b[0m\u001b[0;34m(\u001b[0m\u001b[0;36m1e-5\u001b[0m\u001b[0;34m)\u001b[0m\u001b[0;34m,\u001b[0m \u001b[0;34m'conv_tol'\u001b[0m\u001b[0;34m:\u001b[0m \u001b[0mtorch\u001b[0m\u001b[0;34m.\u001b[0m\u001b[0mtensor\u001b[0m\u001b[0;34m(\u001b[0m\u001b[0;36m1e-5\u001b[0m\u001b[0;34m)\u001b[0m\u001b[0;34m}\u001b[0m\u001b[0;34m)\u001b[0m\u001b[0;34m\u001b[0m\u001b[0;34m\u001b[0m\u001b[0m\n\u001b[0m",
      "\u001b[0;32m<ipython-input-146-2c551ad47e7e>\u001b[0m in \u001b[0;36mtrain_lasso\u001b[0;34m(model, data, target, optimizer, max_iterations, loss_func_args)\u001b[0m\n\u001b[1;32m      9\u001b[0m     \u001b[0;32mfor\u001b[0m \u001b[0miteration\u001b[0m \u001b[0;32min\u001b[0m \u001b[0mtorch\u001b[0m\u001b[0;34m.\u001b[0m\u001b[0marange\u001b[0m\u001b[0;34m(\u001b[0m\u001b[0;36m0\u001b[0m\u001b[0;34m,\u001b[0m \u001b[0mmax_iterations\u001b[0m \u001b[0;34m+\u001b[0m \u001b[0;36m1\u001b[0m\u001b[0;34m)\u001b[0m\u001b[0;34m:\u001b[0m\u001b[0;34m\u001b[0m\u001b[0;34m\u001b[0m\u001b[0m\n\u001b[1;32m     10\u001b[0m         \u001b[0;31m# Calculating prediction and library and scaling\u001b[0m\u001b[0;34m\u001b[0m\u001b[0;34m\u001b[0m\u001b[0;34m\u001b[0m\u001b[0m\n\u001b[0;32m---> 11\u001b[0;31m         \u001b[0mprediction\u001b[0m\u001b[0;34m,\u001b[0m \u001b[0mtime_deriv_list\u001b[0m\u001b[0;34m,\u001b[0m \u001b[0msparse_theta_list\u001b[0m\u001b[0;34m,\u001b[0m \u001b[0mcoeff_vector_list\u001b[0m \u001b[0;34m=\u001b[0m \u001b[0mmodel\u001b[0m\u001b[0;34m(\u001b[0m\u001b[0mdata\u001b[0m\u001b[0;34m)\u001b[0m\u001b[0;34m\u001b[0m\u001b[0;34m\u001b[0m\u001b[0m\n\u001b[0m\u001b[1;32m     12\u001b[0m         \u001b[0mcoeff_vector_scaled_list\u001b[0m \u001b[0;34m=\u001b[0m \u001b[0mscaling\u001b[0m\u001b[0;34m(\u001b[0m\u001b[0mcoeff_vector_list\u001b[0m\u001b[0;34m,\u001b[0m \u001b[0msparse_theta_list\u001b[0m\u001b[0;34m,\u001b[0m \u001b[0mtime_deriv_list\u001b[0m\u001b[0;34m)\u001b[0m\u001b[0;34m\u001b[0m\u001b[0;34m\u001b[0m\u001b[0m\n\u001b[1;32m     13\u001b[0m \u001b[0;34m\u001b[0m\u001b[0m\n",
      "\u001b[0;32m/opt/conda/lib/python3.6/site-packages/torch/nn/modules/module.py\u001b[0m in \u001b[0;36m__call__\u001b[0;34m(self, *input, **kwargs)\u001b[0m\n\u001b[1;32m    539\u001b[0m             \u001b[0mresult\u001b[0m \u001b[0;34m=\u001b[0m \u001b[0mself\u001b[0m\u001b[0;34m.\u001b[0m\u001b[0m_slow_forward\u001b[0m\u001b[0;34m(\u001b[0m\u001b[0;34m*\u001b[0m\u001b[0minput\u001b[0m\u001b[0;34m,\u001b[0m \u001b[0;34m**\u001b[0m\u001b[0mkwargs\u001b[0m\u001b[0;34m)\u001b[0m\u001b[0;34m\u001b[0m\u001b[0;34m\u001b[0m\u001b[0m\n\u001b[1;32m    540\u001b[0m         \u001b[0;32melse\u001b[0m\u001b[0;34m:\u001b[0m\u001b[0;34m\u001b[0m\u001b[0;34m\u001b[0m\u001b[0m\n\u001b[0;32m--> 541\u001b[0;31m             \u001b[0mresult\u001b[0m \u001b[0;34m=\u001b[0m \u001b[0mself\u001b[0m\u001b[0;34m.\u001b[0m\u001b[0mforward\u001b[0m\u001b[0;34m(\u001b[0m\u001b[0;34m*\u001b[0m\u001b[0minput\u001b[0m\u001b[0;34m,\u001b[0m \u001b[0;34m**\u001b[0m\u001b[0mkwargs\u001b[0m\u001b[0;34m)\u001b[0m\u001b[0;34m\u001b[0m\u001b[0;34m\u001b[0m\u001b[0m\n\u001b[0m\u001b[1;32m    542\u001b[0m         \u001b[0;32mfor\u001b[0m \u001b[0mhook\u001b[0m \u001b[0;32min\u001b[0m \u001b[0mself\u001b[0m\u001b[0;34m.\u001b[0m\u001b[0m_forward_hooks\u001b[0m\u001b[0;34m.\u001b[0m\u001b[0mvalues\u001b[0m\u001b[0;34m(\u001b[0m\u001b[0;34m)\u001b[0m\u001b[0;34m:\u001b[0m\u001b[0;34m\u001b[0m\u001b[0;34m\u001b[0m\u001b[0m\n\u001b[1;32m    543\u001b[0m             \u001b[0mhook_result\u001b[0m \u001b[0;34m=\u001b[0m \u001b[0mhook\u001b[0m\u001b[0;34m(\u001b[0m\u001b[0mself\u001b[0m\u001b[0;34m,\u001b[0m \u001b[0minput\u001b[0m\u001b[0;34m,\u001b[0m \u001b[0mresult\u001b[0m\u001b[0;34m)\u001b[0m\u001b[0;34m\u001b[0m\u001b[0;34m\u001b[0m\u001b[0m\n",
      "\u001b[0;32m~/DeePyMoD_SBL/src/DeePyMoD_SBL/deepymod_torch/DeepMod.py\u001b[0m in \u001b[0;36mforward\u001b[0;34m(self, input)\u001b[0m\n\u001b[1;32m     55\u001b[0m     \u001b[0;32mdef\u001b[0m \u001b[0mforward\u001b[0m\u001b[0;34m(\u001b[0m\u001b[0mself\u001b[0m\u001b[0;34m,\u001b[0m \u001b[0minput\u001b[0m\u001b[0;34m)\u001b[0m\u001b[0;34m:\u001b[0m\u001b[0;34m\u001b[0m\u001b[0;34m\u001b[0m\u001b[0m\n\u001b[1;32m     56\u001b[0m         \u001b[0mprediction\u001b[0m \u001b[0;34m=\u001b[0m \u001b[0mself\u001b[0m\u001b[0;34m.\u001b[0m\u001b[0mnetwork\u001b[0m\u001b[0;34m(\u001b[0m\u001b[0minput\u001b[0m\u001b[0;34m)\u001b[0m\u001b[0;34m\u001b[0m\u001b[0;34m\u001b[0m\u001b[0m\n\u001b[0;32m---> 57\u001b[0;31m         \u001b[0mtime_deriv\u001b[0m\u001b[0;34m,\u001b[0m \u001b[0mtheta\u001b[0m \u001b[0;34m=\u001b[0m \u001b[0mself\u001b[0m\u001b[0;34m.\u001b[0m\u001b[0mlibrary\u001b[0m\u001b[0;34m(\u001b[0m\u001b[0;34m(\u001b[0m\u001b[0mprediction\u001b[0m\u001b[0;34m,\u001b[0m \u001b[0minput\u001b[0m\u001b[0;34m)\u001b[0m\u001b[0;34m)\u001b[0m\u001b[0;34m\u001b[0m\u001b[0;34m\u001b[0m\u001b[0m\n\u001b[0m\u001b[1;32m     58\u001b[0m         \u001b[0msparse_theta\u001b[0m\u001b[0;34m,\u001b[0m \u001b[0mcoeff_vector\u001b[0m \u001b[0;34m=\u001b[0m \u001b[0mself\u001b[0m\u001b[0;34m.\u001b[0m\u001b[0mfit\u001b[0m\u001b[0;34m(\u001b[0m\u001b[0;34m(\u001b[0m\u001b[0mtheta\u001b[0m\u001b[0;34m,\u001b[0m \u001b[0mtime_deriv\u001b[0m\u001b[0;34m)\u001b[0m\u001b[0;34m)\u001b[0m\u001b[0;34m\u001b[0m\u001b[0;34m\u001b[0m\u001b[0m\n\u001b[1;32m     59\u001b[0m         \u001b[0;32mreturn\u001b[0m \u001b[0mprediction\u001b[0m\u001b[0;34m,\u001b[0m \u001b[0mtime_deriv\u001b[0m\u001b[0;34m,\u001b[0m \u001b[0msparse_theta\u001b[0m\u001b[0;34m,\u001b[0m \u001b[0mcoeff_vector\u001b[0m\u001b[0;34m\u001b[0m\u001b[0;34m\u001b[0m\u001b[0m\n",
      "\u001b[0;32m/opt/conda/lib/python3.6/site-packages/torch/nn/modules/module.py\u001b[0m in \u001b[0;36m__call__\u001b[0;34m(self, *input, **kwargs)\u001b[0m\n\u001b[1;32m    539\u001b[0m             \u001b[0mresult\u001b[0m \u001b[0;34m=\u001b[0m \u001b[0mself\u001b[0m\u001b[0;34m.\u001b[0m\u001b[0m_slow_forward\u001b[0m\u001b[0;34m(\u001b[0m\u001b[0;34m*\u001b[0m\u001b[0minput\u001b[0m\u001b[0;34m,\u001b[0m \u001b[0;34m**\u001b[0m\u001b[0mkwargs\u001b[0m\u001b[0;34m)\u001b[0m\u001b[0;34m\u001b[0m\u001b[0;34m\u001b[0m\u001b[0m\n\u001b[1;32m    540\u001b[0m         \u001b[0;32melse\u001b[0m\u001b[0;34m:\u001b[0m\u001b[0;34m\u001b[0m\u001b[0;34m\u001b[0m\u001b[0m\n\u001b[0;32m--> 541\u001b[0;31m             \u001b[0mresult\u001b[0m \u001b[0;34m=\u001b[0m \u001b[0mself\u001b[0m\u001b[0;34m.\u001b[0m\u001b[0mforward\u001b[0m\u001b[0;34m(\u001b[0m\u001b[0;34m*\u001b[0m\u001b[0minput\u001b[0m\u001b[0;34m,\u001b[0m \u001b[0;34m**\u001b[0m\u001b[0mkwargs\u001b[0m\u001b[0;34m)\u001b[0m\u001b[0;34m\u001b[0m\u001b[0;34m\u001b[0m\u001b[0m\n\u001b[0m\u001b[1;32m    542\u001b[0m         \u001b[0;32mfor\u001b[0m \u001b[0mhook\u001b[0m \u001b[0;32min\u001b[0m \u001b[0mself\u001b[0m\u001b[0;34m.\u001b[0m\u001b[0m_forward_hooks\u001b[0m\u001b[0;34m.\u001b[0m\u001b[0mvalues\u001b[0m\u001b[0;34m(\u001b[0m\u001b[0;34m)\u001b[0m\u001b[0;34m:\u001b[0m\u001b[0;34m\u001b[0m\u001b[0;34m\u001b[0m\u001b[0m\n\u001b[1;32m    543\u001b[0m             \u001b[0mhook_result\u001b[0m \u001b[0;34m=\u001b[0m \u001b[0mhook\u001b[0m\u001b[0;34m(\u001b[0m\u001b[0mself\u001b[0m\u001b[0;34m,\u001b[0m \u001b[0minput\u001b[0m\u001b[0;34m,\u001b[0m \u001b[0mresult\u001b[0m\u001b[0;34m)\u001b[0m\u001b[0;34m\u001b[0m\u001b[0;34m\u001b[0m\u001b[0m\n",
      "\u001b[0;32m~/DeePyMoD_SBL/src/DeePyMoD_SBL/deepymod_torch/network.py\u001b[0m in \u001b[0;36mforward\u001b[0;34m(self, input)\u001b[0m\n\u001b[1;32m     10\u001b[0m \u001b[0;34m\u001b[0m\u001b[0m\n\u001b[1;32m     11\u001b[0m     \u001b[0;32mdef\u001b[0m \u001b[0mforward\u001b[0m\u001b[0;34m(\u001b[0m\u001b[0mself\u001b[0m\u001b[0;34m,\u001b[0m \u001b[0minput\u001b[0m\u001b[0;34m)\u001b[0m\u001b[0;34m:\u001b[0m\u001b[0;34m\u001b[0m\u001b[0;34m\u001b[0m\u001b[0m\n\u001b[0;32m---> 12\u001b[0;31m         \u001b[0mtime_deriv_list\u001b[0m\u001b[0;34m,\u001b[0m \u001b[0mtheta\u001b[0m \u001b[0;34m=\u001b[0m \u001b[0mself\u001b[0m\u001b[0;34m.\u001b[0m\u001b[0mlibrary_func\u001b[0m\u001b[0;34m(\u001b[0m\u001b[0minput\u001b[0m\u001b[0;34m,\u001b[0m \u001b[0;34m**\u001b[0m\u001b[0mself\u001b[0m\u001b[0;34m.\u001b[0m\u001b[0mlibrary_args\u001b[0m\u001b[0;34m)\u001b[0m\u001b[0;34m\u001b[0m\u001b[0;34m\u001b[0m\u001b[0m\n\u001b[0m\u001b[1;32m     13\u001b[0m         \u001b[0;32mreturn\u001b[0m \u001b[0mtime_deriv_list\u001b[0m\u001b[0;34m,\u001b[0m \u001b[0mtheta\u001b[0m\u001b[0;34m\u001b[0m\u001b[0;34m\u001b[0m\u001b[0m\n\u001b[1;32m     14\u001b[0m \u001b[0;34m\u001b[0m\u001b[0m\n",
      "\u001b[0;32m~/DeePyMoD_SBL/src/DeePyMoD_SBL/deepymod_torch/library_functions.py\u001b[0m in \u001b[0;36mlibrary_1D_in\u001b[0;34m(input, poly_order, diff_order)\u001b[0m\n\u001b[1;32m     37\u001b[0m     \u001b[0;31m# Creating lists for all outputs\u001b[0m\u001b[0;34m\u001b[0m\u001b[0;34m\u001b[0m\u001b[0;34m\u001b[0m\u001b[0m\n\u001b[1;32m     38\u001b[0m     \u001b[0;32mfor\u001b[0m \u001b[0moutput\u001b[0m \u001b[0;32min\u001b[0m \u001b[0mtorch\u001b[0m\u001b[0;34m.\u001b[0m\u001b[0marange\u001b[0m\u001b[0;34m(\u001b[0m\u001b[0mprediction\u001b[0m\u001b[0;34m.\u001b[0m\u001b[0mshape\u001b[0m\u001b[0;34m[\u001b[0m\u001b[0;36m1\u001b[0m\u001b[0;34m]\u001b[0m\u001b[0;34m)\u001b[0m\u001b[0;34m:\u001b[0m\u001b[0;34m\u001b[0m\u001b[0;34m\u001b[0m\u001b[0m\n\u001b[0;32m---> 39\u001b[0;31m         \u001b[0mtime_deriv\u001b[0m\u001b[0;34m,\u001b[0m \u001b[0mdu\u001b[0m \u001b[0;34m=\u001b[0m \u001b[0mlibrary_deriv\u001b[0m\u001b[0;34m(\u001b[0m\u001b[0mdata\u001b[0m\u001b[0;34m,\u001b[0m \u001b[0mprediction\u001b[0m\u001b[0;34m[\u001b[0m\u001b[0;34m:\u001b[0m\u001b[0;34m,\u001b[0m \u001b[0moutput\u001b[0m\u001b[0;34m:\u001b[0m\u001b[0moutput\u001b[0m\u001b[0;34m+\u001b[0m\u001b[0;36m1\u001b[0m\u001b[0;34m]\u001b[0m\u001b[0;34m,\u001b[0m \u001b[0mdiff_order\u001b[0m\u001b[0;34m)\u001b[0m\u001b[0;34m\u001b[0m\u001b[0;34m\u001b[0m\u001b[0m\n\u001b[0m\u001b[1;32m     40\u001b[0m         \u001b[0mu\u001b[0m \u001b[0;34m=\u001b[0m \u001b[0mlibrary_poly\u001b[0m\u001b[0;34m(\u001b[0m\u001b[0mprediction\u001b[0m\u001b[0;34m[\u001b[0m\u001b[0;34m:\u001b[0m\u001b[0;34m,\u001b[0m \u001b[0moutput\u001b[0m\u001b[0;34m:\u001b[0m\u001b[0moutput\u001b[0m\u001b[0;34m+\u001b[0m\u001b[0;36m1\u001b[0m\u001b[0;34m]\u001b[0m\u001b[0;34m,\u001b[0m \u001b[0mpoly_order\u001b[0m\u001b[0;34m)\u001b[0m\u001b[0;34m\u001b[0m\u001b[0;34m\u001b[0m\u001b[0m\n\u001b[1;32m     41\u001b[0m \u001b[0;34m\u001b[0m\u001b[0m\n",
      "\u001b[0;32m~/DeePyMoD_SBL/src/DeePyMoD_SBL/deepymod_torch/library_functions.py\u001b[0m in \u001b[0;36mlibrary_deriv\u001b[0;34m(data, prediction, max_order)\u001b[0m\n\u001b[1;32m     15\u001b[0m \u001b[0;34m\u001b[0m\u001b[0m\n\u001b[1;32m     16\u001b[0m \u001b[0;32mdef\u001b[0m \u001b[0mlibrary_deriv\u001b[0m\u001b[0;34m(\u001b[0m\u001b[0mdata\u001b[0m\u001b[0;34m,\u001b[0m \u001b[0mprediction\u001b[0m\u001b[0;34m,\u001b[0m \u001b[0mmax_order\u001b[0m\u001b[0;34m)\u001b[0m\u001b[0;34m:\u001b[0m\u001b[0;34m\u001b[0m\u001b[0;34m\u001b[0m\u001b[0m\n\u001b[0;32m---> 17\u001b[0;31m     \u001b[0mdy\u001b[0m \u001b[0;34m=\u001b[0m \u001b[0mgrad\u001b[0m\u001b[0;34m(\u001b[0m\u001b[0mprediction\u001b[0m\u001b[0;34m,\u001b[0m \u001b[0mdata\u001b[0m\u001b[0;34m,\u001b[0m \u001b[0mgrad_outputs\u001b[0m\u001b[0;34m=\u001b[0m\u001b[0mtorch\u001b[0m\u001b[0;34m.\u001b[0m\u001b[0mones_like\u001b[0m\u001b[0;34m(\u001b[0m\u001b[0mprediction\u001b[0m\u001b[0;34m)\u001b[0m\u001b[0;34m,\u001b[0m \u001b[0mcreate_graph\u001b[0m\u001b[0;34m=\u001b[0m\u001b[0;32mTrue\u001b[0m\u001b[0;34m)\u001b[0m\u001b[0;34m[\u001b[0m\u001b[0;36m0\u001b[0m\u001b[0;34m]\u001b[0m\u001b[0;34m\u001b[0m\u001b[0;34m\u001b[0m\u001b[0m\n\u001b[0m\u001b[1;32m     18\u001b[0m     \u001b[0mtime_deriv\u001b[0m \u001b[0;34m=\u001b[0m \u001b[0mdy\u001b[0m\u001b[0;34m[\u001b[0m\u001b[0;34m:\u001b[0m\u001b[0;34m,\u001b[0m \u001b[0;36m0\u001b[0m\u001b[0;34m:\u001b[0m\u001b[0;36m1\u001b[0m\u001b[0;34m]\u001b[0m\u001b[0;34m\u001b[0m\u001b[0;34m\u001b[0m\u001b[0m\n\u001b[1;32m     19\u001b[0m \u001b[0;34m\u001b[0m\u001b[0m\n",
      "\u001b[0;31mKeyboardInterrupt\u001b[0m: "
     ]
    }
   ],
   "source": [
    "train_lasso(model, X_train, y_train, optimizer, 25000,  loss_func_args={'l1':torch.tensor(1e-5), 'conv_tol': torch.tensor(1e-5)})"
   ]
  },
  {
   "cell_type": "code",
   "execution_count": 52,
   "metadata": {},
   "outputs": [
    {
     "data": {
      "text/plain": [
       "[tensor([[ 0.1015],\n",
       "         [-0.0024],\n",
       "         [-1.4281],\n",
       "         [ 0.0768],\n",
       "         [-0.0118]], grad_fn=<MmBackward>)]"
      ]
     },
     "execution_count": 52,
     "metadata": {},
     "output_type": "execute_result"
    }
   ],
   "source": [
    "model.fit.coeff_vector"
   ]
  },
  {
   "cell_type": "code",
   "execution_count": 53,
   "metadata": {},
   "outputs": [
    {
     "data": {
      "text/plain": [
       "[tensor([], dtype=torch.int64)]"
      ]
     },
     "execution_count": 53,
     "metadata": {},
     "output_type": "execute_result"
    }
   ],
   "source": [
    "model.fit.sparsity_mask"
   ]
  },
  {
   "cell_type": "code",
   "execution_count": 60,
   "metadata": {},
   "outputs": [
    {
     "data": {
      "text/plain": [
       "True"
      ]
     },
     "execution_count": 60,
     "metadata": {},
     "output_type": "execute_result"
    }
   ],
   "source": [
    "(6000 > 1000) and (6000 % 100 == 0)"
   ]
  },
  {
   "cell_type": "code",
   "execution_count": null,
   "metadata": {},
   "outputs": [],
   "source": []
  }
 ],
 "metadata": {
  "kernelspec": {
   "display_name": "Python 3",
   "language": "python",
   "name": "python3"
  },
  "language_info": {
   "codemirror_mode": {
    "name": "ipython",
    "version": 3
   },
   "file_extension": ".py",
   "mimetype": "text/x-python",
   "name": "python",
   "nbconvert_exporter": "python",
   "pygments_lexer": "ipython3",
   "version": "3.6.9"
  }
 },
 "nbformat": 4,
 "nbformat_minor": 4
}
