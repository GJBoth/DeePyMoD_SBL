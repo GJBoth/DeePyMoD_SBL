{
 "cells": [
  {
   "cell_type": "markdown",
   "metadata": {},
   "source": [
    "In this notebook we implement a version of SBL in Pytorch."
   ]
  },
  {
   "cell_type": "code",
   "execution_count": 1,
   "metadata": {},
   "outputs": [],
   "source": [
    "from DeePyMoD_SBL.data import Burgers\n",
    "from DeePyMoD_SBL.SBL import SBL\n",
    "\n",
    "import numpy as np\n",
    "import torch "
   ]
  },
  {
   "cell_type": "markdown",
   "metadata": {},
   "source": [
    "# Making data"
   ]
  },
  {
   "cell_type": "code",
   "execution_count": 2,
   "metadata": {},
   "outputs": [],
   "source": [
    "x_points = 100\n",
    "t_points = 25\n",
    "x_grid, t_grid = np.meshgrid(np.linspace(-10, 10, x_points), np.linspace(1e-4, 1, t_points), indexing='ij')"
   ]
  },
  {
   "cell_type": "code",
   "execution_count": 3,
   "metadata": {},
   "outputs": [],
   "source": [
    "burgers = Burgers(0.1, 1)\n",
    "theta = burgers.library(x_grid.reshape(-1, 1), t_grid.reshape(-1, 1))\n",
    "time_deriv = burgers.time_deriv(x_grid.reshape(-1, 1), t_grid.reshape(-1, 1))"
   ]
  },
  {
   "cell_type": "markdown",
   "metadata": {},
   "source": [
    "# Baseline"
   ]
  },
  {
   "cell_type": "code",
   "execution_count": 4,
   "metadata": {},
   "outputs": [
    {
     "data": {
      "text/plain": [
       "(array([[        inf],\n",
       "        [        inf],\n",
       "        [98.69348455],\n",
       "        [        inf],\n",
       "        [        inf],\n",
       "        [ 0.99718178],\n",
       "        [        inf],\n",
       "        [        inf],\n",
       "        [        inf],\n",
       "        [        inf],\n",
       "        [        inf],\n",
       "        [        inf]]), array([[ 0.09883209],\n",
       "        [-1.00134561]]), array([[8.11146744e-07, 2.42503670e-07],\n",
       "        [2.42503670e-07, 1.33158867e-04]]), array([[0.37683774]]))"
      ]
     },
     "execution_count": 4,
     "metadata": {},
     "output_type": "execute_result"
    }
   ],
   "source": [
    "level = 0.5\n",
    "y = time_deriv + level*np.std(time_deriv)* np.random.normal(size=time_deriv.shape)\n",
    "SBL(theta, y)"
   ]
  },
  {
   "cell_type": "markdown",
   "metadata": {},
   "source": [
    "# Torch"
   ]
  },
  {
   "cell_type": "code",
   "execution_count": 5,
   "metadata": {},
   "outputs": [],
   "source": [
    "theta_t = torch.tensor(theta)\n",
    "y_t = torch.tensor(y)"
   ]
  },
  {
   "cell_type": "code",
   "execution_count": 30,
   "metadata": {},
   "outputs": [],
   "source": [
    "class SBL():\n",
    "    def __init__(self):\n",
    "        self.alpha = None # Model results\n",
    "        self.beta = None # Precision \n",
    "        \n",
    "    def fit(self, theta, y):\n",
    "        Phi, self.alpha, self.beta = SBL.initialize(theta, y)\n",
    "        \n",
    "    @staticmethod\n",
    "    def initialize(theta, y):\n",
    "        beta = 1 / (0.1 * torch.var(y))\n",
    "        \n",
    "        projection = (theta_t.T @ y_t)**2 / torch.diag((theta_t.T @ theta_t))[:, None]\n",
    "        start_idx = torch.argmax(projection)\n",
    "        \n",
    "        n_terms = theta.shape[1]\n",
    "        alpha = torch.ones((n_terms, 1)) * float('inf')\n",
    "        alpha[start_idx] = 1.0\n",
    "        \n",
    "        Phi = theta[:, [start_idx]]\n",
    "        \n",
    "        return None, alpha, beta\n",
    "        \n",
    "        "
   ]
  },
  {
   "cell_type": "code",
   "execution_count": 31,
   "metadata": {},
   "outputs": [],
   "source": [
    "model = SBL()"
   ]
  },
  {
   "cell_type": "code",
   "execution_count": 32,
   "metadata": {},
   "outputs": [],
   "source": [
    "model.fit(theta_t, y_t)"
   ]
  },
  {
   "cell_type": "code",
   "execution_count": 24,
   "metadata": {},
   "outputs": [
    {
     "data": {
      "text/plain": [
       "tensor(2)"
      ]
     },
     "execution_count": 24,
     "metadata": {},
     "output_type": "execute_result"
    }
   ],
   "source": [
    "torch.argmax((theta_t.T @ y_t)**2 / torch.diag((theta_t.T @ theta_t))[:, None])"
   ]
  },
  {
   "cell_type": "code",
   "execution_count": 23,
   "metadata": {},
   "outputs": [
    {
     "data": {
      "text/plain": [
       "array([[1.01683923e-01],\n",
       "       [2.18374375e+03],\n",
       "       [2.36660840e+03],\n",
       "       [9.36128921e+02],\n",
       "       [1.47760508e+02],\n",
       "       [1.51226851e+03],\n",
       "       [9.51831030e+02],\n",
       "       [3.23153274e+01],\n",
       "       [6.37843483e+02],\n",
       "       [1.01585698e+03],\n",
       "       [2.90232857e+02],\n",
       "       [7.25422935e+02]])"
      ]
     },
     "execution_count": 23,
     "metadata": {},
     "output_type": "execute_result"
    }
   ],
   "source": [
    "np.concatenate([((phi_i[:, None].T @ y).T @ (phi_i[:, None].T @ y)) / (phi_i[:, None].T @ phi_i[:, None]) for phi_i in theta.T])"
   ]
  },
  {
   "cell_type": "code",
   "execution_count": 26,
   "metadata": {},
   "outputs": [
    {
     "data": {
      "text/plain": [
       "tensor([[inf],\n",
       "        [inf],\n",
       "        [inf],\n",
       "        [inf],\n",
       "        [inf],\n",
       "        [inf],\n",
       "        [inf],\n",
       "        [inf],\n",
       "        [inf],\n",
       "        [inf],\n",
       "        [inf],\n",
       "        [inf]])"
      ]
     },
     "execution_count": 26,
     "metadata": {},
     "output_type": "execute_result"
    }
   ],
   "source": []
  },
  {
   "cell_type": "code",
   "execution_count": null,
   "metadata": {},
   "outputs": [],
   "source": []
  }
 ],
 "metadata": {
  "kernelspec": {
   "display_name": "Python 3",
   "language": "python",
   "name": "python3"
  },
  "language_info": {
   "codemirror_mode": {
    "name": "ipython",
    "version": 3
   },
   "file_extension": ".py",
   "mimetype": "text/x-python",
   "name": "python",
   "nbconvert_exporter": "python",
   "pygments_lexer": "ipython3",
   "version": "3.6.9"
  }
 },
 "nbformat": 4,
 "nbformat_minor": 4
}
