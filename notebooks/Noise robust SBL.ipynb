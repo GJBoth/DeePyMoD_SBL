{
 "cells": [
  {
   "cell_type": "code",
   "execution_count": 2,
   "metadata": {},
   "outputs": [],
   "source": [
    "from DeePyMoD_SBL.data.diffusion import library\n",
    "from DeePyMoD_SBL.SBL import SBL\n",
    "from DeePyMoD_SBL.SBL import robust_SBL\n",
    "\n",
    "import numpy as np\n",
    "import seaborn as sns\n",
    "\n",
    "%load_ext autoreload\n",
    "%autoreload 2"
   ]
  },
  {
   "cell_type": "markdown",
   "metadata": {},
   "source": [
    "# Making test data"
   ]
  },
  {
   "cell_type": "code",
   "execution_count": 2,
   "metadata": {},
   "outputs": [],
   "source": [
    "x_points = 100\n",
    "t_points = 25\n",
    "x_grid, t_grid = np.meshgrid(np.linspace(-10, 10, x_points), np.linspace(0, 1, t_points), indexing='ij')\n",
    "time_deriv, theta = library(x_grid.reshape(-1, 1), t_grid.reshape(-1, 1))"
   ]
  },
  {
   "cell_type": "code",
   "execution_count": 3,
   "metadata": {},
   "outputs": [],
   "source": [
    "level = 0.0001\n",
    "y = time_deriv + np.random.normal(scale=level*np.std(time_deriv), size=time_deriv.shape)"
   ]
  },
  {
   "cell_type": "code",
   "execution_count": 115,
   "metadata": {},
   "outputs": [],
   "source": [
    "from DeePyMoD_SBL.SBL import robust_SBL\n",
    "from DeePyMoD_SBL.data import Burgers"
   ]
  },
  {
   "cell_type": "code",
   "execution_count": 116,
   "metadata": {},
   "outputs": [],
   "source": [
    "x_points = 100\n",
    "t_points = 25\n",
    "x_grid, t_grid = np.meshgrid(np.linspace(-10, 10, x_points), np.linspace(1e-4, 1, t_points), indexing='ij')"
   ]
  },
  {
   "cell_type": "code",
   "execution_count": 117,
   "metadata": {},
   "outputs": [],
   "source": [
    "burgers = Burgers(0.1, 1)\n",
    "theta = burgers.library(x_grid.reshape(-1, 1), t_grid.reshape(-1, 1))\n",
    "time_deriv = burgers.time_deriv(x_grid.reshape(-1, 1), t_grid.reshape(-1, 1))"
   ]
  },
  {
   "cell_type": "code",
   "execution_count": 118,
   "metadata": {},
   "outputs": [],
   "source": [
    "level = 0.5\n",
    "y = time_deriv + level*np.std(time_deriv)* np.random.normal(size=time_deriv.shape)"
   ]
  },
  {
   "cell_type": "markdown",
   "metadata": {},
   "source": [
    "# Developinh"
   ]
  },
  {
   "cell_type": "code",
   "execution_count": 119,
   "metadata": {},
   "outputs": [],
   "source": [
    "from copy import copy"
   ]
  },
  {
   "cell_type": "code",
   "execution_count": 146,
   "metadata": {},
   "outputs": [],
   "source": [
    "def posterior(Phi, gamma, y):\n",
    "    Sigma = np.linalg.inv(Phi.T @ Phi + np.diag(gamma[gamma != 0.0]**-1))\n",
    "    mu = Sigma @ Phi.T @ y\n",
    "    \n",
    "    return mu, Sigma"
   ]
  },
  {
   "cell_type": "code",
   "execution_count": 147,
   "metadata": {},
   "outputs": [],
   "source": [
    "def sparse_quality_factor(theta, Phi, Sigma, gamma, y):\n",
    "    precalc = Phi @ Sigma @ Phi.T\n",
    "\n",
    "    Sm = np.concatenate([phi_i[:, None].T @ phi_i[:, None] - phi_i[:, None].T @ precalc @ phi_i[:, None] for phi_i in theta.T])\n",
    "    Qm = np.concatenate([phi_i[:, None].T @ y - phi_i[:, None].T @ precalc @ y for phi_i in theta.T])\n",
    "    \n",
    "    si = Sm / (1 - gamma[:, None] * Sm)\n",
    "    qi = Qm / (1 - gamma[:, None] * Sm)\n",
    "\n",
    "    return si, qi"
   ]
  },
  {
   "cell_type": "code",
   "execution_count": 148,
   "metadata": {},
   "outputs": [],
   "source": [
    "def update_design_matrix(Phi, theta, gamma, si, qi, beta, l, idx=None):\n",
    "    g = copy(gamma)\n",
    "    n_terms = theta.shape[1]\n",
    "    if idx == None:\n",
    "        idx = np.random.choice(n_terms)\n",
    "    criterium  = beta * qi[idx]**2 - si[idx]\n",
    "    \n",
    "    if criterium > l:\n",
    "        g[idx] = (-2 * l - si[idx] + np.sqrt(4*beta*l*qi[idx]**2+si[idx]**2)) / (2*l*si[idx])\n",
    "    else:\n",
    "        g[idx] = 0\n",
    "        \n",
    "    Phi = theta[:, g != 0.0]\n",
    "    \n",
    "    return Phi, g"
   ]
  },
  {
   "cell_type": "code",
   "execution_count": 149,
   "metadata": {},
   "outputs": [],
   "source": [
    "def update_noise(N, y, Phi, mu):\n",
    "    beta = N * np.linalg.inv(y.T @ (y - Phi @ mu))\n",
    "    return beta"
   ]
  },
  {
   "cell_type": "code",
   "execution_count": 154,
   "metadata": {},
   "outputs": [],
   "source": [
    "def update_l(l, nu, delta, gamma, n_samples):\n",
    "    delta = (n_samples + nu) / np.max(beta * qi**2 - si)\n",
    "    l = 2 * (n_samples - 1 + nu) / (np.sum(gamma) + 2 * delta)\n",
    "    return l"
   ]
  },
  {
   "cell_type": "code",
   "execution_count": 163,
   "metadata": {},
   "outputs": [],
   "source": [
    "n_terms = theta.shape[1]\n",
    "n_samples = theta.shape[0]\n",
    "    \n",
    "theta_normed = theta / np.linalg.norm(theta, axis=0, keepdims=True)\n",
    "y_normed = y / np.linalg.norm(y)\n",
    "\n",
    "gamma = np.ones((n_terms))\n",
    "Phi = theta_normed\n",
    "\n",
    "beta = 1 / (0.1 * np.var(y_normed))\n",
    "l = 0.0\n"
   ]
  },
  {
   "cell_type": "code",
   "execution_count": 169,
   "metadata": {},
   "outputs": [],
   "source": [
    "mu, Sigma = posterior(Phi, gamma, y_normed)\n",
    "si, qi = sparse_quality_factor(theta_normed, Phi, Sigma, gamma, y_normed)"
   ]
  },
  {
   "cell_type": "code",
   "execution_count": 177,
   "metadata": {},
   "outputs": [
    {
     "data": {
      "text/plain": [
       "array([[   2.47242009],\n",
       "       [1944.55109328],\n",
       "       [2207.52510524],\n",
       "       [1157.37064008],\n",
       "       [   4.18904499],\n",
       "       [ 827.49954375],\n",
       "       [ 507.56473478],\n",
       "       [   5.9998539 ],\n",
       "       [ 136.26524312],\n",
       "       [ 479.09341174],\n",
       "       [  55.02926196],\n",
       "       [ 216.76782494]])"
      ]
     },
     "execution_count": 177,
     "metadata": {},
     "output_type": "execute_result"
    }
   ],
   "source": [
    "beta * qi**2 - si"
   ]
  },
  {
   "cell_type": "code",
   "execution_count": 157,
   "metadata": {},
   "outputs": [
    {
     "name": "stderr",
     "output_type": "stream",
     "text": [
      "/opt/conda/lib/python3.6/site-packages/ipykernel_launcher.py:9: RuntimeWarning: invalid value encountered in true_divide\n",
      "  if __name__ == '__main__':\n"
     ]
    }
   ],
   "source": [
    "its = 1000\n",
    "for iteration in np.arange(its):\n",
    "    Phi, gamma = update_design_matrix(Phi, theta_normed, gamma, si, qi, beta, l)\n",
    "    mu, Sigma = posterior(Phi, gamma, y_normed)\n",
    "    si, qi = sparse_quality_factor(theta_normed, Phi, Sigma, gamma, y_normed)\n",
    "    beta = update_noise(n_samples, y_normed, Phi, mu)\n",
    "    l = update_l(l, nu, delta, gamma, n_samples)"
   ]
  },
  {
   "cell_type": "code",
   "execution_count": 158,
   "metadata": {},
   "outputs": [
    {
     "data": {
      "text/plain": [
       "array([0.        , 0.        , 0.00022894, 0.        , 0.        ,\n",
       "       0.        , 0.        , 0.        , 0.        , 0.        ,\n",
       "       0.        , 0.        ])"
      ]
     },
     "execution_count": 158,
     "metadata": {},
     "output_type": "execute_result"
    }
   ],
   "source": [
    "gamma"
   ]
  },
  {
   "cell_type": "code",
   "execution_count": 159,
   "metadata": {},
   "outputs": [
    {
     "data": {
      "text/plain": [
       "1268.658357966714"
      ]
     },
     "execution_count": 159,
     "metadata": {},
     "output_type": "execute_result"
    }
   ],
   "source": [
    "l"
   ]
  },
  {
   "cell_type": "code",
   "execution_count": 160,
   "metadata": {},
   "outputs": [
    {
     "data": {
      "text/plain": [
       "array([[-9.97526386e-01],\n",
       "       [ 1.12880100e+03],\n",
       "       [ 1.26923955e+03],\n",
       "       [ 4.91654553e+02],\n",
       "       [ 1.03883567e+02],\n",
       "       [ 7.50984383e+02],\n",
       "       [ 5.30385268e+02],\n",
       "       [ 1.33153192e+01],\n",
       "       [ 3.68439685e+02],\n",
       "       [ 4.96093662e+02],\n",
       "       [ 1.68150500e+02],\n",
       "       [ 3.63624488e+02]])"
      ]
     },
     "execution_count": 160,
     "metadata": {},
     "output_type": "execute_result"
    }
   ],
   "source": [
    "beta * qi**2 - si"
   ]
  },
  {
   "cell_type": "code",
   "execution_count": 162,
   "metadata": {},
   "outputs": [
    {
     "data": {
      "text/plain": [
       "array([[-9.97526386e-01],\n",
       "       [ 1.12880100e+03],\n",
       "       [ 1.26923955e+03],\n",
       "       [ 4.91654553e+02],\n",
       "       [ 1.03883567e+02],\n",
       "       [ 7.50984383e+02],\n",
       "       [ 5.30385268e+02],\n",
       "       [ 1.33153192e+01],\n",
       "       [ 3.68439685e+02],\n",
       "       [ 4.96093662e+02],\n",
       "       [ 1.68150500e+02],\n",
       "       [ 3.63624488e+02]])"
      ]
     },
     "execution_count": 162,
     "metadata": {},
     "output_type": "execute_result"
    }
   ],
   "source": [
    "beta * qi **2 - si"
   ]
  },
  {
   "cell_type": "code",
   "execution_count": 10,
   "metadata": {},
   "outputs": [],
   "source": [
    "def robust_SBL(theta, y, its=100, nu=1.0, delta=5.0):\n",
    "    n_terms = theta.shape[1]\n",
    "    n_samples = theta.shape[0]\n",
    "    \n",
    "    theta_normed = theta / np.linalg.norm(theta, axis=0, keepdims=True)\n",
    "    y_normed = y / np.linalg.norm(y)\n",
    "\n",
    "    gamma = np.ones((n_terms))\n",
    "    Phi = theta_normed\n",
    "\n",
    "    beta = 1 / (0.1 * np.var(y_normed))\n",
    "    l = 0.0\n",
    "    \n",
    "    mu, Sigma = posterior(Phi, gamma, y_normed)\n",
    "    si, qi = sparse_quality_factor(theta_normed, Phi, Sigma, gamma, y_normed)\n",
    "    for iteration in np.arange(its):\n",
    "        Phi, gamma = update_design_matrix(Phi, theta_normed, gamma, si, qi, beta, l)\n",
    "        mu, Sigma = posterior(Phi, gamma, y_normed)\n",
    "        si, qi = sparse_quality_factor(theta_normed, Phi, Sigma, gamma, y_normed)\n",
    "        l = update_l(l, nu, delta, gamma, n_samples):\n",
    "        beta = update_noise(n_samples, y_normed, Phi, mu)\n",
    "    return gamma"
   ]
  },
  {
   "cell_type": "code",
   "execution_count": 11,
   "metadata": {},
   "outputs": [
    {
     "name": "stderr",
     "output_type": "stream",
     "text": [
      "/opt/conda/lib/python3.6/site-packages/ipykernel_launcher.py:9: RuntimeWarning: invalid value encountered in true_divide\n",
      "  if __name__ == '__main__':\n"
     ]
    },
    {
     "data": {
      "text/plain": [
       "array([0.        , 0.        , 7.39955183, 0.        , 0.        ,\n",
       "       0.        , 0.        , 0.        , 0.        , 0.        ,\n",
       "       0.        , 0.        ])"
      ]
     },
     "execution_count": 11,
     "metadata": {},
     "output_type": "execute_result"
    }
   ],
   "source": [
    "robust_SBL(theta, t)"
   ]
  },
  {
   "cell_type": "markdown",
   "metadata": {},
   "source": [
    "# Adding initialization"
   ]
  },
  {
   "cell_type": "code",
   "execution_count": 56,
   "metadata": {},
   "outputs": [],
   "source": [
    "def initialize(theta, y):\n",
    "    theta_normed = theta / np.linalg.norm(theta, axis=0, keepdims=True)\n",
    "    y_normed = y / np.linalg.norm(y)\n",
    "    beta = 1 / (0.1 * np.var(y_normed))\n",
    "    \n",
    "    ini_idx = np.argmax((theta_normed.T @ y_normed)**2)\n",
    "    Phi = theta_normed[:, [ini_idx]]\n",
    "    n_terms = theta.shape[1]\n",
    "    gamma = np.zeros(n_terms)\n",
    "    gamma[ini_idx] = beta * (Phi.T @ y_normed)**2 - 1\n",
    "    \n",
    "    return beta, gamma, Phi, theta_normed, y_normed"
   ]
  },
  {
   "cell_type": "code",
   "execution_count": 61,
   "metadata": {},
   "outputs": [],
   "source": [
    "def robust_SBL(theta, y, its=100, nu=1.0, delta=5.0):\n",
    "    beta, gamma, Phi, theta_normed, y_normed = initialize(theta, y)\n",
    "    \n",
    "    l = 0.0\n",
    "    n_samples = theta_normed.shape[0]\n",
    "    \n",
    "    mu, Sigma = posterior(Phi, gamma, y_normed)\n",
    "    si, qi = sparse_quality_factor(theta_normed, Phi, Sigma, gamma, y_normed)\n",
    "    for iteration in np.arange(its):\n",
    "        Phi, gamma = update_design_matrix(Phi, theta_normed, gamma, si, qi, beta, l)\n",
    "        mu, Sigma = posterior(Phi, gamma, y_normed)\n",
    "        si, qi = sparse_quality_factor(theta_normed, Phi, Sigma, gamma, y_normed)\n",
    "        l = update_l(l, nu, delta, gamma, n_samples)\n",
    "        beta = update_noise(n_samples, y_normed, Phi, mu)\n",
    "    return gamma"
   ]
  },
  {
   "cell_type": "code",
   "execution_count": 62,
   "metadata": {},
   "outputs": [],
   "source": [
    "level = 0.1\n",
    "y = time_deriv + np.random.normal(scale=level*np.std(time_deriv), size=time_deriv.shape)"
   ]
  },
  {
   "cell_type": "code",
   "execution_count": 64,
   "metadata": {},
   "outputs": [
    {
     "data": {
      "text/plain": [
       "array([0.        , 0.        , 6.83932541, 0.        , 0.        ,\n",
       "       0.        , 0.        , 0.        , 0.        , 0.        ,\n",
       "       0.        , 0.        ])"
      ]
     },
     "execution_count": 64,
     "metadata": {},
     "output_type": "execute_result"
    }
   ],
   "source": [
    "robust_SBL(theta, y, its=1000)"
   ]
  },
  {
   "cell_type": "code",
   "execution_count": null,
   "metadata": {},
   "outputs": [],
   "source": [
    "robust_SBL(theta, y, its=10000)"
   ]
  },
  {
   "cell_type": "code",
   "execution_count": null,
   "metadata": {},
   "outputs": [],
   "source": []
  },
  {
   "cell_type": "markdown",
   "metadata": {},
   "source": [
    "# Convergence"
   ]
  },
  {
   "cell_type": "code",
   "execution_count": 127,
   "metadata": {},
   "outputs": [],
   "source": [
    "def convergence(si, qi, l, beta, gamma):\n",
    "    in_model_idx = beta * qi**2 - si > l\n",
    "    \n",
    "    dgamma = gamma[in_model_idx.squeeze()] - ((-2 * l - si[in_model_idx] + np.sqrt(4*beta*l*qi[in_model_idx]**2+si[in_model_idx]**2)) / (2*l*si[in_model_idx])).squeeze()\n",
    "    converged = np.max(np.abs(dgamma)) < 1e-6\n",
    "    \n",
    "    return converged"
   ]
  },
  {
   "cell_type": "code",
   "execution_count": 128,
   "metadata": {},
   "outputs": [],
   "source": [
    "level = 0.1\n",
    "y = time_deriv + np.random.normal(scale=level*np.std(time_deriv), size=time_deriv.shape)\n",
    "\n",
    "its = 100\n",
    "\n",
    "delta = 5.0\n",
    "nu = 1.0"
   ]
  },
  {
   "cell_type": "code",
   "execution_count": 129,
   "metadata": {},
   "outputs": [],
   "source": [
    "beta, gamma, Phi, theta_normed, y_normed = initialize(theta, y)\n",
    "    \n",
    "l = 0.0\n",
    "n_samples = theta_normed.shape[0]\n",
    "converged = False    \n",
    "    \n",
    "mu, Sigma = posterior(Phi, gamma, y_normed)\n",
    "si, qi = sparse_quality_factor(theta_normed, Phi, Sigma, gamma, y_normed)\n",
    "while not converged:\n",
    "    Phi, gamma = update_design_matrix(Phi, theta_normed, gamma, si, qi, beta, l)\n",
    "    mu, Sigma = posterior(Phi, gamma, y_normed)\n",
    "    si, qi = sparse_quality_factor(theta_normed, Phi, Sigma, gamma, y_normed)\n",
    "    l = update_l(l, nu, delta, gamma, n_samples)\n",
    "    beta = update_noise(n_samples, y_normed, Phi, mu)\n",
    "    converged = convergence(si, qi, l, beta, gamma)"
   ]
  },
  {
   "cell_type": "code",
   "execution_count": 131,
   "metadata": {},
   "outputs": [
    {
     "data": {
      "text/plain": [
       "array([0.        , 0.        , 6.78832938, 0.        , 0.        ,\n",
       "       0.        , 0.        , 0.        , 0.        , 0.        ,\n",
       "       0.        , 0.        ])"
      ]
     },
     "execution_count": 131,
     "metadata": {},
     "output_type": "execute_result"
    }
   ],
   "source": [
    "gamma"
   ]
  },
  {
   "cell_type": "markdown",
   "metadata": {},
   "source": [
    "# Testing"
   ]
  },
  {
   "cell_type": "code",
   "execution_count": 4,
   "metadata": {},
   "outputs": [],
   "source": [
    "x_points = 100\n",
    "t_points = 25\n",
    "x_grid, t_grid = np.meshgrid(np.linspace(-10, 10, x_points), np.linspace(0, 1, t_points), indexing='ij')\n",
    "time_deriv, theta = library(x_grid.reshape(-1, 1), t_grid.reshape(-1, 1))"
   ]
  },
  {
   "cell_type": "code",
   "execution_count": 5,
   "metadata": {},
   "outputs": [],
   "source": [
    "level = 2.\n",
    "y = time_deriv + np.random.normal(scale=level*np.std(time_deriv), size=time_deriv.shape)"
   ]
  },
  {
   "cell_type": "code",
   "execution_count": 6,
   "metadata": {},
   "outputs": [
    {
     "data": {
      "text/plain": [
       "array([0.        , 0.        , 0.48859183, 0.        , 0.        ,\n",
       "       0.        , 0.        , 0.        , 0.        , 0.        ,\n",
       "       0.        , 0.        ])"
      ]
     },
     "execution_count": 6,
     "metadata": {},
     "output_type": "execute_result"
    }
   ],
   "source": [
    "robust_SBL(theta, y, delta=10.0)"
   ]
  },
  {
   "cell_type": "markdown",
   "metadata": {},
   "source": [
    "# Implementing optimal vec update"
   ]
  },
  {
   "cell_type": "code",
   "execution_count": 10,
   "metadata": {},
   "outputs": [],
   "source": [
    "from copy import copy"
   ]
  },
  {
   "cell_type": "code",
   "execution_count": 2,
   "metadata": {},
   "outputs": [],
   "source": [
    "x_points = 100\n",
    "from DeePyMoD_SBL.SBL.robust_SBL import initialize, posterior, sparse_quality_factor, update_design_matrix, update_l, update_noise, convergence\n",
    "t_points = 25\n",
    "x_grid, t_grid = np.meshgrid(np.linspace(-10, 10, x_points), np.linspace(0, 1, t_points), indexing='ij')\n",
    "time_deriv, theta = library(x_grid.reshape(-1, 1), t_grid.reshape(-1, 1))"
   ]
  },
  {
   "cell_type": "code",
   "execution_count": 3,
   "metadata": {},
   "outputs": [],
   "source": [
    "level = 0.5\n",
    "y = time_deriv + np.random.normal(scale=level*np.std(time_deriv), size=time_deriv.shape)"
   ]
  },
  {
   "cell_type": "code",
   "execution_count": 4,
   "metadata": {},
   "outputs": [],
   "source": [
    "delta = 5.0\n",
    "nu = 1.0\n",
    "l = 0.0\n",
    "n_samples = theta.shape[0]\n"
   ]
  },
  {
   "cell_type": "code",
   "execution_count": 7,
   "metadata": {},
   "outputs": [],
   "source": [
    "beta, gamma, Phi, theta_normed, y_normed = initialize(theta, y)\n",
    "mu, Sigma = posterior(Phi, gamma, y_normed)\n",
    "si, qi = sparse_quality_factor(theta_normed, Phi, Sigma, gamma, y_normed)"
   ]
  },
  {
   "cell_type": "code",
   "execution_count": 8,
   "metadata": {},
   "outputs": [],
   "source": [
    "def dL(gamma, si, qi, beta, l):\n",
    "    delta_l = -np.log(1 + gamma[:, None] * si) + beta * gamma[:, None] * qi**2/(1+gamma[:, None]*si) - l * gamma[:, None]\n",
    "    return delta_l"
   ]
  },
  {
   "cell_type": "code",
   "execution_count": 14,
   "metadata": {},
   "outputs": [],
   "source": [
    "gamma_current = copy(gamma)\n",
    "gamma_new = ((-2 * l - si + np.sqrt(4*beta*l*qi**2+si**2)) / (2*l*si)).squeeze()"
   ]
  },
  {
   "cell_type": "code",
   "execution_count": 15,
   "metadata": {},
   "outputs": [
    {
     "data": {
      "text/plain": [
       "array([    0.        ,     0.        , 19672.39476688,     0.        ,\n",
       "           0.        ,     0.        ,     0.        ,     0.        ,\n",
       "           0.        ,     0.        ,     0.        ,     0.        ])"
      ]
     },
     "execution_count": 15,
     "metadata": {},
     "output_type": "execute_result"
    }
   ],
   "source": [
    "gamma_current"
   ]
  },
  {
   "cell_type": "code",
   "execution_count": 16,
   "metadata": {},
   "outputs": [
    {
     "data": {
      "text/plain": [
       "array([-0.95752576, -0.99100694,  5.94266594, -0.96982041, -1.13909256,\n",
       "       -0.97881221, -4.42046374, -0.95836079, -1.90146359, -0.96528824,\n",
       "       -2.74138073, -0.952636  ])"
      ]
     },
     "execution_count": 16,
     "metadata": {},
     "output_type": "execute_result"
    }
   ],
   "source": [
    "gamma_new"
   ]
  },
  {
   "cell_type": "code",
   "execution_count": 17,
   "metadata": {},
   "outputs": [],
   "source": [
    "in_basis_idx = (gamma_current != 0.0)\n",
    "out_basis_idx = (gamma_current == 0.0)\n",
    "allowed = beta * qi**2 - si > l"
   ]
  },
  {
   "cell_type": "code",
   "execution_count": 19,
   "metadata": {},
   "outputs": [],
   "source": [
    "dL_adding = dL(gamma_new, si, qi, beta, l)\n",
    "dL_adding[in_basis_idx] = 0.0\n",
    "dL_adding[~allowed] = 0.0\n",
    "    \n",
    "dL_removing = -dL(gamma_current, si, qi, beta, l)\n",
    "dL_removing[out_basis_idx] = 0.0\n",
    "dL_removing[allowed] = 0.0\n",
    "    \n",
    "dL_updating = dL(gamma_new, si, qi, beta, l) -dL(gamma_current, si, qi, beta, l)\n",
    "dL_updating[out_basis_idx] = 0.0\n",
    "dL_updating[~allowed] = 0.0"
   ]
  },
  {
   "cell_type": "code",
   "execution_count": 20,
   "metadata": {},
   "outputs": [],
   "source": [
    "dL_complete = np.concatenate((dL_adding, dL_updating, dL_removing), axis=1)\n",
    "idx, action = np.unravel_index(np.argmax(dL_complete), dL_complete.shape)\n"
   ]
  },
  {
   "cell_type": "code",
   "execution_count": 69,
   "metadata": {},
   "outputs": [],
   "source": [
    "if action == 0:\n",
    "    gamma_current[idx] = gamma_new[idx]\n",
    "elif action == 1:\n",
    "    gamma_current[idx] = gamma_new[idx]\n",
    "elif action == 2:\n",
    "    gamma_current[idx] = 0.0\n"
   ]
  },
  {
   "cell_type": "markdown",
   "metadata": {},
   "source": [
    "## Testing"
   ]
  },
  {
   "cell_type": "code",
   "execution_count": 83,
   "metadata": {},
   "outputs": [],
   "source": [
    "import numpy as np"
   ]
  },
  {
   "cell_type": "code",
   "execution_count": 90,
   "metadata": {},
   "outputs": [],
   "source": [
    "from DeePyMoD_SBL.SBL.robust_SBL import initialize, posterior, sparse_quality_factor, update_l, update_noise, convergence, update_design_matrix"
   ]
  },
  {
   "cell_type": "code",
   "execution_count": 91,
   "metadata": {},
   "outputs": [],
   "source": [
    "x_points = 100\n",
    "t_points = 25\n",
    "x_grid, t_grid = np.meshgrid(np.linspace(-10, 10, x_points), np.linspace(0, 1, t_points), indexing='ij')\n",
    "time_deriv, theta = library(x_grid.reshape(-1, 1), t_grid.reshape(-1, 1))"
   ]
  },
  {
   "cell_type": "code",
   "execution_count": 98,
   "metadata": {},
   "outputs": [],
   "source": [
    "level = 0.5\n",
    "y = time_deriv + np.random.normal(scale=level*np.std(time_deriv), size=time_deriv.shape)"
   ]
  },
  {
   "cell_type": "code",
   "execution_count": 99,
   "metadata": {},
   "outputs": [],
   "source": [
    "delta = 5.0\n",
    "nu = 1.0\n",
    "l = 1e-8\n",
    "n_samples = theta.shape[0]\n"
   ]
  },
  {
   "cell_type": "code",
   "execution_count": 100,
   "metadata": {},
   "outputs": [],
   "source": [
    "beta, gamma, Phi, theta_normed, y_normed = initialize(theta, y)\n",
    "mu, Sigma = posterior(Phi, gamma, y_normed)\n",
    "si, qi = sparse_quality_factor(theta_normed, Phi, Sigma, gamma, y_normed)\n",
    "l = update_l(l, nu, delta, gamma, n_samples)"
   ]
  },
  {
   "cell_type": "code",
   "execution_count": 101,
   "metadata": {},
   "outputs": [],
   "source": [
    "converged = False \n",
    "while not converged:\n",
    "    Phi, gamma = update_design_matrix(Phi, theta_normed, gamma, si, qi, beta, l)\n",
    "    mu, Sigma = posterior(Phi, gamma, y_normed)\n",
    "    si, qi = sparse_quality_factor(theta_normed, Phi, Sigma, gamma, y_normed)\n",
    "    l = update_l(l, nu, delta, gamma, n_samples)\n",
    "    beta = update_noise(n_samples, y_normed, Phi, mu)\n",
    "    converged = convergence(si, qi, l, beta, gamma)"
   ]
  },
  {
   "cell_type": "code",
   "execution_count": 104,
   "metadata": {},
   "outputs": [
    {
     "data": {
      "text/plain": [
       "array([0.        , 0.        , 2.42527691, 0.        , 0.        ,\n",
       "       0.        , 0.        , 0.        , 0.        , 0.        ,\n",
       "       0.        , 0.        ])"
      ]
     },
     "execution_count": 104,
     "metadata": {},
     "output_type": "execute_result"
    }
   ],
   "source": [
    "gamma"
   ]
  },
  {
   "cell_type": "markdown",
   "metadata": {},
   "source": [
    "# Updating nu"
   ]
  },
  {
   "cell_type": "code",
   "execution_count": 877,
   "metadata": {},
   "outputs": [],
   "source": [
    "import numpy as np\n",
    "from scipy.optimize import root_scalar\n",
    "from scipy.special import digamma"
   ]
  },
  {
   "cell_type": "code",
   "execution_count": 878,
   "metadata": {},
   "outputs": [],
   "source": [
    "from DeePyMoD_SBL.SBL.robust_SBL import initialize, posterior, sparse_quality_factor, update_l, update_noise, convergence, update_design_matrix"
   ]
  },
  {
   "cell_type": "code",
   "execution_count": 956,
   "metadata": {},
   "outputs": [],
   "source": [
    "x_points = 100\n",
    "t_points = 25\n",
    "x_grid, t_grid = np.meshgrid(np.linspace(-10, 10, x_points), np.linspace(0, 1, t_points), indexing='ij')\n",
    "time_deriv, theta = library(x_grid.reshape(-1, 1), t_grid.reshape(-1, 1))"
   ]
  },
  {
   "cell_type": "code",
   "execution_count": 957,
   "metadata": {},
   "outputs": [],
   "source": [
    "level = 0.5\n",
    "y = time_deriv + np.random.normal(scale=level*np.std(time_deriv), size=time_deriv.shape)"
   ]
  },
  {
   "cell_type": "code",
   "execution_count": 979,
   "metadata": {},
   "outputs": [
    {
     "data": {
      "text/plain": [
       "51.0204081632653"
      ]
     },
     "execution_count": 979,
     "metadata": {},
     "output_type": "execute_result"
    }
   ],
   "source": [
    "1/0.14**2"
   ]
  },
  {
   "cell_type": "code",
   "execution_count": 958,
   "metadata": {},
   "outputs": [],
   "source": [
    "delta = 5.0\n",
    "nu = 0.0\n",
    "l = 1e-4\n",
    "n_samples = theta.shape[0]\n"
   ]
  },
  {
   "cell_type": "code",
   "execution_count": 1010,
   "metadata": {},
   "outputs": [],
   "source": [
    "beta, gamma, Phi, theta_normed, y_normed = initialize(theta, y)\n",
    "mu, Sigma = posterior(Phi, gamma, y_normed)\n",
    "si, qi = sparse_quality_factor(theta_normed, Phi, Sigma, gamma, y_normed)"
   ]
  },
  {
   "cell_type": "code",
   "execution_count": 1011,
   "metadata": {},
   "outputs": [
    {
     "data": {
      "text/plain": [
       "25000.10525077745"
      ]
     },
     "execution_count": 1011,
     "metadata": {},
     "output_type": "execute_result"
    }
   ],
   "source": [
    "beta"
   ]
  },
  {
   "cell_type": "code",
   "execution_count": 1012,
   "metadata": {},
   "outputs": [
    {
     "data": {
      "text/plain": [
       "array([[-8.94766970e-01],\n",
       "       [-7.95782762e-01],\n",
       "       [ 1.99343598e+04],\n",
       "       [ 5.22065743e-01],\n",
       "       [ 3.32497168e-01],\n",
       "       [ 1.19652652e+00],\n",
       "       [-2.00298425e-01],\n",
       "       [ 4.58137756e+00],\n",
       "       [ 2.99751120e-01],\n",
       "       [ 4.12925113e+00],\n",
       "       [-3.13625906e-01],\n",
       "       [ 6.09278429e+00]])"
      ]
     },
     "execution_count": 1012,
     "metadata": {},
     "output_type": "execute_result"
    }
   ],
   "source": [
    "beta * qi**2 - si"
   ]
  },
  {
   "cell_type": "code",
   "execution_count": 1013,
   "metadata": {},
   "outputs": [
    {
     "data": {
      "text/plain": [
       "0.0"
      ]
     },
     "execution_count": 1013,
     "metadata": {},
     "output_type": "execute_result"
    }
   ],
   "source": [
    "np.max(gamma[gamma == 0.0])"
   ]
  },
  {
   "cell_type": "code",
   "execution_count": 1014,
   "metadata": {},
   "outputs": [],
   "source": [
    "l = update_l(l, nu, gamma, n_samples, gamma)\n",
    "#beta = update_noise(n_samples, y_normed, Phi, mu)\n",
    "#print(l)\n",
    "\n",
    "#nu = root_scalar(lambda x: np.log(x/2) - digamma(x/2)  + 1 + np.log(l) - l, bracket=[1e-8, 1e3]).root\n",
    "#print(nu)"
   ]
  },
  {
   "cell_type": "code",
   "execution_count": 1023,
   "metadata": {},
   "outputs": [],
   "source": [
    "Phi, gamma, gamma_old = update_design_matrix(Phi, theta_normed, gamma, si, qi, beta, l)\n",
    "mu, Sigma = posterior(Phi, gamma, y_normed)\n",
    "si, qi = sparse_quality_factor(theta_normed, Phi, Sigma, gamma, y_normed)\n",
    "l = update_l(l, nu, gamma, n_samples, gamma_old)\n",
    "#nu = root_scalar(lambda x: np.log(x/2) - digamma(x/2)  + 1 + np.log(l) - l, bracket=[1e-8, 1e3]).root\n",
    "beta = update_noise(n_samples, y_normed, Phi, mu)"
   ]
  },
  {
   "cell_type": "code",
   "execution_count": 1024,
   "metadata": {},
   "outputs": [
    {
     "data": {
      "text/plain": [
       "array([[-0.0020517 ],\n",
       "       [ 0.00285809],\n",
       "       [ 0.89297893],\n",
       "       [-0.00780272],\n",
       "       [-0.08602986],\n",
       "       [ 0.0093734 ],\n",
       "       [ 0.1687064 ],\n",
       "       [-0.01494169],\n",
       "       [-0.14112759],\n",
       "       [ 0.01432373],\n",
       "       [ 0.15292493],\n",
       "       [-0.0168437 ]])"
      ]
     },
     "execution_count": 1024,
     "metadata": {},
     "output_type": "execute_result"
    }
   ],
   "source": [
    "qi"
   ]
  },
  {
   "cell_type": "code",
   "execution_count": 908,
   "metadata": {},
   "outputs": [
    {
     "data": {
      "text/plain": [
       "array([0., 0., 0., 0., 0., 0., 0., 0., 0., 0., 0., 0.])"
      ]
     },
     "execution_count": 908,
     "metadata": {},
     "output_type": "execute_result"
    }
   ],
   "source": [
    "si"
   ]
  },
  {
   "cell_type": "code",
   "execution_count": 909,
   "metadata": {},
   "outputs": [
    {
     "data": {
      "text/plain": [
       "20433.202926321283"
      ]
     },
     "execution_count": 909,
     "metadata": {},
     "output_type": "execute_result"
    }
   ],
   "source": [
    "l"
   ]
  },
  {
   "cell_type": "code",
   "execution_count": 918,
   "metadata": {},
   "outputs": [
    {
     "data": {
      "text/plain": [
       "array([[-20434.15051341],\n",
       "       [-20434.08087109],\n",
       "       [-18435.43622663],\n",
       "       [-20434.20248714],\n",
       "       [-20091.61242607],\n",
       "       [-20434.18729803],\n",
       "       [-18859.19368119],\n",
       "       [-20434.1860586 ],\n",
       "       [-19423.84227658],\n",
       "       [-20434.2017621 ],\n",
       "       [-19124.60408899],\n",
       "       [-20434.15748554]])"
      ]
     },
     "execution_count": 918,
     "metadata": {},
     "output_type": "execute_result"
    }
   ],
   "source": [
    "beta * qi**2 - si - l"
   ]
  },
  {
   "cell_type": "code",
   "execution_count": 920,
   "metadata": {},
   "outputs": [
    {
     "data": {
      "text/plain": [
       "array([[5.24129081e-02],\n",
       "       [1.22055232e-01],\n",
       "       [1.99876670e+03],\n",
       "       [4.39183730e-04],\n",
       "       [3.42590500e+02],\n",
       "       [1.56282866e-02],\n",
       "       [1.57500925e+03],\n",
       "       [1.68677203e-02],\n",
       "       [1.01036065e+03],\n",
       "       [1.16421972e-03],\n",
       "       [1.30959884e+03],\n",
       "       [4.54407824e-02]])"
      ]
     },
     "execution_count": 920,
     "metadata": {},
     "output_type": "execute_result"
    }
   ],
   "source": [
    "beta *qi**2"
   ]
  },
  {
   "cell_type": "code",
   "execution_count": 923,
   "metadata": {},
   "outputs": [
    {
     "data": {
      "text/plain": [
       "10220.689739056264"
      ]
     },
     "execution_count": 923,
     "metadata": {},
     "output_type": "execute_result"
    }
   ],
   "source": [
    "2*n_samples/np.sum(gamma_old)"
   ]
  },
  {
   "cell_type": "code",
   "execution_count": 465,
   "metadata": {},
   "outputs": [
    {
     "data": {
      "text/plain": [
       "0.002404787728527145"
      ]
     },
     "execution_count": 465,
     "metadata": {},
     "output_type": "execute_result"
    }
   ],
   "source": [
    "root_scalar(lambda x: np.log(x/2) - digamma(x/2)  + 1 + np.log(l) - l, bracket=[1e-8, 1e3]).root"
   ]
  },
  {
   "cell_type": "code",
   "execution_count": 329,
   "metadata": {},
   "outputs": [
    {
     "name": "stderr",
     "output_type": "stream",
     "text": [
      "/opt/conda/lib/python3.6/site-packages/ipykernel_launcher.py:1: RuntimeWarning: invalid value encountered in log\n",
      "  \"\"\"Entry point for launching an IPython kernel.\n"
     ]
    },
    {
     "data": {
      "text/plain": [
       "      converged: True\n",
       "           flag: 'converged'\n",
       " function_calls: 12\n",
       "     iterations: 11\n",
       "           root: 0.0"
      ]
     },
     "execution_count": 329,
     "metadata": {},
     "output_type": "execute_result"
    }
   ],
   "source": [
    "root_scalar(lambda x: np.log((2*(n_samples -1) - x * np.sum(gamma))/(2*x-2)) - digamma((2*(n_samples -1) - x * np.sum(gamma))/(2*x-2))  + 1 + np.log(x) - x, bracket=[1e-8, 1e3])"
   ]
  },
  {
   "cell_type": "code",
   "execution_count": 321,
   "metadata": {},
   "outputs": [
    {
     "ename": "NameError",
     "evalue": "name 'x' is not defined",
     "output_type": "error",
     "traceback": [
      "\u001b[0;31m---------------------------------------------------------------------------\u001b[0m",
      "\u001b[0;31mNameError\u001b[0m                                 Traceback (most recent call last)",
      "\u001b[0;32m<ipython-input-321-dfede044e590>\u001b[0m in \u001b[0;36m<module>\u001b[0;34m\u001b[0m\n\u001b[0;32m----> 1\u001b[0;31m \u001b[0;36m2\u001b[0m\u001b[0;34m*\u001b[0m\u001b[0;34m(\u001b[0m\u001b[0mn_samples\u001b[0m \u001b[0;34m-\u001b[0m\u001b[0;36m1\u001b[0m\u001b[0;34m)\u001b[0m \u001b[0;34m-\u001b[0m \u001b[0mx\u001b[0m \u001b[0;34m*\u001b[0m \u001b[0mnp\u001b[0m\u001b[0;34m.\u001b[0m\u001b[0msum\u001b[0m\u001b[0;34m(\u001b[0m\u001b[0mgamma\u001b[0m\u001b[0;34m)\u001b[0m\u001b[0;34m\u001b[0m\u001b[0;34m\u001b[0m\u001b[0m\n\u001b[0m",
      "\u001b[0;31mNameError\u001b[0m: name 'x' is not defined"
     ]
    }
   ],
   "source": []
  },
  {
   "cell_type": "code",
   "execution_count": 467,
   "metadata": {},
   "outputs": [
    {
     "ename": "ValueError",
     "evalue": "f(a) and f(b) must have different signs",
     "output_type": "error",
     "traceback": [
      "\u001b[0;31m---------------------------------------------------------------------------\u001b[0m",
      "\u001b[0;31mValueError\u001b[0m                                Traceback (most recent call last)",
      "\u001b[0;32m<ipython-input-467-fe8f1e30cca0>\u001b[0m in \u001b[0;36m<module>\u001b[0;34m\u001b[0m\n\u001b[0;32m----> 1\u001b[0;31m \u001b[0mroot_scalar\u001b[0m\u001b[0;34m(\u001b[0m\u001b[0;32mlambda\u001b[0m \u001b[0mx\u001b[0m\u001b[0;34m:\u001b[0m \u001b[0mnp\u001b[0m\u001b[0;34m.\u001b[0m\u001b[0mlog\u001b[0m\u001b[0;34m(\u001b[0m\u001b[0mx\u001b[0m\u001b[0;34m)\u001b[0m \u001b[0;34m-\u001b[0m \u001b[0mdigamma\u001b[0m\u001b[0;34m(\u001b[0m\u001b[0mx\u001b[0m\u001b[0;34m)\u001b[0m\u001b[0;34m,\u001b[0m \u001b[0mbracket\u001b[0m\u001b[0;34m=\u001b[0m\u001b[0;34m[\u001b[0m\u001b[0;36m1e-10\u001b[0m\u001b[0;34m,\u001b[0m \u001b[0;36m1e3\u001b[0m\u001b[0;34m]\u001b[0m\u001b[0;34m)\u001b[0m\u001b[0;34m\u001b[0m\u001b[0;34m\u001b[0m\u001b[0m\n\u001b[0m",
      "\u001b[0;32m/opt/conda/lib/python3.6/site-packages/scipy/optimize/_root_scalar.py\u001b[0m in \u001b[0;36mroot_scalar\u001b[0;34m(f, args, method, bracket, fprime, fprime2, x0, x1, xtol, rtol, maxiter, options)\u001b[0m\n\u001b[1;32m    247\u001b[0m \u001b[0;34m\u001b[0m\u001b[0m\n\u001b[1;32m    248\u001b[0m         \u001b[0ma\u001b[0m\u001b[0;34m,\u001b[0m \u001b[0mb\u001b[0m \u001b[0;34m=\u001b[0m \u001b[0mbracket\u001b[0m\u001b[0;34m[\u001b[0m\u001b[0;34m:\u001b[0m\u001b[0;36m2\u001b[0m\u001b[0;34m]\u001b[0m\u001b[0;34m\u001b[0m\u001b[0;34m\u001b[0m\u001b[0m\n\u001b[0;32m--> 249\u001b[0;31m         \u001b[0mr\u001b[0m\u001b[0;34m,\u001b[0m \u001b[0msol\u001b[0m \u001b[0;34m=\u001b[0m \u001b[0mmethodc\u001b[0m\u001b[0;34m(\u001b[0m\u001b[0mf\u001b[0m\u001b[0;34m,\u001b[0m \u001b[0ma\u001b[0m\u001b[0;34m,\u001b[0m \u001b[0mb\u001b[0m\u001b[0;34m,\u001b[0m \u001b[0margs\u001b[0m\u001b[0;34m=\u001b[0m\u001b[0margs\u001b[0m\u001b[0;34m,\u001b[0m \u001b[0;34m**\u001b[0m\u001b[0mkwargs\u001b[0m\u001b[0;34m)\u001b[0m\u001b[0;34m\u001b[0m\u001b[0;34m\u001b[0m\u001b[0m\n\u001b[0m\u001b[1;32m    250\u001b[0m     \u001b[0;32melif\u001b[0m \u001b[0mmeth\u001b[0m \u001b[0;32min\u001b[0m \u001b[0;34m[\u001b[0m\u001b[0;34m'secant'\u001b[0m\u001b[0;34m]\u001b[0m\u001b[0;34m:\u001b[0m\u001b[0;34m\u001b[0m\u001b[0;34m\u001b[0m\u001b[0m\n\u001b[1;32m    251\u001b[0m         \u001b[0;32mif\u001b[0m \u001b[0mx0\u001b[0m \u001b[0;32mis\u001b[0m \u001b[0;32mNone\u001b[0m\u001b[0;34m:\u001b[0m\u001b[0;34m\u001b[0m\u001b[0;34m\u001b[0m\u001b[0m\n",
      "\u001b[0;32m/opt/conda/lib/python3.6/site-packages/scipy/optimize/zeros.py\u001b[0m in \u001b[0;36mbrentq\u001b[0;34m(f, a, b, args, xtol, rtol, maxiter, full_output, disp)\u001b[0m\n\u001b[1;32m    773\u001b[0m     \u001b[0;32mif\u001b[0m \u001b[0mrtol\u001b[0m \u001b[0;34m<\u001b[0m \u001b[0m_rtol\u001b[0m\u001b[0;34m:\u001b[0m\u001b[0;34m\u001b[0m\u001b[0;34m\u001b[0m\u001b[0m\n\u001b[1;32m    774\u001b[0m         \u001b[0;32mraise\u001b[0m \u001b[0mValueError\u001b[0m\u001b[0;34m(\u001b[0m\u001b[0;34m\"rtol too small (%g < %g)\"\u001b[0m \u001b[0;34m%\u001b[0m \u001b[0;34m(\u001b[0m\u001b[0mrtol\u001b[0m\u001b[0;34m,\u001b[0m \u001b[0m_rtol\u001b[0m\u001b[0;34m)\u001b[0m\u001b[0;34m)\u001b[0m\u001b[0;34m\u001b[0m\u001b[0;34m\u001b[0m\u001b[0m\n\u001b[0;32m--> 775\u001b[0;31m     \u001b[0mr\u001b[0m \u001b[0;34m=\u001b[0m \u001b[0m_zeros\u001b[0m\u001b[0;34m.\u001b[0m\u001b[0m_brentq\u001b[0m\u001b[0;34m(\u001b[0m\u001b[0mf\u001b[0m\u001b[0;34m,\u001b[0m \u001b[0ma\u001b[0m\u001b[0;34m,\u001b[0m \u001b[0mb\u001b[0m\u001b[0;34m,\u001b[0m \u001b[0mxtol\u001b[0m\u001b[0;34m,\u001b[0m \u001b[0mrtol\u001b[0m\u001b[0;34m,\u001b[0m \u001b[0mmaxiter\u001b[0m\u001b[0;34m,\u001b[0m \u001b[0margs\u001b[0m\u001b[0;34m,\u001b[0m \u001b[0mfull_output\u001b[0m\u001b[0;34m,\u001b[0m \u001b[0mdisp\u001b[0m\u001b[0;34m)\u001b[0m\u001b[0;34m\u001b[0m\u001b[0;34m\u001b[0m\u001b[0m\n\u001b[0m\u001b[1;32m    776\u001b[0m     \u001b[0;32mreturn\u001b[0m \u001b[0mresults_c\u001b[0m\u001b[0;34m(\u001b[0m\u001b[0mfull_output\u001b[0m\u001b[0;34m,\u001b[0m \u001b[0mr\u001b[0m\u001b[0;34m)\u001b[0m\u001b[0;34m\u001b[0m\u001b[0;34m\u001b[0m\u001b[0m\n\u001b[1;32m    777\u001b[0m \u001b[0;34m\u001b[0m\u001b[0m\n",
      "\u001b[0;31mValueError\u001b[0m: f(a) and f(b) must have different signs"
     ]
    }
   ],
   "source": [
    "root_scalar(lambda x: np.log(x) - digamma(x), bracket=[1e-10, 1e3])"
   ]
  },
  {
   "cell_type": "code",
   "execution_count": 949,
   "metadata": {},
   "outputs": [],
   "source": [
    "vec = theta_normed[:, 2:3] "
   ]
  },
  {
   "cell_type": "code",
   "execution_count": 950,
   "metadata": {},
   "outputs": [
    {
     "data": {
      "text/plain": [
       "array([[1.]])"
      ]
     },
     "execution_count": 950,
     "metadata": {},
     "output_type": "execute_result"
    }
   ],
   "source": [
    "vec.T @ vec"
   ]
  },
  {
   "cell_type": "code",
   "execution_count": 951,
   "metadata": {},
   "outputs": [
    {
     "data": {
      "text/plain": [
       "array([[5.74629204e-170, 8.86335466e-136, 2.96242319e-121, ...,\n",
       "        1.17596081e-091, 1.78109289e-091, 2.60040387e-091],\n",
       "       [8.86335466e-136, 1.36712606e-101, 4.56938269e-087, ...,\n",
       "        1.81385799e-057, 2.74724254e-057, 4.01098684e-057],\n",
       "       [2.96242319e-121, 4.56938269e-087, 1.52723723e-072, ...,\n",
       "        6.06250700e-043, 9.18218365e-043, 1.34060307e-042],\n",
       "       ...,\n",
       "       [1.17596081e-091, 1.81385799e-057, 6.06250700e-043, ...,\n",
       "        2.40656725e-013, 3.64495125e-013, 5.32164571e-013],\n",
       "       [1.78109289e-091, 2.74724254e-057, 9.18218365e-043, ...,\n",
       "        3.64495125e-013, 5.52058938e-013, 8.06008607e-013],\n",
       "       [2.60040387e-091, 4.01098684e-057, 1.34060307e-042, ...,\n",
       "        5.32164571e-013, 8.06008607e-013, 1.17677630e-012]])"
      ]
     },
     "execution_count": 951,
     "metadata": {},
     "output_type": "execute_result"
    }
   ],
   "source": [
    "vec @ vec.T"
   ]
  },
  {
   "cell_type": "code",
   "execution_count": 952,
   "metadata": {},
   "outputs": [
    {
     "ename": "LinAlgError",
     "evalue": "Singular matrix",
     "output_type": "error",
     "traceback": [
      "\u001b[0;31m---------------------------------------------------------------------------\u001b[0m",
      "\u001b[0;31mLinAlgError\u001b[0m                               Traceback (most recent call last)",
      "\u001b[0;32m<ipython-input-952-e3969702cd56>\u001b[0m in \u001b[0;36m<module>\u001b[0;34m\u001b[0m\n\u001b[0;32m----> 1\u001b[0;31m \u001b[0mnp\u001b[0m\u001b[0;34m.\u001b[0m\u001b[0mlinalg\u001b[0m\u001b[0;34m.\u001b[0m\u001b[0minv\u001b[0m\u001b[0;34m(\u001b[0m\u001b[0mvec\u001b[0m \u001b[0;34m@\u001b[0m \u001b[0mvec\u001b[0m\u001b[0;34m.\u001b[0m\u001b[0mT\u001b[0m\u001b[0;34m)\u001b[0m\u001b[0;34m\u001b[0m\u001b[0;34m\u001b[0m\u001b[0m\n\u001b[0m",
      "\u001b[0;32m<__array_function__ internals>\u001b[0m in \u001b[0;36minv\u001b[0;34m(*args, **kwargs)\u001b[0m\n",
      "\u001b[0;32m/opt/conda/lib/python3.6/site-packages/numpy/linalg/linalg.py\u001b[0m in \u001b[0;36minv\u001b[0;34m(a)\u001b[0m\n\u001b[1;32m    549\u001b[0m     \u001b[0msignature\u001b[0m \u001b[0;34m=\u001b[0m \u001b[0;34m'D->D'\u001b[0m \u001b[0;32mif\u001b[0m \u001b[0misComplexType\u001b[0m\u001b[0;34m(\u001b[0m\u001b[0mt\u001b[0m\u001b[0;34m)\u001b[0m \u001b[0;32melse\u001b[0m \u001b[0;34m'd->d'\u001b[0m\u001b[0;34m\u001b[0m\u001b[0;34m\u001b[0m\u001b[0m\n\u001b[1;32m    550\u001b[0m     \u001b[0mextobj\u001b[0m \u001b[0;34m=\u001b[0m \u001b[0mget_linalg_error_extobj\u001b[0m\u001b[0;34m(\u001b[0m\u001b[0m_raise_linalgerror_singular\u001b[0m\u001b[0;34m)\u001b[0m\u001b[0;34m\u001b[0m\u001b[0;34m\u001b[0m\u001b[0m\n\u001b[0;32m--> 551\u001b[0;31m     \u001b[0mainv\u001b[0m \u001b[0;34m=\u001b[0m \u001b[0m_umath_linalg\u001b[0m\u001b[0;34m.\u001b[0m\u001b[0minv\u001b[0m\u001b[0;34m(\u001b[0m\u001b[0ma\u001b[0m\u001b[0;34m,\u001b[0m \u001b[0msignature\u001b[0m\u001b[0;34m=\u001b[0m\u001b[0msignature\u001b[0m\u001b[0;34m,\u001b[0m \u001b[0mextobj\u001b[0m\u001b[0;34m=\u001b[0m\u001b[0mextobj\u001b[0m\u001b[0;34m)\u001b[0m\u001b[0;34m\u001b[0m\u001b[0;34m\u001b[0m\u001b[0m\n\u001b[0m\u001b[1;32m    552\u001b[0m     \u001b[0;32mreturn\u001b[0m \u001b[0mwrap\u001b[0m\u001b[0;34m(\u001b[0m\u001b[0mainv\u001b[0m\u001b[0;34m.\u001b[0m\u001b[0mastype\u001b[0m\u001b[0;34m(\u001b[0m\u001b[0mresult_t\u001b[0m\u001b[0;34m,\u001b[0m \u001b[0mcopy\u001b[0m\u001b[0;34m=\u001b[0m\u001b[0;32mFalse\u001b[0m\u001b[0;34m)\u001b[0m\u001b[0;34m)\u001b[0m\u001b[0;34m\u001b[0m\u001b[0;34m\u001b[0m\u001b[0m\n\u001b[1;32m    553\u001b[0m \u001b[0;34m\u001b[0m\u001b[0m\n",
      "\u001b[0;32m/opt/conda/lib/python3.6/site-packages/numpy/linalg/linalg.py\u001b[0m in \u001b[0;36m_raise_linalgerror_singular\u001b[0;34m(err, flag)\u001b[0m\n\u001b[1;32m     95\u001b[0m \u001b[0;34m\u001b[0m\u001b[0m\n\u001b[1;32m     96\u001b[0m \u001b[0;32mdef\u001b[0m \u001b[0m_raise_linalgerror_singular\u001b[0m\u001b[0;34m(\u001b[0m\u001b[0merr\u001b[0m\u001b[0;34m,\u001b[0m \u001b[0mflag\u001b[0m\u001b[0;34m)\u001b[0m\u001b[0;34m:\u001b[0m\u001b[0;34m\u001b[0m\u001b[0;34m\u001b[0m\u001b[0m\n\u001b[0;32m---> 97\u001b[0;31m     \u001b[0;32mraise\u001b[0m \u001b[0mLinAlgError\u001b[0m\u001b[0;34m(\u001b[0m\u001b[0;34m\"Singular matrix\"\u001b[0m\u001b[0;34m)\u001b[0m\u001b[0;34m\u001b[0m\u001b[0;34m\u001b[0m\u001b[0m\n\u001b[0m\u001b[1;32m     98\u001b[0m \u001b[0;34m\u001b[0m\u001b[0m\n\u001b[1;32m     99\u001b[0m \u001b[0;32mdef\u001b[0m \u001b[0m_raise_linalgerror_nonposdef\u001b[0m\u001b[0;34m(\u001b[0m\u001b[0merr\u001b[0m\u001b[0;34m,\u001b[0m \u001b[0mflag\u001b[0m\u001b[0;34m)\u001b[0m\u001b[0;34m:\u001b[0m\u001b[0;34m\u001b[0m\u001b[0;34m\u001b[0m\u001b[0m\n",
      "\u001b[0;31mLinAlgError\u001b[0m: Singular matrix"
     ]
    }
   ],
   "source": [
    "np.linalg.inv(vec @ vec.T)"
   ]
  },
  {
   "cell_type": "code",
   "execution_count": 962,
   "metadata": {},
   "outputs": [
    {
     "data": {
      "text/plain": [
       "array([[-0.00205166],\n",
       "       [ 0.00285809],\n",
       "       [ 0.89297874],\n",
       "       [-0.00780272],\n",
       "       [-0.00682325],\n",
       "       [ 0.0093734 ],\n",
       "       [-0.00101417],\n",
       "       [-0.01494169],\n",
       "       [-0.00568084],\n",
       "       [ 0.01432373],\n",
       "       [-0.00136691],\n",
       "       [-0.0168437 ]])"
      ]
     },
     "execution_count": 962,
     "metadata": {},
     "output_type": "execute_result"
    }
   ],
   "source": [
    "qi"
   ]
  },
  {
   "cell_type": "code",
   "execution_count": 963,
   "metadata": {},
   "outputs": [
    {
     "data": {
      "text/plain": [
       "array([[1.        ],\n",
       "       [1.        ],\n",
       "       [0.99999979],\n",
       "       [1.        ],\n",
       "       [0.831427  ],\n",
       "       [1.        ],\n",
       "       [0.22601206],\n",
       "       [1.        ],\n",
       "       [0.50705051],\n",
       "       [1.        ],\n",
       "       [0.36033717],\n",
       "       [1.        ]])"
      ]
     },
     "execution_count": 963,
     "metadata": {},
     "output_type": "execute_result"
    }
   ],
   "source": [
    "si"
   ]
  },
  {
   "cell_type": "code",
   "execution_count": 964,
   "metadata": {},
   "outputs": [
    {
     "data": {
      "text/plain": [
       "25000.10525077745"
      ]
     },
     "execution_count": 964,
     "metadata": {},
     "output_type": "execute_result"
    }
   ],
   "source": []
  },
  {
   "cell_type": "code",
   "execution_count": 974,
   "metadata": {},
   "outputs": [
    {
     "data": {
      "text/plain": [
       "array([[0.89297893]])"
      ]
     },
     "execution_count": 974,
     "metadata": {},
     "output_type": "execute_result"
    }
   ],
   "source": [
    "theta_normed[:, 2:3].T @ y_normed"
   ]
  },
  {
   "cell_type": "code",
   "execution_count": 987,
   "metadata": {},
   "outputs": [
    {
     "data": {
      "text/plain": [
       "array([[-8.94766970e-01],\n",
       "       [-7.95782762e-01],\n",
       "       [ 1.99343598e+04],\n",
       "       [ 5.22065743e-01],\n",
       "       [ 3.32497168e-01],\n",
       "       [ 1.19652652e+00],\n",
       "       [-2.00298425e-01],\n",
       "       [ 4.58137756e+00],\n",
       "       [ 2.99751120e-01],\n",
       "       [ 4.12925113e+00],\n",
       "       [-3.13625906e-01],\n",
       "       [ 6.09278429e+00]])"
      ]
     },
     "execution_count": 987,
     "metadata": {},
     "output_type": "execute_result"
    }
   ],
   "source": [
    "beta * qi**2 - si"
   ]
  },
  {
   "cell_type": "code",
   "execution_count": 1183,
   "metadata": {},
   "outputs": [],
   "source": [
    "from DeePyMoD_SBL.SBL.robust_SBL import initialize, posterior, sparse_quality_factor, update_filter, update_noise, convergence, update_design_matrix"
   ]
  },
  {
   "cell_type": "code",
   "execution_count": 1184,
   "metadata": {},
   "outputs": [],
   "source": [
    "x_points = 100\n",
    "t_points = 25\n",
    "x_grid, t_grid = np.meshgrid(np.linspace(-10, 10, x_points), np.linspace(0, 1, t_points), indexing='ij')\n",
    "time_deriv, theta = library(x_grid.reshape(-1, 1), t_grid.reshape(-1, 1))"
   ]
  },
  {
   "cell_type": "code",
   "execution_count": 1242,
   "metadata": {},
   "outputs": [],
   "source": [
    "level = 2.0\n",
    "y = time_deriv + level*np.std(time_deriv)* np.random.normal(size=time_deriv.shape)"
   ]
  },
  {
   "cell_type": "code",
   "execution_count": 1243,
   "metadata": {},
   "outputs": [
    {
     "data": {
      "text/plain": [
       "0.5881291532252986"
      ]
     },
     "execution_count": 1243,
     "metadata": {},
     "output_type": "execute_result"
    }
   ],
   "source": [
    "level*np.std(time_deriv)"
   ]
  },
  {
   "cell_type": "code",
   "execution_count": 1244,
   "metadata": {},
   "outputs": [],
   "source": [
    "l = 0.0\n",
    "n_samples = theta.shape[0]"
   ]
  },
  {
   "cell_type": "code",
   "execution_count": 1274,
   "metadata": {},
   "outputs": [],
   "source": [
    "beta, gamma, Phi, theta_normed, y_normed = initialize(theta, y)\n",
    "mu, Sigma = posterior(Phi, gamma, y_normed)\n",
    "si, qi = sparse_quality_factor(theta_normed, Phi, Sigma, gamma, y_normed)\n",
    "beta = update_noise(n_samples, y_normed, Phi, mu)\n",
    "l = update_filter(gamma, n_samples, beta, qi, si)"
   ]
  },
  {
   "cell_type": "code",
   "execution_count": 1275,
   "metadata": {},
   "outputs": [
    {
     "data": {
      "text/plain": [
       "array([[3145.62848293]])"
      ]
     },
     "execution_count": 1275,
     "metadata": {},
     "output_type": "execute_result"
    }
   ],
   "source": [
    "beta"
   ]
  },
  {
   "cell_type": "code",
   "execution_count": 1276,
   "metadata": {},
   "outputs": [
    {
     "data": {
      "text/plain": [
       "0.9725001257798382"
      ]
     },
     "execution_count": 1276,
     "metadata": {},
     "output_type": "execute_result"
    }
   ],
   "source": [
    "l"
   ]
  },
  {
   "cell_type": "code",
   "execution_count": 1248,
   "metadata": {},
   "outputs": [
    {
     "data": {
      "text/plain": [
       "array([   0.        ,    0.        , 5131.57916483,    0.        ,\n",
       "          0.        ,    0.        ,    0.        ,    0.        ,\n",
       "          0.        ,    0.        ,    0.        ,    0.        ])"
      ]
     },
     "execution_count": 1248,
     "metadata": {},
     "output_type": "execute_result"
    }
   ],
   "source": [
    "gamma"
   ]
  },
  {
   "cell_type": "code",
   "execution_count": 1272,
   "metadata": {},
   "outputs": [],
   "source": [
    "Phi, gamma = update_design_matrix(Phi, theta_normed, gamma, si, qi, beta, l)\n",
    "mu, Sigma = posterior(Phi, gamma, y_normed)\n",
    "si, qi = sparse_quality_factor(theta_normed, Phi, Sigma, gamma, y_normed)\n",
    "beta = update_noise(n_samples, y_normed, Phi, mu)\n",
    "l = update_filter(gamma, n_samples, beta, qi, si)"
   ]
  },
  {
   "cell_type": "code",
   "execution_count": 1273,
   "metadata": {},
   "outputs": [
    {
     "data": {
      "text/plain": [
       "array([0.00000000e+00, 0.00000000e+00, 2.01807107e-08, 0.00000000e+00,\n",
       "       0.00000000e+00, 0.00000000e+00, 0.00000000e+00, 0.00000000e+00,\n",
       "       0.00000000e+00, 0.00000000e+00, 0.00000000e+00, 0.00000000e+00])"
      ]
     },
     "execution_count": 1273,
     "metadata": {},
     "output_type": "execute_result"
    }
   ],
   "source": [
    "gamma"
   ]
  },
  {
   "cell_type": "code",
   "execution_count": 1271,
   "metadata": {},
   "outputs": [
    {
     "data": {
      "text/plain": [
       "4.8788041363022865"
      ]
     },
     "execution_count": 1271,
     "metadata": {},
     "output_type": "execute_result"
    }
   ],
   "source": [
    "delta = (n_samples-1) / np.max(beta * qi**2 - si)\n",
    "delta"
   ]
  },
  {
   "cell_type": "code",
   "execution_count": 1252,
   "metadata": {},
   "outputs": [
    {
     "data": {
      "text/plain": [
       "155.74817421857537"
      ]
     },
     "execution_count": 1252,
     "metadata": {},
     "output_type": "execute_result"
    }
   ],
   "source": [
    "2* (n_samples-1)/(np.sum(gamma)+ 2 * delta)"
   ]
  },
  {
   "cell_type": "code",
   "execution_count": 1253,
   "metadata": {},
   "outputs": [
    {
     "data": {
      "text/plain": [
       "155.74817421857537"
      ]
     },
     "execution_count": 1253,
     "metadata": {},
     "output_type": "execute_result"
    }
   ],
   "source": [
    "l"
   ]
  },
  {
   "cell_type": "code",
   "execution_count": 1289,
   "metadata": {},
   "outputs": [],
   "source": [
    "converged = False\n",
    "nu = 1.0\n",
    "while converged is False:\n",
    "    Phi, gamma = update_design_matrix(Phi, theta_normed, gamma, si, qi, beta, l)\n",
    "    mu, Sigma = posterior(Phi, gamma, y_normed)\n",
    "    si, qi = sparse_quality_factor(theta_normed, Phi, Sigma, gamma, y_normed)\n",
    "    beta = update_noise(n_samples, y_normed, Phi, mu)\n",
    "    l = update_filter(gamma, nu, n_samples, beta, qi, si)\n",
    "    converged = convergence(si, qi, l, beta, gamma)\n",
    "    "
   ]
  },
  {
   "cell_type": "code",
   "execution_count": 1293,
   "metadata": {},
   "outputs": [
    {
     "data": {
      "text/plain": [
       "array([[6.76007636e-09]])"
      ]
     },
     "execution_count": 1293,
     "metadata": {},
     "output_type": "execute_result"
    }
   ],
   "source": [
    "beta * Sigma"
   ]
  },
  {
   "cell_type": "code",
   "execution_count": 1288,
   "metadata": {},
   "outputs": [],
   "source": [
    "delta = (n_samples-1)/np.max(beta*qi**2 - si)"
   ]
  },
  {
   "cell_type": "code",
   "execution_count": 1280,
   "metadata": {},
   "outputs": [
    {
     "data": {
      "text/plain": [
       "4.8788041363022865"
      ]
     },
     "execution_count": 1280,
     "metadata": {},
     "output_type": "execute_result"
    }
   ],
   "source": [
    "delta"
   ]
  },
  {
   "cell_type": "code",
   "execution_count": 1297,
   "metadata": {},
   "outputs": [
    {
     "data": {
      "text/plain": [
       "32.84916265402285"
      ]
     },
     "execution_count": 1297,
     "metadata": {},
     "output_type": "execute_result"
    }
   ],
   "source": [
    "np.linalg.norm(y)"
   ]
  },
  {
   "cell_type": "code",
   "execution_count": 1298,
   "metadata": {},
   "outputs": [
    {
     "data": {
      "text/plain": [
       "array([50.        ,  3.9956639 ,  7.35161442, 20.62151779,  5.28920353,\n",
       "        1.42388416,  4.188986  , 11.14552297,  1.89564284,  0.74350554,\n",
       "        2.98434239,  6.92921691])"
      ]
     },
     "execution_count": 1298,
     "metadata": {},
     "output_type": "execute_result"
    }
   ],
   "source": [
    "np.linalg.norm(theta, axis=0)"
   ]
  },
  {
   "cell_type": "code",
   "execution_count": 1209,
   "metadata": {},
   "outputs": [],
   "source": [
    "l = 2 * (n_samples - 1) / (np.sum(gamma) + 2 * delta)"
   ]
  },
  {
   "cell_type": "code",
   "execution_count": 1210,
   "metadata": {},
   "outputs": [
    {
     "data": {
      "text/plain": [
       "array([[0.65209576]])"
      ]
     },
     "execution_count": 1210,
     "metadata": {},
     "output_type": "execute_result"
    }
   ],
   "source": [
    "mu"
   ]
  },
  {
   "cell_type": "code",
   "execution_count": 1212,
   "metadata": {},
   "outputs": [
    {
     "data": {
      "text/plain": [
       "array([[-3.18377648e-01],\n",
       "       [-3.58725624e-01],\n",
       "       [ 5.38310716e+02],\n",
       "       [ 2.37534964e+00],\n",
       "       [ 6.47291271e+02],\n",
       "       [ 8.86690105e-01],\n",
       "       [ 5.32508100e+02],\n",
       "       [ 6.14569559e-01],\n",
       "       [ 7.03140728e+02],\n",
       "       [ 2.39094715e-01],\n",
       "       [ 4.41049606e+02],\n",
       "       [-3.01170433e-01]])"
      ]
     },
     "execution_count": 1212,
     "metadata": {},
     "output_type": "execute_result"
    }
   ],
   "source": [
    "beta * qi**2 - si"
   ]
  },
  {
   "cell_type": "code",
   "execution_count": 1217,
   "metadata": {},
   "outputs": [],
   "source": [
    "from copy import copy\n",
    "from DeePyMoD_SBL.SBL.robust_SBL import dL"
   ]
  },
  {
   "cell_type": "code",
   "execution_count": 1218,
   "metadata": {},
   "outputs": [],
   "source": [
    "    gamma_current = copy(gamma)\n",
    "    gamma_new = ((-2 * l - si + np.sqrt(4*beta*l*qi**2+si**2)) / (2*l*si)).squeeze()\n",
    "\n",
    "    in_basis_idx = (gamma_current != 0.0)\n",
    "    out_basis_idx = (gamma_current == 0.0)\n",
    "    allowed = beta * qi**2 - si >= l\n",
    "    \n",
    "    dL_adding = dL(gamma_new, si, qi, beta, l)\n",
    "    dL_adding[in_basis_idx] = 0.0\n",
    "    dL_adding[~allowed] = 0.0\n",
    "    \n",
    "    dL_removing = -dL(gamma_current, si, qi, beta, l)\n",
    "    dL_removing[out_basis_idx] = 0.0\n",
    "    dL_removing[allowed] = 0.0\n",
    "    \n",
    "    dL_updating = dL(gamma_new, si, qi, beta, l) -dL(gamma_current, si, qi, beta, l)\n",
    "    dL_updating[out_basis_idx] = 0.0\n",
    "    dL_updating[~allowed] = 0.0\n",
    "    \n",
    "    dL_complete = np.concatenate((dL_adding, dL_updating, dL_removing), axis=1)\n",
    "    idx, action = np.unravel_index(np.argmax(dL_complete), dL_complete.shape)"
   ]
  },
  {
   "cell_type": "code",
   "execution_count": 1219,
   "metadata": {},
   "outputs": [
    {
     "data": {
      "text/plain": [
       "array([[   0.        ,    0.        , -771.63412366],\n",
       "       [   0.        ,    0.        ,    0.        ],\n",
       "       [   0.        ,    0.        ,    0.        ],\n",
       "       [   0.        ,    0.        ,    0.        ],\n",
       "       [   0.        ,    0.        ,    0.        ],\n",
       "       [   0.        ,    0.        ,    0.        ],\n",
       "       [   0.        ,    0.        ,    0.        ],\n",
       "       [   0.        ,    0.        ,    0.        ],\n",
       "       [   0.        ,    0.        ,    0.        ],\n",
       "       [   0.        ,    0.        ,    0.        ],\n",
       "       [   0.        ,    0.        ,    0.        ],\n",
       "       [   0.        ,    0.        ,    0.        ]])"
      ]
     },
     "execution_count": 1219,
     "metadata": {},
     "output_type": "execute_result"
    }
   ],
   "source": [
    "dL_complete"
   ]
  },
  {
   "cell_type": "code",
   "execution_count": 1220,
   "metadata": {},
   "outputs": [
    {
     "data": {
      "text/plain": [
       "array([[-3.18377648e-01],\n",
       "       [-3.58725624e-01],\n",
       "       [ 5.38310716e+02],\n",
       "       [ 2.37534964e+00],\n",
       "       [ 6.47291271e+02],\n",
       "       [ 8.86690105e-01],\n",
       "       [ 5.32508100e+02],\n",
       "       [ 6.14569559e-01],\n",
       "       [ 7.03140728e+02],\n",
       "       [ 2.39094715e-01],\n",
       "       [ 4.41049606e+02],\n",
       "       [-3.01170433e-01]])"
      ]
     },
     "execution_count": 1220,
     "metadata": {},
     "output_type": "execute_result"
    }
   ],
   "source": [
    "beta * qi**2 - si"
   ]
  },
  {
   "cell_type": "code",
   "execution_count": 1221,
   "metadata": {},
   "outputs": [
    {
     "data": {
      "text/plain": [
       "814.9443784067988"
      ]
     },
     "execution_count": 1221,
     "metadata": {},
     "output_type": "execute_result"
    }
   ],
   "source": [
    "l"
   ]
  },
  {
   "cell_type": "markdown",
   "metadata": {},
   "source": [
    "# Final testing before rewriting"
   ]
  },
  {
   "cell_type": "code",
   "execution_count": null,
   "metadata": {},
   "outputs": [],
   "source": []
  },
  {
   "cell_type": "code",
   "execution_count": 2,
   "metadata": {},
   "outputs": [],
   "source": [
    "from DeePyMoD_SBL.SBL.robust_SBL import robust_SBL"
   ]
  },
  {
   "cell_type": "code",
   "execution_count": 6,
   "metadata": {},
   "outputs": [],
   "source": [
    "x_points = 100\n",
    "t_points = 25\n",
    "x_grid, t_grid = np.meshgrid(np.linspace(-10, 10, x_points), np.linspace(0, 1, t_points), indexing='ij')\n",
    "time_deriv, theta = library(x_grid.reshape(-1, 1), t_grid.reshape(-1, 1))"
   ]
  },
  {
   "cell_type": "code",
   "execution_count": 7,
   "metadata": {},
   "outputs": [],
   "source": [
    "level = 2.0\n",
    "y = time_deriv + level*np.std(time_deriv)* np.random.normal(size=time_deriv.shape)"
   ]
  },
  {
   "cell_type": "code",
   "execution_count": 8,
   "metadata": {},
   "outputs": [
    {
     "name": "stderr",
     "output_type": "stream",
     "text": [
      "/home/working/src/DeePyMoD_SBL/SBL/robust_SBL.py:45: RuntimeWarning: invalid value encountered in true_divide\n",
      "  gamma_new = ((-2 * l - si + np.sqrt(4*beta*l*qi**2+si**2)) / (2*l*si)).squeeze()\n",
      "/home/working/src/DeePyMoD_SBL/SBL/robust_SBL.py:101: RuntimeWarning: invalid value encountered in less_equal\n",
      "  if np.all((beta * qi**2 - si)[gamma == 0.0] <=l): # if all elements not in model shouldnt be in model\n",
      "/home/working/src/DeePyMoD_SBL/SBL/robust_SBL.py:49: RuntimeWarning: invalid value encountered in greater_equal\n",
      "  allowed = beta * qi**2 - si >= l\n"
     ]
    },
    {
     "data": {
      "text/plain": [
       "array([0.00000000e+00, 0.00000000e+00, 2.28593963e-07, 0.00000000e+00,\n",
       "       0.00000000e+00, 0.00000000e+00, 0.00000000e+00, 0.00000000e+00,\n",
       "       0.00000000e+00, 0.00000000e+00, 0.00000000e+00, 0.00000000e+00])"
      ]
     },
     "execution_count": 8,
     "metadata": {},
     "output_type": "execute_result"
    }
   ],
   "source": [
    "robust_SBL(theta, y)"
   ]
  },
  {
   "cell_type": "markdown",
   "metadata": {},
   "source": [
    "# testing SBL on burgers"
   ]
  },
  {
   "cell_type": "code",
   "execution_count": 42,
   "metadata": {},
   "outputs": [],
   "source": [
    "from DeePyMoD_SBL.SBL import SBL\n",
    "from DeePyMoD_SBL.data import Burgers"
   ]
  },
  {
   "cell_type": "code",
   "execution_count": 43,
   "metadata": {},
   "outputs": [],
   "source": [
    "x_points = 100\n",
    "t_points = 25\n",
    "x_grid, t_grid = np.meshgrid(np.linspace(-10, 10, x_points), np.linspace(1e-4, 1, t_points), indexing='ij')"
   ]
  },
  {
   "cell_type": "code",
   "execution_count": 44,
   "metadata": {},
   "outputs": [],
   "source": [
    "burgers = Burgers(0.1, 1)\n",
    "theta = burgers.library(x_grid.reshape(-1, 1), t_grid.reshape(-1, 1))\n",
    "time_deriv = burgers.time_deriv(x_grid.reshape(-1, 1), t_grid.reshape(-1, 1))"
   ]
  },
  {
   "cell_type": "code",
   "execution_count": 56,
   "metadata": {},
   "outputs": [
    {
     "data": {
      "text/plain": [
       "(array([[        inf],\n",
       "        [        inf],\n",
       "        [93.40636533],\n",
       "        [        inf],\n",
       "        [        inf],\n",
       "        [ 1.00349894],\n",
       "        [        inf],\n",
       "        [        inf],\n",
       "        [        inf],\n",
       "        [        inf],\n",
       "        [        inf],\n",
       "        [        inf]]), array([[ 0.10164746],\n",
       "        [-0.99818633]]), array([[8.36414409e-07, 2.50056541e-07],\n",
       "        [2.50056541e-07, 1.37305888e-04]]), array([[0.38583313]]))"
      ]
     },
     "execution_count": 56,
     "metadata": {},
     "output_type": "execute_result"
    }
   ],
   "source": [
    "level = 0.5\n",
    "y = time_deriv + level*np.std(time_deriv)* np.random.normal(size=time_deriv.shape)\n",
    "SBL(theta, y)"
   ]
  },
  {
   "cell_type": "markdown",
   "metadata": {},
   "source": [
    "# Testing robust SBL"
   ]
  },
  {
   "cell_type": "code",
   "execution_count": 57,
   "metadata": {},
   "outputs": [],
   "source": [
    "from DeePyMoD_SBL.SBL import robust_SBL\n",
    "from DeePyMoD_SBL.data import Burgers"
   ]
  },
  {
   "cell_type": "code",
   "execution_count": 58,
   "metadata": {},
   "outputs": [],
   "source": [
    "x_points = 100\n",
    "t_points = 25\n",
    "x_grid, t_grid = np.meshgrid(np.linspace(-10, 10, x_points), np.linspace(1e-4, 1, t_points), indexing='ij')"
   ]
  },
  {
   "cell_type": "code",
   "execution_count": 59,
   "metadata": {},
   "outputs": [],
   "source": [
    "burgers = Burgers(0.1, 1)\n",
    "theta = burgers.library(x_grid.reshape(-1, 1), t_grid.reshape(-1, 1))\n",
    "time_deriv = burgers.time_deriv(x_grid.reshape(-1, 1), t_grid.reshape(-1, 1))"
   ]
  },
  {
   "cell_type": "code",
   "execution_count": 60,
   "metadata": {},
   "outputs": [],
   "source": [
    "level = 0.5\n",
    "y = time_deriv + level*np.std(time_deriv)* np.random.normal(size=time_deriv.shape)"
   ]
  },
  {
   "cell_type": "code",
   "execution_count": 61,
   "metadata": {},
   "outputs": [
    {
     "name": "stderr",
     "output_type": "stream",
     "text": [
      "/home/working/src/DeePyMoD_SBL/SBL/robust_SBL.py:45: RuntimeWarning: invalid value encountered in true_divide\n",
      "  gamma_new = ((-2 * l - si + np.sqrt(4*beta*l*qi**2+si**2)) / (2*l*si)).squeeze()\n",
      "/home/working/src/DeePyMoD_SBL/SBL/robust_SBL.py:101: RuntimeWarning: invalid value encountered in less_equal\n",
      "  if np.all((beta * qi**2 - si)[gamma == 0.0] <=l): # if all elements not in model shouldnt be in model\n",
      "/home/working/src/DeePyMoD_SBL/SBL/robust_SBL.py:49: RuntimeWarning: invalid value encountered in greater_equal\n",
      "  allowed = beta * qi**2 - si >= l\n"
     ]
    },
    {
     "data": {
      "text/plain": [
       "array([0.00000000e+00, 0.00000000e+00, 6.16415096e-07, 0.00000000e+00,\n",
       "       0.00000000e+00, 0.00000000e+00, 0.00000000e+00, 0.00000000e+00,\n",
       "       0.00000000e+00, 0.00000000e+00, 0.00000000e+00, 0.00000000e+00])"
      ]
     },
     "execution_count": 61,
     "metadata": {},
     "output_type": "execute_result"
    }
   ],
   "source": [
    "robust_SBL(theta, y)"
   ]
  },
  {
   "cell_type": "code",
   "execution_count": 89,
   "metadata": {},
   "outputs": [],
   "source": [
    "from DeePyMoD_SBL.SBL.robust_SBL import initialize, posterior, sparse_quality_factor, update_filter, update_noise, convergence, update_design_matrix, dL"
   ]
  },
  {
   "cell_type": "code",
   "execution_count": 94,
   "metadata": {},
   "outputs": [],
   "source": [
    "beta, gamma, Phi, theta_normed, y_normed = initialize(theta, y)\n",
    "nu = 1.0\n",
    "l = 0.0\n",
    "n_samples = theta_normed.shape[0]\n"
   ]
  },
  {
   "cell_type": "code",
   "execution_count": 95,
   "metadata": {},
   "outputs": [],
   "source": [
    "mu, Sigma = posterior(Phi, gamma, y_normed)\n",
    "si, qi = sparse_quality_factor(theta_normed, Phi, Sigma, gamma, y_normed)\n",
    "#beta = update_noise(n_samples, y_normed, Phi, mu)\n",
    "l = update_filter(gamma, nu, n_samples, beta, qi, si)"
   ]
  },
  {
   "cell_type": "code",
   "execution_count": 96,
   "metadata": {},
   "outputs": [
    {
     "data": {
      "text/plain": [
       "array([[2.66815712e+00],\n",
       "       [4.44257170e+03],\n",
       "       [1.27700253e+04],\n",
       "       [1.22905275e+02],\n",
       "       [1.46940384e+02],\n",
       "       [7.18905977e+03],\n",
       "       [3.77346263e+02],\n",
       "       [2.53786339e+03],\n",
       "       [6.69265239e+02],\n",
       "       [6.54442824e+03],\n",
       "       [6.03835257e+02],\n",
       "       [4.12779209e+03]])"
      ]
     },
     "execution_count": 96,
     "metadata": {},
     "output_type": "execute_result"
    }
   ],
   "source": [
    "beta*qi**2 - si"
   ]
  },
  {
   "cell_type": "code",
   "execution_count": 103,
   "metadata": {},
   "outputs": [
    {
     "name": "stderr",
     "output_type": "stream",
     "text": [
      "/home/working/src/DeePyMoD_SBL/SBL/robust_SBL.py:47: RuntimeWarning: invalid value encountered in sqrt\n",
      "  in_basis_idx = (gamma_current != 0.0)\n",
      "/home/working/src/DeePyMoD_SBL/SBL/robust_SBL.py:51: RuntimeWarning: invalid value encountered in greater_equal\n",
      "  dL_adding = dL(gamma_new, si, qi, beta, l)\n"
     ]
    },
    {
     "ename": "KeyboardInterrupt",
     "evalue": "",
     "output_type": "error",
     "traceback": [
      "\u001b[0;31m---------------------------------------------------------------------------\u001b[0m",
      "\u001b[0;31mKeyboardInterrupt\u001b[0m                         Traceback (most recent call last)",
      "\u001b[0;32m<ipython-input-103-a36fb71ae91b>\u001b[0m in \u001b[0;36m<module>\u001b[0;34m\u001b[0m\n\u001b[1;32m      3\u001b[0m         \u001b[0mPhi\u001b[0m\u001b[0;34m,\u001b[0m \u001b[0mgamma\u001b[0m \u001b[0;34m=\u001b[0m \u001b[0mupdate_design_matrix\u001b[0m\u001b[0;34m(\u001b[0m\u001b[0mPhi\u001b[0m\u001b[0;34m,\u001b[0m \u001b[0mtheta_normed\u001b[0m\u001b[0;34m,\u001b[0m \u001b[0mgamma\u001b[0m\u001b[0;34m,\u001b[0m \u001b[0msi\u001b[0m\u001b[0;34m,\u001b[0m \u001b[0mqi\u001b[0m\u001b[0;34m,\u001b[0m \u001b[0mbeta\u001b[0m\u001b[0;34m,\u001b[0m \u001b[0ml\u001b[0m\u001b[0;34m)\u001b[0m\u001b[0;34m\u001b[0m\u001b[0;34m\u001b[0m\u001b[0m\n\u001b[1;32m      4\u001b[0m         \u001b[0mmu\u001b[0m\u001b[0;34m,\u001b[0m \u001b[0mSigma\u001b[0m \u001b[0;34m=\u001b[0m \u001b[0mposterior\u001b[0m\u001b[0;34m(\u001b[0m\u001b[0mPhi\u001b[0m\u001b[0;34m,\u001b[0m \u001b[0mgamma\u001b[0m\u001b[0;34m,\u001b[0m \u001b[0my_normed\u001b[0m\u001b[0;34m)\u001b[0m\u001b[0;34m\u001b[0m\u001b[0;34m\u001b[0m\u001b[0m\n\u001b[0;32m----> 5\u001b[0;31m         \u001b[0msi\u001b[0m\u001b[0;34m,\u001b[0m \u001b[0mqi\u001b[0m \u001b[0;34m=\u001b[0m \u001b[0msparse_quality_factor\u001b[0m\u001b[0;34m(\u001b[0m\u001b[0mtheta_normed\u001b[0m\u001b[0;34m,\u001b[0m \u001b[0mPhi\u001b[0m\u001b[0;34m,\u001b[0m \u001b[0mSigma\u001b[0m\u001b[0;34m,\u001b[0m \u001b[0mgamma\u001b[0m\u001b[0;34m,\u001b[0m \u001b[0my_normed\u001b[0m\u001b[0;34m)\u001b[0m\u001b[0;34m\u001b[0m\u001b[0;34m\u001b[0m\u001b[0m\n\u001b[0m\u001b[1;32m      6\u001b[0m         \u001b[0;31m#beta = update_noise(n_samples, y_normed, Phi, mu)\u001b[0m\u001b[0;34m\u001b[0m\u001b[0;34m\u001b[0m\u001b[0;34m\u001b[0m\u001b[0m\n\u001b[1;32m      7\u001b[0m         \u001b[0ml\u001b[0m \u001b[0;34m=\u001b[0m \u001b[0mupdate_filter\u001b[0m\u001b[0;34m(\u001b[0m\u001b[0mgamma\u001b[0m\u001b[0;34m,\u001b[0m \u001b[0mnu\u001b[0m\u001b[0;34m,\u001b[0m \u001b[0mn_samples\u001b[0m\u001b[0;34m,\u001b[0m \u001b[0mbeta\u001b[0m\u001b[0;34m,\u001b[0m \u001b[0mqi\u001b[0m\u001b[0;34m,\u001b[0m \u001b[0msi\u001b[0m\u001b[0;34m)\u001b[0m\u001b[0;34m\u001b[0m\u001b[0;34m\u001b[0m\u001b[0m\n",
      "\u001b[0;32m/home/working/src/DeePyMoD_SBL/SBL/robust_SBL.py\u001b[0m in \u001b[0;36msparse_quality_factor\u001b[0;34m(theta, Phi, Sigma, gamma, y)\u001b[0m\n\u001b[1;32m     34\u001b[0m     \u001b[0mprecalc\u001b[0m \u001b[0;34m=\u001b[0m \u001b[0mPhi\u001b[0m \u001b[0;34m@\u001b[0m \u001b[0mSigma\u001b[0m \u001b[0;34m@\u001b[0m \u001b[0mPhi\u001b[0m\u001b[0;34m.\u001b[0m\u001b[0mT\u001b[0m\u001b[0;34m\u001b[0m\u001b[0;34m\u001b[0m\u001b[0m\n\u001b[1;32m     35\u001b[0m \u001b[0;34m\u001b[0m\u001b[0m\n\u001b[0;32m---> 36\u001b[0;31m     \u001b[0mSm\u001b[0m \u001b[0;34m=\u001b[0m \u001b[0mnp\u001b[0m\u001b[0;34m.\u001b[0m\u001b[0mconcatenate\u001b[0m\u001b[0;34m(\u001b[0m\u001b[0;34m[\u001b[0m\u001b[0mphi_i\u001b[0m\u001b[0;34m[\u001b[0m\u001b[0;34m:\u001b[0m\u001b[0;34m,\u001b[0m \u001b[0;32mNone\u001b[0m\u001b[0;34m]\u001b[0m\u001b[0;34m.\u001b[0m\u001b[0mT\u001b[0m \u001b[0;34m@\u001b[0m \u001b[0mphi_i\u001b[0m\u001b[0;34m[\u001b[0m\u001b[0;34m:\u001b[0m\u001b[0;34m,\u001b[0m \u001b[0;32mNone\u001b[0m\u001b[0;34m]\u001b[0m \u001b[0;34m-\u001b[0m \u001b[0mphi_i\u001b[0m\u001b[0;34m[\u001b[0m\u001b[0;34m:\u001b[0m\u001b[0;34m,\u001b[0m \u001b[0;32mNone\u001b[0m\u001b[0;34m]\u001b[0m\u001b[0;34m.\u001b[0m\u001b[0mT\u001b[0m \u001b[0;34m@\u001b[0m \u001b[0mprecalc\u001b[0m \u001b[0;34m@\u001b[0m \u001b[0mphi_i\u001b[0m\u001b[0;34m[\u001b[0m\u001b[0;34m:\u001b[0m\u001b[0;34m,\u001b[0m \u001b[0;32mNone\u001b[0m\u001b[0;34m]\u001b[0m \u001b[0;32mfor\u001b[0m \u001b[0mphi_i\u001b[0m \u001b[0;32min\u001b[0m \u001b[0mtheta\u001b[0m\u001b[0;34m.\u001b[0m\u001b[0mT\u001b[0m\u001b[0;34m]\u001b[0m\u001b[0;34m)\u001b[0m\u001b[0;34m\u001b[0m\u001b[0;34m\u001b[0m\u001b[0m\n\u001b[0m\u001b[1;32m     37\u001b[0m     \u001b[0mQm\u001b[0m \u001b[0;34m=\u001b[0m \u001b[0mnp\u001b[0m\u001b[0;34m.\u001b[0m\u001b[0mconcatenate\u001b[0m\u001b[0;34m(\u001b[0m\u001b[0;34m[\u001b[0m\u001b[0mphi_i\u001b[0m\u001b[0;34m[\u001b[0m\u001b[0;34m:\u001b[0m\u001b[0;34m,\u001b[0m \u001b[0;32mNone\u001b[0m\u001b[0;34m]\u001b[0m\u001b[0;34m.\u001b[0m\u001b[0mT\u001b[0m \u001b[0;34m@\u001b[0m \u001b[0my\u001b[0m \u001b[0;34m-\u001b[0m \u001b[0mphi_i\u001b[0m\u001b[0;34m[\u001b[0m\u001b[0;34m:\u001b[0m\u001b[0;34m,\u001b[0m \u001b[0;32mNone\u001b[0m\u001b[0;34m]\u001b[0m\u001b[0;34m.\u001b[0m\u001b[0mT\u001b[0m \u001b[0;34m@\u001b[0m \u001b[0mprecalc\u001b[0m \u001b[0;34m@\u001b[0m \u001b[0my\u001b[0m \u001b[0;32mfor\u001b[0m \u001b[0mphi_i\u001b[0m \u001b[0;32min\u001b[0m \u001b[0mtheta\u001b[0m\u001b[0;34m.\u001b[0m\u001b[0mT\u001b[0m\u001b[0;34m]\u001b[0m\u001b[0;34m)\u001b[0m\u001b[0;34m\u001b[0m\u001b[0;34m\u001b[0m\u001b[0m\n\u001b[1;32m     38\u001b[0m \u001b[0;34m\u001b[0m\u001b[0m\n",
      "\u001b[0;32m/home/working/src/DeePyMoD_SBL/SBL/robust_SBL.py\u001b[0m in \u001b[0;36m<listcomp>\u001b[0;34m(.0)\u001b[0m\n\u001b[1;32m     34\u001b[0m     \u001b[0mprecalc\u001b[0m \u001b[0;34m=\u001b[0m \u001b[0mPhi\u001b[0m \u001b[0;34m@\u001b[0m \u001b[0mSigma\u001b[0m \u001b[0;34m@\u001b[0m \u001b[0mPhi\u001b[0m\u001b[0;34m.\u001b[0m\u001b[0mT\u001b[0m\u001b[0;34m\u001b[0m\u001b[0;34m\u001b[0m\u001b[0m\n\u001b[1;32m     35\u001b[0m \u001b[0;34m\u001b[0m\u001b[0m\n\u001b[0;32m---> 36\u001b[0;31m     \u001b[0mSm\u001b[0m \u001b[0;34m=\u001b[0m \u001b[0mnp\u001b[0m\u001b[0;34m.\u001b[0m\u001b[0mconcatenate\u001b[0m\u001b[0;34m(\u001b[0m\u001b[0;34m[\u001b[0m\u001b[0mphi_i\u001b[0m\u001b[0;34m[\u001b[0m\u001b[0;34m:\u001b[0m\u001b[0;34m,\u001b[0m \u001b[0;32mNone\u001b[0m\u001b[0;34m]\u001b[0m\u001b[0;34m.\u001b[0m\u001b[0mT\u001b[0m \u001b[0;34m@\u001b[0m \u001b[0mphi_i\u001b[0m\u001b[0;34m[\u001b[0m\u001b[0;34m:\u001b[0m\u001b[0;34m,\u001b[0m \u001b[0;32mNone\u001b[0m\u001b[0;34m]\u001b[0m \u001b[0;34m-\u001b[0m \u001b[0mphi_i\u001b[0m\u001b[0;34m[\u001b[0m\u001b[0;34m:\u001b[0m\u001b[0;34m,\u001b[0m \u001b[0;32mNone\u001b[0m\u001b[0;34m]\u001b[0m\u001b[0;34m.\u001b[0m\u001b[0mT\u001b[0m \u001b[0;34m@\u001b[0m \u001b[0mprecalc\u001b[0m \u001b[0;34m@\u001b[0m \u001b[0mphi_i\u001b[0m\u001b[0;34m[\u001b[0m\u001b[0;34m:\u001b[0m\u001b[0;34m,\u001b[0m \u001b[0;32mNone\u001b[0m\u001b[0;34m]\u001b[0m \u001b[0;32mfor\u001b[0m \u001b[0mphi_i\u001b[0m \u001b[0;32min\u001b[0m \u001b[0mtheta\u001b[0m\u001b[0;34m.\u001b[0m\u001b[0mT\u001b[0m\u001b[0;34m]\u001b[0m\u001b[0;34m)\u001b[0m\u001b[0;34m\u001b[0m\u001b[0;34m\u001b[0m\u001b[0m\n\u001b[0m\u001b[1;32m     37\u001b[0m     \u001b[0mQm\u001b[0m \u001b[0;34m=\u001b[0m \u001b[0mnp\u001b[0m\u001b[0;34m.\u001b[0m\u001b[0mconcatenate\u001b[0m\u001b[0;34m(\u001b[0m\u001b[0;34m[\u001b[0m\u001b[0mphi_i\u001b[0m\u001b[0;34m[\u001b[0m\u001b[0;34m:\u001b[0m\u001b[0;34m,\u001b[0m \u001b[0;32mNone\u001b[0m\u001b[0;34m]\u001b[0m\u001b[0;34m.\u001b[0m\u001b[0mT\u001b[0m \u001b[0;34m@\u001b[0m \u001b[0my\u001b[0m \u001b[0;34m-\u001b[0m \u001b[0mphi_i\u001b[0m\u001b[0;34m[\u001b[0m\u001b[0;34m:\u001b[0m\u001b[0;34m,\u001b[0m \u001b[0;32mNone\u001b[0m\u001b[0;34m]\u001b[0m\u001b[0;34m.\u001b[0m\u001b[0mT\u001b[0m \u001b[0;34m@\u001b[0m \u001b[0mprecalc\u001b[0m \u001b[0;34m@\u001b[0m \u001b[0my\u001b[0m \u001b[0;32mfor\u001b[0m \u001b[0mphi_i\u001b[0m \u001b[0;32min\u001b[0m \u001b[0mtheta\u001b[0m\u001b[0;34m.\u001b[0m\u001b[0mT\u001b[0m\u001b[0;34m]\u001b[0m\u001b[0;34m)\u001b[0m\u001b[0;34m\u001b[0m\u001b[0;34m\u001b[0m\u001b[0m\n\u001b[1;32m     38\u001b[0m \u001b[0;34m\u001b[0m\u001b[0m\n",
      "\u001b[0;31mKeyboardInterrupt\u001b[0m: "
     ]
    }
   ],
   "source": [
    "converged = False\n",
    "while not converged:\n",
    "        Phi, gamma = update_design_matrix(Phi, theta_normed, gamma, si, qi, beta, l)\n",
    "        mu, Sigma = posterior(Phi, gamma, y_normed)\n",
    "        si, qi = sparse_quality_factor(theta_normed, Phi, Sigma, gamma, y_normed)\n",
    "        #beta = update_noise(n_samples, y_normed, Phi, mu)\n",
    "        l = update_filter(gamma, nu, n_samples, beta, qi, si)\n",
    "        #converged = convergence(si, qi, l, beta, gamma)"
   ]
  },
  {
   "cell_type": "code",
   "execution_count": 104,
   "metadata": {},
   "outputs": [
    {
     "data": {
      "text/plain": [
       "1263.9479294209884"
      ]
     },
     "execution_count": 104,
     "metadata": {},
     "output_type": "execute_result"
    }
   ],
   "source": [
    "l"
   ]
  },
  {
   "cell_type": "code",
   "execution_count": 114,
   "metadata": {},
   "outputs": [
    {
     "data": {
      "text/plain": [
       "array([[-1.63539147e-01],\n",
       "       [ 2.14004740e+03],\n",
       "       [ 1.05668107e+04],\n",
       "       [ 4.58575327e+02],\n",
       "       [ 1.25202949e+02],\n",
       "       [ 4.11657394e+03],\n",
       "       [ 4.24115253e+02],\n",
       "       [ 1.00469422e+02],\n",
       "       [ 5.04381413e+02],\n",
       "       [ 1.05154618e+03],\n",
       "       [ 9.46049375e+01],\n",
       "       [ 7.83829145e+02]])"
      ]
     },
     "execution_count": 114,
     "metadata": {},
     "output_type": "execute_result"
    }
   ],
   "source": [
    "beta*qi**2 - si"
   ]
  },
  {
   "cell_type": "code",
   "execution_count": 111,
   "metadata": {},
   "outputs": [
    {
     "data": {
      "text/plain": [
       "array([[False],\n",
       "       [ True],\n",
       "       [ True],\n",
       "       [False],\n",
       "       [False],\n",
       "       [ True],\n",
       "       [False],\n",
       "       [False],\n",
       "       [False],\n",
       "       [False],\n",
       "       [False],\n",
       "       [False]])"
      ]
     },
     "execution_count": 111,
     "metadata": {},
     "output_type": "execute_result"
    }
   ],
   "source": [
    "beta*qi**2 - si > l_new"
   ]
  },
  {
   "cell_type": "code",
   "execution_count": 106,
   "metadata": {},
   "outputs": [
    {
     "data": {
      "text/plain": [
       "array([0.        , 0.4982793 , 1.97512692, 0.        , 0.        ,\n",
       "       1.02022304, 0.        , 0.        , 0.        , 0.        ,\n",
       "       0.        , 0.        ])"
      ]
     },
     "execution_count": 106,
     "metadata": {},
     "output_type": "execute_result"
    }
   ],
   "source": [
    "gamma"
   ]
  },
  {
   "cell_type": "code",
   "execution_count": 107,
   "metadata": {},
   "outputs": [
    {
     "data": {
      "text/plain": [
       "1260.4589962548564"
      ]
     },
     "execution_count": 107,
     "metadata": {},
     "output_type": "execute_result"
    }
   ],
   "source": [
    "delta = (n_samples - 1 + nu) / np.max(beta * qi**2 - si)\n",
    "2 * (n_samples - 1 + nu) / (np.sum(gamma) + 2 * delta)"
   ]
  },
  {
   "cell_type": "code",
   "execution_count": 108,
   "metadata": {},
   "outputs": [
    {
     "data": {
      "text/plain": [
       "0.2365898352801321"
      ]
     },
     "execution_count": 108,
     "metadata": {},
     "output_type": "execute_result"
    }
   ],
   "source": [
    "delta"
   ]
  },
  {
   "cell_type": "code",
   "execution_count": 110,
   "metadata": {},
   "outputs": [],
   "source": [
    "l_new = 2 * (n_samples - 1 + nu) / (np.sum(gamma))"
   ]
  },
  {
   "cell_type": "code",
   "execution_count": 87,
   "metadata": {},
   "outputs": [],
   "source": [
    "from copy import copy"
   ]
  },
  {
   "cell_type": "code",
   "execution_count": 92,
   "metadata": {},
   "outputs": [],
   "source": [
    "    gamma_current = copy(gamma)\n",
    "    gamma_new = ((-2 * l - si + np.sqrt(4*beta*l*qi**2+si**2)) / (2*l*si)).squeeze()\n",
    "\n",
    "    in_basis_idx = (gamma_current != 0.0)\n",
    "    out_basis_idx = (gamma_current == 0.0)\n",
    "    allowed = beta * qi**2 - si >= l\n",
    "\n",
    "    dL_adding = dL(gamma_new, si, qi, beta, l)\n",
    "    dL_adding[in_basis_idx] = 0.0\n",
    "    #dL_adding[~allowed] = 0.0\n",
    "\n",
    "    dL_removing = -dL(gamma_current, si, qi, beta, l)\n",
    "    dL_removing[out_basis_idx] = 0.0\n",
    "    #dL_removing[allowed] = 0.0\n",
    "\n",
    "    dL_updating = dL(gamma_new, si, qi, beta, l) -dL(gamma_current, si, qi, beta, l)\n",
    "    dL_updating[out_basis_idx] = 0.0\n",
    "    #dL_updating[~allowed] = 0.0\n",
    "\n",
    "    dL_complete = np.concatenate((dL_adding, dL_updating, dL_removing), axis=1)\n",
    "    idx, action = np.unravel_index(np.argmax(dL_complete), dL_complete.shape)"
   ]
  },
  {
   "cell_type": "code",
   "execution_count": 93,
   "metadata": {},
   "outputs": [
    {
     "data": {
      "text/plain": [
       "array([[1.27479248e+03, 0.00000000e+00, 0.00000000e+00],\n",
       "       [4.11358170e+00, 0.00000000e+00, 0.00000000e+00],\n",
       "       [0.00000000e+00, 3.69208352e-10, 3.61315707e-10],\n",
       "       [1.64420894e+02, 0.00000000e+00, 0.00000000e+00],\n",
       "       [6.98514852e+02, 0.00000000e+00, 0.00000000e+00],\n",
       "       [6.54521618e+01, 0.00000000e+00, 0.00000000e+00],\n",
       "       [1.81408007e+02, 0.00000000e+00, 0.00000000e+00],\n",
       "       [1.05279514e+03, 0.00000000e+00, 0.00000000e+00],\n",
       "       [3.07073680e+02, 0.00000000e+00, 0.00000000e+00],\n",
       "       [1.74096588e+02, 0.00000000e+00, 0.00000000e+00],\n",
       "       [5.70402199e+02, 0.00000000e+00, 0.00000000e+00],\n",
       "       [2.82590185e+02, 0.00000000e+00, 0.00000000e+00]])"
      ]
     },
     "execution_count": 93,
     "metadata": {},
     "output_type": "execute_result"
    }
   ],
   "source": [
    "dL_complete"
   ]
  },
  {
   "cell_type": "code",
   "execution_count": null,
   "metadata": {},
   "outputs": [],
   "source": []
  }
 ],
 "metadata": {
  "kernelspec": {
   "display_name": "Python 3",
   "language": "python",
   "name": "python3"
  },
  "language_info": {
   "codemirror_mode": {
    "name": "ipython",
    "version": 3
   },
   "file_extension": ".py",
   "mimetype": "text/x-python",
   "name": "python",
   "nbconvert_exporter": "python",
   "pygments_lexer": "ipython3",
   "version": "3.6.9"
  }
 },
 "nbformat": 4,
 "nbformat_minor": 4
}
