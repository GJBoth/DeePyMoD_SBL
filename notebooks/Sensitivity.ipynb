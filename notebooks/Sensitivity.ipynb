{
 "cells": [
  {
   "cell_type": "markdown",
   "metadata": {},
   "source": [
    "In this notebook we implement and test the sensitivity style pruning."
   ]
  },
  {
   "cell_type": "code",
   "execution_count": 1,
   "metadata": {},
   "outputs": [],
   "source": [
    "# General imports\n",
    "import numpy as np\n",
    "import torch\n",
    "import torch.nn as nn\n",
    "import torch.nn.functional as F\n",
    "from deepmod_l1.diff_library import theta_analytical\n",
    "\n",
    "#Plotting imports\n",
    "import matplotlib.pyplot as plt\n",
    "import seaborn as sns\n",
    "sns.set()\n",
    "\n",
    "# Remainder imports\n",
    "from os import listdir, path, getcwd\n",
    "\n",
    "# Setting cuda\n",
    "if torch.cuda.is_available():\n",
    "    torch.set_default_tensor_type('torch.cuda.FloatTensor')\n",
    "\n",
    "# Settings for reproducibility\n",
    "np.random.seed(42)\n",
    "torch.manual_seed(0)\n",
    "torch.backends.cudnn.deterministic = True\n",
    "torch.backends.cudnn.benchmark = False\n",
    "\n",
    "# Defining output folder\n",
    "output_folder = getcwd()\n",
    "\n",
    "%load_ext autoreload\n",
    "%autoreload 2"
   ]
  },
  {
   "cell_type": "markdown",
   "metadata": {},
   "source": [
    "# Making library"
   ]
  },
  {
   "cell_type": "code",
   "execution_count": 2,
   "metadata": {},
   "outputs": [],
   "source": [
    "D = 0.5\n",
    "a = 0.25\n",
    "\n",
    "x = np.linspace(-5, 5, 500, dtype=np.float32)\n",
    "t = np.linspace(0, 5, 100, dtype=np.float32)\n",
    "x_grid, t_grid = np.meshgrid(x, t, indexing='ij')\n",
    "    \n",
    "# Analytical\n",
    "time_deriv, theta = theta_analytical(x_grid, t_grid, D, a)"
   ]
  },
  {
   "cell_type": "markdown",
   "metadata": {},
   "source": [
    "And performing lst-sq we get:"
   ]
  },
  {
   "cell_type": "code",
   "execution_count": 3,
   "metadata": {},
   "outputs": [
    {
     "data": {
      "text/plain": [
       "array([-2.4918742e-17,  2.0816682e-16,  5.0000000e-01,  4.4582393e-16,\n",
       "       -1.2127323e-16, -1.0972126e-16, -3.7296555e-17,  1.0139718e-16,\n",
       "       -7.5894152e-17], dtype=float32)"
      ]
     },
     "execution_count": 3,
     "metadata": {},
     "output_type": "execute_result"
    }
   ],
   "source": [
    "np.linalg.lstsq(theta, time_deriv, rcond=None)[0].squeeze()"
   ]
  },
  {
   "cell_type": "markdown",
   "metadata": {},
   "source": [
    "# Standardization"
   ]
  },
  {
   "cell_type": "markdown",
   "metadata": {},
   "source": [
    "Before we implement everything, let's see what the sensitivity w.r.t to each parameter actually is:"
   ]
  },
  {
   "cell_type": "code",
   "execution_count": 4,
   "metadata": {},
   "outputs": [],
   "source": [
    "a = np.mean(theta, axis=0)\n",
    "b = np.std(theta, axis=0)\n",
    "\n",
    "a[0] = 0.0 # for the ones.\n",
    "b[0] = 1.0\n",
    "\n",
    "theta_standard = (theta - a)/b"
   ]
  },
  {
   "cell_type": "code",
   "execution_count": 5,
   "metadata": {},
   "outputs": [],
   "source": [
    "X_train = torch.tensor(theta_standard, dtype=torch.float32)\n",
    "y_train = torch.tensor(time_deriv, dtype=torch.float32)"
   ]
  },
  {
   "cell_type": "code",
   "execution_count": 6,
   "metadata": {},
   "outputs": [],
   "source": [
    "model = nn.Sequential(*[nn.Linear(X_train.shape[1], 1, bias=False)])"
   ]
  },
  {
   "cell_type": "code",
   "execution_count": 7,
   "metadata": {},
   "outputs": [],
   "source": [
    "optimizer = torch.optim.Adam(model.parameters())\n",
    "iterations = 20000"
   ]
  },
  {
   "cell_type": "code",
   "execution_count": 8,
   "metadata": {},
   "outputs": [
    {
     "name": "stdout",
     "output_type": "stream",
     "text": [
      "0.29280346632003784\n",
      "0.002768810372799635\n",
      "0.00046436110278591514\n",
      "0.0001673570804996416\n",
      "6.68103966745548e-05\n",
      "2.2659547539660707e-05\n",
      "3.954592557420256e-06\n",
      "2.181690064162467e-07\n",
      "1.7514623085190806e-09\n",
      "5.487325546206512e-13\n",
      "7.922342226684975e-10\n",
      "5.522628346318437e-16\n",
      "1.4080227358719254e-16\n",
      "1.2090078937987414e-09\n",
      "4.3806785591593914e-14\n",
      "6.894950647755305e-13\n",
      "8.619689163824606e-12\n",
      "1.419358568455209e-07\n",
      "5.852316548038416e-11\n",
      "4.654798681918981e-13\n"
     ]
    }
   ],
   "source": [
    "for it in np.arange(iterations):\n",
    "    prediction = model(X_train)\n",
    "    loss = torch.mean((prediction - y_train)**2)\n",
    "    optimizer.zero_grad()\n",
    "    loss.backward()\n",
    "    optimizer.step()\n",
    "    \n",
    "    if it % 1000 == 0:\n",
    "        print(loss.item())"
   ]
  },
  {
   "cell_type": "markdown",
   "metadata": {},
   "source": [
    "Loss is definitely lower, let's see about the weights:"
   ]
  },
  {
   "cell_type": "code",
   "execution_count": 9,
   "metadata": {},
   "outputs": [],
   "source": [
    "xi_normalized = model[0].weight.detach().numpy().squeeze()\n",
    "\n",
    "weights = xi_normalized.copy()\n",
    "weights[0] = weights[0] - np.sum(weights[1:] * a[1:])\n",
    "weights[1:] = weights[1:] / b[1:]\n",
    "\n",
    "xi = weights"
   ]
  },
  {
   "cell_type": "markdown",
   "metadata": {},
   "source": [
    "Now let's look at the sensitivity:"
   ]
  },
  {
   "cell_type": "code",
   "execution_count": 10,
   "metadata": {},
   "outputs": [],
   "source": [
    "output = model(X_train)\n",
    "output.backward(torch.ones_like(output))"
   ]
  },
  {
   "cell_type": "code",
   "execution_count": 11,
   "metadata": {},
   "outputs": [
    {
     "data": {
      "text/plain": [
       "tensor([[ 5.0000e+04,  4.4619e-03, -5.8911e-03,  5.3858e-01, -2.6307e-03,\n",
       "          3.4178e-02,  2.7442e-01, -1.1156e-03,  4.8781e-02]])"
      ]
     },
     "execution_count": 11,
     "metadata": {},
     "output_type": "execute_result"
    }
   ],
   "source": [
    "model[0].weight.grad"
   ]
  },
  {
   "cell_type": "code",
   "execution_count": 12,
   "metadata": {},
   "outputs": [],
   "source": [
    "output = model(X_train)\n",
    "sensitivities = torch.autograd.grad(output, model.parameters(), torch.ones_like(output))[0].numpy().squeeze()"
   ]
  },
  {
   "cell_type": "code",
   "execution_count": 13,
   "metadata": {},
   "outputs": [
    {
     "data": {
      "text/plain": [
       "<matplotlib.legend.Legend at 0x7f30febf0860>"
      ]
     },
     "execution_count": 13,
     "metadata": {},
     "output_type": "execute_result"
    },
    {
     "data": {
      "image/png": "[encoded data removed]",
      "text/plain": [
       "<Figure size 432x288 with 1 Axes>"
      ]
     },
     "metadata": {
      "needs_background": "light"
     },
     "output_type": "display_data"
    }
   ],
   "source": [
    "plt.semilogy(np.abs(xi), 'o')\n",
    "plt.semilogy(np.abs(xi_normalized), 'o')\n",
    "\n",
    "plt.legend(['Unitful', 'Unitless'])"
   ]
  },
  {
   "cell_type": "code",
   "execution_count": 14,
   "metadata": {},
   "outputs": [
    {
     "data": {
      "text/plain": [
       "[<matplotlib.lines.Line2D at 0x7f30fea0de80>]"
      ]
     },
     "execution_count": 14,
     "metadata": {},
     "output_type": "execute_result"
    },
    {
     "data": {
      "image/png": "[encoded data removed]",
      "text/plain": [
       "<Figure size 432x288 with 1 Axes>"
      ]
     },
     "metadata": {
      "needs_background": "light"
     },
     "output_type": "display_data"
    }
   ],
   "source": [
    "plt.semilogy(np.abs(sensitivities), 'o')"
   ]
  },
  {
   "cell_type": "markdown",
   "metadata": {},
   "source": [
    "That doesn't seem to encouraging... What do the unnormalized sensitivities look like?"
   ]
  },
  {
   "cell_type": "code",
   "execution_count": 15,
   "metadata": {},
   "outputs": [],
   "source": [
    "X_train = torch.tensor(theta, dtype=torch.float32)\n",
    "y_train = torch.tensor(time_deriv, dtype=torch.float32)"
   ]
  },
  {
   "cell_type": "code",
   "execution_count": 16,
   "metadata": {},
   "outputs": [],
   "source": [
    "model = nn.Sequential(*[nn.Linear(X_train.shape[1], 1, bias=False)])"
   ]
  },
  {
   "cell_type": "code",
   "execution_count": 17,
   "metadata": {},
   "outputs": [],
   "source": [
    "optimizer = torch.optim.Adam(model.parameters())\n",
    "iterations = 20000"
   ]
  },
  {
   "cell_type": "code",
   "execution_count": 18,
   "metadata": {},
   "outputs": [
    {
     "name": "stdout",
     "output_type": "stream",
     "text": [
      "0.06429553776979446\n",
      "0.0006206107791513205\n",
      "9.496667985331442e-07\n",
      "1.2643771185594233e-07\n",
      "3.607331677812908e-08\n",
      "7.798018231142123e-09\n",
      "6.249536999014538e-10\n",
      "9.432878089743468e-12\n",
      "1.6943928492262408e-14\n",
      "1.4919435045029905e-15\n",
      "5.067272433599589e-16\n",
      "2.5908694389523796e-16\n",
      "7.631060166151752e-24\n",
      "7.465943295649489e-25\n",
      "4.188568402873825e-25\n",
      "7.006420222102943e-23\n",
      "7.063644192167675e-23\n",
      "2.185255006665449e-15\n",
      "2.347591517984696e-16\n",
      "3.324577822344133e-21\n"
     ]
    }
   ],
   "source": [
    "for it in np.arange(iterations):\n",
    "    prediction = model(X_train)\n",
    "    loss = torch.mean((prediction - y_train)**2)\n",
    "    optimizer.zero_grad()\n",
    "    loss.backward()\n",
    "    optimizer.step()\n",
    "    \n",
    "    if it % 1000 == 0:\n",
    "        print(loss.item())"
   ]
  },
  {
   "cell_type": "code",
   "execution_count": 19,
   "metadata": {},
   "outputs": [],
   "source": [
    "xi_unnormalized = model[0].weight.detach().numpy().squeeze()"
   ]
  },
  {
   "cell_type": "code",
   "execution_count": 20,
   "metadata": {},
   "outputs": [
    {
     "data": {
      "text/plain": [
       "[<matplotlib.lines.Line2D at 0x7f30fe957390>]"
      ]
     },
     "execution_count": 20,
     "metadata": {},
     "output_type": "execute_result"
    },
    {
     "data": {
      "image/png": "[encoded data removed]",
      "text/plain": [
       "<Figure size 432x288 with 1 Axes>"
      ]
     },
     "metadata": {
      "needs_background": "light"
     },
     "output_type": "display_data"
    }
   ],
   "source": [
    "plt.plot(xi_unnormalized, 'o')"
   ]
  },
  {
   "cell_type": "code",
   "execution_count": 21,
   "metadata": {},
   "outputs": [],
   "source": [
    "output = model(X_train)\n",
    "sensitivities = torch.autograd.grad(output, model.parameters(), torch.ones_like(output))[0].numpy().squeeze()"
   ]
  },
  {
   "cell_type": "code",
   "execution_count": 22,
   "metadata": {},
   "outputs": [
    {
     "data": {
      "text/plain": [
       "[<matplotlib.lines.Line2D at 0x7f30fe9135f8>]"
      ]
     },
     "execution_count": 22,
     "metadata": {},
     "output_type": "execute_result"
    },
    {
     "data": {
      "image/png": "[encoded data removed]",
      "text/plain": [
       "<Figure size 432x288 with 1 Axes>"
      ]
     },
     "metadata": {
      "needs_background": "light"
     },
     "output_type": "display_data"
    }
   ],
   "source": [
    "plt.semilogy(np.abs(sensitivities), 'o')"
   ]
  },
  {
   "cell_type": "code",
   "execution_count": null,
   "metadata": {},
   "outputs": [],
   "source": []
  },
  {
   "cell_type": "code",
   "execution_count": null,
   "metadata": {},
   "outputs": [],
   "source": []
  },
  {
   "cell_type": "markdown",
   "metadata": {},
   "source": [
    "# Implementing "
   ]
  }
 ],
 "metadata": {
  "kernelspec": {
   "display_name": "Python 3",
   "language": "python",
   "name": "python3"
  },
  "language_info": {
   "codemirror_mode": {
    "name": "ipython",
    "version": 3
   },
   "file_extension": ".py",
   "mimetype": "text/x-python",
   "name": "python",
   "nbconvert_exporter": "python",
   "pygments_lexer": "ipython3",
   "version": "3.6.9"
  }
 },
 "nbformat": 4,
 "nbformat_minor": 4
}
