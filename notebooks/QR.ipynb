{
 "cells": [
  {
   "cell_type": "code",
   "execution_count": 3,
   "metadata": {},
   "outputs": [],
   "source": [
    "# Imports\n",
    "import numpy as np\n",
    "import torch\n",
    "\n",
    "from phimal_utilities.data import Dataset\n",
    "from phimal_utilities.data.burgers import BurgersDelta\n",
    "\n",
    "\n"
   ]
  },
  {
   "cell_type": "code",
   "execution_count": 52,
   "metadata": {},
   "outputs": [],
   "source": [
    "v = 0.1\n",
    "A = 1.0\n",
    "\n",
    "# Making grid\n",
    "x = np.linspace(-3, 4, 100)\n",
    "t = np.linspace(0.5, 5.0, 50)\n",
    "x_grid, t_grid = np.meshgrid(x, t, indexing='ij')\n",
    "\n",
    "# Making data\n",
    "dataset = Dataset(BurgersDelta, v=v, A=A)\n",
    "\n",
    "X_train, y_train, rand_idx = dataset.create_dataset(x_grid.reshape(-1, 1), t_grid.reshape(-1, 1), n_samples=1000, noise=0.1, random=True, return_idx=True)\n",
    "    \n",
    "theta = dataset.library(x_grid.reshape(-1, 1), t_grid.reshape(-1, 1), poly_order=2, deriv_order=3)[rand_idx, :]\n",
    "dt = dataset.time_deriv(x_grid.reshape(-1, 1), t_grid.reshape(-1, 1))[rand_idx, :] "
   ]
  },
  {
   "cell_type": "code",
   "execution_count": 53,
   "metadata": {},
   "outputs": [],
   "source": [
    "theta = torch.tensor(theta)\n",
    "dt = torch.tensor(dt)\n",
    "\n",
    "norm = torch.norm(theta, dim=0, keepdim=True)"
   ]
  },
  {
   "cell_type": "code",
   "execution_count": 54,
   "metadata": {},
   "outputs": [
    {
     "data": {
      "text/plain": [
       "tensor(76.4501, dtype=torch.float64)"
      ]
     },
     "execution_count": 54,
     "metadata": {},
     "output_type": "execute_result"
    }
   ],
   "source": [
    "Sigma = torch.svd(theta / norm)[1]\n",
    "Sigma.max() / Sigma.min()"
   ]
  },
  {
   "cell_type": "code",
   "execution_count": 60,
   "metadata": {},
   "outputs": [
    {
     "data": {
      "text/plain": [
       "tensor([[ 8.6736e-18],\n",
       "        [ 1.8041e-16],\n",
       "        [ 1.0000e-01],\n",
       "        [ 4.3368e-18],\n",
       "        [-3.8858e-16],\n",
       "        [-1.0000e+00],\n",
       "        [ 3.3307e-16],\n",
       "        [ 1.7347e-17],\n",
       "        [ 1.3323e-15],\n",
       "        [ 2.2204e-15],\n",
       "        [ 0.0000e+00],\n",
       "        [ 3.1225e-17]], dtype=torch.float64)"
      ]
     },
     "execution_count": 60,
     "metadata": {},
     "output_type": "execute_result"
    }
   ],
   "source": [
    "Q, R = torch.qr(theta)\n",
    "torch.inverse(R) @ Q.T @ dt"
   ]
  },
  {
   "cell_type": "code",
   "execution_count": 63,
   "metadata": {},
   "outputs": [
    {
     "data": {
      "text/plain": [
       "tensor([[ 2.0187e-17],\n",
       "        [ 5.6790e-16],\n",
       "        [ 1.0000e-01],\n",
       "        [-9.7281e-18],\n",
       "        [-5.2974e-16],\n",
       "        [-1.0000e+00],\n",
       "        [-3.3268e-16],\n",
       "        [-1.7562e-17],\n",
       "        [-8.1816e-16],\n",
       "        [ 2.1413e-15],\n",
       "        [ 1.4778e-16],\n",
       "        [ 5.7686e-17]], dtype=torch.float64)"
      ]
     },
     "execution_count": 63,
     "metadata": {},
     "output_type": "execute_result"
    }
   ],
   "source": [
    "Q, R = torch.qr(theta / norm)\n",
    "torch.inverse(R) @ Q.T @ dt / norm.T"
   ]
  },
  {
   "cell_type": "code",
   "execution_count": 62,
   "metadata": {},
   "outputs": [
    {
     "data": {
      "text/plain": [
       "tensor([[ 31.6228,   9.7747,  34.8590, 243.9429,   7.5448,   5.2526,  26.6973,\n",
       "         151.7229,   4.3423,   3.9405,  24.0408, 120.2876]],\n",
       "       dtype=torch.float64)"
      ]
     },
     "execution_count": 62,
     "metadata": {},
     "output_type": "execute_result"
    }
   ],
   "source": [
    "norm"
   ]
  },
  {
   "cell_type": "code",
   "execution_count": 58,
   "metadata": {},
   "outputs": [
    {
     "data": {
      "text/plain": [
       "tensor(76.4501, dtype=torch.float64)"
      ]
     },
     "execution_count": 58,
     "metadata": {},
     "output_type": "execute_result"
    }
   ],
   "source": [
    "Sigma = torch.svd(R)[1]\n",
    "Sigma.max() / Sigma.min()"
   ]
  },
  {
   "cell_type": "code",
   "execution_count": 36,
   "metadata": {},
   "outputs": [
    {
     "data": {
      "text/plain": [
       "tensor([[-1.0000,  0.0152,  0.0415, -0.0211, -0.5831,  0.0278,  0.1365, -0.0185,\n",
       "         -0.4146,  0.0288,  0.1273,  0.0026],\n",
       "        [ 0.0000, -0.9999, -0.1128,  0.6207,  0.0538, -0.8835, -0.2410,  0.6159,\n",
       "          0.0783, -0.7159, -0.2562,  0.5129],\n",
       "        [ 0.0000,  0.0000,  0.9928,  0.0960, -0.4110,  0.2473,  0.8808,  0.1105,\n",
       "         -0.6177,  0.3623,  0.8223,  0.0489],\n",
       "        [ 0.0000,  0.0000,  0.0000,  0.7778,  0.0540, -0.2415,  0.1285,  0.6822,\n",
       "         -0.0093, -0.2790,  0.0979,  0.5933],\n",
       "        [ 0.0000,  0.0000,  0.0000,  0.0000,  0.6966,  0.1260, -0.0470, -0.0629,\n",
       "          0.5949,  0.1828, -0.0400, -0.1439],\n",
       "        [ 0.0000,  0.0000,  0.0000,  0.0000,  0.0000, -0.2886, -0.1214,  0.2307,\n",
       "         -0.1262, -0.4637, -0.1150,  0.3531],\n",
       "        [ 0.0000,  0.0000,  0.0000,  0.0000,  0.0000,  0.0000, -0.3377,  0.0551,\n",
       "          0.2026, -0.0536, -0.4607,  0.0314],\n",
       "        [ 0.0000,  0.0000,  0.0000,  0.0000,  0.0000,  0.0000,  0.0000, -0.2871,\n",
       "          0.0403,  0.1084, -0.0253, -0.4674],\n",
       "        [ 0.0000,  0.0000,  0.0000,  0.0000,  0.0000,  0.0000,  0.0000,  0.0000,\n",
       "          0.1671,  0.0509,  0.0313, -0.0713],\n",
       "        [ 0.0000,  0.0000,  0.0000,  0.0000,  0.0000,  0.0000,  0.0000,  0.0000,\n",
       "          0.0000, -0.1090, -0.0059,  0.0600],\n",
       "        [ 0.0000,  0.0000,  0.0000,  0.0000,  0.0000,  0.0000,  0.0000,  0.0000,\n",
       "          0.0000,  0.0000, -0.0607, -0.0260],\n",
       "        [ 0.0000,  0.0000,  0.0000,  0.0000,  0.0000,  0.0000,  0.0000,  0.0000,\n",
       "          0.0000,  0.0000,  0.0000,  0.0914]], dtype=torch.float64)"
      ]
     },
     "execution_count": 36,
     "metadata": {},
     "output_type": "execute_result"
    }
   ],
   "source": [
    "np.up"
   ]
  },
  {
   "cell_type": "code",
   "execution_count": null,
   "metadata": {},
   "outputs": [],
   "source": []
  }
 ],
 "metadata": {
  "kernelspec": {
   "display_name": "Python 3",
   "language": "python",
   "name": "python3"
  },
  "language_info": {
   "codemirror_mode": {
    "name": "ipython",
    "version": 3
   },
   "file_extension": ".py",
   "mimetype": "text/x-python",
   "name": "python",
   "nbconvert_exporter": "python",
   "pygments_lexer": "ipython3",
   "version": "3.6.9"
  }
 },
 "nbformat": 4,
 "nbformat_minor": 4
}
