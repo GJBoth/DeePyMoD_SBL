{
 "cells": [
  {
   "cell_type": "markdown",
   "metadata": {},
   "source": [
    "# Implementing scikitlearn estimators"
   ]
  },
  {
   "cell_type": "markdown",
   "metadata": {},
   "source": [
    "In this notebook we implement scikit learn estimators to estimate the sparsity pattern in deepmod. Code has been modified already, we just need to build a new training loop."
   ]
  },
  {
   "cell_type": "code",
   "execution_count": 1,
   "metadata": {},
   "outputs": [
    {
     "name": "stderr",
     "output_type": "stream",
     "text": [
      "/opt/conda/lib/python3.6/site-packages/tensorboard/compat/tensorflow_stub/dtypes.py:541: FutureWarning: Passing (type, 1) or '1type' as a synonym of type is deprecated; in a future version of numpy, it will be understood as (type, (1,)) / '(1,)type'.\n",
      "  _np_qint8 = np.dtype([(\"qint8\", np.int8, 1)])\n",
      "/opt/conda/lib/python3.6/site-packages/tensorboard/compat/tensorflow_stub/dtypes.py:542: FutureWarning: Passing (type, 1) or '1type' as a synonym of type is deprecated; in a future version of numpy, it will be understood as (type, (1,)) / '(1,)type'.\n",
      "  _np_quint8 = np.dtype([(\"quint8\", np.uint8, 1)])\n",
      "/opt/conda/lib/python3.6/site-packages/tensorboard/compat/tensorflow_stub/dtypes.py:543: FutureWarning: Passing (type, 1) or '1type' as a synonym of type is deprecated; in a future version of numpy, it will be understood as (type, (1,)) / '(1,)type'.\n",
      "  _np_qint16 = np.dtype([(\"qint16\", np.int16, 1)])\n",
      "/opt/conda/lib/python3.6/site-packages/tensorboard/compat/tensorflow_stub/dtypes.py:544: FutureWarning: Passing (type, 1) or '1type' as a synonym of type is deprecated; in a future version of numpy, it will be understood as (type, (1,)) / '(1,)type'.\n",
      "  _np_quint16 = np.dtype([(\"quint16\", np.uint16, 1)])\n",
      "/opt/conda/lib/python3.6/site-packages/tensorboard/compat/tensorflow_stub/dtypes.py:545: FutureWarning: Passing (type, 1) or '1type' as a synonym of type is deprecated; in a future version of numpy, it will be understood as (type, (1,)) / '(1,)type'.\n",
      "  _np_qint32 = np.dtype([(\"qint32\", np.int32, 1)])\n",
      "/opt/conda/lib/python3.6/site-packages/tensorboard/compat/tensorflow_stub/dtypes.py:550: FutureWarning: Passing (type, 1) or '1type' as a synonym of type is deprecated; in a future version of numpy, it will be understood as (type, (1,)) / '(1,)type'.\n",
      "  np_resource = np.dtype([(\"resource\", np.ubyte, 1)])\n"
     ]
    },
    {
     "ename": "SyntaxError",
     "evalue": "non-default argument follows default argument (training.py, line 87)",
     "output_type": "error",
     "traceback": [
      "Traceback \u001b[0;36m(most recent call last)\u001b[0m:\n",
      "  File \u001b[1;32m\"/opt/conda/lib/python3.6/site-packages/IPython/core/interactiveshell.py\"\u001b[0m, line \u001b[1;32m3326\u001b[0m, in \u001b[1;35mrun_code\u001b[0m\n    exec(code_obj, self.user_global_ns, self.user_ns)\n",
      "\u001b[0;36m  File \u001b[0;32m\"<ipython-input-1-67f517664fed>\"\u001b[0;36m, line \u001b[0;32m10\u001b[0;36m, in \u001b[0;35m<module>\u001b[0;36m\u001b[0m\n\u001b[0;31m    from DeePyMoD_SBL.deepymod_torch.training import train\u001b[0m\n",
      "\u001b[0;36m  File \u001b[0;32m\"/home/gert-jan/DeePyMoD_SBL/src/DeePyMoD_SBL/deepymod_torch/training.py\"\u001b[0;36m, line \u001b[0;32m87\u001b[0m\n\u001b[0;31m    def train_dynamic(model, data, target, optimizer, max_iterations, loss_func_args={'sparsity_update': 200}, sparsity_estimator):\u001b[0m\n\u001b[0m                     ^\u001b[0m\n\u001b[0;31mSyntaxError\u001b[0m\u001b[0;31m:\u001b[0m non-default argument follows default argument\n"
     ]
    }
   ],
   "source": [
    "import numpy as np\n",
    "import pandas as pd\n",
    "import torch\n",
    "\n",
    "from DeePyMoD_SBL.data import Burgers\n",
    "from DeePyMoD_SBL.deepymod_torch.library_functions import library_1D_in\n",
    "from DeePyMoD_SBL.deepymod_torch.DeepMod import DeepModDynamic\n",
    "from DeePyMoD_SBL.deepymod_torch.output import Tensorboard, progress\n",
    "from DeePyMoD_SBL.deepymod_torch.losses import reg_loss, mse_loss\n",
    "from DeePyMoD_SBL.deepymod_torch.training import train\n",
    "from DeePyMoD_SBL.deepymod_torch.sparsity import scaling\n",
    "\n",
    "if torch.cuda.is_available():\n",
    "    torch.set_default_tensor_type('torch.cuda.FloatTensor')\n",
    "\n",
    "import matplotlib.pyplot as plt\n",
    "import time\n",
    "\n",
    "%load_ext autoreload\n",
    "%autoreload 2"
   ]
  },
  {
   "cell_type": "markdown",
   "metadata": {},
   "source": [
    "# Making data"
   ]
  },
  {
   "cell_type": "code",
   "execution_count": 3,
   "metadata": {},
   "outputs": [],
   "source": [
    "x = np.linspace(-2, 5, 75)\n",
    "t = np.linspace(0.5, 5.0, 25)\n",
    "\n",
    "x_grid, t_grid = np.meshgrid(x, t, indexing='ij')"
   ]
  },
  {
   "cell_type": "code",
   "execution_count": 4,
   "metadata": {},
   "outputs": [],
   "source": [
    "dataset = Burgers(0.1, 1.0)"
   ]
  },
  {
   "cell_type": "code",
   "execution_count": 5,
   "metadata": {},
   "outputs": [],
   "source": [
    "u = dataset.solution(x_grid, t_grid)"
   ]
  },
  {
   "cell_type": "code",
   "execution_count": 6,
   "metadata": {},
   "outputs": [],
   "source": [
    "X = np.concatenate((t_grid.reshape(-1, 1), x_grid.reshape(-1, 1)), axis=1)\n",
    "y = u.reshape(-1, 1)"
   ]
  },
  {
   "cell_type": "code",
   "execution_count": 7,
   "metadata": {},
   "outputs": [],
   "source": [
    "X_train = torch.tensor(X, dtype=torch.float32, requires_grad=True)\n",
    "y_train = torch.tensor(y, dtype=torch.float32, requires_grad=True)"
   ]
  },
  {
   "cell_type": "code",
   "execution_count": 8,
   "metadata": {},
   "outputs": [],
   "source": [
    "noise_level = 0.05"
   ]
  },
  {
   "cell_type": "code",
   "execution_count": 9,
   "metadata": {},
   "outputs": [],
   "source": [
    "X_train = torch.tensor(X, dtype=torch.float32, requires_grad=True)\n",
    "y_train = torch.tensor(y + noise_level * np.std(y) * np.random.randn(y.size, 1), dtype=torch.float32, requires_grad=True)"
   ]
  },
  {
   "cell_type": "markdown",
   "metadata": {},
   "source": [
    "# Finished run"
   ]
  },
  {
   "cell_type": "markdown",
   "metadata": {},
   "source": [
    "Let's start by trying to one to run on a finished run:"
   ]
  },
  {
   "cell_type": "code",
   "execution_count": 125,
   "metadata": {},
   "outputs": [],
   "source": [
    "config = {'n_in': 2, 'hidden_dims': [20, 20, 20, 20], 'n_out': 1, 'library_function':library_1D_in, 'library_args':{'poly_order':2, 'diff_order': 2}, 'fit_method':'lstsq'}"
   ]
  },
  {
   "cell_type": "code",
   "execution_count": 126,
   "metadata": {},
   "outputs": [],
   "source": [
    "model = DeepModDynamic(**config)"
   ]
  },
  {
   "cell_type": "code",
   "execution_count": 127,
   "metadata": {},
   "outputs": [],
   "source": [
    "optimizer = torch.optim.Adam(model.network_parameters(), betas=(0.99, 0.999), amsgrad=True)"
   ]
  },
  {
   "cell_type": "code",
   "execution_count": 128,
   "metadata": {},
   "outputs": [
    {
     "name": "stdout",
     "output_type": "stream",
     "text": [
      "| Iteration | Progress | Time remaining |     Cost |      MSE |      Reg |       L1 |\n",
      "       5000    100.00%               0s   1.22e-04   1.07e-04   1.49e-05   0.00e+00 "
     ]
    }
   ],
   "source": [
    "train(model, X_train, y_train, optimizer, 5000, loss_func_args={'l1':0.0})"
   ]
  },
  {
   "cell_type": "code",
   "execution_count": 129,
   "metadata": {},
   "outputs": [
    {
     "data": {
      "text/plain": [
       "[tensor([[ 3.6146e-04],\n",
       "         [-3.2395e-02],\n",
       "         [ 9.4659e-02],\n",
       "         [ 8.7055e-02],\n",
       "         [-9.5481e-01],\n",
       "         [-2.3779e-02],\n",
       "         [-2.8188e-01],\n",
       "         [ 2.0836e-01],\n",
       "         [-2.2321e-02]], grad_fn=<MmBackward>)]"
      ]
     },
     "execution_count": 129,
     "metadata": {},
     "output_type": "execute_result"
    }
   ],
   "source": [
    "model.fit.coeff_vector"
   ]
  },
  {
   "cell_type": "markdown",
   "metadata": {},
   "source": [
    "So that's already decent. Now let's build a function for the SKLearn estimator"
   ]
  },
  {
   "cell_type": "code",
   "execution_count": 130,
   "metadata": {},
   "outputs": [],
   "source": [
    "from sklearn.linear_model import Lasso"
   ]
  },
  {
   "cell_type": "code",
   "execution_count": 131,
   "metadata": {},
   "outputs": [],
   "source": [
    "regression_func = Lasso(alpha = 1e-4, fit_intercept=False, warm_start=True)"
   ]
  },
  {
   "cell_type": "code",
   "execution_count": 132,
   "metadata": {},
   "outputs": [],
   "source": [
    "_, time_deriv_list, _, _, theta = model(X_train)"
   ]
  },
  {
   "cell_type": "code",
   "execution_count": 133,
   "metadata": {},
   "outputs": [],
   "source": [
    "# Normalizing output\n",
    "dt = (time_deriv_list[0] / torch.norm(time_deriv_list[0])).detach().cpu().numpy()\n",
    "library = (theta / torch.norm(theta, dim=0, keepdim=True)).detach().cpu().numpy()"
   ]
  },
  {
   "cell_type": "code",
   "execution_count": 134,
   "metadata": {},
   "outputs": [
    {
     "data": {
      "text/plain": [
       "Lasso(alpha=0.0001, copy_X=True, fit_intercept=False, max_iter=1000,\n",
       "      normalize=False, positive=False, precompute=False, random_state=None,\n",
       "      selection='cyclic', tol=0.0001, warm_start=True)"
      ]
     },
     "execution_count": 134,
     "metadata": {},
     "output_type": "execute_result"
    }
   ],
   "source": [
    "regression_func.fit(library, dt)"
   ]
  },
  {
   "cell_type": "code",
   "execution_count": 135,
   "metadata": {},
   "outputs": [
    {
     "data": {
      "text/plain": [
       "array([[ 2.3094011e-02, -7.6393841e-04, -1.7560687e-04, ...,\n",
       "         4.1599151e-08, -5.0328308e-10, -5.7332559e-11],\n",
       "       [ 2.3094011e-02, -7.4954121e-04, -1.6793852e-04, ...,\n",
       "         4.9248911e-08, -5.8460387e-10, -6.4911604e-11],\n",
       "       [ 2.3094011e-02, -7.5426686e-04, -1.3502689e-04, ...,\n",
       "         2.2814547e-07, -2.7252502e-09, -2.4177285e-10],\n",
       "       ...,\n",
       "       [ 2.3094011e-02, -4.0604093e-04, -2.6956028e-05, ...,\n",
       "         4.1664947e-07, -2.6792308e-09, -8.8145893e-11],\n",
       "       [ 2.3094011e-02, -4.1904260e-04, -8.6138898e-05, ...,\n",
       "         1.2691975e-06, -8.4228073e-09, -8.5803281e-10],\n",
       "       [ 2.3094011e-02, -4.0795127e-04, -1.4998896e-04, ...,\n",
       "         2.7227154e-06, -1.7590576e-08, -3.2050658e-09]], dtype=float32)"
      ]
     },
     "execution_count": 135,
     "metadata": {},
     "output_type": "execute_result"
    }
   ],
   "source": [
    "library"
   ]
  },
  {
   "cell_type": "code",
   "execution_count": 136,
   "metadata": {},
   "outputs": [
    {
     "data": {
      "text/plain": [
       "array([ 0.        , -0.22397563,  0.2963842 , -0.        , -0.49769747,\n",
       "        0.        , -0.        , -0.        ,  0.        ], dtype=float32)"
      ]
     },
     "execution_count": 136,
     "metadata": {},
     "output_type": "execute_result"
    }
   ],
   "source": [
    "regression_func.coef_"
   ]
  },
  {
   "cell_type": "code",
   "execution_count": 137,
   "metadata": {},
   "outputs": [
    {
     "data": {
      "text/plain": [
       "tensor([False,  True,  True, False,  True, False, False, False, False])"
      ]
     },
     "execution_count": 137,
     "metadata": {},
     "output_type": "execute_result"
    }
   ],
   "source": [
    "torch.tensor(regression_func.coef_ != 0.0, dtype=torch.bool)"
   ]
  },
  {
   "cell_type": "markdown",
   "metadata": {},
   "source": [
    "So that works. Let's set it up in a function"
   ]
  },
  {
   "cell_type": "code",
   "execution_count": 138,
   "metadata": {},
   "outputs": [],
   "source": [
    "def determine_sparsity_mask(estimator, X, y):\n",
    "    # Normalizing inputs\n",
    "    y_normed = (y / torch.norm(y, keepdim=True)).detach().cpu().numpy()\n",
    "    X_normed = (X / torch.norm(X, dim=0, keepdim=True)).detach().cpu().numpy()\n",
    "    \n",
    "    estimator.fit(X_normed, y_normed)\n",
    "    sparsity_mask = torch.tensor(estimator.coef_ != 0.0, dtype=torch.bool)\n",
    "    print(sparsity_mask)\n",
    "    print(estimator.coef_)\n",
    "    \n",
    "    return sparsity_mask"
   ]
  },
  {
   "cell_type": "code",
   "execution_count": 139,
   "metadata": {},
   "outputs": [
    {
     "name": "stdout",
     "output_type": "stream",
     "text": [
      "tensor([False,  True,  True, False,  True, False, False, False, False])\n",
      "[ 0.         -0.22393566  0.29639372 -0.         -0.49773443  0.\n",
      " -0.         -0.          0.        ]\n"
     ]
    },
    {
     "data": {
      "text/plain": [
       "tensor([False,  True,  True, False,  True, False, False, False, False])"
      ]
     },
     "execution_count": 139,
     "metadata": {},
     "output_type": "execute_result"
    }
   ],
   "source": [
    "determine_sparsity_mask(regression_func, theta, time_deriv_list[0])"
   ]
  },
  {
   "cell_type": "code",
   "execution_count": 140,
   "metadata": {},
   "outputs": [
    {
     "data": {
      "text/plain": [
       "[tensor([True, True, True, True, True, True, True, True, True])]"
      ]
     },
     "execution_count": 140,
     "metadata": {},
     "output_type": "execute_result"
    }
   ],
   "source": [
    "model.fit.sparsity_mask"
   ]
  },
  {
   "cell_type": "code",
   "execution_count": 141,
   "metadata": {},
   "outputs": [],
   "source": [
    "def train_dynamic(model, data, target, optimizer, max_iterations, sparsity_estimator):\n",
    "    '''Trains the deepmod model with MSE, regression and l1 cost function. Updates model in-place.'''\n",
    "    start_time = time.time()\n",
    "    number_of_terms = [coeff_vec.shape[0] for coeff_vec in model(data)[3]]\n",
    "    board = Tensorboard(number_of_terms)\n",
    "\n",
    "    # Training\n",
    "    print('| Iteration | Progress | Time remaining |     Cost |      MSE |      Reg |       L1 |')\n",
    "    for iteration in torch.arange(0, max_iterations + 1):\n",
    "        # Calculating prediction and library and scaling\n",
    "        prediction, time_deriv_list, sparse_theta_list, coeff_vector_list, theta = model(data)\n",
    "        coeff_vector_scaled_list = scaling(coeff_vector_list, sparse_theta_list, time_deriv_list) \n",
    "        \n",
    "        # Calculating loss\n",
    "        loss_reg = reg_loss(time_deriv_list, sparse_theta_list, coeff_vector_list)\n",
    "        loss_mse = mse_loss(prediction, target)\n",
    "        loss = torch.sum(loss_reg) + torch.sum(loss_mse)\n",
    "        \n",
    "        # Writing\n",
    "        if iteration % 100 == 0:\n",
    "            progress(iteration, start_time, max_iterations, loss.item(), torch.sum(loss_mse).item(), torch.sum(loss_reg).item(), torch.sum(loss_reg).item())\n",
    "            board.write(iteration, loss, loss_mse, loss_reg, loss_reg, coeff_vector_list, coeff_vector_scaled_list)\n",
    "\n",
    "        # Optimizer step\n",
    "        optimizer.zero_grad()\n",
    "        loss.backward()\n",
    "        optimizer.step()\n",
    "        \n",
    "        # Updating sparsity pattern\n",
    "        if iteration % 200 == 0:\n",
    "            with torch.no_grad():\n",
    "                model.fit.sparsity_mask = [determine_sparsity_mask(sparsity_estimator, theta, time_deriv_list[0])]\n",
    "               \n",
    "         \n",
    "    board.close()"
   ]
  },
  {
   "cell_type": "code",
   "execution_count": 142,
   "metadata": {},
   "outputs": [],
   "source": [
    "lasso_estimator = Lasso(alpha = 1e-4, fit_intercept=False, warm_start=True)"
   ]
  },
  {
   "cell_type": "code",
   "execution_count": 143,
   "metadata": {},
   "outputs": [],
   "source": [
    "optimizer = torch.optim.Adam(model.network_parameters(), betas=(0.99, 0.999), amsgrad=True)"
   ]
  },
  {
   "cell_type": "code",
   "execution_count": 144,
   "metadata": {},
   "outputs": [
    {
     "name": "stdout",
     "output_type": "stream",
     "text": [
      "| Iteration | Progress | Time remaining |     Cost |      MSE |      Reg |       L1 |\n",
      "          0      0.00%               0s   1.22e-04   1.07e-04   1.49e-05   1.49e-05 tensor([False,  True,  True, False,  True, False, False, False, False])\n",
      "[ 0.         -0.22397563  0.2963842  -0.         -0.49769747  0.\n",
      " -0.         -0.          0.        ]\n",
      "        200      4.00%              71s   1.53e-04   1.17e-04   3.62e-05   3.62e-05 tensor([False,  True,  True, False,  True, False, False, False, False])\n",
      "[ 0.         -0.19730565  0.32898834 -0.         -0.51572114  0.\n",
      " -0.         -0.          0.        ]\n",
      "        400      8.00%              65s   1.24e-04   1.03e-04   2.02e-05   2.02e-05 tensor([False,  True,  True, False,  True, False, False, False, False])\n",
      "[ 0.         -0.16538101  0.33680338 -0.         -0.54595286  0.\n",
      " -0.         -0.          0.        ]\n",
      "        600     12.00%              62s   1.06e-04   9.46e-05   1.18e-05   1.18e-05 tensor([False,  True,  True, False,  True, False, False, False, False])\n",
      "[ 0.         -0.1495341   0.34241882 -0.         -0.5604066   0.\n",
      " -0.         -0.          0.        ]\n",
      "        800     16.00%              59s   1.01e-04   9.23e-05   8.35e-06   8.35e-06 tensor([False,  True,  True, False,  True, False, False, False, False])\n",
      "[ 0.         -0.13564153  0.34701973 -0.         -0.5727504   0.\n",
      " -0.         -0.          0.        ]\n",
      "       1000     20.00%              59s   9.80e-05   9.15e-05   6.50e-06   6.50e-06 tensor([False,  True,  True, False,  True, False, False, False, False])\n",
      "[ 0.         -0.13059106  0.349169   -0.         -0.57702917  0.\n",
      " -0.         -0.          0.        ]\n",
      "       1200     24.00%              53s   9.64e-05   9.10e-05   5.39e-06   5.39e-06 tensor([False,  True,  True, False,  True, False, False, False, False])\n",
      "[ 0.         -0.1279207   0.35082123 -0.         -0.5789595   0.\n",
      " -0.         -0.          0.        ]\n",
      "       1400     28.00%              41s   9.53e-05   9.06e-05   4.66e-06   4.66e-06 tensor([False,  True,  True, False,  True, False, False, False, False])\n",
      "[ 0.         -0.1260993   0.35190454 -0.         -0.58026886  0.\n",
      " -0.         -0.          0.        ]\n",
      "       1600     32.00%              47s   9.44e-05   9.03e-05   4.12e-06   4.12e-06 tensor([False,  True,  True, False,  True, False, False, False, False])\n",
      "[ 0.         -0.1250284   0.35274738 -0.         -0.58092654  0.\n",
      " -0.         -0.          0.        ]\n",
      "       1800     36.00%              27s   9.38e-05   9.01e-05   3.69e-06   3.69e-06 tensor([False,  True,  True, False,  True, False, False, False, False])\n",
      "[ 0.         -0.12430449  0.35340923 -0.         -0.5813189   0.\n",
      " -0.         -0.          0.        ]\n",
      "       2000     40.00%              30s   9.32e-05   8.99e-05   3.34e-06   3.34e-06 tensor([False,  True,  True, False,  True, False, False, False, False])\n",
      "[ 0.         -0.12376602  0.35394374 -0.         -0.5815885   0.\n",
      " -0.         -0.          0.        ]\n",
      "       2200     44.00%              33s   9.28e-05   8.97e-05   3.07e-06   3.07e-06 tensor([False,  True,  True, False,  True, False, False, False, False])\n",
      "[ 0.         -0.12337276  0.35439318 -0.         -0.5817547   0.\n",
      " -0.         -0.          0.        ]\n",
      "       2400     48.00%              36s   9.25e-05   8.96e-05   2.84e-06   2.84e-06 tensor([False,  True,  True, False,  True, False, False, False, False])\n",
      "[ 0.         -0.12308782  0.3547742  -0.         -0.5818467   0.\n",
      " -0.         -0.          0.        ]\n",
      "       2600     52.00%               0s   9.22e-05   8.95e-05   2.66e-06   2.66e-06 tensor([False,  True,  True, False,  True, False, False, False, False])\n",
      "[ 0.         -0.12285347  0.35511422 -0.         -0.5819114   0.\n",
      " -0.         -0.          0.        ]\n",
      "       2800     56.00%               0s   9.20e-05   8.95e-05   2.50e-06   2.50e-06 tensor([False,  True,  True, False,  True, False, False, False, False])\n",
      "[ 0.         -0.12267187  0.35542035 -0.         -0.58194196  0.\n",
      " -0.         -0.          0.        ]\n",
      "       3000     60.00%               0s   9.18e-05   8.94e-05   2.37e-06   2.37e-06 tensor([False,  True,  True, False,  True, False, False, False, False])\n",
      "[ 0.         -0.12254356  0.35569534 -0.         -0.58193445  0.\n",
      " -0.         -0.          0.        ]\n",
      "       3200     64.00%               0s   9.16e-05   8.93e-05   2.25e-06   2.25e-06 tensor([False,  True,  True, False,  True, False, False, False, False])\n",
      "[ 0.         -0.12246072  0.35594562 -0.         -0.58189416  0.\n",
      " -0.         -0.          0.        ]\n",
      "       3400     68.00%               0s   9.14e-05   8.93e-05   2.15e-06   2.15e-06 tensor([False,  True,  True, False,  True, False, False, False, False])\n",
      "[ 0.         -0.12241958  0.35617357 -0.         -0.58182317  0.\n",
      " -0.         -0.          0.        ]\n",
      "       3600     72.00%               0s   9.13e-05   8.93e-05   2.07e-06   2.07e-06 tensor([False,  True,  True, False,  True, False, False, False, False])\n",
      "[ 0.         -0.12241283  0.35638252 -0.         -0.5817268   0.\n",
      " -0.         -0.          0.        ]\n",
      "       3800     76.00%               0s   9.12e-05   8.92e-05   1.99e-06   1.99e-06 tensor([False,  True,  True, False,  True, False, False, False, False])\n",
      "[ 0.         -0.12243456  0.35657585 -0.         -0.58160925  0.\n",
      " -0.         -0.          0.        ]\n",
      "       4000     80.00%               0s   9.11e-05   8.92e-05   1.92e-06   1.92e-06 tensor([False,  True,  True, False,  True, False, False, False, False])\n",
      "[ 0.         -0.12253433  0.35674018 -0.         -0.58142424  0.\n",
      " -0.         -0.          0.        ]\n",
      "       4200     84.00%               0s   9.10e-05   8.91e-05   1.85e-06   1.85e-06 tensor([False,  True,  True, False,  True, False, False, False, False])\n",
      "[ 0.         -0.12263225  0.35689792 -0.         -0.5812451   0.\n",
      " -0.         -0.          0.        ]\n",
      "       4400     88.00%               0s   9.09e-05   8.91e-05   1.79e-06   1.79e-06 tensor([False,  True,  True, False,  True, False, False, False, False])\n",
      "[ 0.         -0.12273227  0.35704944 -0.         -0.5810682   0.\n",
      " -0.         -0.          0.        ]\n",
      "       4600     92.00%               0s   9.08e-05   8.91e-05   1.74e-06   1.74e-06 tensor([False,  True,  True, False,  True, False, False, False, False])\n",
      "[ 0.         -0.12283699  0.35719278 -0.         -0.5808905   0.\n",
      " -0.         -0.          0.        ]\n",
      "       4800     96.00%               0s   9.08e-05   8.91e-05   1.69e-06   1.69e-06 tensor([False,  True,  True, False,  True, False, False, False, False])\n",
      "[ 0.         -0.12294433  0.3573293  -0.         -0.58071387  0.\n",
      " -0.         -0.          0.        ]\n",
      "       5000    100.00%               0s   9.07e-05   8.91e-05   1.64e-06   1.64e-06 tensor([False,  True,  True, False,  True, False, False, False, False])\n",
      "[ 0.         -0.12305418  0.35746005 -0.         -0.5805379   0.\n",
      " -0.         -0.          0.        ]\n"
     ]
    }
   ],
   "source": [
    "train_dynamic(model, X_train, y_train, optimizer, 5000, lasso_estimator)"
   ]
  },
  {
   "cell_type": "code",
   "execution_count": 145,
   "metadata": {},
   "outputs": [
    {
     "data": {
      "text/plain": [
       "[tensor([False,  True,  True, False,  True, False, False, False, False])]"
      ]
     },
     "execution_count": 145,
     "metadata": {},
     "output_type": "execute_result"
    }
   ],
   "source": [
    "model.fit.sparsity_mask"
   ]
  },
  {
   "cell_type": "code",
   "execution_count": 146,
   "metadata": {},
   "outputs": [
    {
     "data": {
      "text/plain": [
       "[tensor([[ 0.0066],\n",
       "         [ 0.1000],\n",
       "         [-1.0248]], grad_fn=<MmBackward>)]"
      ]
     },
     "execution_count": 146,
     "metadata": {},
     "output_type": "execute_result"
    }
   ],
   "source": [
    "model.fit.coeff_vector"
   ]
  },
  {
   "cell_type": "markdown",
   "metadata": {},
   "source": [
    "Fuck it works!!! Now let's try it out with other estimators"
   ]
  },
  {
   "cell_type": "markdown",
   "metadata": {},
   "source": [
    "# Trying with lassocv"
   ]
  },
  {
   "cell_type": "code",
   "execution_count": 151,
   "metadata": {},
   "outputs": [],
   "source": [
    "config = {'n_in': 2, 'hidden_dims': [20, 20, 20, 20], 'n_out': 1, 'library_function':library_1D_in, 'library_args':{'poly_order':2, 'diff_order': 2}, 'fit_method':'lstsq'}"
   ]
  },
  {
   "cell_type": "code",
   "execution_count": 152,
   "metadata": {},
   "outputs": [],
   "source": [
    "model = DeepModDynamic(**config)"
   ]
  },
  {
   "cell_type": "code",
   "execution_count": 153,
   "metadata": {},
   "outputs": [],
   "source": [
    "optimizer = torch.optim.Adam(model.network_parameters(), betas=(0.99, 0.999), amsgrad=True)"
   ]
  },
  {
   "cell_type": "code",
   "execution_count": 154,
   "metadata": {},
   "outputs": [
    {
     "name": "stdout",
     "output_type": "stream",
     "text": [
      "| Iteration | Progress | Time remaining |     Cost |      MSE |      Reg |       L1 |\n",
      "       5000    100.00%               0s   1.51e-04   1.23e-04   2.81e-05   0.00e+00 "
     ]
    }
   ],
   "source": [
    "train(model, X_train, y_train, optimizer, 5000, loss_func_args={'l1':0.0})"
   ]
  },
  {
   "cell_type": "code",
   "execution_count": 155,
   "metadata": {},
   "outputs": [],
   "source": [
    "from sklearn.linear_model import LassoCV"
   ]
  },
  {
   "cell_type": "code",
   "execution_count": 156,
   "metadata": {},
   "outputs": [],
   "source": [
    "lassocv_estimator = LassoCV(fit_intercept=False)"
   ]
  },
  {
   "cell_type": "code",
   "execution_count": 157,
   "metadata": {},
   "outputs": [],
   "source": [
    "optimizer = torch.optim.Adam(model.network_parameters(), betas=(0.99, 0.999), amsgrad=True)"
   ]
  },
  {
   "cell_type": "code",
   "execution_count": 172,
   "metadata": {},
   "outputs": [
    {
     "name": "stdout",
     "output_type": "stream",
     "text": [
      "| Iteration | Progress | Time remaining |     Cost |      MSE |      Reg |       L1 |\n",
      "          0      0.00%               0s   8.94e-05   8.86e-05   7.76e-07   7.76e-07 tensor([ True, False,  True, False,  True, False, False,  True, False])\n",
      "[ 7.5014791e-04 -0.0000000e+00  6.3563365e-01 -0.0000000e+00\n",
      " -9.0915442e-01  0.0000000e+00 -0.0000000e+00 -3.1983010e-02\n",
      "  0.0000000e+00]\n"
     ]
    },
    {
     "name": "stderr",
     "output_type": "stream",
     "text": [
      "/opt/conda/lib/python3.6/site-packages/sklearn/linear_model/coordinate_descent.py:1100: DataConversionWarning: A column-vector y was passed when a 1d array was expected. Please change the shape of y to (n_samples, ), for example using ravel().\n",
      "  y = column_or_1d(y, warn=True)\n",
      "/opt/conda/lib/python3.6/site-packages/sklearn/model_selection/_split.py:1978: FutureWarning: The default value of cv will change from 3 to 5 in version 0.22. Specify it explicitly to silence this warning.\n",
      "  warnings.warn(CV_WARNING, FutureWarning)\n"
     ]
    },
    {
     "name": "stdout",
     "output_type": "stream",
     "text": [
      "        200      4.00%              69s   8.94e-05   8.86e-05   7.57e-07   7.57e-07 tensor([ True,  True,  True, False,  True, False, False,  True, False])\n",
      "[ 6.6405424e-04 -6.8539020e-04  6.3587934e-01 -0.0000000e+00\n",
      " -9.0669394e-01  0.0000000e+00 -0.0000000e+00 -3.4028254e-02\n",
      "  0.0000000e+00]\n"
     ]
    },
    {
     "name": "stderr",
     "output_type": "stream",
     "text": [
      "/opt/conda/lib/python3.6/site-packages/sklearn/linear_model/coordinate_descent.py:1100: DataConversionWarning: A column-vector y was passed when a 1d array was expected. Please change the shape of y to (n_samples, ), for example using ravel().\n",
      "  y = column_or_1d(y, warn=True)\n",
      "/opt/conda/lib/python3.6/site-packages/sklearn/model_selection/_split.py:1978: FutureWarning: The default value of cv will change from 3 to 5 in version 0.22. Specify it explicitly to silence this warning.\n",
      "  warnings.warn(CV_WARNING, FutureWarning)\n"
     ]
    },
    {
     "name": "stdout",
     "output_type": "stream",
     "text": [
      "        400      8.00%              64s   8.94e-05   8.86e-05   7.43e-07   7.43e-07 tensor([ True, False,  True, False,  True, False, False,  True, False])\n",
      "[ 6.8426324e-04 -0.0000000e+00  6.3582623e-01 -0.0000000e+00\n",
      " -9.0904284e-01  0.0000000e+00 -0.0000000e+00 -3.2114077e-02\n",
      "  0.0000000e+00]\n"
     ]
    },
    {
     "name": "stderr",
     "output_type": "stream",
     "text": [
      "/opt/conda/lib/python3.6/site-packages/sklearn/linear_model/coordinate_descent.py:1100: DataConversionWarning: A column-vector y was passed when a 1d array was expected. Please change the shape of y to (n_samples, ), for example using ravel().\n",
      "  y = column_or_1d(y, warn=True)\n",
      "/opt/conda/lib/python3.6/site-packages/sklearn/model_selection/_split.py:1978: FutureWarning: The default value of cv will change from 3 to 5 in version 0.22. Specify it explicitly to silence this warning.\n",
      "  warnings.warn(CV_WARNING, FutureWarning)\n"
     ]
    },
    {
     "name": "stdout",
     "output_type": "stream",
     "text": [
      "        600     12.00%              61s   8.94e-05   8.86e-05   7.30e-07   7.30e-07 tensor([ True,  True,  True, False,  True, False, False,  True, False])\n",
      "[ 6.8914233e-04 -5.2387564e-04  6.3603657e-01 -0.0000000e+00\n",
      " -9.0735364e-01  0.0000000e+00 -0.0000000e+00 -3.3403166e-02\n",
      "  0.0000000e+00]\n"
     ]
    },
    {
     "name": "stderr",
     "output_type": "stream",
     "text": [
      "/opt/conda/lib/python3.6/site-packages/sklearn/linear_model/coordinate_descent.py:1100: DataConversionWarning: A column-vector y was passed when a 1d array was expected. Please change the shape of y to (n_samples, ), for example using ravel().\n",
      "  y = column_or_1d(y, warn=True)\n",
      "/opt/conda/lib/python3.6/site-packages/sklearn/model_selection/_split.py:1978: FutureWarning: The default value of cv will change from 3 to 5 in version 0.22. Specify it explicitly to silence this warning.\n",
      "  warnings.warn(CV_WARNING, FutureWarning)\n"
     ]
    },
    {
     "name": "stdout",
     "output_type": "stream",
     "text": [
      "        800     16.00%              59s   8.93e-05   8.86e-05   7.18e-07   7.18e-07 tensor([ True, False,  True, False,  True, False, False,  True, False])\n",
      "[ 7.0417614e-04 -0.0000000e+00  6.3599044e-01 -0.0000000e+00\n",
      " -9.0927500e-01  0.0000000e+00 -0.0000000e+00 -3.1759743e-02\n",
      "  0.0000000e+00]\n"
     ]
    },
    {
     "name": "stderr",
     "output_type": "stream",
     "text": [
      "/opt/conda/lib/python3.6/site-packages/sklearn/linear_model/coordinate_descent.py:1100: DataConversionWarning: A column-vector y was passed when a 1d array was expected. Please change the shape of y to (n_samples, ), for example using ravel().\n",
      "  y = column_or_1d(y, warn=True)\n",
      "/opt/conda/lib/python3.6/site-packages/sklearn/model_selection/_split.py:1978: FutureWarning: The default value of cv will change from 3 to 5 in version 0.22. Specify it explicitly to silence this warning.\n",
      "  warnings.warn(CV_WARNING, FutureWarning)\n"
     ]
    },
    {
     "name": "stdout",
     "output_type": "stream",
     "text": [
      "       1000     20.00%              58s   8.93e-05   8.86e-05   7.08e-07   7.08e-07 tensor([ True,  True,  True, False,  True, False, False,  True, False])\n",
      "[ 6.9916120e-04 -5.0486380e-04  6.3618147e-01 -0.0000000e+00\n",
      " -9.0766484e-01  0.0000000e+00 -0.0000000e+00 -3.2995597e-02\n",
      "  0.0000000e+00]\n"
     ]
    },
    {
     "name": "stderr",
     "output_type": "stream",
     "text": [
      "/opt/conda/lib/python3.6/site-packages/sklearn/linear_model/coordinate_descent.py:1100: DataConversionWarning: A column-vector y was passed when a 1d array was expected. Please change the shape of y to (n_samples, ), for example using ravel().\n",
      "  y = column_or_1d(y, warn=True)\n",
      "/opt/conda/lib/python3.6/site-packages/sklearn/model_selection/_split.py:1978: FutureWarning: The default value of cv will change from 3 to 5 in version 0.22. Specify it explicitly to silence this warning.\n",
      "  warnings.warn(CV_WARNING, FutureWarning)\n"
     ]
    },
    {
     "name": "stdout",
     "output_type": "stream",
     "text": [
      "       1200     24.00%              53s   8.93e-05   8.86e-05   6.98e-07   6.98e-07 tensor([ True, False,  True, False,  True, False, False,  True, False])\n",
      "[ 7.1456598e-04 -0.0000000e+00  6.3611752e-01 -0.0000000e+00\n",
      " -9.0959859e-01  0.0000000e+00 -0.0000000e+00 -3.1327866e-02\n",
      "  0.0000000e+00]\n"
     ]
    },
    {
     "name": "stderr",
     "output_type": "stream",
     "text": [
      "/opt/conda/lib/python3.6/site-packages/sklearn/linear_model/coordinate_descent.py:1100: DataConversionWarning: A column-vector y was passed when a 1d array was expected. Please change the shape of y to (n_samples, ), for example using ravel().\n",
      "  y = column_or_1d(y, warn=True)\n",
      "/opt/conda/lib/python3.6/site-packages/sklearn/model_selection/_split.py:1978: FutureWarning: The default value of cv will change from 3 to 5 in version 0.22. Specify it explicitly to silence this warning.\n",
      "  warnings.warn(CV_WARNING, FutureWarning)\n"
     ]
    },
    {
     "name": "stdout",
     "output_type": "stream",
     "text": [
      "       1400     28.00%              41s   8.93e-05   8.86e-05   6.89e-07   6.89e-07 tensor([ True,  True,  True, False,  True, False, False,  True, False])\n",
      "[ 7.111455e-04 -4.799178e-04  6.363174e-01 -0.000000e+00 -9.079192e-01\n",
      "  0.000000e+00 -0.000000e+00 -3.267166e-02  0.000000e+00]\n"
     ]
    },
    {
     "name": "stderr",
     "output_type": "stream",
     "text": [
      "/opt/conda/lib/python3.6/site-packages/sklearn/linear_model/coordinate_descent.py:1100: DataConversionWarning: A column-vector y was passed when a 1d array was expected. Please change the shape of y to (n_samples, ), for example using ravel().\n",
      "  y = column_or_1d(y, warn=True)\n",
      "/opt/conda/lib/python3.6/site-packages/sklearn/model_selection/_split.py:1978: FutureWarning: The default value of cv will change from 3 to 5 in version 0.22. Specify it explicitly to silence this warning.\n",
      "  warnings.warn(CV_WARNING, FutureWarning)\n"
     ]
    },
    {
     "name": "stdout",
     "output_type": "stream",
     "text": [
      "       1600     32.00%              47s   8.93e-05   8.86e-05   6.80e-07   6.80e-07 tensor([ True, False,  True, False,  True, False, False,  True, False])\n",
      "[ 7.2616356e-04 -0.0000000e+00  6.3623101e-01 -0.0000000e+00\n",
      " -9.0984601e-01  0.0000000e+00 -0.0000000e+00 -3.0988639e-02\n",
      "  0.0000000e+00]\n"
     ]
    },
    {
     "name": "stderr",
     "output_type": "stream",
     "text": [
      "/opt/conda/lib/python3.6/site-packages/sklearn/linear_model/coordinate_descent.py:1100: DataConversionWarning: A column-vector y was passed when a 1d array was expected. Please change the shape of y to (n_samples, ), for example using ravel().\n",
      "  y = column_or_1d(y, warn=True)\n",
      "/opt/conda/lib/python3.6/site-packages/sklearn/model_selection/_split.py:1978: FutureWarning: The default value of cv will change from 3 to 5 in version 0.22. Specify it explicitly to silence this warning.\n",
      "  warnings.warn(CV_WARNING, FutureWarning)\n"
     ]
    },
    {
     "name": "stdout",
     "output_type": "stream",
     "text": [
      "       1800     36.00%              26s   8.93e-05   8.86e-05   6.73e-07   6.73e-07 tensor([ True,  True,  True, False,  True, False, False,  True, False])\n",
      "[ 7.2241627e-04 -4.5828064e-04  6.3643974e-01 -0.0000000e+00\n",
      " -9.0812719e-01  0.0000000e+00 -0.0000000e+00 -3.2405019e-02\n",
      "  0.0000000e+00]\n"
     ]
    },
    {
     "name": "stderr",
     "output_type": "stream",
     "text": [
      "/opt/conda/lib/python3.6/site-packages/sklearn/linear_model/coordinate_descent.py:1100: DataConversionWarning: A column-vector y was passed when a 1d array was expected. Please change the shape of y to (n_samples, ), for example using ravel().\n",
      "  y = column_or_1d(y, warn=True)\n",
      "/opt/conda/lib/python3.6/site-packages/sklearn/model_selection/_split.py:1978: FutureWarning: The default value of cv will change from 3 to 5 in version 0.22. Specify it explicitly to silence this warning.\n",
      "  warnings.warn(CV_WARNING, FutureWarning)\n"
     ]
    },
    {
     "name": "stdout",
     "output_type": "stream",
     "text": [
      "       2000     40.00%              29s   8.92e-05   8.86e-05   6.65e-07   6.65e-07 tensor([ True, False,  True, False,  True, False, False,  True, False])\n",
      "[ 7.3689187e-04 -0.0000000e+00  6.3633943e-01 -0.0000000e+00\n",
      " -9.0999234e-01  0.0000000e+00 -0.0000000e+00 -3.0760307e-02\n",
      "  0.0000000e+00]\n"
     ]
    },
    {
     "name": "stderr",
     "output_type": "stream",
     "text": [
      "/opt/conda/lib/python3.6/site-packages/sklearn/linear_model/coordinate_descent.py:1100: DataConversionWarning: A column-vector y was passed when a 1d array was expected. Please change the shape of y to (n_samples, ), for example using ravel().\n",
      "  y = column_or_1d(y, warn=True)\n",
      "/opt/conda/lib/python3.6/site-packages/sklearn/model_selection/_split.py:1978: FutureWarning: The default value of cv will change from 3 to 5 in version 0.22. Specify it explicitly to silence this warning.\n",
      "  warnings.warn(CV_WARNING, FutureWarning)\n"
     ]
    },
    {
     "name": "stdout",
     "output_type": "stream",
     "text": [
      "       2200     44.00%              32s   8.92e-05   8.86e-05   6.58e-07   6.58e-07 tensor([ True,  True,  True, False,  True, False, False,  True, False])\n",
      "[ 7.3280127e-04 -4.3534517e-04  6.3655317e-01 -0.0000000e+00\n",
      " -9.0830821e-01  0.0000000e+00 -0.0000000e+00 -3.2177199e-02\n",
      "  0.0000000e+00]\n"
     ]
    },
    {
     "name": "stderr",
     "output_type": "stream",
     "text": [
      "/opt/conda/lib/python3.6/site-packages/sklearn/linear_model/coordinate_descent.py:1100: DataConversionWarning: A column-vector y was passed when a 1d array was expected. Please change the shape of y to (n_samples, ), for example using ravel().\n",
      "  y = column_or_1d(y, warn=True)\n",
      "/opt/conda/lib/python3.6/site-packages/sklearn/model_selection/_split.py:1978: FutureWarning: The default value of cv will change from 3 to 5 in version 0.22. Specify it explicitly to silence this warning.\n",
      "  warnings.warn(CV_WARNING, FutureWarning)\n"
     ]
    },
    {
     "name": "stdout",
     "output_type": "stream",
     "text": [
      "       2400     48.00%              35s   8.92e-05   8.86e-05   6.51e-07   6.51e-07 tensor([ True, False,  True, False,  True, False, False,  True, False])\n",
      "[ 7.4724056e-04 -0.0000000e+00  6.3643610e-01 -0.0000000e+00\n",
      " -9.1017413e-01  0.0000000e+00 -0.0000000e+00 -3.0508470e-02\n",
      "  0.0000000e+00]\n"
     ]
    },
    {
     "name": "stderr",
     "output_type": "stream",
     "text": [
      "/opt/conda/lib/python3.6/site-packages/sklearn/linear_model/coordinate_descent.py:1100: DataConversionWarning: A column-vector y was passed when a 1d array was expected. Please change the shape of y to (n_samples, ), for example using ravel().\n",
      "  y = column_or_1d(y, warn=True)\n",
      "/opt/conda/lib/python3.6/site-packages/sklearn/model_selection/_split.py:1978: FutureWarning: The default value of cv will change from 3 to 5 in version 0.22. Specify it explicitly to silence this warning.\n",
      "  warnings.warn(CV_WARNING, FutureWarning)\n"
     ]
    },
    {
     "name": "stdout",
     "output_type": "stream",
     "text": [
      "       2600     52.00%               0s   8.92e-05   8.86e-05   6.45e-07   6.45e-07 tensor([ True,  True,  True, False,  True, False, False,  True, False])\n",
      "[ 7.427804e-04 -4.141265e-04  6.366584e-01 -0.000000e+00 -9.084646e-01\n",
      "  0.000000e+00 -0.000000e+00 -3.198110e-02  0.000000e+00]\n"
     ]
    },
    {
     "name": "stderr",
     "output_type": "stream",
     "text": [
      "/opt/conda/lib/python3.6/site-packages/sklearn/linear_model/coordinate_descent.py:1100: DataConversionWarning: A column-vector y was passed when a 1d array was expected. Please change the shape of y to (n_samples, ), for example using ravel().\n",
      "  y = column_or_1d(y, warn=True)\n",
      "/opt/conda/lib/python3.6/site-packages/sklearn/model_selection/_split.py:1978: FutureWarning: The default value of cv will change from 3 to 5 in version 0.22. Specify it explicitly to silence this warning.\n",
      "  warnings.warn(CV_WARNING, FutureWarning)\n"
     ]
    },
    {
     "name": "stdout",
     "output_type": "stream",
     "text": [
      "       2800     56.00%               0s   8.92e-05   8.86e-05   6.39e-07   6.39e-07 tensor([ True, False,  True, False,  True, False, False,  True, False])\n",
      "[ 7.5686985e-04 -0.0000000e+00  6.3652557e-01 -0.0000000e+00\n",
      " -9.1031992e-01  0.0000000e+00 -0.0000000e+00 -3.0299852e-02\n",
      "  0.0000000e+00]\n"
     ]
    },
    {
     "name": "stderr",
     "output_type": "stream",
     "text": [
      "/opt/conda/lib/python3.6/site-packages/sklearn/linear_model/coordinate_descent.py:1100: DataConversionWarning: A column-vector y was passed when a 1d array was expected. Please change the shape of y to (n_samples, ), for example using ravel().\n",
      "  y = column_or_1d(y, warn=True)\n",
      "/opt/conda/lib/python3.6/site-packages/sklearn/model_selection/_split.py:1978: FutureWarning: The default value of cv will change from 3 to 5 in version 0.22. Specify it explicitly to silence this warning.\n",
      "  warnings.warn(CV_WARNING, FutureWarning)\n"
     ]
    },
    {
     "name": "stdout",
     "output_type": "stream",
     "text": [
      "       3000     60.00%               0s   8.92e-05   8.86e-05   6.34e-07   6.34e-07 tensor([ True,  True,  True, False,  True, False, False,  True, False])\n",
      "[ 7.5245550e-04 -3.9471002e-04  6.3675463e-01 -0.0000000e+00\n",
      " -9.0860373e-01  0.0000000e+00 -0.0000000e+00 -3.1806715e-02\n",
      "  0.0000000e+00]\n"
     ]
    },
    {
     "name": "stderr",
     "output_type": "stream",
     "text": [
      "/opt/conda/lib/python3.6/site-packages/sklearn/linear_model/coordinate_descent.py:1100: DataConversionWarning: A column-vector y was passed when a 1d array was expected. Please change the shape of y to (n_samples, ), for example using ravel().\n",
      "  y = column_or_1d(y, warn=True)\n",
      "/opt/conda/lib/python3.6/site-packages/sklearn/model_selection/_split.py:1978: FutureWarning: The default value of cv will change from 3 to 5 in version 0.22. Specify it explicitly to silence this warning.\n",
      "  warnings.warn(CV_WARNING, FutureWarning)\n"
     ]
    },
    {
     "name": "stdout",
     "output_type": "stream",
     "text": [
      "       3200     64.00%               0s   8.92e-05   8.86e-05   6.28e-07   6.28e-07 tensor([ True, False,  True, False,  True, False, False,  True, False])\n",
      "[ 7.6620991e-04 -0.0000000e+00  6.3660908e-01 -0.0000000e+00\n",
      " -9.1044915e-01  0.0000000e+00 -0.0000000e+00 -3.0113397e-02\n",
      "  0.0000000e+00]\n"
     ]
    },
    {
     "name": "stderr",
     "output_type": "stream",
     "text": [
      "/opt/conda/lib/python3.6/site-packages/sklearn/linear_model/coordinate_descent.py:1100: DataConversionWarning: A column-vector y was passed when a 1d array was expected. Please change the shape of y to (n_samples, ), for example using ravel().\n",
      "  y = column_or_1d(y, warn=True)\n",
      "/opt/conda/lib/python3.6/site-packages/sklearn/model_selection/_split.py:1978: FutureWarning: The default value of cv will change from 3 to 5 in version 0.22. Specify it explicitly to silence this warning.\n",
      "  warnings.warn(CV_WARNING, FutureWarning)\n"
     ]
    },
    {
     "name": "stdout",
     "output_type": "stream",
     "text": [
      "       3400     68.00%               0s   8.92e-05   8.86e-05   6.24e-07   6.24e-07 tensor([ True,  True,  True, False,  True, False, False,  True, False])\n",
      "[ 7.6129258e-04 -3.7499578e-04  6.3684362e-01 -0.0000000e+00\n",
      " -9.0873021e-01  0.0000000e+00 -0.0000000e+00 -3.1650100e-02\n",
      "  0.0000000e+00]\n"
     ]
    },
    {
     "name": "stderr",
     "output_type": "stream",
     "text": [
      "/opt/conda/lib/python3.6/site-packages/sklearn/linear_model/coordinate_descent.py:1100: DataConversionWarning: A column-vector y was passed when a 1d array was expected. Please change the shape of y to (n_samples, ), for example using ravel().\n",
      "  y = column_or_1d(y, warn=True)\n",
      "/opt/conda/lib/python3.6/site-packages/sklearn/model_selection/_split.py:1978: FutureWarning: The default value of cv will change from 3 to 5 in version 0.22. Specify it explicitly to silence this warning.\n",
      "  warnings.warn(CV_WARNING, FutureWarning)\n"
     ]
    },
    {
     "name": "stdout",
     "output_type": "stream",
     "text": [
      "       3600     72.00%               0s   8.92e-05   8.86e-05   6.19e-07   6.19e-07 tensor([ True, False,  True, False,  True, False, False,  True, False])\n",
      "[ 7.7479047e-04 -0.0000000e+00  6.3668221e-01 -0.0000000e+00\n",
      " -9.1063404e-01  0.0000000e+00 -0.0000000e+00 -2.9878778e-02\n",
      "  0.0000000e+00]\n"
     ]
    },
    {
     "name": "stderr",
     "output_type": "stream",
     "text": [
      "/opt/conda/lib/python3.6/site-packages/sklearn/linear_model/coordinate_descent.py:1100: DataConversionWarning: A column-vector y was passed when a 1d array was expected. Please change the shape of y to (n_samples, ), for example using ravel().\n",
      "  y = column_or_1d(y, warn=True)\n",
      "/opt/conda/lib/python3.6/site-packages/sklearn/model_selection/_split.py:1978: FutureWarning: The default value of cv will change from 3 to 5 in version 0.22. Specify it explicitly to silence this warning.\n",
      "  warnings.warn(CV_WARNING, FutureWarning)\n"
     ]
    },
    {
     "name": "stdout",
     "output_type": "stream",
     "text": [
      "       3800     76.00%               0s   8.92e-05   8.86e-05   6.14e-07   6.14e-07 tensor([ True,  True,  True, False,  True, False, False,  True, False])\n",
      "[ 7.6991989e-04 -3.5673994e-04  6.3692915e-01 -0.0000000e+00\n",
      " -9.0884459e-01  0.0000000e+00 -0.0000000e+00 -3.1509288e-02\n",
      "  0.0000000e+00]\n"
     ]
    },
    {
     "name": "stderr",
     "output_type": "stream",
     "text": [
      "/opt/conda/lib/python3.6/site-packages/sklearn/linear_model/coordinate_descent.py:1100: DataConversionWarning: A column-vector y was passed when a 1d array was expected. Please change the shape of y to (n_samples, ), for example using ravel().\n",
      "  y = column_or_1d(y, warn=True)\n",
      "/opt/conda/lib/python3.6/site-packages/sklearn/model_selection/_split.py:1978: FutureWarning: The default value of cv will change from 3 to 5 in version 0.22. Specify it explicitly to silence this warning.\n",
      "  warnings.warn(CV_WARNING, FutureWarning)\n"
     ]
    },
    {
     "name": "stdout",
     "output_type": "stream",
     "text": [
      "       4000     80.00%               0s   8.92e-05   8.85e-05   6.10e-07   6.10e-07 tensor([ True, False,  True, False,  True, False, False,  True, False])\n",
      "[ 7.8290037e-04 -0.0000000e+00  6.3675559e-01 -0.0000000e+00\n",
      " -9.1073143e-01  0.0000000e+00 -0.0000000e+00 -2.9732918e-02\n",
      "  0.0000000e+00]\n"
     ]
    },
    {
     "name": "stderr",
     "output_type": "stream",
     "text": [
      "/opt/conda/lib/python3.6/site-packages/sklearn/linear_model/coordinate_descent.py:1100: DataConversionWarning: A column-vector y was passed when a 1d array was expected. Please change the shape of y to (n_samples, ), for example using ravel().\n",
      "  y = column_or_1d(y, warn=True)\n",
      "/opt/conda/lib/python3.6/site-packages/sklearn/model_selection/_split.py:1978: FutureWarning: The default value of cv will change from 3 to 5 in version 0.22. Specify it explicitly to silence this warning.\n",
      "  warnings.warn(CV_WARNING, FutureWarning)\n"
     ]
    },
    {
     "name": "stdout",
     "output_type": "stream",
     "text": [
      "       4200     84.00%               0s   8.92e-05   8.85e-05   6.06e-07   6.06e-07 tensor([ True,  True,  True, False,  True, False, False,  True, False])\n",
      "[ 7.7776541e-04 -3.3790935e-04  6.3700765e-01 -0.0000000e+00\n",
      " -9.0895319e-01  0.0000000e+00 -0.0000000e+00 -3.1377602e-02\n",
      "  0.0000000e+00]\n"
     ]
    },
    {
     "name": "stderr",
     "output_type": "stream",
     "text": [
      "/opt/conda/lib/python3.6/site-packages/sklearn/linear_model/coordinate_descent.py:1100: DataConversionWarning: A column-vector y was passed when a 1d array was expected. Please change the shape of y to (n_samples, ), for example using ravel().\n",
      "  y = column_or_1d(y, warn=True)\n",
      "/opt/conda/lib/python3.6/site-packages/sklearn/model_selection/_split.py:1978: FutureWarning: The default value of cv will change from 3 to 5 in version 0.22. Specify it explicitly to silence this warning.\n",
      "  warnings.warn(CV_WARNING, FutureWarning)\n"
     ]
    },
    {
     "name": "stdout",
     "output_type": "stream",
     "text": [
      "       4400     88.00%               0s   8.91e-05   8.85e-05   6.02e-07   6.02e-07 tensor([ True, False,  True, False,  True, False, False,  True, False])\n",
      "[ 7.8997185e-04 -0.0000000e+00  6.3682467e-01 -0.0000000e+00\n",
      " -9.1082132e-01  0.0000000e+00 -0.0000000e+00 -2.9597690e-02\n",
      "  0.0000000e+00]\n"
     ]
    },
    {
     "name": "stderr",
     "output_type": "stream",
     "text": [
      "/opt/conda/lib/python3.6/site-packages/sklearn/linear_model/coordinate_descent.py:1100: DataConversionWarning: A column-vector y was passed when a 1d array was expected. Please change the shape of y to (n_samples, ), for example using ravel().\n",
      "  y = column_or_1d(y, warn=True)\n",
      "/opt/conda/lib/python3.6/site-packages/sklearn/model_selection/_split.py:1978: FutureWarning: The default value of cv will change from 3 to 5 in version 0.22. Specify it explicitly to silence this warning.\n",
      "  warnings.warn(CV_WARNING, FutureWarning)\n"
     ]
    },
    {
     "name": "stdout",
     "output_type": "stream",
     "text": [
      "       4600     92.00%               0s   8.91e-05   8.85e-05   5.98e-07   5.98e-07 tensor([ True,  True,  True, False,  True, False, False,  True, False])\n",
      "[ 7.8526279e-04 -3.2264731e-04  6.3708234e-01 -0.0000000e+00\n",
      " -9.0904891e-01  0.0000000e+00 -0.0000000e+00 -3.1258725e-02\n",
      "  0.0000000e+00]\n"
     ]
    },
    {
     "name": "stderr",
     "output_type": "stream",
     "text": [
      "/opt/conda/lib/python3.6/site-packages/sklearn/linear_model/coordinate_descent.py:1100: DataConversionWarning: A column-vector y was passed when a 1d array was expected. Please change the shape of y to (n_samples, ), for example using ravel().\n",
      "  y = column_or_1d(y, warn=True)\n",
      "/opt/conda/lib/python3.6/site-packages/sklearn/model_selection/_split.py:1978: FutureWarning: The default value of cv will change from 3 to 5 in version 0.22. Specify it explicitly to silence this warning.\n",
      "  warnings.warn(CV_WARNING, FutureWarning)\n"
     ]
    },
    {
     "name": "stdout",
     "output_type": "stream",
     "text": [
      "       4800     96.00%               0s   8.91e-05   8.85e-05   5.94e-07   5.94e-07 tensor([ True, False,  True, False,  True, False, False,  True, False])\n",
      "[ 7.9741911e-04 -0.0000000e+00  6.3689041e-01 -0.0000000e+00\n",
      " -9.1089547e-01  0.0000000e+00 -0.0000000e+00 -2.9481208e-02\n",
      "  0.0000000e+00]\n"
     ]
    },
    {
     "name": "stderr",
     "output_type": "stream",
     "text": [
      "/opt/conda/lib/python3.6/site-packages/sklearn/linear_model/coordinate_descent.py:1100: DataConversionWarning: A column-vector y was passed when a 1d array was expected. Please change the shape of y to (n_samples, ), for example using ravel().\n",
      "  y = column_or_1d(y, warn=True)\n",
      "/opt/conda/lib/python3.6/site-packages/sklearn/model_selection/_split.py:1978: FutureWarning: The default value of cv will change from 3 to 5 in version 0.22. Specify it explicitly to silence this warning.\n",
      "  warnings.warn(CV_WARNING, FutureWarning)\n"
     ]
    },
    {
     "name": "stdout",
     "output_type": "stream",
     "text": [
      "       5000    100.00%               0s   8.91e-05   8.85e-05   5.92e-07   5.92e-07 tensor([ True,  True,  True, False,  True, False, False,  True, False])\n",
      "[ 7.9238036e-04 -3.0624933e-04  6.3715351e-01 -0.0000000e+00\n",
      " -9.0914184e-01  0.0000000e+00 -0.0000000e+00 -3.1145869e-02\n",
      "  0.0000000e+00]\n"
     ]
    },
    {
     "name": "stderr",
     "output_type": "stream",
     "text": [
      "/opt/conda/lib/python3.6/site-packages/sklearn/linear_model/coordinate_descent.py:1100: DataConversionWarning: A column-vector y was passed when a 1d array was expected. Please change the shape of y to (n_samples, ), for example using ravel().\n",
      "  y = column_or_1d(y, warn=True)\n",
      "/opt/conda/lib/python3.6/site-packages/sklearn/model_selection/_split.py:1978: FutureWarning: The default value of cv will change from 3 to 5 in version 0.22. Specify it explicitly to silence this warning.\n",
      "  warnings.warn(CV_WARNING, FutureWarning)\n"
     ]
    }
   ],
   "source": [
    "train_dynamic(model, X_train, y_train, optimizer, 5000, lassocv_estimator)"
   ]
  },
  {
   "cell_type": "code",
   "execution_count": 173,
   "metadata": {},
   "outputs": [
    {
     "data": {
      "text/plain": [
       "[tensor([ True,  True,  True, False,  True, False, False,  True, False])]"
      ]
     },
     "execution_count": 173,
     "metadata": {},
     "output_type": "execute_result"
    }
   ],
   "source": [
    "model.fit.sparsity_mask"
   ]
  },
  {
   "cell_type": "code",
   "execution_count": 174,
   "metadata": {},
   "outputs": [
    {
     "data": {
      "text/plain": [
       "[tensor([[ 2.7573e-04],\n",
       "         [ 1.0013e-01],\n",
       "         [-9.8456e-01],\n",
       "         [-4.7523e-02]], grad_fn=<MmBackward>)]"
      ]
     },
     "execution_count": 174,
     "metadata": {},
     "output_type": "execute_result"
    }
   ],
   "source": [
    "model.fit.coeff_vector"
   ]
  },
  {
   "cell_type": "code",
   "execution_count": 175,
   "metadata": {},
   "outputs": [
    {
     "data": {
      "text/plain": [
       "array([ 7.9238036e-04, -3.0624933e-04,  6.3715351e-01, -0.0000000e+00,\n",
       "       -9.0914184e-01,  0.0000000e+00, -0.0000000e+00, -3.1145869e-02,\n",
       "        0.0000000e+00], dtype=float32)"
      ]
     },
     "execution_count": 175,
     "metadata": {},
     "output_type": "execute_result"
    }
   ],
   "source": [
    "lassocv_estimator.coef_"
   ]
  },
  {
   "cell_type": "code",
   "execution_count": 176,
   "metadata": {},
   "outputs": [
    {
     "data": {
      "text/plain": [
       "0.0001"
      ]
     },
     "execution_count": 176,
     "metadata": {},
     "output_type": "execute_result"
    }
   ],
   "source": [
    "lasso_estimator.alpha"
   ]
  },
  {
   "cell_type": "code",
   "execution_count": null,
   "metadata": {},
   "outputs": [],
   "source": []
  },
  {
   "cell_type": "markdown",
   "metadata": {},
   "source": [
    "# LassoIC"
   ]
  },
  {
   "cell_type": "code",
   "execution_count": 177,
   "metadata": {},
   "outputs": [],
   "source": [
    "config = {'n_in': 2, 'hidden_dims': [20, 20, 20, 20], 'n_out': 1, 'library_function':library_1D_in, 'library_args':{'poly_order':2, 'diff_order': 2}, 'fit_method':'lstsq'}"
   ]
  },
  {
   "cell_type": "code",
   "execution_count": 178,
   "metadata": {},
   "outputs": [],
   "source": [
    "model = DeepModDynamic(**config)"
   ]
  },
  {
   "cell_type": "code",
   "execution_count": 179,
   "metadata": {},
   "outputs": [],
   "source": [
    "optimizer = torch.optim.Adam(model.network_parameters(), betas=(0.99, 0.999), amsgrad=True)"
   ]
  },
  {
   "cell_type": "code",
   "execution_count": 180,
   "metadata": {},
   "outputs": [
    {
     "name": "stdout",
     "output_type": "stream",
     "text": [
      "| Iteration | Progress | Time remaining |     Cost |      MSE |      Reg |       L1 |\n",
      "       5000    100.00%               0s   1.43e-04   1.19e-04   2.39e-05   0.00e+00 "
     ]
    }
   ],
   "source": [
    "train(model, X_train, y_train, optimizer, 5000, loss_func_args={'l1':0.0})"
   ]
  },
  {
   "cell_type": "code",
   "execution_count": 181,
   "metadata": {},
   "outputs": [],
   "source": [
    "from sklearn.linear_model import LassoLarsIC"
   ]
  },
  {
   "cell_type": "code",
   "execution_count": 182,
   "metadata": {},
   "outputs": [],
   "source": [
    "lassocv_estimator = LassoLarsIC(fit_intercept=False)"
   ]
  },
  {
   "cell_type": "code",
   "execution_count": 183,
   "metadata": {},
   "outputs": [],
   "source": [
    "optimizer = torch.optim.Adam(model.network_parameters(), betas=(0.99, 0.999), amsgrad=True)"
   ]
  },
  {
   "cell_type": "code",
   "execution_count": 184,
   "metadata": {},
   "outputs": [
    {
     "name": "stdout",
     "output_type": "stream",
     "text": [
      "| Iteration | Progress | Time remaining |     Cost |      MSE |      Reg |       L1 |\n",
      "          0      0.00%               0s   1.43e-04   1.19e-04   2.39e-05   2.39e-05 tensor([False,  True,  True,  True,  True,  True,  True,  True, False])\n",
      "[ 0.         -0.05744649  0.64583517  0.13940497 -0.98215967 -0.25313371\n",
      " -0.27128633  0.15175832  0.        ]\n"
     ]
    },
    {
     "name": "stderr",
     "output_type": "stream",
     "text": [
      "/opt/conda/lib/python3.6/site-packages/sklearn/utils/validation.py:724: DataConversionWarning: A column-vector y was passed when a 1d array was expected. Please change the shape of y to (n_samples, ), for example using ravel().\n",
      "  y = column_or_1d(y, warn=True)\n"
     ]
    },
    {
     "name": "stdout",
     "output_type": "stream",
     "text": [
      "        200      4.00%              72s   1.37e-04   1.16e-04   2.12e-05   2.12e-05 tensor([False,  True,  True,  True,  True,  True,  True,  True, False])\n",
      "[ 0.         -0.04500272  0.64442825  0.13008944 -0.98816544 -0.23819444\n",
      " -0.25358709  0.14095143  0.        ]\n"
     ]
    },
    {
     "name": "stderr",
     "output_type": "stream",
     "text": [
      "/opt/conda/lib/python3.6/site-packages/sklearn/utils/validation.py:724: DataConversionWarning: A column-vector y was passed when a 1d array was expected. Please change the shape of y to (n_samples, ), for example using ravel().\n",
      "  y = column_or_1d(y, warn=True)\n"
     ]
    },
    {
     "name": "stdout",
     "output_type": "stream",
     "text": [
      "        400      8.00%              65s   1.33e-04   1.14e-04   1.88e-05   1.88e-05 tensor([ True,  True,  True, False,  True, False,  True, False,  True])\n",
      "[ 0.02032666 -0.09741139  0.57014385  0.         -0.8354018   0.\n",
      " -0.07655594  0.         -0.08623655]\n"
     ]
    },
    {
     "name": "stderr",
     "output_type": "stream",
     "text": [
      "/opt/conda/lib/python3.6/site-packages/sklearn/utils/validation.py:724: DataConversionWarning: A column-vector y was passed when a 1d array was expected. Please change the shape of y to (n_samples, ), for example using ravel().\n",
      "  y = column_or_1d(y, warn=True)\n"
     ]
    },
    {
     "name": "stdout",
     "output_type": "stream",
     "text": [
      "        600     12.00%              62s   1.30e-04   1.08e-04   2.22e-05   2.22e-05 tensor([ True,  True,  True, False,  True, False,  True, False,  True])\n",
      "[ 0.01074484 -0.04965953  0.61725247  0.         -0.88652441  0.\n",
      " -0.04293027  0.         -0.09169713]\n"
     ]
    },
    {
     "name": "stderr",
     "output_type": "stream",
     "text": [
      "/opt/conda/lib/python3.6/site-packages/sklearn/utils/validation.py:724: DataConversionWarning: A column-vector y was passed when a 1d array was expected. Please change the shape of y to (n_samples, ), for example using ravel().\n",
      "  y = column_or_1d(y, warn=True)\n"
     ]
    },
    {
     "name": "stdout",
     "output_type": "stream",
     "text": [
      "        800     16.00%              59s   1.21e-04   1.03e-04   1.82e-05   1.82e-05 tensor([ True,  True,  True, False,  True, False,  True, False,  True])\n",
      "[ 0.0100844  -0.03724614  0.61454301  0.         -0.89994747  0.\n",
      " -0.03887211  0.         -0.07328525]\n"
     ]
    },
    {
     "name": "stderr",
     "output_type": "stream",
     "text": [
      "/opt/conda/lib/python3.6/site-packages/sklearn/utils/validation.py:724: DataConversionWarning: A column-vector y was passed when a 1d array was expected. Please change the shape of y to (n_samples, ), for example using ravel().\n",
      "  y = column_or_1d(y, warn=True)\n"
     ]
    },
    {
     "name": "stdout",
     "output_type": "stream",
     "text": [
      "       1000     20.00%              59s   1.15e-04   9.88e-05   1.57e-05   1.57e-05 tensor([False,  True,  True, False,  True, False, False, False, False])\n",
      "[ 0.         -0.04326479  0.55684596  0.         -0.87909654  0.\n",
      "  0.          0.          0.        ]\n"
     ]
    },
    {
     "name": "stderr",
     "output_type": "stream",
     "text": [
      "/opt/conda/lib/python3.6/site-packages/sklearn/utils/validation.py:724: DataConversionWarning: A column-vector y was passed when a 1d array was expected. Please change the shape of y to (n_samples, ), for example using ravel().\n",
      "  y = column_or_1d(y, warn=True)\n"
     ]
    },
    {
     "name": "stdout",
     "output_type": "stream",
     "text": [
      "       1200     24.00%              53s   1.16e-04   9.96e-05   1.69e-05   1.69e-05 tensor([False,  True,  True, False,  True, False, False, False, False])\n",
      "[ 0.         -0.0140801   0.59193379  0.         -0.91291238  0.\n",
      "  0.          0.          0.        ]\n"
     ]
    },
    {
     "name": "stderr",
     "output_type": "stream",
     "text": [
      "/opt/conda/lib/python3.6/site-packages/sklearn/utils/validation.py:724: DataConversionWarning: A column-vector y was passed when a 1d array was expected. Please change the shape of y to (n_samples, ), for example using ravel().\n",
      "  y = column_or_1d(y, warn=True)\n"
     ]
    },
    {
     "name": "stdout",
     "output_type": "stream",
     "text": [
      "       1400     28.00%              41s   1.08e-04   9.53e-05   1.29e-05   1.29e-05 tensor([False,  True,  True, False,  True, False, False, False, False])\n",
      "[ 0.         -0.00721592  0.59813732  0.         -0.92486822  0.\n",
      "  0.          0.          0.        ]\n"
     ]
    },
    {
     "name": "stderr",
     "output_type": "stream",
     "text": [
      "/opt/conda/lib/python3.6/site-packages/sklearn/utils/validation.py:724: DataConversionWarning: A column-vector y was passed when a 1d array was expected. Please change the shape of y to (n_samples, ), for example using ravel().\n",
      "  y = column_or_1d(y, warn=True)\n"
     ]
    },
    {
     "name": "stdout",
     "output_type": "stream",
     "text": [
      "       1600     32.00%              47s   1.04e-04   9.39e-05   1.01e-05   1.01e-05 tensor([False,  True,  True, False,  True, False, False, False, False])\n",
      "[ 0.         -0.0044909   0.60687035  0.         -0.93004652  0.\n",
      "  0.          0.          0.        ]\n"
     ]
    },
    {
     "name": "stderr",
     "output_type": "stream",
     "text": [
      "/opt/conda/lib/python3.6/site-packages/sklearn/utils/validation.py:724: DataConversionWarning: A column-vector y was passed when a 1d array was expected. Please change the shape of y to (n_samples, ), for example using ravel().\n",
      "  y = column_or_1d(y, warn=True)\n"
     ]
    },
    {
     "name": "stdout",
     "output_type": "stream",
     "text": [
      "       1800     36.00%              26s   1.01e-04   9.29e-05   8.50e-06   8.50e-06 tensor([False, False,  True, False,  True, False,  True, False, False])\n",
      "[ 0.          0.          0.6166243   0.         -0.94061123  0.\n",
      " -0.00137719  0.          0.        ]\n"
     ]
    },
    {
     "name": "stderr",
     "output_type": "stream",
     "text": [
      "/opt/conda/lib/python3.6/site-packages/sklearn/utils/validation.py:724: DataConversionWarning: A column-vector y was passed when a 1d array was expected. Please change the shape of y to (n_samples, ), for example using ravel().\n",
      "  y = column_or_1d(y, warn=True)\n"
     ]
    },
    {
     "name": "stdout",
     "output_type": "stream",
     "text": [
      "       2000     40.00%              29s   9.95e-05   9.22e-05   7.30e-06   7.30e-06 tensor([False,  True,  True, False,  True, False, False, False, False])\n",
      "[ 0.         -0.0070965   0.60067815  0.         -0.91716135  0.\n",
      "  0.          0.          0.        ]\n"
     ]
    },
    {
     "name": "stderr",
     "output_type": "stream",
     "text": [
      "/opt/conda/lib/python3.6/site-packages/sklearn/utils/validation.py:724: DataConversionWarning: A column-vector y was passed when a 1d array was expected. Please change the shape of y to (n_samples, ), for example using ravel().\n",
      "  y = column_or_1d(y, warn=True)\n"
     ]
    },
    {
     "name": "stdout",
     "output_type": "stream",
     "text": [
      "       2200     44.00%              32s   9.82e-05   9.17e-05   6.48e-06   6.48e-06 tensor([False, False,  True, False,  True, False, False, False, False])\n",
      "[ 0.          0.          0.61663295  0.         -0.93578876  0.\n",
      "  0.          0.          0.        ]\n"
     ]
    },
    {
     "name": "stderr",
     "output_type": "stream",
     "text": [
      "/opt/conda/lib/python3.6/site-packages/sklearn/utils/validation.py:724: DataConversionWarning: A column-vector y was passed when a 1d array was expected. Please change the shape of y to (n_samples, ), for example using ravel().\n",
      "  y = column_or_1d(y, warn=True)\n"
     ]
    },
    {
     "name": "stdout",
     "output_type": "stream",
     "text": [
      "       2400     48.00%              35s   9.72e-05   9.14e-05   5.75e-06   5.75e-06 tensor([False, False,  True, False,  True, False,  True, False, False])\n",
      "[ 0.00000000e+00  0.00000000e+00  6.22597420e-01  0.00000000e+00\n",
      " -9.38885978e-01  0.00000000e+00 -5.07427729e-04  0.00000000e+00\n",
      "  0.00000000e+00]\n"
     ]
    },
    {
     "name": "stderr",
     "output_type": "stream",
     "text": [
      "/opt/conda/lib/python3.6/site-packages/sklearn/utils/validation.py:724: DataConversionWarning: A column-vector y was passed when a 1d array was expected. Please change the shape of y to (n_samples, ), for example using ravel().\n",
      "  y = column_or_1d(y, warn=True)\n"
     ]
    },
    {
     "name": "stdout",
     "output_type": "stream",
     "text": [
      "       2600     52.00%               0s   9.63e-05   9.12e-05   5.13e-06   5.13e-06 tensor([False, False,  True, False,  True, False,  True, False, False])\n",
      "[ 0.          0.          0.62189962  0.         -0.93844132  0.\n",
      " -0.00199079  0.          0.        ]\n"
     ]
    },
    {
     "name": "stderr",
     "output_type": "stream",
     "text": [
      "/opt/conda/lib/python3.6/site-packages/sklearn/utils/validation.py:724: DataConversionWarning: A column-vector y was passed when a 1d array was expected. Please change the shape of y to (n_samples, ), for example using ravel().\n",
      "  y = column_or_1d(y, warn=True)\n"
     ]
    },
    {
     "name": "stdout",
     "output_type": "stream",
     "text": [
      "       2800     56.00%               0s   9.56e-05   9.09e-05   4.68e-06   4.68e-06 tensor([False, False,  True, False,  True, False,  True, False, False])\n",
      "[ 0.          0.          0.6227455   0.         -0.93808149  0.\n",
      " -0.00187097  0.          0.        ]\n"
     ]
    },
    {
     "name": "stderr",
     "output_type": "stream",
     "text": [
      "/opt/conda/lib/python3.6/site-packages/sklearn/utils/validation.py:724: DataConversionWarning: A column-vector y was passed when a 1d array was expected. Please change the shape of y to (n_samples, ), for example using ravel().\n",
      "  y = column_or_1d(y, warn=True)\n"
     ]
    },
    {
     "name": "stdout",
     "output_type": "stream",
     "text": [
      "       3000     60.00%               0s   9.50e-05   9.07e-05   4.29e-06   4.29e-06 tensor([False, False,  True, False,  True, False,  True, False, False])\n",
      "[ 0.          0.          0.62377289  0.         -0.93787724  0.\n",
      " -0.00154787  0.          0.        ]\n"
     ]
    },
    {
     "name": "stderr",
     "output_type": "stream",
     "text": [
      "/opt/conda/lib/python3.6/site-packages/sklearn/utils/validation.py:724: DataConversionWarning: A column-vector y was passed when a 1d array was expected. Please change the shape of y to (n_samples, ), for example using ravel().\n",
      "  y = column_or_1d(y, warn=True)\n"
     ]
    },
    {
     "name": "stdout",
     "output_type": "stream",
     "text": [
      "       3200     64.00%               0s   9.45e-05   9.06e-05   3.95e-06   3.95e-06 tensor([False, False,  True, False,  True, False,  True, False, False])\n",
      "[ 0.          0.          0.62460742  0.         -0.93764994  0.\n",
      " -0.00137761  0.          0.        ]\n"
     ]
    },
    {
     "name": "stderr",
     "output_type": "stream",
     "text": [
      "/opt/conda/lib/python3.6/site-packages/sklearn/utils/validation.py:724: DataConversionWarning: A column-vector y was passed when a 1d array was expected. Please change the shape of y to (n_samples, ), for example using ravel().\n",
      "  y = column_or_1d(y, warn=True)\n"
     ]
    },
    {
     "name": "stdout",
     "output_type": "stream",
     "text": [
      "       3400     68.00%               0s   9.41e-05   9.05e-05   3.66e-06   3.66e-06 tensor([False, False,  True, False,  True, False,  True, False, False])\n",
      "[ 0.          0.          0.62534336  0.         -0.93744329  0.\n",
      " -0.00122129  0.          0.        ]\n"
     ]
    },
    {
     "name": "stderr",
     "output_type": "stream",
     "text": [
      "/opt/conda/lib/python3.6/site-packages/sklearn/utils/validation.py:724: DataConversionWarning: A column-vector y was passed when a 1d array was expected. Please change the shape of y to (n_samples, ), for example using ravel().\n",
      "  y = column_or_1d(y, warn=True)\n"
     ]
    },
    {
     "name": "stdout",
     "output_type": "stream",
     "text": [
      "       3600     72.00%               0s   9.37e-05   9.03e-05   3.40e-06   3.40e-06 tensor([False, False,  True, False,  True, False,  True, False, False])\n",
      "[ 0.          0.          0.62599361  0.         -0.93725848  0.\n",
      " -0.00108669  0.          0.        ]\n"
     ]
    },
    {
     "name": "stderr",
     "output_type": "stream",
     "text": [
      "/opt/conda/lib/python3.6/site-packages/sklearn/utils/validation.py:724: DataConversionWarning: A column-vector y was passed when a 1d array was expected. Please change the shape of y to (n_samples, ), for example using ravel().\n",
      "  y = column_or_1d(y, warn=True)\n"
     ]
    },
    {
     "name": "stdout",
     "output_type": "stream",
     "text": [
      "       3800     76.00%               0s   9.34e-05   9.02e-05   3.16e-06   3.16e-06 tensor([False, False,  True, False,  True, False,  True, False, False])\n",
      "[ 0.          0.          0.62657901  0.         -0.93709378  0.\n",
      " -0.00096968  0.          0.        ]\n"
     ]
    },
    {
     "name": "stderr",
     "output_type": "stream",
     "text": [
      "/opt/conda/lib/python3.6/site-packages/sklearn/utils/validation.py:724: DataConversionWarning: A column-vector y was passed when a 1d array was expected. Please change the shape of y to (n_samples, ), for example using ravel().\n",
      "  y = column_or_1d(y, warn=True)\n"
     ]
    },
    {
     "name": "stdout",
     "output_type": "stream",
     "text": [
      "       4000     80.00%               0s   9.31e-05   9.01e-05   2.94e-06   2.94e-06 tensor([False, False,  True, False,  True, False,  True, False, False])\n",
      "[ 0.00000000e+00  0.00000000e+00  6.27110255e-01  0.00000000e+00\n",
      " -9.36946203e-01  0.00000000e+00 -8.68588423e-04  0.00000000e+00\n",
      "  0.00000000e+00]\n"
     ]
    },
    {
     "name": "stderr",
     "output_type": "stream",
     "text": [
      "/opt/conda/lib/python3.6/site-packages/sklearn/utils/validation.py:724: DataConversionWarning: A column-vector y was passed when a 1d array was expected. Please change the shape of y to (n_samples, ), for example using ravel().\n",
      "  y = column_or_1d(y, warn=True)\n"
     ]
    },
    {
     "name": "stdout",
     "output_type": "stream",
     "text": [
      "       4200     84.00%               0s   9.28e-05   9.00e-05   2.73e-06   2.73e-06 tensor([False, False,  True, False,  True, False, False, False, False])\n",
      "[ 0.          0.          0.62530384  0.         -0.93415334  0.\n",
      "  0.          0.          0.        ]\n"
     ]
    },
    {
     "name": "stderr",
     "output_type": "stream",
     "text": [
      "/opt/conda/lib/python3.6/site-packages/sklearn/utils/validation.py:724: DataConversionWarning: A column-vector y was passed when a 1d array was expected. Please change the shape of y to (n_samples, ), for example using ravel().\n",
      "  y = column_or_1d(y, warn=True)\n"
     ]
    },
    {
     "name": "stdout",
     "output_type": "stream",
     "text": [
      "       4400     88.00%               0s   9.25e-05   8.99e-05   2.55e-06   2.55e-06 tensor([False, False,  True, False,  True, False, False, False, False])\n",
      "[ 0.          0.          0.62876502  0.         -0.93654846  0.\n",
      "  0.          0.          0.        ]\n"
     ]
    },
    {
     "name": "stderr",
     "output_type": "stream",
     "text": [
      "/opt/conda/lib/python3.6/site-packages/sklearn/utils/validation.py:724: DataConversionWarning: A column-vector y was passed when a 1d array was expected. Please change the shape of y to (n_samples, ), for example using ravel().\n",
      "  y = column_or_1d(y, warn=True)\n"
     ]
    },
    {
     "name": "stdout",
     "output_type": "stream",
     "text": [
      "       4600     92.00%               0s   9.22e-05   8.99e-05   2.37e-06   2.37e-06 tensor([False, False,  True, False,  True, False, False, False, False])\n",
      "[ 0.          0.          0.6291926   0.         -0.93657872  0.\n",
      "  0.          0.          0.        ]\n"
     ]
    },
    {
     "name": "stderr",
     "output_type": "stream",
     "text": [
      "/opt/conda/lib/python3.6/site-packages/sklearn/utils/validation.py:724: DataConversionWarning: A column-vector y was passed when a 1d array was expected. Please change the shape of y to (n_samples, ), for example using ravel().\n",
      "  y = column_or_1d(y, warn=True)\n"
     ]
    },
    {
     "name": "stdout",
     "output_type": "stream",
     "text": [
      "       4800     96.00%               0s   9.20e-05   8.98e-05   2.22e-06   2.22e-06 tensor([False, False,  True, False,  True, False, False, False, False])\n",
      "[ 0.          0.          0.6294845   0.         -0.93646081  0.\n",
      "  0.          0.          0.        ]\n"
     ]
    },
    {
     "name": "stderr",
     "output_type": "stream",
     "text": [
      "/opt/conda/lib/python3.6/site-packages/sklearn/utils/validation.py:724: DataConversionWarning: A column-vector y was passed when a 1d array was expected. Please change the shape of y to (n_samples, ), for example using ravel().\n",
      "  y = column_or_1d(y, warn=True)\n"
     ]
    },
    {
     "name": "stdout",
     "output_type": "stream",
     "text": [
      "       5000    100.00%               0s   9.18e-05   8.97e-05   2.09e-06   2.09e-06 tensor([False, False,  True, False,  True, False, False, False, False])\n",
      "[ 0.         0.         0.6297384  0.        -0.9363309  0.\n",
      "  0.         0.         0.       ]\n"
     ]
    },
    {
     "name": "stderr",
     "output_type": "stream",
     "text": [
      "/opt/conda/lib/python3.6/site-packages/sklearn/utils/validation.py:724: DataConversionWarning: A column-vector y was passed when a 1d array was expected. Please change the shape of y to (n_samples, ), for example using ravel().\n",
      "  y = column_or_1d(y, warn=True)\n"
     ]
    }
   ],
   "source": [
    "train_dynamic(model, X_train, y_train, optimizer, 5000, lassocv_estimator)"
   ]
  },
  {
   "cell_type": "code",
   "execution_count": 187,
   "metadata": {},
   "outputs": [
    {
     "data": {
      "text/plain": [
       "array([ 0.       ,  0.       ,  0.6297384,  0.       , -0.9363309,\n",
       "        0.       ,  0.       ,  0.       ,  0.       ])"
      ]
     },
     "execution_count": 187,
     "metadata": {},
     "output_type": "execute_result"
    }
   ],
   "source": [
    "lassocv_estimator.coef_"
   ]
  },
  {
   "cell_type": "code",
   "execution_count": 189,
   "metadata": {},
   "outputs": [
    {
     "data": {
      "text/plain": [
       "[tensor([[ 0.0997],\n",
       "         [-1.0063]], grad_fn=<MmBackward>)]"
      ]
     },
     "execution_count": 189,
     "metadata": {},
     "output_type": "execute_result"
    }
   ],
   "source": [
    "model.fit.coeff_vector"
   ]
  },
  {
   "cell_type": "markdown",
   "metadata": {},
   "source": [
    "# Testing code"
   ]
  },
  {
   "cell_type": "code",
   "execution_count": 2,
   "metadata": {},
   "outputs": [],
   "source": [
    "import numpy as np\n",
    "import pandas as pd\n",
    "import torch\n",
    "\n",
    "from DeePyMoD_SBL.data import Burgers\n",
    "from DeePyMoD_SBL.deepymod_torch.library_functions import library_1D_in\n",
    "from DeePyMoD_SBL.deepymod_torch.DeepMod import DeepModDynamic\n",
    "from DeePyMoD_SBL.deepymod_torch.training import train_dynamic\n",
    "from sklearn.linear_model import LassoLarsIC\n",
    "\n",
    "if torch.cuda.is_available():\n",
    "    torch.set_default_tensor_type('torch.cuda.FloatTensor')\n",
    "\n",
    "import matplotlib.pyplot as plt\n",
    "import time\n",
    "\n",
    "%load_ext autoreload\n",
    "%autoreload 2"
   ]
  },
  {
   "cell_type": "markdown",
   "metadata": {},
   "source": [
    "# Making data"
   ]
  },
  {
   "cell_type": "code",
   "execution_count": 3,
   "metadata": {},
   "outputs": [],
   "source": [
    "x = np.linspace(-2, 5, 75)\n",
    "t = np.linspace(0.5, 5.0, 25)\n",
    "\n",
    "x_grid, t_grid = np.meshgrid(x, t, indexing='ij')"
   ]
  },
  {
   "cell_type": "code",
   "execution_count": 4,
   "metadata": {},
   "outputs": [],
   "source": [
    "dataset = Burgers(0.1, 1.0)"
   ]
  },
  {
   "cell_type": "code",
   "execution_count": 5,
   "metadata": {},
   "outputs": [],
   "source": [
    "u = dataset.solution(x_grid, t_grid)"
   ]
  },
  {
   "cell_type": "code",
   "execution_count": 6,
   "metadata": {},
   "outputs": [],
   "source": [
    "X = np.concatenate((t_grid.reshape(-1, 1), x_grid.reshape(-1, 1)), axis=1)\n",
    "y = u.reshape(-1, 1)"
   ]
  },
  {
   "cell_type": "code",
   "execution_count": 7,
   "metadata": {},
   "outputs": [],
   "source": [
    "X_train = torch.tensor(X, dtype=torch.float32, requires_grad=True)\n",
    "y_train = torch.tensor(y, dtype=torch.float32, requires_grad=True)"
   ]
  },
  {
   "cell_type": "code",
   "execution_count": 26,
   "metadata": {},
   "outputs": [
    {
     "data": {
      "text/plain": [
       "torch.Size([1875, 1])"
      ]
     },
     "execution_count": 26,
     "metadata": {},
     "output_type": "execute_result"
    }
   ],
   "source": [
    "y_train.shape"
   ]
  },
  {
   "cell_type": "code",
   "execution_count": 27,
   "metadata": {},
   "outputs": [],
   "source": [
    "noise_level = 0.2"
   ]
  },
  {
   "cell_type": "code",
   "execution_count": 28,
   "metadata": {},
   "outputs": [],
   "source": [
    "X_train = torch.tensor(X, dtype=torch.float32, requires_grad=True)\n",
    "y_train = torch.tensor(y + noise_level * np.std(y) * np.random.randn(y.size, 1), dtype=torch.float32, requires_grad=True)"
   ]
  },
  {
   "cell_type": "markdown",
   "metadata": {},
   "source": [
    "# Testing normal"
   ]
  },
  {
   "cell_type": "code",
   "execution_count": 29,
   "metadata": {},
   "outputs": [],
   "source": [
    "estimator = LassoLarsIC(fit_intercept=False)\n",
    "config = {'n_in': 2, 'hidden_dims': [30, 30, 30, 30, 30], 'n_out': 1, 'library_function':library_1D_in, 'library_args':{'poly_order':2, 'diff_order': 2}, 'sparsity_estimator': estimator}\n",
    "model = DeepModDynamic(**config)\n",
    "optimizer = torch.optim.Adam(model.network_parameters(), betas=(0.99, 0.999), amsgrad=True)\n",
    "train_dynamic(model, X_train, y_train, optimizer, 15000, loss_func_args={'sparsity_update_period': 200, 'start_sparsity_update': 5000})"
   ]
  },
  {
   "cell_type": "code",
   "execution_count": 30,
   "metadata": {},
   "outputs": [],
   "source": [
    "config = {'n_in': 2, 'hidden_dims': [30, 30, 30, 30, 30], 'n_out': 1, 'library_function':library_1D_in, 'library_args':{'poly_order':2, 'diff_order': 2}, 'sparsity_estimator': estimator}"
   ]
  },
  {
   "cell_type": "code",
   "execution_count": 33,
   "metadata": {},
   "outputs": [],
   "source": [
    "model = DeepModDynamic(**config)"
   ]
  },
  {
   "cell_type": "code",
   "execution_count": 34,
   "metadata": {},
   "outputs": [],
   "source": [
    "optimizer = torch.optim.Adam(model.network_parameters(), betas=(0.99, 0.999), amsgrad=True)"
   ]
  },
  {
   "cell_type": "code",
   "execution_count": 35,
   "metadata": {},
   "outputs": [
    {
     "name": "stdout",
     "output_type": "stream",
     "text": [
      "| Iteration | Progress | Time remaining |     Cost |      MSE |      Reg |       L1 |\n",
      "      15000    100.00%               0s   1.45e-03   1.44e-03   4.44e-06   0.00e+00 "
     ]
    }
   ],
   "source": [
    "train_dynamic(model, X_train, y_train, optimizer, 15000, loss_func_args={'sparsity_update_period': 200, 'start_sparsity_update': 5000})"
   ]
  },
  {
   "cell_type": "code",
   "execution_count": 36,
   "metadata": {},
   "outputs": [
    {
     "data": {
      "text/plain": [
       "array([ 0.        , -0.01929325,  0.65838962,  0.        , -0.83905326,\n",
       "        0.        ,  0.        , -0.08057578, -0.0435248 ])"
      ]
     },
     "execution_count": 36,
     "metadata": {},
     "output_type": "execute_result"
    }
   ],
   "source": [
    "model.sparsity_estimator.coef_"
   ]
  },
  {
   "cell_type": "code",
   "execution_count": 38,
   "metadata": {},
   "outputs": [
    {
     "data": {
      "text/plain": [
       "[tensor([[-0.0066],\n",
       "         [ 0.1052],\n",
       "         [-0.9272],\n",
       "         [-0.1122],\n",
       "         [-0.0114]], grad_fn=<MmBackward>)]"
      ]
     },
     "execution_count": 38,
     "metadata": {},
     "output_type": "execute_result"
    }
   ],
   "source": [
    "model.constraints.coeff_vector"
   ]
  },
  {
   "cell_type": "markdown",
   "metadata": {},
   "source": [
    "let's do another 5000, see if its better:"
   ]
  },
  {
   "cell_type": "code",
   "execution_count": 42,
   "metadata": {},
   "outputs": [
    {
     "name": "stdout",
     "output_type": "stream",
     "text": [
      "| Iteration | Progress | Time remaining |     Cost |      MSE |      Reg |       L1 |\n",
      "       5000    100.00%               0s   1.45e-03   1.44e-03   3.98e-06   0.00e+00 "
     ]
    }
   ],
   "source": [
    "train_dynamic(model, X_train, y_train, optimizer, 5000, loss_func_args={'sparsity_update_period': 200, 'start_sparsity_update': 0})"
   ]
  },
  {
   "cell_type": "code",
   "execution_count": 43,
   "metadata": {},
   "outputs": [
    {
     "data": {
      "text/plain": [
       "array([ 0.        , -0.01982092,  0.65699666,  0.        , -0.83336538,\n",
       "        0.        ,  0.        , -0.08681162, -0.0396705 ])"
      ]
     },
     "execution_count": 43,
     "metadata": {},
     "output_type": "execute_result"
    }
   ],
   "source": [
    "model.sparsity_estimator.coef_"
   ]
  },
  {
   "cell_type": "code",
   "execution_count": 44,
   "metadata": {},
   "outputs": [
    {
     "data": {
      "text/plain": [
       "[tensor([[-0.0073],\n",
       "         [ 0.1049],\n",
       "         [-0.9216],\n",
       "         [-0.1220],\n",
       "         [-0.0104]], grad_fn=<MmBackward>)]"
      ]
     },
     "execution_count": 44,
     "metadata": {},
     "output_type": "execute_result"
    }
   ],
   "source": [
    "model.constraints.coeff_vector"
   ]
  },
  {
   "cell_type": "markdown",
   "metadata": {},
   "source": [
    "# Analysing"
   ]
  },
  {
   "cell_type": "code",
   "execution_count": 6,
   "metadata": {},
   "outputs": [],
   "source": [
    "import numpy as np\n",
    "import pandas as pd\n",
    "import matplotlib.pyplot as plt"
   ]
  },
  {
   "cell_type": "code",
   "execution_count": 18,
   "metadata": {},
   "outputs": [],
   "source": [
    "import os\n",
    "from tensorboard.backend.event_processing.event_accumulator import EventAccumulator\n",
    "\n",
    "def load_tensorboard(path):\n",
    "    # Assumes one file per folder\n",
    "    event_file = next(filter(lambda filename: filename[:6] =='events', os.listdir(path)))\n",
    "    summary_iterator = EventAccumulator(str(path + event_file)).Reload()\n",
    "    \n",
    "    tags = summary_iterator.Tags()['scalars']\n",
    "    steps = np.array([event.step for event in summary_iterator.Scalars(tags[0])])\n",
    "    data = np.array([[event.value for event in summary_iterator.Scalars(tag)] for tag in tags]).T\n",
    "    df = pd.DataFrame(data=data, index=steps, columns=tags)\n",
    "    \n",
    "    return df"
   ]
  },
  {
   "cell_type": "code",
   "execution_count": 20,
   "metadata": {},
   "outputs": [],
   "source": [
    "df = load_tensorboard('runs/Apr20_09-11-22_4b6076e78386/')"
   ]
  },
  {
   "cell_type": "code",
   "execution_count": 21,
   "metadata": {},
   "outputs": [
    {
     "data": {
      "text/plain": [
       "Index(['Total_loss', 'MSE_0', 'Regression_0', 'L1_0', 'coeff_0_0', 'coeff_0_1',\n",
       "       'coeff_0_2', 'coeff_0_3', 'coeff_0_4', 'scaled_coeff_0_0',\n",
       "       'scaled_coeff_0_1', 'scaled_coeff_0_2', 'scaled_coeff_0_3',\n",
       "       'scaled_coeff_0_4'],\n",
       "      dtype='object')"
      ]
     },
     "execution_count": 21,
     "metadata": {},
     "output_type": "execute_result"
    }
   ],
   "source": [
    "df.keys()"
   ]
  },
  {
   "cell_type": "code",
   "execution_count": 22,
   "metadata": {},
   "outputs": [
    {
     "data": {
      "text/plain": [
       "[<matplotlib.lines.Line2D at 0x7fc15faef320>]"
      ]
     },
     "execution_count": 22,
     "metadata": {},
     "output_type": "execute_result"
    },
    {
     "data": {
      "image/png": "[encoded data removed]",
      "text/plain": [
       "<Figure size 432x288 with 1 Axes>"
      ]
     },
     "metadata": {
      "needs_background": "light"
     },
     "output_type": "display_data"
    }
   ],
   "source": [
    "plt.semilogy(df['MSE_0'])"
   ]
  },
  {
   "cell_type": "code",
   "execution_count": 23,
   "metadata": {},
   "outputs": [
    {
     "data": {
      "text/plain": [
       "[<matplotlib.lines.Line2D at 0x7fc15fa87eb8>]"
      ]
     },
     "execution_count": 23,
     "metadata": {},
     "output_type": "execute_result"
    },
    {
     "data": {
      "image/png": "[encoded data removed]",
      "text/plain": [
       "<Figure size 432x288 with 1 Axes>"
      ]
     },
     "metadata": {
      "needs_background": "light"
     },
     "output_type": "display_data"
    }
   ],
   "source": [
    "plt.semilogy(df['Regression_0'])"
   ]
  },
  {
   "cell_type": "code",
   "execution_count": 24,
   "metadata": {},
   "outputs": [],
   "source": [
    "coeff_keys = [key for key in df.keys() if key[:5]=='coeff']"
   ]
  },
  {
   "cell_type": "code",
   "execution_count": 25,
   "metadata": {},
   "outputs": [
    {
     "data": {
      "text/plain": [
       "<matplotlib.legend.Legend at 0x7fc15f80dfd0>"
      ]
     },
     "execution_count": 25,
     "metadata": {},
     "output_type": "execute_result"
    },
    {
     "data": {
      "image/png": "[encoded data removed]",
      "text/plain": [
       "<Figure size 432x288 with 1 Axes>"
      ]
     },
     "metadata": {
      "needs_background": "light"
     },
     "output_type": "display_data"
    }
   ],
   "source": [
    "for key in coeff_keys:\n",
    "    plt.plot(df[key], label=f'{key[-1]}')\n",
    "plt.legend()"
   ]
  },
  {
   "cell_type": "code",
   "execution_count": null,
   "metadata": {},
   "outputs": [],
   "source": []
  }
 ],
 "metadata": {
  "kernelspec": {
   "display_name": "Python 3",
   "language": "python",
   "name": "python3"
  },
  "language_info": {
   "codemirror_mode": {
    "name": "ipython",
    "version": 3
   },
   "file_extension": ".py",
   "mimetype": "text/x-python",
   "name": "python",
   "nbconvert_exporter": "python",
   "pygments_lexer": "ipython3",
   "version": "3.6.9"
  }
 },
 "nbformat": 4,
 "nbformat_minor": 4
}
