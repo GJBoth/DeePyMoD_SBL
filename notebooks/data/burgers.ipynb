{
 "cells": [
  {
   "cell_type": "code",
   "execution_count": 1,
   "metadata": {},
   "outputs": [],
   "source": [
    "import numpy as np\n",
    "import matplotlib.pyplot as plt"
   ]
  },
  {
   "cell_type": "code",
   "execution_count": 219,
   "metadata": {},
   "outputs": [],
   "source": [
    "import numpy as np\n",
    "from scipy.special import erfc\n",
    "\n",
    "class Burgers:\n",
    "    ''' Class to generate analytical solutions of Burgers equation from delta peak. \n",
    "    \n",
    "    Good source: https://www.iist.ac.in/sites/default/files/people/IN08026/Burgers_equation_viscous.pdf'''\n",
    "    def __init__(self, viscosity, A):\n",
    "        self.v = viscosity\n",
    "        self.A = A\n",
    "    \n",
    "    \n",
    "    def solution(self, x, t):\n",
    "        return self.u(x, t, self.v, self.A)\n",
    "    \n",
    "    def library(self, x, t):\n",
    "        u = self.u(x, t, self.v, self.A)\n",
    "        u_t = self.u_t(x, t, self.v, self.A)\n",
    "        u_x = self.u_x(x, t, self.v, self.A)\n",
    "        u_xx = self.u_xx(x, t, self.v, self.A)\n",
    "        u_xxx = self.u_xxx(x, t, self.v, self.A)\n",
    "  \n",
    "        derivs = np.concatenate([np.ones_like(u), u_x, u_xx, u_xxx], axis=1)\n",
    "        theta = np.concatenate([derivs, u * derivs, u**2 * derivs], axis=1)\n",
    "\n",
    "        return u_t, theta\n",
    "    \n",
    "    @staticmethod\n",
    "    def u(x, t, v, A):\n",
    "        R = A/(2*v)\n",
    "        z = x/np.sqrt(4*v*t)\n",
    "        \n",
    "        solution = np.sqrt(v/t) * ((np.exp(R) - 1) * np.exp(-z**2)) / (np.sqrt(np.pi) + (np.exp(R) - 1)*np.sqrt(np.pi/2)*erfc(z))\n",
    "        return solution\n",
    "    \n",
    "    @staticmethod\n",
    "    def u_x(x, t, v, A):\n",
    "        R = A/(2*v)\n",
    "        z = x/np.sqrt(4*v*t)\n",
    "        \n",
    "        u = Burgers.u(x, t, v, A)\n",
    "        u_x = 1/np.sqrt(4*v*t) * (np.sqrt(2*t/v)*u**2-2*z*u)\n",
    "        return u_x\n",
    "    \n",
    "    @staticmethod\n",
    "    def u_xx(x, t, v, A):\n",
    "        R = A/(2*v)\n",
    "        z = x/np.sqrt(4*v*t)\n",
    "        \n",
    "        u = Burgers.u(x, t, v, A)\n",
    "        u_x = Burgers.u_x(x, t, v, A)\n",
    "        u_xx = 1/np.sqrt(4*v*t) * (-2*u/np.sqrt(4*v*t) - 2*z*u_x + 2*np.sqrt(2*t/v)*u*u_x) # could be written shorter, but then get NaNs due to inversions\n",
    "        return u_xx\n",
    "    \n",
    "    @staticmethod\n",
    "    def u_xxx(x, t, v, A):\n",
    "        R = A/(2*v)\n",
    "        z = x/np.sqrt(4*v*t)\n",
    "        \n",
    "        u = Burgers.u(x, t, v, A)\n",
    "        u_x = Burgers.u_x(x, t, v, A)\n",
    "        u_xx = Burgers.u_xx(x, t, v, A)\n",
    "        u_xxx = 1/np.sqrt(4*v*t) * (-4/np.sqrt(4*v*t) * u_x + 2 *np.sqrt(2*t/v)*u_x**2 + u_xx*(-2*z+2*np.sqrt(2*t/v)*u)) # could be written shorter, but then get NaNs due to inversions\n",
    "        return u_xxx\n",
    "    \n",
    "    @staticmethod\n",
    "    def u_t(x, t, v, A):\n",
    "        R = A/(2*v)\n",
    "        z = x/np.sqrt(4*v*t)\n",
    "        \n",
    "        u = Burgers.u(x, t, v, A)\n",
    "        u_x = Burgers.u_x(x, t, v, A)\n",
    "        u_xx = 1/np.sqrt(4*v*t) * (-2*u/np.sqrt(4*v*t) - 2*z*u_x + 2*np.sqrt(2*t/v)*u*u_x)\n",
    "        u_t = v * u_xx - u *u_x\n",
    "        return u_t"
   ]
  },
  {
   "cell_type": "code",
   "execution_count": 272,
   "metadata": {},
   "outputs": [],
   "source": [
    "x = np.linspace(-5, 5, 1000)\n",
    "t = np.linspace(1e-4, 5, 1000)\n",
    "\n",
    "x_grid, t_grid = np.meshgrid(x, t, indexing='ij')\n",
    "\n",
    "A = 1\n",
    "viscosity = 0.1"
   ]
  },
  {
   "cell_type": "code",
   "execution_count": 273,
   "metadata": {},
   "outputs": [],
   "source": [
    "burgers = Burgers(viscosity, A)"
   ]
  },
  {
   "cell_type": "code",
   "execution_count": 274,
   "metadata": {},
   "outputs": [],
   "source": [
    "sol = burgers.solution(x_grid, t_grid)"
   ]
  },
  {
   "cell_type": "code",
   "execution_count": 275,
   "metadata": {},
   "outputs": [
    {
     "data": {
      "text/plain": [
       "(1000, 1000)"
      ]
     },
     "execution_count": 275,
     "metadata": {},
     "output_type": "execute_result"
    }
   ],
   "source": [
    "sol.shape"
   ]
  },
  {
   "cell_type": "code",
   "execution_count": 276,
   "metadata": {},
   "outputs": [
    {
     "data": {
      "text/plain": [
       "[<matplotlib.lines.Line2D at 0x7f1175808470>]"
      ]
     },
     "execution_count": 276,
     "metadata": {},
     "output_type": "execute_result"
    },
    {
     "data": {
      "image/png": "[encoded data removed]",
      "text/plain": [
       "<Figure size 432x288 with 1 Axes>"
      ]
     },
     "metadata": {
      "needs_background": "light"
     },
     "output_type": "display_data"
    }
   ],
   "source": [
    "plt.plot(x, sol[:, 49])\n",
    "plt.plot(x, sol[:, 10])"
   ]
  },
  {
   "cell_type": "code",
   "execution_count": 277,
   "metadata": {},
   "outputs": [],
   "source": [
    "sol_x = burgers.u_x(x_grid, t_grid, viscosity, A)"
   ]
  },
  {
   "cell_type": "code",
   "execution_count": 278,
   "metadata": {},
   "outputs": [
    {
     "data": {
      "text/plain": [
       "[<matplotlib.lines.Line2D at 0x7f1175fe72b0>]"
      ]
     },
     "execution_count": 278,
     "metadata": {},
     "output_type": "execute_result"
    },
    {
     "data": {
      "image/png": "[encoded data removed]",
      "text/plain": [
       "<Figure size 432x288 with 1 Axes>"
      ]
     },
     "metadata": {
      "needs_background": "light"
     },
     "output_type": "display_data"
    }
   ],
   "source": [
    "frame = 10\n",
    "plt.plot(x, sol_x[:, frame], 'r')\n",
    "plt.plot(x, np.gradient(sol[:, frame], x), 'k--')"
   ]
  },
  {
   "cell_type": "code",
   "execution_count": 279,
   "metadata": {},
   "outputs": [
    {
     "data": {
      "text/plain": [
       "array([[ 0.00000000e+00,  0.00000000e+00,  0.00000000e+00, ...,\n",
       "        -3.94457931e-10, -3.97965868e-10, -4.01496359e-10],\n",
       "       [ 0.00000000e+00,  0.00000000e+00,  0.00000000e+00, ...,\n",
       "        -4.11964726e-10, -4.15607271e-10, -4.19273039e-10],\n",
       "       [ 0.00000000e+00,  0.00000000e+00,  0.00000000e+00, ...,\n",
       "        -4.30198537e-10, -4.33980332e-10, -4.37786034e-10],\n",
       "       ...,\n",
       "       [ 0.00000000e+00,  0.00000000e+00,  0.00000000e+00, ...,\n",
       "         9.00593711e-08,  9.08503284e-08,  9.16462696e-08],\n",
       "       [ 0.00000000e+00,  0.00000000e+00,  0.00000000e+00, ...,\n",
       "         8.62449643e-08,  8.70068594e-08,  8.77735968e-08],\n",
       "       [ 0.00000000e+00,  0.00000000e+00,  0.00000000e+00, ...,\n",
       "         8.25823931e-08,  8.33161893e-08,  8.40546893e-08]])"
      ]
     },
     "execution_count": 279,
     "metadata": {},
     "output_type": "execute_result"
    }
   ],
   "source": [
    "(sol_x - np.gradient(sol, x, axis=0))[1:-1]"
   ]
  },
  {
   "cell_type": "code",
   "execution_count": null,
   "metadata": {},
   "outputs": [],
   "source": []
  },
  {
   "cell_type": "code",
   "execution_count": 280,
   "metadata": {},
   "outputs": [],
   "source": [
    "sol_xx = burgers.u_xx(x_grid, t_grid, viscosity, A)"
   ]
  },
  {
   "cell_type": "code",
   "execution_count": 281,
   "metadata": {},
   "outputs": [
    {
     "data": {
      "text/plain": [
       "[<matplotlib.lines.Line2D at 0x7f1175fb8ef0>]"
      ]
     },
     "execution_count": 281,
     "metadata": {},
     "output_type": "execute_result"
    },
    {
     "data": {
      "image/png": "[encoded data removed]",
      "text/plain": [
       "<Figure size 432x288 with 1 Axes>"
      ]
     },
     "metadata": {
      "needs_background": "light"
     },
     "output_type": "display_data"
    }
   ],
   "source": [
    "frame = 10\n",
    "plt.plot(x, sol_xx[:, frame], 'r')\n",
    "plt.plot(x, np.gradient(sol_x[:, frame], x), 'k--')"
   ]
  },
  {
   "cell_type": "code",
   "execution_count": 282,
   "metadata": {},
   "outputs": [],
   "source": [
    "sol_xxx = burgers.u_xxx(x_grid, t_grid, viscosity, A)"
   ]
  },
  {
   "cell_type": "code",
   "execution_count": 283,
   "metadata": {},
   "outputs": [
    {
     "data": {
      "text/plain": [
       "[<matplotlib.lines.Line2D at 0x7f1175f18b70>]"
      ]
     },
     "execution_count": 283,
     "metadata": {},
     "output_type": "execute_result"
    },
    {
     "data": {
      "image/png": "[encoded data removed]",
      "text/plain": [
       "<Figure size 432x288 with 1 Axes>"
      ]
     },
     "metadata": {
      "needs_background": "light"
     },
     "output_type": "display_data"
    }
   ],
   "source": [
    "frame = 10\n",
    "plt.plot(x, sol_xxx[:, frame], 'r')\n",
    "plt.plot(x, np.gradient(sol_xx[:, frame], x), 'k--')"
   ]
  },
  {
   "cell_type": "code",
   "execution_count": 284,
   "metadata": {},
   "outputs": [],
   "source": [
    "sol_t = burgers.u_t(x_grid, t_grid, viscosity, A)"
   ]
  },
  {
   "cell_type": "code",
   "execution_count": 285,
   "metadata": {},
   "outputs": [
    {
     "data": {
      "text/plain": [
       "[<matplotlib.lines.Line2D at 0x7f1175efbcf8>]"
      ]
     },
     "execution_count": 285,
     "metadata": {},
     "output_type": "execute_result"
    },
    {
     "data": {
      "image/png": "[encoded data removed]",
      "text/plain": [
       "<Figure size 432x288 with 1 Axes>"
      ]
     },
     "metadata": {
      "needs_background": "light"
     },
     "output_type": "display_data"
    }
   ],
   "source": [
    "x_slice = 566\n",
    "plt.plot(t, sol_t[x_slice, :], 'r')\n",
    "plt.plot(t, np.gradient(sol[x_slice, :], t), 'k--')"
   ]
  },
  {
   "cell_type": "code",
   "execution_count": 286,
   "metadata": {},
   "outputs": [
    {
     "data": {
      "text/plain": [
       "False"
      ]
     },
     "execution_count": 286,
     "metadata": {},
     "output_type": "execute_result"
    }
   ],
   "source": [
    "np.allclose(sol_t[1:-1, 1:-1], np.gradient(sol, t, axis=1)[1:-1, 1:-1], atol=1e-5)"
   ]
  },
  {
   "cell_type": "code",
   "execution_count": 287,
   "metadata": {},
   "outputs": [
    {
     "data": {
      "text/plain": [
       "506912"
      ]
     },
     "execution_count": 287,
     "metadata": {},
     "output_type": "execute_result"
    }
   ],
   "source": [
    "np.argmax(np.abs(sol_t[4:-4, 4:-4] - np.gradient(sol, t, axis=1)[4:-4, 4:-4]))"
   ]
  },
  {
   "cell_type": "code",
   "execution_count": 288,
   "metadata": {},
   "outputs": [
    {
     "data": {
      "text/plain": [
       "(23, 956)"
      ]
     },
     "execution_count": 288,
     "metadata": {},
     "output_type": "execute_result"
    }
   ],
   "source": [
    "np.unravel_index(23772, sol_t[4:-4, 4:-4].shape)"
   ]
  },
  {
   "cell_type": "code",
   "execution_count": 290,
   "metadata": {},
   "outputs": [],
   "source": [
    "from DeePyMoD_SBL.data import Burgers"
   ]
  },
  {
   "cell_type": "code",
   "execution_count": null,
   "metadata": {},
   "outputs": [],
   "source": []
  }
 ],
 "metadata": {
  "kernelspec": {
   "display_name": "Python 3",
   "language": "python",
   "name": "python3"
  },
  "language_info": {
   "codemirror_mode": {
    "name": "ipython",
    "version": 3
   },
   "file_extension": ".py",
   "mimetype": "text/x-python",
   "name": "python",
   "nbconvert_exporter": "python",
   "pygments_lexer": "ipython3",
   "version": "3.6.9"
  }
 },
 "nbformat": 4,
 "nbformat_minor": 4
}
