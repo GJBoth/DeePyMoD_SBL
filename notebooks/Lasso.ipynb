{
 "cells": [
  {
   "cell_type": "markdown",
   "metadata": {},
   "source": [
    "In this notebook we implement lasso in pytorch using fista:"
   ]
  },
  {
   "cell_type": "code",
   "execution_count": 1,
   "metadata": {},
   "outputs": [],
   "source": [
    "import torch\n",
    "from DeePyMoD_SBL.data import Burgers\n",
    "import numpy as np"
   ]
  },
  {
   "cell_type": "code",
   "execution_count": 2,
   "metadata": {},
   "outputs": [],
   "source": [
    "x = np.linspace(-2, 5, 75)\n",
    "t = np.linspace(0.5, 5.0, 25)\n",
    "\n",
    "x_grid, t_grid = np.meshgrid(x, t, indexing='ij')"
   ]
  },
  {
   "cell_type": "code",
   "execution_count": 3,
   "metadata": {},
   "outputs": [],
   "source": [
    "dataset = Burgers(0.1, 1.0)"
   ]
  },
  {
   "cell_type": "code",
   "execution_count": 4,
   "metadata": {},
   "outputs": [],
   "source": [
    "library = dataset.library(x_grid.reshape(-1, 1), t_grid.reshape(-1, 1))\n",
    "time_deriv = dataset.time_deriv(x_grid.reshape(-1, 1), t_grid.reshape(-1, 1))"
   ]
  },
  {
   "cell_type": "code",
   "execution_count": 5,
   "metadata": {},
   "outputs": [],
   "source": [
    "X = torch.tensor(library / np.linalg.norm(library, axis=0, keepdims=True), dtype=torch.float32)\n",
    "y = torch.tensor(time_deriv / np.linalg.norm(time_deriv), dtype=torch.float32)"
   ]
  },
  {
   "cell_type": "code",
   "execution_count": 6,
   "metadata": {},
   "outputs": [
    {
     "data": {
      "text/plain": [
       "tensor([[ 5.9456e-06],\n",
       "        [-1.9073e-06],\n",
       "        [ 7.9301e-01],\n",
       "        [-6.1989e-05],\n",
       "        [-2.6554e-05],\n",
       "        [-8.3787e-01],\n",
       "        [ 1.6403e-04],\n",
       "        [ 8.3923e-05],\n",
       "        [ 4.4227e-05],\n",
       "        [-3.8147e-06],\n",
       "        [-1.0300e-04],\n",
       "        [-4.5776e-05]])"
      ]
     },
     "execution_count": 6,
     "metadata": {},
     "output_type": "execute_result"
    }
   ],
   "source": [
    "torch.inverse(X.T @ X) @ (X.T @ y)"
   ]
  },
  {
   "cell_type": "code",
   "execution_count": 7,
   "metadata": {},
   "outputs": [
    {
     "data": {
      "text/plain": [
       "1.1920928955078125e-07"
      ]
     },
     "execution_count": 7,
     "metadata": {},
     "output_type": "execute_result"
    }
   ],
   "source": [
    "torch.finfo(torch.float32).eps"
   ]
  },
  {
   "cell_type": "code",
   "execution_count": 8,
   "metadata": {},
   "outputs": [
    {
     "data": {
      "text/plain": [
       "2.220446049250313e-16"
      ]
     },
     "execution_count": 8,
     "metadata": {},
     "output_type": "execute_result"
    }
   ],
   "source": [
    "torch.finfo(torch.float64).eps"
   ]
  },
  {
   "cell_type": "markdown",
   "metadata": {},
   "source": [
    "# FISTA according to rudy"
   ]
  },
  {
   "cell_type": "code",
   "execution_count": 46,
   "metadata": {},
   "outputs": [],
   "source": [
    "L = torch.norm(X.T @ X) # Note: L is different from Rudy"
   ]
  },
  {
   "cell_type": "code",
   "execution_count": 99,
   "metadata": {},
   "outputs": [],
   "source": [
    "max_its = 100000\n",
    "w = torch.zeros((X.shape[1], 1))\n",
    "w_old = torch.zeros_like(w)\n",
    "l1 = 1e-5\n",
    "threshold = 1e-8"
   ]
  },
  {
   "cell_type": "code",
   "execution_count": 100,
   "metadata": {},
   "outputs": [],
   "source": [
    "converged = False\n",
    "while not converged:\n",
    "    z = w + it / (it + 1) * (w - w_old)\n",
    "    w_old = w\n",
    "    z = z - X.T @ (X @ z - y) / L\n",
    "    w = torch.sign(z) * torch.max(torch.abs(z) - l1 / L, torch.zeros_like(z))\n",
    "    converged = (torch.max(torch.abs(w - w_old)) < threshold).item()"
   ]
  },
  {
   "cell_type": "code",
   "execution_count": 101,
   "metadata": {},
   "outputs": [
    {
     "data": {
      "text/plain": [
       "tensor([[-0.0000e+00],\n",
       "        [-1.2646e-05],\n",
       "        [ 7.9304e-01],\n",
       "        [ 0.0000e+00],\n",
       "        [-0.0000e+00],\n",
       "        [-8.3782e-01],\n",
       "        [ 0.0000e+00],\n",
       "        [ 3.1286e-06],\n",
       "        [-0.0000e+00],\n",
       "        [-0.0000e+00],\n",
       "        [ 0.0000e+00],\n",
       "        [ 0.0000e+00]])"
      ]
     },
     "execution_count": 101,
     "metadata": {},
     "output_type": "execute_result"
    }
   ],
   "source": [
    "w"
   ]
  },
  {
   "cell_type": "code",
   "execution_count": 98,
   "metadata": {},
   "outputs": [
    {
     "data": {
      "text/plain": [
       "tensor([[-0.0000e+00],\n",
       "        [-2.3510e-05],\n",
       "        [ 7.9304e-01],\n",
       "        [ 0.0000e+00],\n",
       "        [-0.0000e+00],\n",
       "        [-8.3780e-01],\n",
       "        [ 0.0000e+00],\n",
       "        [ 5.0938e-06],\n",
       "        [-0.0000e+00],\n",
       "        [-1.1717e-05],\n",
       "        [ 0.0000e+00],\n",
       "        [ 0.0000e+00]])"
      ]
     },
     "execution_count": 98,
     "metadata": {},
     "output_type": "execute_result"
    }
   ],
   "source": [
    "w"
   ]
  },
  {
   "cell_type": "code",
   "execution_count": 85,
   "metadata": {},
   "outputs": [
    {
     "data": {
      "text/plain": [
       "True"
      ]
     },
     "execution_count": 85,
     "metadata": {},
     "output_type": "execute_result"
    }
   ],
   "source": [
    "(torch.max(torch.abs(w - w_old)) < threshold).item() == True"
   ]
  },
  {
   "cell_type": "markdown",
   "metadata": {},
   "source": [
    "# ISTA"
   ]
  },
  {
   "cell_type": "code",
   "execution_count": 334,
   "metadata": {},
   "outputs": [],
   "source": [
    "l1 = 1e-5\n",
    "threshold = 1e-7"
   ]
  },
  {
   "cell_type": "code",
   "execution_count": 335,
   "metadata": {},
   "outputs": [],
   "source": [
    "L = 2 * torch.symeig(X.T @ X).eigenvalues.max()"
   ]
  },
  {
   "cell_type": "code",
   "execution_count": 336,
   "metadata": {},
   "outputs": [],
   "source": [
    "def S(alpha, x): \n",
    "    return torch.max(torch.abs(x) - alpha, torch.zeros_like(x)) * torch.sign(x)"
   ]
  },
  {
   "cell_type": "code",
   "execution_count": 337,
   "metadata": {},
   "outputs": [],
   "source": [
    "w = torch.zeros((X.shape[1], 1), dtype=torch.float32)"
   ]
  },
  {
   "cell_type": "code",
   "execution_count": 338,
   "metadata": {},
   "outputs": [],
   "source": [
    "converged = False\n",
    "while not converged:\n",
    "    w_old = w\n",
    "    w = S(l1/L, w_old - 2/ L * X.T @ (X @ w_old - y))\n",
    "    converged = (torch.max(torch.abs(w - w_old)) < threshold).item()"
   ]
  },
  {
   "cell_type": "code",
   "execution_count": 339,
   "metadata": {},
   "outputs": [
    {
     "data": {
      "text/plain": [
       "tensor([[-0.0000e+00],\n",
       "        [-1.4649e-05],\n",
       "        [ 7.9305e-01],\n",
       "        [ 0.0000e+00],\n",
       "        [-0.0000e+00],\n",
       "        [-8.3782e-01],\n",
       "        [ 0.0000e+00],\n",
       "        [ 2.8472e-06],\n",
       "        [-7.4072e-09],\n",
       "        [-1.0197e-05],\n",
       "        [ 0.0000e+00],\n",
       "        [ 0.0000e+00]])"
      ]
     },
     "execution_count": 339,
     "metadata": {},
     "output_type": "execute_result"
    }
   ],
   "source": [
    "w"
   ]
  },
  {
   "cell_type": "markdown",
   "metadata": {},
   "source": [
    "So that seems to work :)"
   ]
  },
  {
   "cell_type": "markdown",
   "metadata": {},
   "source": [
    "# FISTA"
   ]
  },
  {
   "cell_type": "code",
   "execution_count": 394,
   "metadata": {},
   "outputs": [],
   "source": [
    "L = 2 * torch.symeig(X.T @ X).eigenvalues.max()"
   ]
  },
  {
   "cell_type": "code",
   "execution_count": 395,
   "metadata": {},
   "outputs": [],
   "source": [
    "def S(alpha, x): \n",
    "    return torch.max(torch.abs(x) - alpha, torch.zeros_like(x)) * torch.sign(x)"
   ]
  },
  {
   "cell_type": "code",
   "execution_count": 426,
   "metadata": {},
   "outputs": [],
   "source": [
    "l1 = torch.tensor(1e-5)\n",
    "threshold = torch.tensor(torch.finfo(torch.float32).eps) # machine precision"
   ]
  },
  {
   "cell_type": "code",
   "execution_count": 427,
   "metadata": {},
   "outputs": [],
   "source": [
    "w = torch.zeros((X.shape[1], 1), dtype=torch.float32)\n",
    "z = w\n",
    "\n",
    "t = torch.tensor(1.0)"
   ]
  },
  {
   "cell_type": "code",
   "execution_count": 12,
   "metadata": {},
   "outputs": [
    {
     "data": {
      "text/plain": [
       "tensor([[-0.0000e+00],\n",
       "        [-8.4144e-06],\n",
       "        [ 7.9305e-01],\n",
       "        [ 0.0000e+00],\n",
       "        [-0.0000e+00],\n",
       "        [-8.3783e-01],\n",
       "        [ 0.0000e+00],\n",
       "        [ 2.4729e-06],\n",
       "        [-0.0000e+00],\n",
       "        [-0.0000e+00],\n",
       "        [ 0.0000e+00],\n",
       "        [ 0.0000e+00]])"
      ]
     },
     "execution_count": 12,
     "metadata": {},
     "output_type": "execute_result"
    }
   ],
   "source": [
    "lasso(X, y, torch.tensor(1e-5))"
   ]
  },
  {
   "cell_type": "code",
   "execution_count": null,
   "metadata": {},
   "outputs": [],
   "source": []
  }
 ],
 "metadata": {
  "kernelspec": {
   "display_name": "Python 3",
   "language": "python",
   "name": "python3"
  },
  "language_info": {
   "codemirror_mode": {
    "name": "ipython",
    "version": 3
   },
   "file_extension": ".py",
   "mimetype": "text/x-python",
   "name": "python",
   "nbconvert_exporter": "python",
   "pygments_lexer": "ipython3",
   "version": "3.6.9"
  }
 },
 "nbformat": 4,
 "nbformat_minor": 4
}
