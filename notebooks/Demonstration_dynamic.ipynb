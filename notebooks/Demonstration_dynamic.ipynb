{
 "cells": [
  {
   "cell_type": "code",
   "execution_count": 2,
   "metadata": {},
   "outputs": [],
   "source": [
    "import torch\n",
    "import torch.nn as nn"
   ]
  },
  {
   "cell_type": "code",
   "execution_count": 4,
   "metadata": {},
   "outputs": [],
   "source": [
    "from DeePyMoD_SBL.deepymod_torch.network import Library, FittingDynamic"
   ]
  },
  {
   "cell_type": "code",
   "execution_count": null,
   "metadata": {},
   "outputs": [],
   "source": []
  },
  {
   "cell_type": "code",
   "execution_count": null,
   "metadata": {},
   "outputs": [],
   "source": []
  },
  {
   "cell_type": "code",
   "execution_count": null,
   "metadata": {},
   "outputs": [],
   "source": []
  },
  {
   "cell_type": "markdown",
   "metadata": {},
   "source": [
    "# Classes"
   ]
  },
  {
   "cell_type": "code",
   "execution_count": 1,
   "metadata": {},
   "outputs": [
    {
     "ename": "NameError",
     "evalue": "name 'nn' is not defined",
     "output_type": "error",
     "traceback": [
      "\u001b[0;31m---------------------------------------------------------------------------\u001b[0m",
      "\u001b[0;31mNameError\u001b[0m                                 Traceback (most recent call last)",
      "\u001b[0;32m<ipython-input-1-36bde0c27dd2>\u001b[0m in \u001b[0;36m<module>\u001b[0;34m\u001b[0m\n\u001b[0;32m----> 1\u001b[0;31m \u001b[0;32mclass\u001b[0m \u001b[0mDeepModDynamic\u001b[0m\u001b[0;34m(\u001b[0m\u001b[0mnn\u001b[0m\u001b[0;34m.\u001b[0m\u001b[0mModule\u001b[0m\u001b[0;34m)\u001b[0m\u001b[0;34m:\u001b[0m\u001b[0;34m\u001b[0m\u001b[0;34m\u001b[0m\u001b[0m\n\u001b[0m\u001b[1;32m      2\u001b[0m     \u001b[0;34m''' Class based interface for deepmod.'''\u001b[0m\u001b[0;34m\u001b[0m\u001b[0;34m\u001b[0m\u001b[0m\n\u001b[1;32m      3\u001b[0m     \u001b[0;32mdef\u001b[0m \u001b[0m__init__\u001b[0m\u001b[0;34m(\u001b[0m\u001b[0mself\u001b[0m\u001b[0;34m,\u001b[0m \u001b[0mn_in\u001b[0m\u001b[0;34m,\u001b[0m \u001b[0mhidden_dims\u001b[0m\u001b[0;34m,\u001b[0m \u001b[0mn_out\u001b[0m\u001b[0;34m,\u001b[0m \u001b[0mlibrary_function\u001b[0m\u001b[0;34m,\u001b[0m \u001b[0mlibrary_args\u001b[0m\u001b[0;34m,\u001b[0m \u001b[0msparsity_estimator\u001b[0m\u001b[0;34m)\u001b[0m\u001b[0;34m:\u001b[0m\u001b[0;34m\u001b[0m\u001b[0;34m\u001b[0m\u001b[0m\n\u001b[1;32m      4\u001b[0m         \u001b[0msuper\u001b[0m\u001b[0;34m(\u001b[0m\u001b[0;34m)\u001b[0m\u001b[0;34m.\u001b[0m\u001b[0m__init__\u001b[0m\u001b[0;34m(\u001b[0m\u001b[0;34m)\u001b[0m\u001b[0;34m\u001b[0m\u001b[0;34m\u001b[0m\u001b[0m\n\u001b[1;32m      5\u001b[0m         \u001b[0mself\u001b[0m\u001b[0;34m.\u001b[0m\u001b[0mnetwork\u001b[0m \u001b[0;34m=\u001b[0m \u001b[0mself\u001b[0m\u001b[0;34m.\u001b[0m\u001b[0minitialize_network\u001b[0m\u001b[0;34m(\u001b[0m\u001b[0mn_in\u001b[0m\u001b[0;34m,\u001b[0m \u001b[0mhidden_dims\u001b[0m\u001b[0;34m,\u001b[0m \u001b[0mn_out\u001b[0m\u001b[0;34m)\u001b[0m\u001b[0;34m\u001b[0m\u001b[0;34m\u001b[0m\u001b[0m\n",
      "\u001b[0;31mNameError\u001b[0m: name 'nn' is not defined"
     ]
    }
   ],
   "source": [
    "class DeepModDynamic(nn.Module):\n",
    "    ''' Class based interface for deepmod.'''\n",
    "    def __init__(self, n_in, hidden_dims, n_out, library_function, library_args, sparsity_estimator):\n",
    "        super().__init__()\n",
    "        self.network = self.initialize_network(n_in, hidden_dims, n_out)\n",
    "        self.library = Library(library_function, library_args)\n",
    "        self.constraints = self.initialize_constraints_layer(n_in, n_out, library_function, library_args)\n",
    "        self.sparsity_estimator = sparsity_estimator\n",
    "\n",
    "    def forward(self, input):\n",
    "        prediction = self.network(input)\n",
    "        time_deriv, theta = self.library((prediction, input))\n",
    "        sparse_theta, coeff_vector = self.constraints((theta, time_deriv))\n",
    "        return prediction, time_deriv, sparse_theta, coeff_vector, theta\n",
    "\n",
    "    def initialize_network(self, n_in, hidden_dims, n_out):\n",
    "        # NN\n",
    "        network = []\n",
    "        hs = [n_in] + hidden_dims + [n_out]\n",
    "        for h0, h1 in zip(hs, hs[1:]):  # Hidden layers\n",
    "            network.append(nn.Linear(h0, h1))\n",
    "            network.append(nn.Tanh())\n",
    "        network.pop()  # get rid of last activation function\n",
    "        network = nn.Sequential(*network) \n",
    "\n",
    "        return network\n",
    "\n",
    "    def initialize_constraints_layer(self, n_in, n_out, library_function, library_args):\n",
    "        sample_input = torch.ones((1, n_in), dtype=torch.float32, requires_grad=True)\n",
    "        n_terms = self.library((self.network(sample_input), sample_input))[1].shape[1] # do sample pass to infer shapes\n",
    "        \n",
    "        fit_layer = FittingDynamic(n_terms, n_out)\n",
    "        return fit_layer\n",
    "    \n",
    "    def calculate_sparsity_mask(self, theta, time_derivs):\n",
    "        ''' Determines group sparsity mask from given scikit learn estimator. Theta and time derivs are normalized in here as well. Make sure to intercept = False in the estimator since we have a constant term in the library.'''\n",
    "        # Normalizing inputs\n",
    "        time_derivs_normed = [(time_deriv / torch.norm(time_deriv, keepdim=True)).detach().cpu().numpy() for time_deriv in time_derivs] \n",
    "        theta_normed = (theta / torch.norm(theta, dim=0, keepdim=True)).detach().cpu().numpy()\n",
    "        \n",
    "        # Fitting and determining sparsity mask\n",
    "        coeff_vectors = [self.sparsity_estimator.fit(theta_normed, time_deriv_normed.squeeze()).coef_ for time_deriv_normed in time_derivs_normed]\n",
    "        sparsity_masks = [torch.tensor(coeff_vector != 0.0, dtype=torch.bool) for coeff_vector in coeff_vectors]\n",
    "        \n",
    "        return sparsity_masks\n",
    "        \n",
    "    # Function below make life easier\n",
    "    def network_parameters(self):\n",
    "        return self.network.parameters()\n",
    "\n",
    "    def coeff_vector(self):\n",
    "        return self.fit.coeff_vector.parameters()\n"
   ]
  },
  {
   "cell_type": "code",
   "execution_count": null,
   "metadata": {},
   "outputs": [],
   "source": []
  }
 ],
 "metadata": {
  "kernelspec": {
   "display_name": "Python 3",
   "language": "python",
   "name": "python3"
  },
  "language_info": {
   "codemirror_mode": {
    "name": "ipython",
    "version": 3
   },
   "file_extension": ".py",
   "mimetype": "text/x-python",
   "name": "python",
   "nbconvert_exporter": "python",
   "pygments_lexer": "ipython3",
   "version": "3.6.9"
  }
 },
 "nbformat": 4,
 "nbformat_minor": 4
}
