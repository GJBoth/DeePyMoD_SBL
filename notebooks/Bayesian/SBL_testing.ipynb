{
 "cells": [
  {
   "cell_type": "markdown",
   "metadata": {},
   "source": [
    "In this notebook we begin implementing sparse bayesian learning."
   ]
  },
  {
   "cell_type": "code",
   "execution_count": 1,
   "metadata": {},
   "outputs": [
    {
     "name": "stderr",
     "output_type": "stream",
     "text": [
      "/opt/conda/lib/python3.6/site-packages/tensorboard/compat/tensorflow_stub/dtypes.py:541: FutureWarning: Passing (type, 1) or '1type' as a synonym of type is deprecated; in a future version of numpy, it will be understood as (type, (1,)) / '(1,)type'.\n",
      "  _np_qint8 = np.dtype([(\"qint8\", np.int8, 1)])\n",
      "/opt/conda/lib/python3.6/site-packages/tensorboard/compat/tensorflow_stub/dtypes.py:542: FutureWarning: Passing (type, 1) or '1type' as a synonym of type is deprecated; in a future version of numpy, it will be understood as (type, (1,)) / '(1,)type'.\n",
      "  _np_quint8 = np.dtype([(\"quint8\", np.uint8, 1)])\n",
      "/opt/conda/lib/python3.6/site-packages/tensorboard/compat/tensorflow_stub/dtypes.py:543: FutureWarning: Passing (type, 1) or '1type' as a synonym of type is deprecated; in a future version of numpy, it will be understood as (type, (1,)) / '(1,)type'.\n",
      "  _np_qint16 = np.dtype([(\"qint16\", np.int16, 1)])\n",
      "/opt/conda/lib/python3.6/site-packages/tensorboard/compat/tensorflow_stub/dtypes.py:544: FutureWarning: Passing (type, 1) or '1type' as a synonym of type is deprecated; in a future version of numpy, it will be understood as (type, (1,)) / '(1,)type'.\n",
      "  _np_quint16 = np.dtype([(\"quint16\", np.uint16, 1)])\n",
      "/opt/conda/lib/python3.6/site-packages/tensorboard/compat/tensorflow_stub/dtypes.py:545: FutureWarning: Passing (type, 1) or '1type' as a synonym of type is deprecated; in a future version of numpy, it will be understood as (type, (1,)) / '(1,)type'.\n",
      "  _np_qint32 = np.dtype([(\"qint32\", np.int32, 1)])\n",
      "/opt/conda/lib/python3.6/site-packages/tensorboard/compat/tensorflow_stub/dtypes.py:550: FutureWarning: Passing (type, 1) or '1type' as a synonym of type is deprecated; in a future version of numpy, it will be understood as (type, (1,)) / '(1,)type'.\n",
      "  np_resource = np.dtype([(\"resource\", np.ubyte, 1)])\n"
     ]
    }
   ],
   "source": [
    "# General imports\n",
    "import numpy as np\n",
    "import torch\n",
    "import torch.nn as nn\n",
    "import torch.nn.functional as F\n",
    "from deepmod_l1.analytical import theta_analytical\n",
    "\n",
    "#Plotting imports\n",
    "import matplotlib.pyplot as plt\n",
    "import seaborn as sns\n",
    "sns.set()\n",
    "\n",
    "# DeepMoD stuff\n",
    "from deepymod_torch.DeepMod import DeepMod, build_network\n",
    "from deepymod_torch.library_functions import library_basic\n",
    "from deepymod_torch.utilities import create_deriv_data\n",
    "from deepymod_torch.output import progress\n",
    "\n",
    "# Remainder imports\n",
    "from os import listdir, path, getcwd\n",
    "\n",
    "# Setting cuda\n",
    "if torch.cuda.is_available():\n",
    "    torch.set_default_tensor_type('torch.cuda.FloatTensor')\n",
    "\n",
    "# Settings for reproducibility\n",
    "np.random.seed(42)\n",
    "torch.manual_seed(0)\n",
    "torch.backends.cudnn.deterministic = True\n",
    "torch.backends.cudnn.benchmark = False\n",
    "\n",
    "# Defining output folder\n",
    "output_folder = getcwd()\n",
    "\n",
    "%load_ext autoreload\n",
    "%autoreload 2"
   ]
  },
  {
   "cell_type": "markdown",
   "metadata": {},
   "source": [
    "# Making library"
   ]
  },
  {
   "cell_type": "code",
   "execution_count": 3,
   "metadata": {},
   "outputs": [],
   "source": [
    "D = 0.5\n",
    "a = 0.25\n",
    "\n",
    "x = np.linspace(-5, 5, 50, dtype=np.float32)\n",
    "t = np.linspace(0, 5, 50, dtype=np.float32)\n",
    "x_grid, t_grid = np.meshgrid(x, t, indexing='ij')\n",
    "    \n",
    "# Analytical\n",
    "time_deriv, theta_noiseless = theta_analytical(x_grid, t_grid, D, a)"
   ]
  },
  {
   "cell_type": "markdown",
   "metadata": {},
   "source": [
    "And performing lst-sq we get:"
   ]
  },
  {
   "cell_type": "code",
   "execution_count": null,
   "metadata": {},
   "outputs": [],
   "source": [
    "xi_base = np.linalg.lstsq(theta, time_deriv, rcond=None)[0].squeeze()"
   ]
  },
  {
   "cell_type": "code",
   "execution_count": null,
   "metadata": {},
   "outputs": [],
   "source": [
    "xi_base"
   ]
  },
  {
   "cell_type": "markdown",
   "metadata": {},
   "source": [
    "Now let's add some noise:"
   ]
  },
  {
   "cell_type": "code",
   "execution_count": null,
   "metadata": {},
   "outputs": [],
   "source": [
    "time_deriv = time_deriv + np.random.normal(scale=0.1, size=time_deriv.shape)"
   ]
  },
  {
   "cell_type": "code",
   "execution_count": null,
   "metadata": {},
   "outputs": [],
   "source": [
    "np.linalg.lstsq(theta, time_deriv, rcond=None)[0].squeeze()"
   ]
  },
  {
   "cell_type": "markdown",
   "metadata": {},
   "source": [
    "# Sparse bayesian learning"
   ]
  },
  {
   "cell_type": "code",
   "execution_count": null,
   "metadata": {},
   "outputs": [],
   "source": [
    "# Setting sigma to reasonable value\n",
    "sigma2 = np.var(time_deriv) * 0.1"
   ]
  },
  {
   "cell_type": "code",
   "execution_count": null,
   "metadata": {},
   "outputs": [],
   "source": [
    "# Finding best initial vector \n",
    "projection = np.concatenate([((theta[:, idx:idx+1].T @ time_deriv).T @ (theta[:, idx:idx+1].T @ time_deriv))/(theta[:, idx:idx+1].T @ theta[:, idx:idx+1]) for idx in np.arange(theta.shape[1])])\n",
    "start_idx = np.argmax(projection)\n",
    "\n",
    "# Initializing alphas\n",
    "a = np.ones((theta.shape[1], 1)) * np.inf\n",
    "a[start_idx] = theta[:, start_idx:start_idx+1].T @ theta[:, start_idx:start_idx+1] / (projection[start_idx] - sigma2)"
   ]
  },
  {
   "cell_type": "code",
   "execution_count": null,
   "metadata": {},
   "outputs": [],
   "source": [
    "projection"
   ]
  },
  {
   "cell_type": "code",
   "execution_count": null,
   "metadata": {},
   "outputs": [],
   "source": [
    "start_idx"
   ]
  },
  {
   "cell_type": "code",
   "execution_count": null,
   "metadata": {},
   "outputs": [],
   "source": [
    "a"
   ]
  },
  {
   "cell_type": "code",
   "execution_count": null,
   "metadata": {},
   "outputs": [],
   "source": [
    "# Calculating sigma and mu\n",
    "current_matrix = theta[:, [start_idx]]\n",
    "sigma = np.linalg.inv(a[start_idx][:, None] + 1/sigma2 * current_matrix.T @ current_matrix)\n",
    "\n",
    "mu = 1/sigma2 * sigma @ current_matrix.T @ time_deriv"
   ]
  },
  {
   "cell_type": "code",
   "execution_count": null,
   "metadata": {},
   "outputs": [],
   "source": [
    "sigma"
   ]
  },
  {
   "cell_type": "code",
   "execution_count": null,
   "metadata": {},
   "outputs": [],
   "source": [
    "mu"
   ]
  },
  {
   "cell_type": "code",
   "execution_count": null,
   "metadata": {},
   "outputs": [],
   "source": [
    "# calculating Sm and Qm\n",
    "\n",
    "B = 1/sigma2 * np.eye(current_matrix.shape[0])\n",
    "precalc = B @ current_matrix @ sigma @ current_matrix.T @ B\n",
    "\n",
    "Sm = np.concatenate([theta[:, idx:idx+1].T @ B @ theta[:, idx:idx+1] - theta[:, idx:idx+1].T @ precalc @ theta[:, idx:idx+1] for idx in np.arange(theta.shape[1])])\n",
    "Qm = np.concatenate([theta[:, idx:idx+1].T @ B @ time_deriv - theta[:, idx:idx+1].T @ precalc @ time_deriv for idx in np.arange(theta.shape[1])])\n",
    "\n",
    "sm = Sm/(1 - Sm/a)\n",
    "qm = Qm/(1 - Sm/a)"
   ]
  },
  {
   "cell_type": "code",
   "execution_count": null,
   "metadata": {},
   "outputs": [],
   "source": [
    "sm"
   ]
  },
  {
   "cell_type": "code",
   "execution_count": null,
   "metadata": {},
   "outputs": [],
   "source": [
    "qm"
   ]
  },
  {
   "cell_type": "code",
   "execution_count": null,
   "metadata": {},
   "outputs": [],
   "source": [
    "# Randomly pick basis vector to improve and calculate theta_i\n",
    "idx = np.random.choice(theta.shape[1])\n",
    "t = (qm[idx]**2 - sm[idx]).item()"
   ]
  },
  {
   "cell_type": "code",
   "execution_count": null,
   "metadata": {},
   "outputs": [],
   "source": [
    "idx"
   ]
  },
  {
   "cell_type": "code",
   "execution_count": null,
   "metadata": {},
   "outputs": [],
   "source": [
    "t"
   ]
  },
  {
   "cell_type": "code",
   "execution_count": null,
   "metadata": {},
   "outputs": [],
   "source": [
    "if (t > 0) & (a[idx].item() != np.inf):\n",
    "    print('restimate')\n",
    "elif (t > 0) & (a[idx].item() == np.inf):\n",
    "    print('add and update')\n",
    "elif (t < 0) & (a[idx].item() != np.inf):\n",
    "    print('delete that shit')\n",
    "elif (t < 0) & (a[idx].item() == np.inf):\n",
    "    print('dont add the fucker')"
   ]
  },
  {
   "cell_type": "code",
   "execution_count": null,
   "metadata": {},
   "outputs": [],
   "source": [
    "# Doing it all in a loop\n",
    "\n",
    "for iteration in np.arange(100):\n",
    "    idx = np.random.choice(theta.shape[1])\n",
    "    t = (qm[idx]**2 - sm[idx]).item()\n",
    "    \n",
    "    # Decidiing what to do \n",
    "    if (t > 0) & (a[idx].item() != np.inf):\n",
    "        a[idx] = sm[idx]**2/(qm[idx]**2-sm[idx]) # reestimating\n",
    "    elif (t > 0) & (a[idx].item() == np.inf):\n",
    "        a[idx] = sm[idx]**2/(qm[idx]**2-sm[idx]) # adding alpha\n",
    "        current_matrix = np.concatenate((current_matrix, theta[:, idx:idx+1]), axis=1) # adding to design matrix\n",
    "    elif (t < 0) & (a[idx].item() != np.inf):\n",
    "        a[idx] = np.inf #removing alpha\n",
    "        current_matrix = np.delete(current_matrix, idx, axis=0) #removing from design matrix\n",
    "    elif (t < 0) & (a[idx].item() == np.inf):\n",
    "        pass #do nothing;\n",
    "    \n",
    "    # Matrices\n",
    "    sigma = np.linalg.inv(a[a!=np.inf][:, None] + 1/sigma2 * current_matrix.T @ current_matrix)\n",
    "    mu = 1/sigma2 * sigma @ current_matrix.T @ time_deriv\n",
    "\n",
    "    B = 1/sigma2 * np.eye(current_matrix.shape[0])\n",
    "    precalc = B @ current_matrix @ sigma @ current_matrix.T @ B\n",
    "\n",
    "    Sm = np.concatenate([theta[:, idx:idx+1].T @ B @ theta[:, idx:idx+1] - theta[:, idx:idx+1].T @ precalc @ theta[:, idx:idx+1] for idx in np.arange(theta.shape[1])])\n",
    "    Qm = np.concatenate([theta[:, idx:idx+1].T @ B @ time_deriv - theta[:, idx:idx+1].T @ precalc @ time_deriv for idx in np.arange(theta.shape[1])])\n",
    "\n",
    "    sm = Sm/(1 - Sm/a)\n",
    "    qm = Qm/(1 - Sm/a)\n",
    "    \n",
    "    if iteration % 10 == 0:\n",
    "        print(f'done with {iteration}')"
   ]
  },
  {
   "cell_type": "code",
   "execution_count": null,
   "metadata": {},
   "outputs": [],
   "source": [
    "current_matrix.shape"
   ]
  },
  {
   "cell_type": "code",
   "execution_count": null,
   "metadata": {},
   "outputs": [],
   "source": [
    "a"
   ]
  },
  {
   "cell_type": "code",
   "execution_count": null,
   "metadata": {},
   "outputs": [],
   "source": [
    "a"
   ]
  },
  {
   "cell_type": "markdown",
   "metadata": {},
   "source": [
    "The posterior is simply mu:"
   ]
  },
  {
   "cell_type": "code",
   "execution_count": null,
   "metadata": {},
   "outputs": [],
   "source": [
    "mu"
   ]
  },
  {
   "cell_type": "code",
   "execution_count": null,
   "metadata": {},
   "outputs": [],
   "source": [
    "sigma"
   ]
  },
  {
   "cell_type": "code",
   "execution_count": null,
   "metadata": {},
   "outputs": [],
   "source": []
  },
  {
   "cell_type": "markdown",
   "metadata": {},
   "source": [
    "# Rewriting variable names so we get working version"
   ]
  },
  {
   "cell_type": "code",
   "execution_count": 4,
   "metadata": {},
   "outputs": [],
   "source": []
  },
  {
   "cell_type": "code",
   "execution_count": 4,
   "metadata": {},
   "outputs": [],
   "source": [
    "noise = np.var(time_deriv) * 0.01\n",
    "normalization = np.linalg.norm(theta_noiseless, axis=0)\n",
    "theta = theta_noiseless #/ normalization\n",
    "t = time_deriv #+ np.random.normal(scale= np.sqrt(noise), size=time_deriv.shape)"
   ]
  },
  {
   "cell_type": "code",
   "execution_count": 20,
   "metadata": {},
   "outputs": [],
   "source": [
    "# Initialisation\n",
    "sigma2 = np.var(time_deriv) * 0.1\n",
    "\n",
    "# Finding best initial vector \n",
    "projection = np.concatenate([((phi_i[:, None].T @ t).T @ (phi_i[:, None].T @ t)) / (phi_i[:, None].T @ phi_i[:, None]) for phi_i in theta.T])\n",
    "start_idx = np.argmax(projection)\n",
    "\n",
    "# Initializing alphas\n",
    "a = np.ones((theta.shape[1], 1)) * np.inf\n",
    "a[start_idx] = theta[:, start_idx:start_idx+1].T @ theta[:, start_idx:start_idx+1] / (projection[start_idx] - sigma2)\n",
    "Phi = theta[:, [start_idx]]\n",
    "\n",
    "# Calculating sigma and mu\n",
    "Sigma = np.linalg.inv(a[a!=np.inf] * np.eye(Phi.shape[1]) + 1/sigma2 * Phi.T @ Phi)\n",
    "mu = 1/sigma2 * Sigma @ Phi.T @ t\n",
    "\n",
    "# Calculating s and m\n",
    "B = 1/sigma2 * np.eye(Phi.shape[0])\n",
    "precalc = B @ Phi @ Sigma @ Phi.T @ B\n",
    "\n",
    "Sm = np.concatenate([phi_i[:, None].T @ B @ phi_i[:, None] - phi_i[:, None].T @ precalc @ phi_i[:, None] for phi_i in theta.T])\n",
    "Qm = np.concatenate([phi_i[:, None].T @ B @ t - phi_i[:, None].T @ precalc @ t for phi_i in theta.T])\n",
    "\n",
    "sm = Sm/(1 - Sm/a)\n",
    "qm = Qm/(1 - Sm/a)"
   ]
  },
  {
   "cell_type": "code",
   "execution_count": 6,
   "metadata": {},
   "outputs": [
    {
     "data": {
      "text/plain": [
       "81.92196504713522"
      ]
     },
     "execution_count": 6,
     "metadata": {},
     "output_type": "execute_result"
    }
   ],
   "source": [
    "1/sigma2"
   ]
  },
  {
   "cell_type": "code",
   "execution_count": 7,
   "metadata": {},
   "outputs": [
    {
     "data": {
      "text/plain": [
       "2"
      ]
     },
     "execution_count": 7,
     "metadata": {},
     "output_type": "execute_result"
    }
   ],
   "source": [
    "start_idx"
   ]
  },
  {
   "cell_type": "code",
   "execution_count": 8,
   "metadata": {},
   "outputs": [
    {
     "data": {
      "text/plain": [
       "array([[0.49997995]])"
      ]
     },
     "execution_count": 8,
     "metadata": {},
     "output_type": "execute_result"
    }
   ],
   "source": [
    "mu"
   ]
  },
  {
   "cell_type": "code",
   "execution_count": 23,
   "metadata": {},
   "outputs": [
    {
     "data": {
      "text/plain": [
       "array([[-204804.55585766],\n",
       "       [  -6354.7387566 ],\n",
       "       [ 584658.81763924],\n",
       "       [  -4313.6915979 ],\n",
       "       [  -3806.81492184],\n",
       "       [ -29071.88096104],\n",
       "       [   -749.24529638],\n",
       "       [  -5297.42479995],\n",
       "       [ -86201.60296754]])"
      ]
     },
     "execution_count": 23,
     "metadata": {},
     "output_type": "execute_result"
    }
   ],
   "source": [
    "qm**2 - sm"
   ]
  },
  {
   "cell_type": "code",
   "execution_count": null,
   "metadata": {},
   "outputs": [],
   "source": [
    "# Doing it all in a loop\n",
    "for iteration in np.arange(10):\n",
    "    idx = np.random.choice(theta.shape[1])\n",
    "    phi_i = theta[:, idx:idx+1]\n",
    "    theta_i = (qm[idx, 0]**2 - sm[idx, 0])\n",
    "    print(theta_i)\n",
    "    sigma2 = (t - Phi @ mu).T @ (t - Phi @ mu) / (Phi.shape[0] - Phi.shape[1] + np.sum(a[a!=np.inf] * np.diag(Sigma)))\n",
    "    \n",
    "    # Decididing what to do \n",
    "    if (theta_i > 0) & (a[idx, 0] != np.inf):\n",
    "        a[idx, 0] = sm[idx, 0]**2 / theta_i #reestimating\n",
    "    elif (theta_i > 0) & (a[idx, 0] == np.inf):\n",
    "        a[idx, 0] = sm[idx, 0]**2 / theta_i # adding alpha\n",
    "        Phi = theta[:, a[:, 0] != np.inf] # we rebuild completely because we need to preserve order\n",
    "    elif (theta_i< 0) & (a[idx, 0] != np.inf):\n",
    "        a[idx, 0] = np.inf #removing alpha\n",
    "        Phi = theta[:, a[:, 0] != np.inf] # we rebuild completely because we need to preserve order\n",
    "    elif (theta_i < 0) & (a[idx, 0] == np.inf):\n",
    "        pass #do nothing;\n",
    "    \n",
    "    # Calculating sigma and mu\n",
    "    Sigma = np.linalg.inv(a[a!=np.inf] * np.eye(Phi.shape[1]) + 1/sigma2 * Phi.T @ Phi)\n",
    "    mu = 1/sigma2 * Sigma @ Phi.T @ t\n",
    "    \n",
    "    # Matrices\n",
    "    B = 1/sigma2 * np.eye(Phi.shape[0])\n",
    "    precalc = B @ Phi @ Sigma @ Phi.T @ B\n",
    "\n",
    "    Sm = np.concatenate([phi_i[:, None].T @ B @ phi_i[:, None] - phi_i[:, None].T @ precalc @ phi_i[:, None] for phi_i in theta.T])\n",
    "    Qm = np.concatenate([phi_i[:, None].T @ B @ t - phi_i[:, None].T @ precalc @ t for phi_i in theta.T])\n",
    "\n",
    "    sm = Sm/(1 - Sm/a)\n",
    "    qm = Qm/(1 - Sm/a)\n",
    "    \n",
    "    if iteration % 25 == 0:\n",
    "        print(f'done with {iteration}')"
   ]
  },
  {
   "cell_type": "code",
   "execution_count": null,
   "metadata": {},
   "outputs": [],
   "source": [
    "Phi.shape"
   ]
  },
  {
   "cell_type": "code",
   "execution_count": null,
   "metadata": {},
   "outputs": [],
   "source": [
    "Sigma.shape"
   ]
  },
  {
   "cell_type": "markdown",
   "metadata": {},
   "source": [
    "it works; let's add a little noise"
   ]
  },
  {
   "cell_type": "code",
   "execution_count": null,
   "metadata": {},
   "outputs": [],
   "source": [
    "mu "
   ]
  },
  {
   "cell_type": "code",
   "execution_count": null,
   "metadata": {},
   "outputs": [],
   "source": [
    "a"
   ]
  },
  {
   "cell_type": "markdown",
   "metadata": {},
   "source": [
    "So although it doesn't work, clearly it's much more sure about the terms we require..."
   ]
  },
  {
   "cell_type": "markdown",
   "metadata": {},
   "source": [
    "Still works! Now we need to figure out how to estimate the noise as well..."
   ]
  },
  {
   "cell_type": "code",
   "execution_count": null,
   "metadata": {},
   "outputs": [],
   "source": [
    "sigma2"
   ]
  },
  {
   "cell_type": "code",
   "execution_count": null,
   "metadata": {},
   "outputs": [],
   "source": [
    "noise"
   ]
  },
  {
   "cell_type": "markdown",
   "metadata": {},
   "source": [
    "Let's look at the normalized ones:"
   ]
  },
  {
   "cell_type": "code",
   "execution_count": null,
   "metadata": {},
   "outputs": [],
   "source": [
    "mu[:, 0] / normalization[a[:, 0] != np.inf]"
   ]
  },
  {
   "cell_type": "code",
   "execution_count": null,
   "metadata": {},
   "outputs": [],
   "source": [
    "a[:, 0] / normalization"
   ]
  },
  {
   "cell_type": "markdown",
   "metadata": {},
   "source": [
    "So we now have a basic version working, the next step is to precalculate some quantities to figure out which basis to add, instead of randomly assigning."
   ]
  },
  {
   "cell_type": "markdown",
   "metadata": {},
   "source": [
    "# Adding basis vector selection:"
   ]
  },
  {
   "cell_type": "code",
   "execution_count": 175,
   "metadata": {},
   "outputs": [],
   "source": [
    "D = 0.5\n",
    "a = 0.25\n",
    "\n",
    "x = np.linspace(-5, 5, 50, dtype=np.float32)\n",
    "t = np.linspace(0, 5, 50, dtype=np.float32)\n",
    "x_grid, t_grid = np.meshgrid(x, t, indexing='ij')\n",
    "    \n",
    "# Analytical\n",
    "time_deriv, theta_noiseless = theta_analytical(x_grid, t_grid, D, a)"
   ]
  },
  {
   "cell_type": "code",
   "execution_count": 176,
   "metadata": {},
   "outputs": [],
   "source": [
    "noise = np.var(time_deriv) * 0.00\n",
    "normalization = np.linalg.norm(theta_noiseless, axis=0)\n",
    "theta = theta_noiseless / normalization\n",
    "t = time_deriv + np.random.normal(scale= np.sqrt(noise), size=time_deriv.shape)"
   ]
  },
  {
   "cell_type": "code",
   "execution_count": 177,
   "metadata": {},
   "outputs": [],
   "source": [
    "# Initialisation\n",
    "sigma2 = np.var(time_deriv) * 0.1\n",
    "\n",
    "# Finding best initial vector \n",
    "projection = np.concatenate([((phi_i[:, None].T @ t).T @ (phi_i[:, None].T @ t)) / (phi_i[:, None].T @ phi_i[:, None]) for phi_i in theta.T])\n",
    "start_idx = np.argmax(projection)\n",
    "\n",
    "# Initializing alphas\n",
    "a = np.ones((theta.shape[1], 1)) * np.inf\n",
    "a[start_idx] = theta[:, start_idx:start_idx+1].T @ theta[:, start_idx:start_idx+1] / (projection[start_idx] - sigma2)\n",
    "Phi = theta[:, [start_idx]]\n",
    "\n",
    "# Calculating sigma and mu\n",
    "Sigma = np.linalg.inv(a[a!=np.inf] * np.eye(Phi.shape[1]) + 1/sigma2 * Phi.T @ Phi)\n",
    "mu = 1/sigma2 * Sigma @ Phi.T @ t\n",
    "\n",
    "# Calculating s and m\n",
    "B = 1/sigma2 * np.eye(Phi.shape[0])\n",
    "precalc = B @ Phi @ Sigma @ Phi.T @ B\n",
    "\n",
    "Sm = np.concatenate([phi_i[:, None].T @ B @ phi_i[:, None] - phi_i[:, None].T @ precalc @ phi_i[:, None] for phi_i in theta.T])\n",
    "Qm = np.concatenate([phi_i[:, None].T @ B @ t - phi_i[:, None].T @ precalc @ t for phi_i in theta.T])\n",
    "\n",
    "sm = Sm/(1 - Sm/a)\n",
    "qm = Qm/(1 - Sm/a)"
   ]
  },
  {
   "cell_type": "code",
   "execution_count": 178,
   "metadata": {},
   "outputs": [
    {
     "name": "stderr",
     "output_type": "stream",
     "text": [
      "/opt/conda/lib/python3.6/site-packages/ipykernel_launcher.py:10: RuntimeWarning: divide by zero encountered in true_divide\n",
      "  # Remove the CWD from sys.path while we load stuff.\n",
      "/opt/conda/lib/python3.6/site-packages/ipykernel_launcher.py:10: RuntimeWarning: divide by zero encountered in log\n",
      "  # Remove the CWD from sys.path while we load stuff.\n"
     ]
    },
    {
     "name": "stdout",
     "output_type": "stream",
     "text": [
      "done with 0\n"
     ]
    },
    {
     "name": "stderr",
     "output_type": "stream",
     "text": [
      "/opt/conda/lib/python3.6/site-packages/ipykernel_launcher.py:8: RuntimeWarning: invalid value encountered in log\n",
      "  \n",
      "/opt/conda/lib/python3.6/site-packages/ipykernel_launcher.py:7: RuntimeWarning: invalid value encountered in log\n",
      "  import sys\n",
      "/opt/conda/lib/python3.6/site-packages/ipykernel_launcher.py:10: RuntimeWarning: invalid value encountered in log\n",
      "  # Remove the CWD from sys.path while we load stuff.\n"
     ]
    },
    {
     "name": "stdout",
     "output_type": "stream",
     "text": [
      "done with 10\n"
     ]
    },
    {
     "name": "stderr",
     "output_type": "stream",
     "text": [
      "/opt/conda/lib/python3.6/site-packages/ipykernel_launcher.py:7: RuntimeWarning: invalid value encountered in true_divide\n",
      "  import sys\n",
      "/opt/conda/lib/python3.6/site-packages/ipykernel_launcher.py:9: RuntimeWarning: invalid value encountered in true_divide\n",
      "  if __name__ == '__main__':\n",
      "/opt/conda/lib/python3.6/site-packages/ipykernel_launcher.py:7: RuntimeWarning: divide by zero encountered in true_divide\n",
      "  import sys\n",
      "/opt/conda/lib/python3.6/site-packages/ipykernel_launcher.py:7: RuntimeWarning: divide by zero encountered in log\n",
      "  import sys\n",
      "/opt/conda/lib/python3.6/site-packages/ipykernel_launcher.py:7: RuntimeWarning: invalid value encountered in add\n",
      "  import sys\n",
      "/opt/conda/lib/python3.6/site-packages/ipykernel_launcher.py:10: RuntimeWarning: invalid value encountered in multiply\n",
      "  # Remove the CWD from sys.path while we load stuff.\n"
     ]
    },
    {
     "name": "stdout",
     "output_type": "stream",
     "text": [
      "done with 20\n",
      "done with 30\n",
      "done with 40\n"
     ]
    },
    {
     "name": "stderr",
     "output_type": "stream",
     "text": [
      "/opt/conda/lib/python3.6/site-packages/ipykernel_launcher.py:10: RuntimeWarning: invalid value encountered in true_divide\n",
      "  # Remove the CWD from sys.path while we load stuff.\n"
     ]
    },
    {
     "name": "stdout",
     "output_type": "stream",
     "text": [
      "done with 50\n",
      "done with 60\n",
      "done with 70\n",
      "done with 80\n",
      "done with 90\n",
      "done with 100\n"
     ]
    }
   ],
   "source": [
    "# Doing itpossible_update in a loop\n",
    "for iteration in np.arange(101):\n",
    "    # Choosing basis function\n",
    "    basis_idx = a != np.inf\n",
    "    set_idx = a == np.inf\n",
    "    \n",
    "    add_basis = (Qm**2 - Sm)/Sm + np.log(Sm/Qm**2)\n",
    "    del_basis = Qm**2/(Sm - a) - np.log(1-Sm/a)\n",
    "    a_new = sm**2/(qm**2 - sm)\n",
    "    redo_basis = Qm**2/(Sm + (1/a_new-1/a)**-1) - np.log(1 + Sm * (1/a_new-1/a))\n",
    "    \n",
    "    #Making everything into nice matrix\n",
    "    add_basis[basis_idx] = np.nan\n",
    "    del_basis[set_idx] = np.nan\n",
    "    redo_basis[set_idx] = np.nan\n",
    "    \n",
    "    # Deciding update\n",
    "    possible_update = np.concatenate((add_basis, redo_basis, del_basis), axis=1)\n",
    "    idx, opt = np.unravel_index(np.nanargmax(possible_update), possible_update.shape)\n",
    "    \n",
    "    # Extracting update\n",
    "    phi_i = theta[:, idx:idx+1]\n",
    "    theta_i = (qm[idx, 0]**2 - sm[idx, 0])\n",
    "    \n",
    "    sigma2 = (t - Phi @ mu).T @ (t - Phi @ mu) / (Phi.shape[0] - Phi.shape[1] + np.sum(a[a!=np.inf] * np.diag(Sigma)))\n",
    "\n",
    "    # Decididing what to do \n",
    "    if (theta_i > 0) & (a[idx, 0] != np.inf):\n",
    "        a[idx, 0] = sm[idx, 0]**2 / theta_i #reestimating\n",
    "    elif (theta_i > 0) & (a[idx, 0] == np.inf):\n",
    "        a[idx, 0] = sm[idx, 0]**2 / theta_i # adding alpha\n",
    "        Phi = theta[:, a[:, 0] != np.inf] # we rebuild completely because we need to preserve order\n",
    "    elif (theta_i< 0) & (a[idx, 0] != np.inf):\n",
    "        a[idx, 0] = np.inf #removing alpha\n",
    "        Phi = theta[:, a[:, 0] != np.inf] # we rebuild completely because we need to preserve order\n",
    "    elif (theta_i < 0) & (a[idx, 0] == np.inf):\n",
    "        pass #do nothing;\n",
    "    \n",
    "    # Calculating sigma and mu\n",
    "    Sigma = np.linalg.inv(a[a!=np.inf] * np.eye(Phi.shape[1]) + 1/sigma2 * Phi.T @ Phi)\n",
    "    mu = 1/sigma2 * Sigma @ Phi.T @ t\n",
    "    \n",
    "    # Matrices\n",
    "    B = 1/sigma2 * np.eye(Phi.shape[0])\n",
    "    precalc = B @ Phi @ Sigma @ Phi.T @ B\n",
    "\n",
    "    Sm = np.concatenate([phi_i[:, None].T @ B @ phi_i[:, None] - phi_i[:, None].T @ precalc @ phi_i[:, None] for phi_i in theta.T])\n",
    "    Qm = np.concatenate([phi_i[:, None].T @ B @ t - phi_i[:, None].T @ precalc @ t for phi_i in theta.T])\n",
    "\n",
    "    sm = Sm/(1 - Sm/a)\n",
    "    qm = Qm/(1 - Sm/a)\n",
    "    \n",
    "    if iteration % 10 == 0:\n",
    "        print(f'done with {iteration}')"
   ]
  },
  {
   "cell_type": "code",
   "execution_count": 166,
   "metadata": {},
   "outputs": [
    {
     "data": {
      "text/plain": [
       "array([ 6.64602693e-10,  4.99999981e-01,  2.93714540e-08, -1.82310386e-08])"
      ]
     },
     "execution_count": 166,
     "metadata": {},
     "output_type": "execute_result"
    }
   ],
   "source": [
    "mu[:, 0] / normalization[a[:, 0] != np.inf]"
   ]
  },
  {
   "cell_type": "code",
   "execution_count": 167,
   "metadata": {},
   "outputs": [
    {
     "data": {
      "text/plain": [
       "array([[2.58212576e-17]])"
      ]
     },
     "execution_count": 167,
     "metadata": {},
     "output_type": "execute_result"
    }
   ],
   "source": [
    "sigma2"
   ]
  },
  {
   "cell_type": "code",
   "execution_count": 168,
   "metadata": {},
   "outputs": [
    {
     "data": {
      "text/plain": [
       "array([[8.82493786e+14],\n",
       "       [           inf],\n",
       "       [3.21683096e-05],\n",
       "       [           inf],\n",
       "       [           inf],\n",
       "       [5.98200943e+11],\n",
       "       [3.12306011e+14],\n",
       "       [           inf],\n",
       "       [           inf]])"
      ]
     },
     "execution_count": 168,
     "metadata": {},
     "output_type": "execute_result"
    }
   ],
   "source": [
    "a"
   ]
  },
  {
   "cell_type": "code",
   "execution_count": 169,
   "metadata": {},
   "outputs": [
    {
     "data": {
      "text/plain": [
       "array([[            nan,  3.07273070e-07, -3.34435727e+01],\n",
       "       [ 3.33233527e+01,             nan,             nan],\n",
       "       [            nan,  9.20587130e+03,             nan],\n",
       "       [ 7.98906668e-01,             nan,             nan],\n",
       "       [ 3.21061385e+01,             nan,             nan],\n",
       "       [            nan,  3.58971021e-03, -8.92244935e+03],\n",
       "       [            nan,  2.36815763e-01, -7.43219661e+01],\n",
       "       [ 3.04807816e+01,             nan,             nan],\n",
       "       [ 4.71300605e+00,             nan,             nan]])"
      ]
     },
     "execution_count": 169,
     "metadata": {},
     "output_type": "execute_result"
    }
   ],
   "source": [
    "possible_update"
   ]
  },
  {
   "cell_type": "code",
   "execution_count": null,
   "metadata": {},
   "outputs": [],
   "source": []
  },
  {
   "cell_type": "markdown",
   "metadata": {},
   "source": [
    "# Implementing convergence"
   ]
  },
  {
   "cell_type": "code",
   "execution_count": null,
   "metadata": {},
   "outputs": [],
   "source": [
    "D = 0.5\n",
    "a = 0.25\n",
    "\n",
    "x = np.linspace(-5, 5, 50, dtype=np.float32)\n",
    "t = np.linspace(0, 5, 50, dtype=np.float32)\n",
    "x_grid, t_grid = np.meshgrid(x, t, indexing='ij')\n",
    "    \n",
    "# Analytical\n",
    "time_deriv, theta_noiseless = theta_analytical(x_grid, t_grid, D, a)"
   ]
  },
  {
   "cell_type": "code",
   "execution_count": null,
   "metadata": {},
   "outputs": [],
   "source": [
    "noise = np.var(time_deriv) * 0.01\n",
    "normalization = np.linalg.norm(theta_noiseless, axis=0)\n",
    "theta = theta_noiseless / normalization\n",
    "t = time_deriv + np.random.normal(scale= np.sqrt(noise), size=time_deriv.shape)"
   ]
  },
  {
   "cell_type": "code",
   "execution_count": null,
   "metadata": {},
   "outputs": [],
   "source": [
    "# Initialisation\n",
    "sigma2 = np.var(time_deriv) * 0.1\n",
    "\n",
    "# Finding best initial vector \n",
    "projection = np.concatenate([((phi_i[:, None].T @ t).T @ (phi_i[:, None].T @ t)) / (phi_i[:, None].T @ phi_i[:, None]) for phi_i in theta.T])\n",
    "start_idx = np.argmax(projection)\n",
    "\n",
    "# Initializing alphas\n",
    "a = np.ones((theta.shape[1], 1)) * np.inf\n",
    "a[start_idx] = theta[:, start_idx:start_idx+1].T @ theta[:, start_idx:start_idx+1] / (projection[start_idx] - sigma2)\n",
    "Phi = theta[:, [start_idx]]\n",
    "\n",
    "# Calculating sigma and mu\n",
    "Sigma = np.linalg.inv(a[a!=np.inf] * np.eye(Phi.shape[1]) + 1/sigma2 * Phi.T @ Phi)\n",
    "mu = 1/sigma2 * Sigma @ Phi.T @ t\n",
    "\n",
    "# Calculating s and m\n",
    "B = 1/sigma2 * np.eye(Phi.shape[0])\n",
    "precalc = B @ Phi @ Sigma @ Phi.T @ B\n",
    "\n",
    "Sm = np.concatenate([phi_i[:, None].T @ B @ phi_i[:, None] - phi_i[:, None].T @ precalc @ phi_i[:, None] for phi_i in theta.T])\n",
    "Qm = np.concatenate([phi_i[:, None].T @ B @ t - phi_i[:, None].T @ precalc @ t for phi_i in theta.T])\n",
    "\n",
    "sm = Sm/(1 - Sm/a)\n",
    "qm = Qm/(1 - Sm/a)"
   ]
  },
  {
   "cell_type": "code",
   "execution_count": null,
   "metadata": {},
   "outputs": [],
   "source": [
    "# Doing itpossible_update in a loop\n",
    "converged = False\n",
    "for iteration in np.arange(500):#while converged == False:\n",
    "    idx = np.random.choice(theta.shape[1])\n",
    "    phi_i = theta[:, idx:idx+1]\n",
    "    theta_i = (qm[idx, 0]**2 - sm[idx, 0])\n",
    "    \n",
    "    sigma2 = (t - Phi @ mu).T @ (t - Phi @ mu) / (Phi.shape[0] - Phi.shape[1] + np.sum(a[a!=np.inf] * np.diag(Sigma)))\n",
    "    \n",
    "    # Decididing what to do \n",
    "    if (theta_i > 0) & (a[idx, 0] != np.inf):\n",
    "        a[idx, 0] = sm[idx, 0]**2 / theta_i #reestimating\n",
    "    elif (theta_i > 0) & (a[idx, 0] == np.inf):\n",
    "        a[idx, 0] = sm[idx, 0]**2 / theta_i # adding alpha\n",
    "        Phi = theta[:, a[:, 0] != np.inf] # we rebuild completely because we need to preserve order\n",
    "    elif (theta_i< 0) & (a[idx, 0] != np.inf):\n",
    "        a[idx, 0] = np.inf #removing alpha\n",
    "        Phi = theta[:, a[:, 0] != np.inf] # we rebuild completely because we need to preserve order\n",
    "    elif (theta_i < 0) & (a[idx, 0] == np.inf):\n",
    "        pass #do nothing;\n",
    "    \n",
    "    # Calculating sigma and mu\n",
    "    Sigma = np.linalg.inv(a[a!=np.inf] * np.eye(Phi.shape[1]) + 1/sigma2 * Phi.T @ Phi)\n",
    "    mu = 1/sigma2 * Sigma @ Phi.T @ t\n",
    "    \n",
    "    # Matrices\n",
    "    B = 1/sigma2 * np.eye(Phi.shape[0])\n",
    "    precalc = B @ Phi @ Sigma @ Phi.T @ B\n",
    "\n",
    "    Sm = np.concatenate([phi_i[:, None].T @ B @ phi_i[:, None] - phi_i[:, None].T @ precalc @ phi_i[:, None] for phi_i in theta.T])\n",
    "    Qm = np.concatenate([phi_i[:, None].T @ B @ t - phi_i[:, None].T @ precalc @ t for phi_i in theta.T])\n",
    "\n",
    "    sm = Sm/(1 - Sm/a)\n",
    "    qm = Qm/(1 - Sm/a)\n",
    "    \n",
    "    if iteration % 10 == 0:\n",
    "        print(f'done with {iteration}')\n",
    "    \n",
    "    # Converging\n",
    "    dt = qm**2 - sm\n",
    "    delta_a= sm**2/dt - a\n",
    "    converged = np.max(np.abs(delta_a[dt > 0])) < 10**-6\n",
    "    \n",
    "    if converged: \n",
    "        print('converged')\n",
    "        print(a)"
   ]
  },
  {
   "cell_type": "code",
   "execution_count": 69,
   "metadata": {},
   "outputs": [
    {
     "data": {
      "text/plain": [
       "array([[1.11152981e+02],\n",
       "       [           inf],\n",
       "       [3.27709598e-03],\n",
       "       [2.52544372e+02],\n",
       "       [           inf],\n",
       "       [           inf],\n",
       "       [           inf],\n",
       "       [           inf],\n",
       "       [           inf]])"
      ]
     },
     "execution_count": 69,
     "metadata": {},
     "output_type": "execute_result"
    }
   ],
   "source": [
    "a"
   ]
  },
  {
   "cell_type": "code",
   "execution_count": 70,
   "metadata": {},
   "outputs": [
    {
     "data": {
      "text/plain": [
       "array([[ 2.96920850e+03],\n",
       "       [-8.36430283e+02],\n",
       "       [ 1.91866491e+08],\n",
       "       [ 9.10250409e+02],\n",
       "       [-8.66195978e+02],\n",
       "       [-2.54518525e+01],\n",
       "       [-2.15354796e+02],\n",
       "       [-8.63892971e+02],\n",
       "       [-2.61490094e+01]])"
      ]
     },
     "execution_count": 70,
     "metadata": {},
     "output_type": "execute_result"
    }
   ],
   "source": [
    "dt = qm**2 - sm\n",
    "dt"
   ]
  },
  {
   "cell_type": "code",
   "execution_count": 71,
   "metadata": {},
   "outputs": [],
   "source": [
    "delta_a= sm**2/dt - a"
   ]
  },
  {
   "cell_type": "code",
   "execution_count": null,
   "metadata": {},
   "outputs": [],
   "source": []
  },
  {
   "cell_type": "code",
   "execution_count": 72,
   "metadata": {},
   "outputs": [
    {
     "data": {
      "text/plain": [
       "True"
      ]
     },
     "execution_count": 72,
     "metadata": {},
     "output_type": "execute_result"
    }
   ],
   "source": [
    "np.max(np.abs(delta_a[dt > 0])) < 10**-6"
   ]
  },
  {
   "cell_type": "code",
   "execution_count": 73,
   "metadata": {},
   "outputs": [
    {
     "data": {
      "text/plain": [
       "array([[ 2.04920525e-11],\n",
       "       [           -inf],\n",
       "       [-7.34682280e-13],\n",
       "       [ 1.97672989e-10],\n",
       "       [           -inf],\n",
       "       [           -inf],\n",
       "       [           -inf],\n",
       "       [           -inf],\n",
       "       [           -inf]])"
      ]
     },
     "execution_count": 73,
     "metadata": {},
     "output_type": "execute_result"
    }
   ],
   "source": [
    "delta_a"
   ]
  },
  {
   "cell_type": "code",
   "execution_count": 74,
   "metadata": {},
   "outputs": [],
   "source": [
    "add_basis = (Qm**2 - Sm)/Sm + np.log(Sm/Qm**2)\n",
    "del_basis = Qm**2/(Sm - a) - np.log(1-Sm/a)\n",
    "\n",
    "a_new = sm**2/(qm**2 - sm)\n",
    "redo_basis = Qm**2/(Sm + (1/a_new-1/a)**-1) - np.log(1 + Sm * (1/a_new-1/a))"
   ]
  },
  {
   "cell_type": "code",
   "execution_count": 75,
   "metadata": {},
   "outputs": [
    {
     "data": {
      "text/plain": [
       "array([[-2.66478123e-17],\n",
       "       [ 2.19987039e+00],\n",
       "       [-3.00432611e-17],\n",
       "       [-1.12409877e-17],\n",
       "       [ 3.78010886e+00],\n",
       "       [ 1.21379986e-02],\n",
       "       [ 1.48708439e+00],\n",
       "       [ 3.51138727e+00],\n",
       "       [ 5.87217172e-03]])"
      ]
     },
     "execution_count": 75,
     "metadata": {},
     "output_type": "execute_result"
    }
   ],
   "source": [
    "add_basis"
   ]
  },
  {
   "cell_type": "code",
   "execution_count": 76,
   "metadata": {},
   "outputs": [
    {
     "data": {
      "text/plain": [
       "array([[-3.34899712e+00],\n",
       "       [-0.00000000e+00],\n",
       "       [-2.41953961e+05],\n",
       "       [-8.34309480e-01],\n",
       "       [-0.00000000e+00],\n",
       "       [-0.00000000e+00],\n",
       "       [-0.00000000e+00],\n",
       "       [-0.00000000e+00],\n",
       "       [-0.00000000e+00]])"
      ]
     },
     "execution_count": 76,
     "metadata": {},
     "output_type": "execute_result"
    }
   ],
   "source": [
    "del_basis"
   ]
  },
  {
   "cell_type": "code",
   "execution_count": 77,
   "metadata": {},
   "outputs": [
    {
     "data": {
      "text/plain": [
       "array([[-1.99462142e-17],\n",
       "       [ 2.19987039e+00],\n",
       "       [ 5.44606788e-17],\n",
       "       [ 3.31201958e-17],\n",
       "       [ 3.78010886e+00],\n",
       "       [ 1.21379986e-02],\n",
       "       [ 1.48708439e+00],\n",
       "       [ 3.51138727e+00],\n",
       "       [ 5.87217172e-03]])"
      ]
     },
     "execution_count": 77,
     "metadata": {},
     "output_type": "execute_result"
    }
   ],
   "source": [
    "redo_basis"
   ]
  },
  {
   "cell_type": "code",
   "execution_count": null,
   "metadata": {},
   "outputs": [],
   "source": []
  }
 ],
 "metadata": {
  "kernelspec": {
   "display_name": "Python 3",
   "language": "python",
   "name": "python3"
  },
  "language_info": {
   "codemirror_mode": {
    "name": "ipython",
    "version": 3
   },
   "file_extension": ".py",
   "mimetype": "text/x-python",
   "name": "python",
   "nbconvert_exporter": "python",
   "pygments_lexer": "ipython3",
   "version": "3.6.9"
  }
 },
 "nbformat": 4,
 "nbformat_minor": 4
}
