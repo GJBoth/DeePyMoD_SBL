{
 "cells": [
  {
   "cell_type": "code",
   "execution_count": 1,
   "metadata": {},
   "outputs": [],
   "source": [
    "# General imports\n",
    "import numpy as np\n",
    "import torch\n",
    "import torch.nn as nn\n",
    "import torch.nn.functional as F\n",
    "from deepmod_l1.analytical import theta_analytical\n",
    "\n",
    "#Plotting imports\n",
    "import matplotlib.pyplot as plt\n",
    "import seaborn as sns\n",
    "sns.set()\n",
    "\n",
    "# Remainder imports\n",
    "from os import listdir, path, getcwd\n",
    "\n",
    "# Setting cuda\n",
    "if torch.cuda.is_available():\n",
    "    torch.set_default_tensor_type('torch.cuda.FloatTensor')\n",
    "\n",
    "# Settings for reproducibility\n",
    "np.random.seed(42)\n",
    "torch.manual_seed(0)\n",
    "torch.backends.cudnn.deterministic = True\n",
    "torch.backends.cudnn.benchmark = False\n",
    "\n",
    "# Defining output folder\n",
    "output_folder = getcwd()\n",
    "\n",
    "%load_ext autoreload\n",
    "%autoreload 2"
   ]
  },
  {
   "cell_type": "markdown",
   "metadata": {},
   "source": [
    "# Making library"
   ]
  },
  {
   "cell_type": "code",
   "execution_count": 2,
   "metadata": {},
   "outputs": [],
   "source": [
    "D = 0.5\n",
    "a = 0.25\n",
    "\n",
    "x = np.linspace(-5, 5, 50, dtype=np.float32)\n",
    "t = np.linspace(0, 5, 50, dtype=np.float32)\n",
    "x_grid, t_grid = np.meshgrid(x, t, indexing='ij')\n",
    "    \n",
    "# Analytical\n",
    "time_deriv, theta = theta_analytical(x_grid, t_grid, D, a)"
   ]
  },
  {
   "cell_type": "markdown",
   "metadata": {},
   "source": [
    "And performing lst-sq we get:"
   ]
  },
  {
   "cell_type": "code",
   "execution_count": 3,
   "metadata": {},
   "outputs": [],
   "source": [
    "xi_base = np.linalg.lstsq(theta, time_deriv, rcond=None)[0].squeeze()"
   ]
  },
  {
   "cell_type": "code",
   "execution_count": 4,
   "metadata": {},
   "outputs": [
    {
     "data": {
      "text/plain": [
       "array([ 3.3292620e-17,  4.8572257e-17,  5.0000000e-01, -3.3306691e-16,\n",
       "        1.2103378e-16,  4.5970172e-17,  5.8221657e-17, -1.1651528e-16,\n",
       "       -1.6696713e-16], dtype=float32)"
      ]
     },
     "execution_count": 4,
     "metadata": {},
     "output_type": "execute_result"
    }
   ],
   "source": [
    "xi_base"
   ]
  },
  {
   "cell_type": "code",
   "execution_count": 159,
   "metadata": {
    "jupyter": {
     "source_hidden": true
    }
   },
   "outputs": [],
   "source": [
    "sigma_n = 0.1\n",
    "noisy = time_deriv + np.random.normal(scale = sigma_n, size=time_deriv.shape)"
   ]
  },
  {
   "cell_type": "markdown",
   "metadata": {},
   "source": [
    "# Bayesian"
   ]
  },
  {
   "cell_type": "markdown",
   "metadata": {},
   "source": [
    "To follow Rasmussen, we transpose X and y"
   ]
  },
  {
   "cell_type": "code",
   "execution_count": 161,
   "metadata": {},
   "outputs": [],
   "source": [
    "cov = 1.0 * np.eye(theta.shape[1])"
   ]
  },
  {
   "cell_type": "code",
   "execution_count": 162,
   "metadata": {},
   "outputs": [],
   "source": [
    "X = theta.T\n",
    "y = noisy"
   ]
  },
  {
   "cell_type": "code",
   "execution_count": 163,
   "metadata": {},
   "outputs": [],
   "source": [
    "A = 1/sigma_n**2 * X @ X.T + np.linalg.inv(cov)\n",
    "mu = 1/sigma_n**2 * np.linalg.inv(A) @ X @ y"
   ]
  },
  {
   "cell_type": "code",
   "execution_count": 164,
   "metadata": {},
   "outputs": [],
   "source": [
    "time_deriv_predict_mu = X.T @ mu\n",
    "time_deriv_predict_s =  np.sqrt(np.diag(X.T @ np.linalg.inv(A) @ X))"
   ]
  },
  {
   "cell_type": "code",
   "execution_count": 165,
   "metadata": {},
   "outputs": [
    {
     "data": {
      "text/plain": [
       "<matplotlib.collections.PolyCollection at 0x7f1258137eb8>"
      ]
     },
     "execution_count": 165,
     "metadata": {},
     "output_type": "execute_result"
    },
    {
     "data": {
      "image/png": "[encoded data removed]",
      "text/plain": [
       "<Figure size 432x288 with 1 Axes>"
      ]
     },
     "metadata": {
      "needs_background": "light"
     },
     "output_type": "display_data"
    }
   ],
   "source": [
    "plt.plot(x, time_deriv.reshape(x_grid.shape)[:, 10], 'k')\n",
    "plt.plot(x, time_deriv_predict_mu.reshape(x_grid.shape)[:, 10], 'r--')\n",
    "plt.fill_between(x, time_deriv_predict_mu.reshape(x_grid.shape)[:, 10] + time_deriv_predict_s.reshape(x_grid.shape)[:, 10], time_deriv_predict_mu.reshape(x_grid.shape)[:, 10] - time_deriv_predict_s.reshape(x_grid.shape)[:, 10])"
   ]
  },
  {
   "cell_type": "code",
   "execution_count": 166,
   "metadata": {},
   "outputs": [
    {
     "data": {
      "text/plain": [
       "array([0.00302065, 0.00302065, 0.00302065, ..., 0.00272674, 0.00271608,\n",
       "       0.00270556])"
      ]
     },
     "execution_count": 166,
     "metadata": {},
     "output_type": "execute_result"
    }
   ],
   "source": [
    "time_deriv_predict_s"
   ]
  },
  {
   "cell_type": "markdown",
   "metadata": {},
   "source": [
    "Error in prediction, good below"
   ]
  },
  {
   "cell_type": "markdown",
   "metadata": {},
   "source": [
    "# Type II maximizing to find prior"
   ]
  },
  {
   "cell_type": "code",
   "execution_count": 277,
   "metadata": {},
   "outputs": [],
   "source": [
    "cov = 1.0\n",
    "noise = 0.1\n",
    "noisy = time_deriv + np.random.normal(scale = noise, size=time_deriv.shape)\n",
    "\n",
    "\n",
    "X = torch.tensor(theta, dtype=torch.float32)\n",
    "y = torch.tensor(noisy, dtype=torch.float32)"
   ]
  },
  {
   "cell_type": "code",
   "execution_count": 278,
   "metadata": {},
   "outputs": [],
   "source": [
    "alpha = nn.Parameter(torch.tensor(1/cov))\n",
    "beta = nn.Parameter(torch.tensor(1/noise**2))"
   ]
  },
  {
   "cell_type": "code",
   "execution_count": 279,
   "metadata": {},
   "outputs": [],
   "source": [
    "A = alpha * torch.eye(X.shape[1]) + beta * X.T @ X\n",
    "mn = beta * torch.inverse(A) @ X.T @ y"
   ]
  },
  {
   "cell_type": "code",
   "execution_count": 280,
   "metadata": {},
   "outputs": [],
   "source": [
    "time_deriv_estimate = (X @ mn).detach().cpu().numpy()\n",
    "time_deriv_sigma = torch.sqrt(1/beta + torch.diag(X @ torch.inverse(A) @ X.T)).detach().cpu().numpy()"
   ]
  },
  {
   "cell_type": "code",
   "execution_count": 281,
   "metadata": {},
   "outputs": [
    {
     "data": {
      "text/plain": [
       "[<matplotlib.lines.Line2D at 0x7f1229c949e8>]"
      ]
     },
     "execution_count": 281,
     "metadata": {},
     "output_type": "execute_result"
    },
    {
     "data": {
      "image/png": "[encoded data removed]",
      "text/plain": [
       "<Figure size 432x288 with 1 Axes>"
      ]
     },
     "metadata": {
      "needs_background": "light"
     },
     "output_type": "display_data"
    }
   ],
   "source": [
    "plt.plot(x, time_deriv_estimate.reshape(x_grid.shape)[:, 10], 'r')\n",
    "plt.fill_between(x, time_deriv_estimate.reshape(x_grid.shape)[:, 10] + time_deriv_sigma.reshape(x_grid.shape)[:, 10], time_deriv_estimate.reshape(x_grid.shape)[:, 10] - time_deriv_sigma.reshape(x_grid.shape)[:, 10])\n",
    "\n",
    "plt.plot(x, time_deriv.reshape(x_grid.shape)[:, 10], 'k--')"
   ]
  },
  {
   "cell_type": "code",
   "execution_count": 210,
   "metadata": {},
   "outputs": [
    {
     "data": {
      "text/plain": [
       "tensor([[ 1.0821e-05],\n",
       "        [-1.1827e-03],\n",
       "        [ 5.0146e-01],\n",
       "        [-2.4348e-04],\n",
       "        [ 9.3049e-03],\n",
       "        [-4.5410e-03],\n",
       "        [ 2.7262e-03],\n",
       "        [-7.5693e-03],\n",
       "        [ 2.5932e-03]], grad_fn=<MmBackward>)"
      ]
     },
     "execution_count": 210,
     "metadata": {},
     "output_type": "execute_result"
    }
   ],
   "source": [
    "mn"
   ]
  },
  {
   "cell_type": "code",
   "execution_count": 211,
   "metadata": {},
   "outputs": [
    {
     "data": {
      "text/plain": [
       "<matplotlib.axes._subplots.AxesSubplot at 0x7f1229d45f60>"
      ]
     },
     "execution_count": 211,
     "metadata": {},
     "output_type": "execute_result"
    },
    {
     "data": {
      "image/png": "[encoded data removed]",
      "text/plain": [
       "<Figure size 432x288 with 2 Axes>"
      ]
     },
     "metadata": {
      "needs_background": "light"
     },
     "output_type": "display_data"
    }
   ],
   "source": [
    "sns.heatmap(np.log(np.abs(torch.inverse(A).cpu().detach().numpy())))"
   ]
  },
  {
   "cell_type": "code",
   "execution_count": null,
   "metadata": {},
   "outputs": [],
   "source": []
  },
  {
   "cell_type": "code",
   "execution_count": 282,
   "metadata": {},
   "outputs": [],
   "source": [
    "M = X.shape[1]\n",
    "N = X.shape[0]"
   ]
  },
  {
   "cell_type": "code",
   "execution_count": 283,
   "metadata": {},
   "outputs": [],
   "source": [
    "E = beta/2 * (y - X @ mn).T @ (y - X @ mn) + alpha/2 * mn.T @ mn\n",
    "loss = M/2*torch.log(alpha) + N/2 * torch.log(beta) - E - torch.sum(torch.log(torch.diag(torch.cholesky(A))))"
   ]
  },
  {
   "cell_type": "code",
   "execution_count": 284,
   "metadata": {},
   "outputs": [
    {
     "data": {
      "text/plain": [
       "0.1"
      ]
     },
     "execution_count": 284,
     "metadata": {},
     "output_type": "execute_result"
    }
   ],
   "source": [
    "noise"
   ]
  },
  {
   "cell_type": "code",
   "execution_count": 294,
   "metadata": {},
   "outputs": [],
   "source": [
    "cov = nn.Parameter(torch.tensor(1.0))\n",
    "noise = nn.Parameter(torch.tensor(1.0))\n",
    "\n",
    "optimizer = torch.optim.Adam([cov, noise])"
   ]
  },
  {
   "cell_type": "code",
   "execution_count": 297,
   "metadata": {},
   "outputs": [
    {
     "name": "stdout",
     "output_type": "stream",
     "text": [
      "tensor([[-4475.2793]], grad_fn=<MulBackward0>) Parameter containing:\n",
      "tensor(0.0287, requires_grad=True) Parameter containing:\n",
      "tensor(0.1003, requires_grad=True)\n",
      "tensor([[-4475.2793]], grad_fn=<MulBackward0>) Parameter containing:\n",
      "tensor(0.0287, requires_grad=True) Parameter containing:\n",
      "tensor(0.1003, requires_grad=True)\n",
      "tensor([[-4475.2793]], grad_fn=<MulBackward0>) Parameter containing:\n",
      "tensor(0.0288, requires_grad=True) Parameter containing:\n",
      "tensor(0.1003, requires_grad=True)\n",
      "tensor([[-4475.2788]], grad_fn=<MulBackward0>) Parameter containing:\n",
      "tensor(0.0287, requires_grad=True) Parameter containing:\n",
      "tensor(0.1003, requires_grad=True)\n",
      "tensor([[-4475.2793]], grad_fn=<MulBackward0>) Parameter containing:\n",
      "tensor(0.0287, requires_grad=True) Parameter containing:\n",
      "tensor(0.1003, requires_grad=True)\n",
      "tensor([[-4475.2783]], grad_fn=<MulBackward0>) Parameter containing:\n",
      "tensor(0.0287, requires_grad=True) Parameter containing:\n",
      "tensor(0.1003, requires_grad=True)\n",
      "tensor([[-4475.2788]], grad_fn=<MulBackward0>) Parameter containing:\n",
      "tensor(0.0287, requires_grad=True) Parameter containing:\n",
      "tensor(0.1003, requires_grad=True)\n",
      "tensor([[-4475.2783]], grad_fn=<MulBackward0>) Parameter containing:\n",
      "tensor(0.0287, requires_grad=True) Parameter containing:\n",
      "tensor(0.1003, requires_grad=True)\n",
      "tensor([[-4475.2793]], grad_fn=<MulBackward0>) Parameter containing:\n",
      "tensor(0.0287, requires_grad=True) Parameter containing:\n",
      "tensor(0.1003, requires_grad=True)\n",
      "tensor([[-4475.2783]], grad_fn=<MulBackward0>) Parameter containing:\n",
      "tensor(0.0287, requires_grad=True) Parameter containing:\n",
      "tensor(0.1003, requires_grad=True)\n"
     ]
    }
   ],
   "source": [
    "for it in np.arange(5000):\n",
    "    alpha = 1/cov\n",
    "    beta = 1/noise**2\n",
    "    A = alpha * torch.eye(X.shape[1]) + beta * X.T @ X\n",
    "    mn = beta * torch.inverse(A) @ X.T @ y\n",
    "    E = beta/2 * (y - X @ mn).T @ (y - X @ mn) + alpha/2 * mn.T @ mn\n",
    "    \n",
    "    loss = -1 * (M/2*torch.log(alpha) + N/2 * torch.log(beta) - E - torch.sum(torch.log(torch.diag(torch.cholesky(A)))))\n",
    "    optimizer.zero_grad()\n",
    "    loss.backward()\n",
    "    optimizer.step()\n",
    "    \n",
    "    if it %500 == 0:\n",
    "        print(loss, cov, noise)"
   ]
  },
  {
   "cell_type": "markdown",
   "metadata": {},
   "source": [
    "Heujjj it wortks"
   ]
  },
  {
   "cell_type": "markdown",
   "metadata": {},
   "source": [
    "Now lets look at the weights:"
   ]
  },
  {
   "cell_type": "code",
   "execution_count": 298,
   "metadata": {},
   "outputs": [
    {
     "data": {
      "text/plain": [
       "tensor([[ 0.0025],\n",
       "        [-0.0071],\n",
       "        [ 0.4834],\n",
       "        [ 0.0117],\n",
       "        [-0.0281],\n",
       "        [ 0.0540],\n",
       "        [-0.0360],\n",
       "        [ 0.0307],\n",
       "        [-0.0299]], grad_fn=<MmBackward>)"
      ]
     },
     "execution_count": 298,
     "metadata": {},
     "output_type": "execute_result"
    }
   ],
   "source": [
    "mn"
   ]
  },
  {
   "cell_type": "code",
   "execution_count": 301,
   "metadata": {},
   "outputs": [
    {
     "data": {
      "text/plain": [
       "tensor([0.0029, 0.0282, 0.0099, 0.0334, 0.0789, 0.0341, 0.0718, 0.0486, 0.0196],\n",
       "       grad_fn=<SqrtBackward>)"
      ]
     },
     "execution_count": 301,
     "metadata": {},
     "output_type": "execute_result"
    }
   ],
   "source": [
    "torch.sqrt(torch.diag(torch.inverse(A)))"
   ]
  },
  {
   "cell_type": "code",
   "execution_count": null,
   "metadata": {},
   "outputs": [],
   "source": []
  }
 ],
 "metadata": {
  "kernelspec": {
   "display_name": "Python 3",
   "language": "python",
   "name": "python3"
  },
  "language_info": {
   "codemirror_mode": {
    "name": "ipython",
    "version": 3
   },
   "file_extension": ".py",
   "mimetype": "text/x-python",
   "name": "python",
   "nbconvert_exporter": "python",
   "pygments_lexer": "ipython3",
   "version": "3.6.9"
  }
 },
 "nbformat": 4,
 "nbformat_minor": 4
}
