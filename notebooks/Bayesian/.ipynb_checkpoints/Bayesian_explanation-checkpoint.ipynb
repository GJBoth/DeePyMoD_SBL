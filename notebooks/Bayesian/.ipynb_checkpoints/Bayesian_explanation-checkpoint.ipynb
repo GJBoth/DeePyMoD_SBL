{
 "cells": [
  {
   "cell_type": "markdown",
   "metadata": {},
   "source": [
    "# Introduction to Bayesian Regression and model selection\n",
    "*Gert-Jan Both, 04/02/2020*"
   ]
  },
  {
   "cell_type": "markdown",
   "metadata": {},
   "source": [
    "In this notebook we recap and implement basic bayesian regression methods so we have a decent fallback and can quickly iterate. Bayes methods are based on Bayes' rule:\n",
    "\n",
    "$$\n",
    "p(w \\mid y) = \\frac{p(y \\mid w)p(w)}{p(y)}\n",
    "$$\n",
    "where $p(y|w)$ is the likelihood, $p(w)$ the prior and $p(y)$ the marginal likelihood. The likelihood models how, given a model, the observations are distributed, while the prior encodes information we have about the distribution of our models parameters beforehand. The marginal likelihood normalized the whole thing and is basically how often an event happens, and defined as $p(y) = \\int p(y|w)p(w)dw$."
   ]
  },
  {
   "cell_type": "code",
   "execution_count": 1,
   "metadata": {},
   "outputs": [],
   "source": [
    "# General imports\n",
    "import numpy as np\n",
    "import torch\n",
    "from deepmod_l1.analytical import theta_analytical\n",
    "\n",
    "#Plotting imports\n",
    "import matplotlib.pyplot as plt\n",
    "import seaborn as sns\n",
    "sns.set()"
   ]
  },
  {
   "cell_type": "markdown",
   "metadata": {},
   "source": [
    "## Bayesian Linear regression"
   ]
  },
  {
   "cell_type": "markdown",
   "metadata": {},
   "source": [
    "Consider a model with Gaussian noise;\n",
    "\n",
    "$$\n",
    "y = \\Theta w + \\epsilon\n",
    "$$\n",
    "\n",
    "$$\n",
    "\\epsilon \\sim \\mathcal{N}(0, \\sigma_n^2)\n",
    "$$"
   ]
  },
  {
   "cell_type": "markdown",
   "metadata": {},
   "source": [
    "This sets our likelihood to be Gaussian as well:\n",
    "\n",
    "$$\n",
    "p(y\\mid w, \\Theta, L^{-1}) \\sim \\mathcal{N}(y\\mid\\Theta w, L^{-1})\n",
    "$$\n",
    "\n",
    "where $L$ is a precision matrix (i.e. inverse of covariance matrix). Note that $L^{-1} = \\sigma_n^2$. We define our prior to be a normal distribution, centred at zero:\n",
    "\n",
    "$$\n",
    "p(w \\mid \\Lambda^{-1}) \\sim \\mathcal{N}(w|0, \\Lambda^{-1})\n",
    "$$\n",
    "\n",
    "with $\\Lambda$ the precision matrix. For now we assume we specify the noise level $\\sigma_n$ and the precision matrix $\\Lambda$. We can analytically calculate the posterior, i.e. the distribution of $w$ given the data. We ignore the normalization constants for now and write down:\n",
    "\n",
    "$$\n",
    "p(w \\mid \\Theta, y) \\sim p(y \\mid w, L^{-1}) \\cdot p(w \\mid \\Lambda^{-1})\n",
    "$$\n",
    "$$\n",
    "\\sim e^{-\\frac{1}{2}(y - \\Theta w)^TL(y - \\Theta w)}e^{-\\frac{1}{2} w^T\\Lambda w}\n",
    "$$"
   ]
  },
  {
   "cell_type": "markdown",
   "metadata": {},
   "source": [
    "Ignoring the exponent for now, we complete the square and write it as:\n",
    "\n",
    "$$\n",
    "-\\frac{1}{2}\\left(y^TLy - 2 w^T\\Theta^TLy + w^T \\Theta^T L\\Theta w + w^T\\Lambda w \\right) = \n",
    "$$\n",
    "\n",
    "$$\n",
    "-\\frac{1}{2}w^T(\\Theta^T L\\Theta + \\Lambda)w + w^T\\Theta^TLy -\\frac{1}{2}y^TLy\n",
    "$$"
   ]
  },
  {
   "cell_type": "markdown",
   "metadata": {},
   "source": [
    "We can rewrite this by noting that we can rewrite the exponent for a general gaussian as:\n",
    "\n",
    "$$\n",
    "-\\frac{1}{2}(x-\\mu)^T\\Sigma^{-1}(x-\\mu) = -\\frac{1}{2}x^T\\Sigma^{-1}x + x^T\\Sigma^{-1}\\mu + \\mu^T\\Sigma^{-1}\\mu\n",
    "$$"
   ]
  },
  {
   "cell_type": "markdown",
   "metadata": {},
   "source": [
    "From which we recognize that the posterior is a Gaussian with mean and variance:\n",
    "$$\n",
    "\\mu = \\Sigma \\Theta^T L y\n",
    "$$\n",
    "$$\n",
    "\\Sigma = (\\Theta^TL\\Theta + \\Lambda)^{-1}\n",
    "$$\n",
    "\n",
    "and writing it out:\n",
    "\n",
    "$$\n",
    "p(w|\\Theta, y) \\sim \\mathcal{N}(w \\mid \\Sigma \\Theta^T L y, \\Sigma)\n",
    "$$"
   ]
  },
  {
   "cell_type": "markdown",
   "metadata": {},
   "source": [
    "Because we have one output, we set $L = \\beta = \\sigma_n^{-2}$. Typically, the precision matrix of the prior is also diagonal, i.e. $\\Lambda = \\alpha I$, so we obtain:"
   ]
  },
  {
   "cell_type": "markdown",
   "metadata": {},
   "source": [
    "$$\n",
    "p(w|\\Theta, y) \\sim \\mathcal{N}(w \\mid \\beta \\Sigma \\Theta^T y, \\Sigma)\n",
    "$$"
   ]
  },
  {
   "cell_type": "markdown",
   "metadata": {},
   "source": [
    "A similar analysis (completing the square, rewriting) gives the predictive distribution:\n",
    "\n",
    "$$\n",
    "p(y^* \\mid \\Theta^*) = \\int p(y^* \\mid \\Theta^*, w)p(w\\mid\\Theta, y) =\n",
    "$$\n",
    "\n",
    "$$\n",
    "\n",
    "$$"
   ]
  },
  {
   "cell_type": "markdown",
   "metadata": {},
   "source": []
  },
  {
   "cell_type": "markdown",
   "metadata": {},
   "source": [
    "We now implement this below using a diffusion system:"
   ]
  },
  {
   "cell_type": "code",
   "execution_count": 2,
   "metadata": {},
   "outputs": [],
   "source": [
    "# Making library\n",
    "D = 0.5\n",
    "a = 0.25\n",
    "\n",
    "x = np.linspace(-5, 5, 50, dtype=np.float32)\n",
    "t = np.linspace(0, 5, 50, dtype=np.float32)\n",
    "x_grid, t_grid = np.meshgrid(x, t, indexing='ij')\n",
    "    \n",
    "# Analytical\n",
    "time_deriv, theta = theta_analytical(x_grid, t_grid, D, a)"
   ]
  },
  {
   "cell_type": "code",
   "execution_count": 6,
   "metadata": {},
   "outputs": [],
   "source": [
    "cov = 1.0\n",
    "noise = 0.1\n",
    "noisy = time_deriv + np.random.normal(scale = noise, size=time_deriv.shape)\n",
    "\n",
    "\n",
    "X = torch.tensor(theta, dtype=torch.float32)\n",
    "y = torch.tensor(noisy, dtype=torch.float32)\n",
    "\n",
    "alpha = torch.nn.Parameter(torch.tensor(1/cov))\n",
    "beta = torch.nn.Parameter(torch.tensor(1/noise**2))"
   ]
  },
  {
   "cell_type": "code",
   "execution_count": 10,
   "metadata": {},
   "outputs": [],
   "source": [
    "sigma = torch.inverse(alpha * torch.eye(X.shape[1]) + beta * X.T @ X)\n",
    "mu = beta * sigma @ X.T @ y"
   ]
  },
  {
   "cell_type": "code",
   "execution_count": 11,
   "metadata": {},
   "outputs": [
    {
     "data": {
      "text/plain": [
       "tensor([[ 0.0051],\n",
       "        [-0.0171],\n",
       "        [ 0.4953],\n",
       "        [-0.0364],\n",
       "        [ 0.0117],\n",
       "        [ 0.0047],\n",
       "        [ 0.0786],\n",
       "        [-0.0067],\n",
       "        [ 0.0020]], grad_fn=<MmBackward>)"
      ]
     },
     "execution_count": 11,
     "metadata": {},
     "output_type": "execute_result"
    }
   ],
   "source": [
    "mu"
   ]
  },
  {
   "cell_type": "code",
   "execution_count": 16,
   "metadata": {},
   "outputs": [
    {
     "data": {
      "text/plain": [
       "<matplotlib.axes._subplots.AxesSubplot at 0x7f02b7571550>"
      ]
     },
     "execution_count": 16,
     "metadata": {},
     "output_type": "execute_result"
    },
    {
     "data": {
      "image/png": "[encoded data removed]",
      "text/plain": [
       "<Figure size 432x288 with 2 Axes>"
      ]
     },
     "metadata": {
      "needs_background": "light"
     },
     "output_type": "display_data"
    }
   ],
   "source": [
    "sns.heatmap(sigma.cpu().detach().numpy())"
   ]
  },
  {
   "cell_type": "code",
   "execution_count": null,
   "metadata": {},
   "outputs": [],
   "source": []
  },
  {
   "cell_type": "markdown",
   "metadata": {},
   "source": [
    "## Empirical Bayes"
   ]
  },
  {
   "cell_type": "markdown",
   "metadata": {},
   "source": [
    "The hyperparameters"
   ]
  },
  {
   "cell_type": "code",
   "execution_count": null,
   "metadata": {},
   "outputs": [],
   "source": []
  },
  {
   "cell_type": "code",
   "execution_count": null,
   "metadata": {},
   "outputs": [],
   "source": []
  },
  {
   "cell_type": "code",
   "execution_count": null,
   "metadata": {},
   "outputs": [],
   "source": []
  },
  {
   "cell_type": "code",
   "execution_count": null,
   "metadata": {},
   "outputs": [],
   "source": []
  },
  {
   "cell_type": "markdown",
   "metadata": {},
   "source": []
  }
 ],
 "metadata": {
  "kernelspec": {
   "display_name": "Python 3",
   "language": "python",
   "name": "python3"
  },
  "language_info": {
   "codemirror_mode": {
    "name": "ipython",
    "version": 3
   },
   "file_extension": ".py",
   "mimetype": "text/x-python",
   "name": "python",
   "nbconvert_exporter": "python",
   "pygments_lexer": "ipython3",
   "version": "3.6.9"
  }
 },
 "nbformat": 4,
 "nbformat_minor": 4
}
