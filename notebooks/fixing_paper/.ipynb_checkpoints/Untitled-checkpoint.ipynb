{
 "cells": [
  {
   "cell_type": "code",
   "execution_count": 121,
   "metadata": {},
   "outputs": [],
   "source": [
    "import torch\n",
    "import numpy as np\n",
    "\n",
    "from DeePyMoD_SBL.deepymod_torch.library_functions import library_1D_in\n",
    "from DeePyMoD_SBL.deepymod_torch.DeepMod import DeepModDynamic\n",
    "from DeePyMoD_SBL.deepymod_torch.training import train_dynamic, train_dynamic_old\n",
    "from DeePyMoD_SBL.deepymod_torch.estimators import Clustering\n",
    "from sklearn.linear_model import LassoLarsIC\n",
    "\n",
    "from phimal_utilities.analysis import load_tensorboard\n",
    "import matplotlib.pyplot as plt\n",
    "import seaborn as sns"
   ]
  },
  {
   "cell_type": "markdown",
   "metadata": {},
   "source": [
    "# Checking initialization"
   ]
  },
  {
   "cell_type": "markdown",
   "metadata": {},
   "source": [
    "Data is the same, now let's check initialization:"
   ]
  },
  {
   "cell_type": "code",
   "execution_count": 38,
   "metadata": {},
   "outputs": [],
   "source": [
    "estimator = Clustering(estimator=LassoLarsIC(fit_intercept=False))\n",
    "config = {'n_in': 2, 'hidden_dims': [30, 30, 30, 30, 30], 'n_out': 1, 'library_function':library_1D_in, 'library_args':{'poly_order':2, 'diff_order': 3}, 'sparsity_estimator': estimator}\n",
    "model_threshold = DeepModDynamic(**config)\n",
    "model_cluster = DeepModDynamic(**config)"
   ]
  },
  {
   "cell_type": "code",
   "execution_count": 39,
   "metadata": {},
   "outputs": [
    {
     "name": "stdout",
     "output_type": "stream",
     "text": [
      "Similar\n",
      "Similar\n",
      "Similar\n",
      "Similar\n",
      "Similar\n",
      "Similar\n",
      "Similar\n",
      "Similar\n",
      "Similar\n",
      "Similar\n",
      "Similar\n",
      "Similar\n",
      "Similar\n",
      "Similar\n",
      "Similar\n",
      "Similar\n",
      "Similar\n",
      "Similar\n",
      "Similar\n",
      "Similar\n",
      "Similar\n",
      "Similar\n",
      "Similar\n",
      "Similar\n",
      "Similar\n",
      "Similar\n",
      "Similar\n",
      "Similar\n",
      "Similar\n",
      "Similar\n",
      "Similar\n",
      "Similar\n",
      "Similar\n",
      "Similar\n",
      "Similar\n",
      "Similar\n",
      "Similar\n",
      "Similar\n",
      "Similar\n",
      "Similar\n",
      "Similar\n",
      "Similar\n",
      "Similar\n",
      "Similar\n",
      "Similar\n",
      "Similar\n",
      "Similar\n",
      "Similar\n",
      "Similar\n",
      "Similar\n",
      "Similar\n",
      "Similar\n",
      "Similar\n",
      "Similar\n",
      "Similar\n"
     ]
    }
   ],
   "source": [
    "run = 0\n",
    "noise = 0\n",
    "\n",
    "for noise in np.arange(0, 1.01, 0.10):\n",
    "    for run in np.arange(5):\n",
    "        model_threshold.load_state_dict(torch.load(f'data/threshold_model_{noise:.2f}_{run}'))\n",
    "        model_cluster.load_state_dict(torch.load(f'data/cluster_model_{noise:.2f}_{run}'))\n",
    "        for p1, p2 in zip(model_threshold.parameters(), model_cluster.parameters()):\n",
    "            if p1.data.ne(p2.data).sum() > 0:\n",
    "                print('Not similar')\n",
    "        print('Similar')"
   ]
  },
  {
   "cell_type": "markdown",
   "metadata": {},
   "source": [
    "So initialization is the same"
   ]
  },
  {
   "cell_type": "markdown",
   "metadata": {},
   "source": [
    "# Checking multiple runs"
   ]
  },
  {
   "cell_type": "code",
   "execution_count": 110,
   "metadata": {},
   "outputs": [],
   "source": [
    "noise = 0.4\n",
    "run = 1\n",
    "\n",
    "df_single_threshold = load_tensorboard(f'runs/threshold_{noise:.2f}_run_{run}/')\n",
    "df_single_cluster = load_tensorboard(f'runs/cluster_{noise:.2f}_run_{run}/')"
   ]
  },
  {
   "cell_type": "code",
   "execution_count": 111,
   "metadata": {},
   "outputs": [
    {
     "data": {
      "text/plain": [
       "[<matplotlib.lines.Line2D at 0x7f66de481fd0>]"
      ]
     },
     "execution_count": 111,
     "metadata": {},
     "output_type": "execute_result"
    },
    {
     "data": {
      "image/png": "[encoded data removed]",
      "text/plain": [
       "<Figure size 432x288 with 1 Axes>"
      ]
     },
     "metadata": {
      "needs_background": "light"
     },
     "output_type": "display_data"
    }
   ],
   "source": [
    "plt.semilogy(df_single_cluster.index, df_single_cluster.L1_0)\n",
    "plt.semilogy(df_single_threshold.index, df_single_threshold.L1_0)"
   ]
  },
  {
   "cell_type": "code",
   "execution_count": 112,
   "metadata": {},
   "outputs": [
    {
     "data": {
      "text/plain": [
       "[<matplotlib.lines.Line2D at 0x7f66debeccf8>]"
      ]
     },
     "execution_count": 112,
     "metadata": {},
     "output_type": "execute_result"
    },
    {
     "data": {
      "image/png": "[encoded data removed]",
      "text/plain": [
       "<Figure size 432x288 with 1 Axes>"
      ]
     },
     "metadata": {
      "needs_background": "light"
     },
     "output_type": "display_data"
    }
   ],
   "source": [
    "plt.plot(np.abs(df_single_cluster.L1_0 - df_single_threshold.L1_0))"
   ]
  },
  {
   "cell_type": "code",
   "execution_count": 113,
   "metadata": {},
   "outputs": [
    {
     "data": {
      "text/html": [
       "<div>\n",
       "<style scoped>\n",
       "    .dataframe tbody tr th:only-of-type {\n",
       "        vertical-align: middle;\n",
       "    }\n",
       "\n",
       "    .dataframe tbody tr th {\n",
       "        vertical-align: top;\n",
       "    }\n",
       "\n",
       "    .dataframe thead th {\n",
       "        text-align: right;\n",
       "    }\n",
       "</style>\n",
       "<table border=\"1\" class=\"dataframe\">\n",
       "  <thead>\n",
       "    <tr style=\"text-align: right;\">\n",
       "      <th></th>\n",
       "      <th>Total_loss</th>\n",
       "      <th>MSE_0</th>\n",
       "      <th>Regression_0</th>\n",
       "      <th>L1_0</th>\n",
       "      <th>coeff_0_0</th>\n",
       "      <th>coeff_0_1</th>\n",
       "      <th>coeff_0_2</th>\n",
       "      <th>coeff_0_3</th>\n",
       "      <th>coeff_0_4</th>\n",
       "      <th>coeff_0_5</th>\n",
       "      <th>coeff_0_6</th>\n",
       "      <th>coeff_0_7</th>\n",
       "      <th>coeff_0_8</th>\n",
       "      <th>coeff_0_9</th>\n",
       "      <th>coeff_0_10</th>\n",
       "      <th>coeff_0_11</th>\n",
       "      <th>scaled_coeff_0_0</th>\n",
       "      <th>scaled_coeff_0_1</th>\n",
       "      <th>scaled_coeff_0_2</th>\n",
       "      <th>scaled_coeff_0_3</th>\n",
       "      <th>scaled_coeff_0_4</th>\n",
       "      <th>scaled_coeff_0_5</th>\n",
       "      <th>scaled_coeff_0_6</th>\n",
       "      <th>scaled_coeff_0_7</th>\n",
       "      <th>scaled_coeff_0_8</th>\n",
       "      <th>scaled_coeff_0_9</th>\n",
       "      <th>scaled_coeff_0_10</th>\n",
       "      <th>scaled_coeff_0_11</th>\n",
       "    </tr>\n",
       "  </thead>\n",
       "  <tbody>\n",
       "    <tr>\n",
       "      <th>1243</th>\n",
       "      <td>-6.652332</td>\n",
       "      <td>0.005607</td>\n",
       "      <td>0.000222</td>\n",
       "      <td>1.701836</td>\n",
       "      <td>0.0</td>\n",
       "      <td>0.0</td>\n",
       "      <td>0.077084</td>\n",
       "      <td>0.0</td>\n",
       "      <td>0.0</td>\n",
       "      <td>-0.928449</td>\n",
       "      <td>0.0</td>\n",
       "      <td>0.0</td>\n",
       "      <td>0.0</td>\n",
       "      <td>0.0</td>\n",
       "      <td>0.0</td>\n",
       "      <td>0.0</td>\n",
       "      <td>0.0</td>\n",
       "      <td>0.0</td>\n",
       "      <td>0.724736</td>\n",
       "      <td>0.0</td>\n",
       "      <td>0.0</td>\n",
       "      <td>-0.9771</td>\n",
       "      <td>0.0</td>\n",
       "      <td>0.0</td>\n",
       "      <td>0.0</td>\n",
       "      <td>0.0</td>\n",
       "      <td>0.0</td>\n",
       "      <td>0.0</td>\n",
       "    </tr>\n",
       "  </tbody>\n",
       "</table>\n",
       "</div>"
      ],
      "text/plain": [
       "      Total_loss     MSE_0  ...  scaled_coeff_0_10  scaled_coeff_0_11\n",
       "1243   -6.652332  0.005607  ...                0.0                0.0\n",
       "\n",
       "[1 rows x 28 columns]"
      ]
     },
     "execution_count": 113,
     "metadata": {},
     "output_type": "execute_result"
    }
   ],
   "source": [
    "df_single_cluster.tail(1)"
   ]
  },
  {
   "cell_type": "code",
   "execution_count": 114,
   "metadata": {},
   "outputs": [
    {
     "data": {
      "text/html": [
       "<div>\n",
       "<style scoped>\n",
       "    .dataframe tbody tr th:only-of-type {\n",
       "        vertical-align: middle;\n",
       "    }\n",
       "\n",
       "    .dataframe tbody tr th {\n",
       "        vertical-align: top;\n",
       "    }\n",
       "\n",
       "    .dataframe thead th {\n",
       "        text-align: right;\n",
       "    }\n",
       "</style>\n",
       "<table border=\"1\" class=\"dataframe\">\n",
       "  <thead>\n",
       "    <tr style=\"text-align: right;\">\n",
       "      <th></th>\n",
       "      <th>Total_loss</th>\n",
       "      <th>MSE_0</th>\n",
       "      <th>Regression_0</th>\n",
       "      <th>L1_0</th>\n",
       "      <th>coeff_0_0</th>\n",
       "      <th>coeff_0_1</th>\n",
       "      <th>coeff_0_2</th>\n",
       "      <th>coeff_0_3</th>\n",
       "      <th>coeff_0_4</th>\n",
       "      <th>coeff_0_5</th>\n",
       "      <th>coeff_0_6</th>\n",
       "      <th>coeff_0_7</th>\n",
       "      <th>coeff_0_8</th>\n",
       "      <th>coeff_0_9</th>\n",
       "      <th>coeff_0_10</th>\n",
       "      <th>coeff_0_11</th>\n",
       "      <th>scaled_coeff_0_0</th>\n",
       "      <th>scaled_coeff_0_1</th>\n",
       "      <th>scaled_coeff_0_2</th>\n",
       "      <th>scaled_coeff_0_3</th>\n",
       "      <th>scaled_coeff_0_4</th>\n",
       "      <th>scaled_coeff_0_5</th>\n",
       "      <th>scaled_coeff_0_6</th>\n",
       "      <th>scaled_coeff_0_7</th>\n",
       "      <th>scaled_coeff_0_8</th>\n",
       "      <th>scaled_coeff_0_9</th>\n",
       "      <th>scaled_coeff_0_10</th>\n",
       "      <th>scaled_coeff_0_11</th>\n",
       "    </tr>\n",
       "  </thead>\n",
       "  <tbody>\n",
       "    <tr>\n",
       "      <th>1186</th>\n",
       "      <td>-6.67915</td>\n",
       "      <td>0.005563</td>\n",
       "      <td>0.000157</td>\n",
       "      <td>2.864199</td>\n",
       "      <td>0.0</td>\n",
       "      <td>-0.119599</td>\n",
       "      <td>0.08423</td>\n",
       "      <td>0.0</td>\n",
       "      <td>0.0</td>\n",
       "      <td>-0.314064</td>\n",
       "      <td>0.0</td>\n",
       "      <td>0.007551</td>\n",
       "      <td>0.0</td>\n",
       "      <td>-0.631018</td>\n",
       "      <td>-0.019563</td>\n",
       "      <td>-0.008957</td>\n",
       "      <td>0.0</td>\n",
       "      <td>-0.258355</td>\n",
       "      <td>0.90489</td>\n",
       "      <td>0.0</td>\n",
       "      <td>0.0</td>\n",
       "      <td>-0.335207</td>\n",
       "      <td>0.0</td>\n",
       "      <td>0.346312</td>\n",
       "      <td>0.0</td>\n",
       "      <td>-0.480854</td>\n",
       "      <td>-0.168324</td>\n",
       "      <td>-0.370257</td>\n",
       "    </tr>\n",
       "  </tbody>\n",
       "</table>\n",
       "</div>"
      ],
      "text/plain": [
       "      Total_loss     MSE_0  ...  scaled_coeff_0_10  scaled_coeff_0_11\n",
       "1186    -6.67915  0.005563  ...          -0.168324          -0.370257\n",
       "\n",
       "[1 rows x 28 columns]"
      ]
     },
     "execution_count": 114,
     "metadata": {},
     "output_type": "execute_result"
    }
   ],
   "source": [
    "df_single_threshold.tail(1)"
   ]
  },
  {
   "cell_type": "code",
   "execution_count": 115,
   "metadata": {},
   "outputs": [
    {
     "data": {
      "text/plain": [
       "[<matplotlib.lines.Line2D at 0x7f66df09d0f0>]"
      ]
     },
     "execution_count": 115,
     "metadata": {},
     "output_type": "execute_result"
    },
    {
     "data": {
      "image/png": "[encoded data removed]",
      "text/plain": [
       "<Figure size 432x288 with 1 Axes>"
      ]
     },
     "metadata": {
      "needs_background": "light"
     },
     "output_type": "display_data"
    }
   ],
   "source": [
    "plt.semilogy(df_single_cluster.index, df_single_cluster.L1_0)"
   ]
  },
  {
   "cell_type": "code",
   "execution_count": 119,
   "metadata": {},
   "outputs": [],
   "source": [
    "coeff_keys = [key for key in df_single_threshold.keys() if key[:5]=='coeff']\n",
    "scaled_coeff_keys = [key for key in df_single_threshold.keys() if key[:6]=='scaled']\n",
    "ini_keys = [key for key in df_single_threshold.keys() if key[:3]=='ini']"
   ]
  },
  {
   "cell_type": "code",
   "execution_count": 122,
   "metadata": {},
   "outputs": [
    {
     "data": {
      "text/plain": [
       "<matplotlib.axes._subplots.AxesSubplot at 0x7f66de3e9400>"
      ]
     },
     "execution_count": 122,
     "metadata": {},
     "output_type": "execute_result"
    },
    {
     "data": {
      "image/png": "[encoded data removed]",
      "text/plain": [
       "<Figure size 432x288 with 2 Axes>"
      ]
     },
     "metadata": {
      "needs_background": "light"
     },
     "output_type": "display_data"
    }
   ],
   "source": [
    "active_terms = df_single_cluster[coeff_keys].to_numpy()[::30]\n",
    "active_terms[np.abs(active_terms) > 0] = 1\n",
    "sns.heatmap(active_terms)"
   ]
  },
  {
   "cell_type": "code",
   "execution_count": 123,
   "metadata": {},
   "outputs": [
    {
     "data": {
      "text/plain": [
       "<matplotlib.axes._subplots.AxesSubplot at 0x7f66ddec77b8>"
      ]
     },
     "execution_count": 123,
     "metadata": {},
     "output_type": "execute_result"
    },
    {
     "data": {
      "image/png": "[encoded data removed]",
      "text/plain": [
       "<Figure size 432x288 with 2 Axes>"
      ]
     },
     "metadata": {
      "needs_background": "light"
     },
     "output_type": "display_data"
    }
   ],
   "source": [
    "active_terms = df_single_threshold[coeff_keys].to_numpy()[::30]\n",
    "active_terms[np.abs(active_terms) > 0] = 1\n",
    "sns.heatmap(active_terms)"
   ]
  },
  {
   "cell_type": "code",
   "execution_count": 130,
   "metadata": {},
   "outputs": [
    {
     "data": {
      "text/plain": [
       "(1000, 1200)"
      ]
     },
     "execution_count": 130,
     "metadata": {},
     "output_type": "execute_result"
    },
    {
     "data": {
      "image/png": "[encoded data removed]",
      "text/plain": [
       "<Figure size 432x288 with 1 Axes>"
      ]
     },
     "metadata": {
      "needs_background": "light"
     },
     "output_type": "display_data"
    }
   ],
   "source": [
    "plt.plot(df_single_threshold.index, df_single_threshold.L1_0)\n",
    "plt.ylim([2.5, 5])\n",
    "plt.xlim([1000, 1200])"
   ]
  },
  {
   "cell_type": "code",
   "execution_count": null,
   "metadata": {},
   "outputs": [],
   "source": []
  }
 ],
 "metadata": {
  "kernelspec": {
   "display_name": "Python 3",
   "language": "python",
   "name": "python3"
  },
  "language_info": {
   "codemirror_mode": {
    "name": "ipython",
    "version": 3
   },
   "file_extension": ".py",
   "mimetype": "text/x-python",
   "name": "python",
   "nbconvert_exporter": "python",
   "pygments_lexer": "ipython3",
   "version": "3.6.9"
  }
 },
 "nbformat": 4,
 "nbformat_minor": 4
}
