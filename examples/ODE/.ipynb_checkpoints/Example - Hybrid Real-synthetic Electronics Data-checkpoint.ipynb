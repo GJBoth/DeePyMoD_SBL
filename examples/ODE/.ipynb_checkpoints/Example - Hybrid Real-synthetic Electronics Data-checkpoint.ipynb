{
 "cells": [
  {
   "cell_type": "markdown",
   "metadata": {},
   "source": [
    "# Example - Hybrid Real/synthetic Electronics Data"
   ]
  },
  {
   "cell_type": "code",
   "execution_count": 1,
   "metadata": {},
   "outputs": [
    {
     "data": {
      "text/plain": [
       "<torch._C.Generator at 0x7f7625aaa910>"
      ]
     },
     "execution_count": 1,
     "metadata": {},
     "output_type": "execute_result"
    }
   ],
   "source": [
    "import os\n",
    "import sys\n",
    "from datetime import datetime\n",
    "import numpy as np\n",
    "import matplotlib.pyplot as plt\n",
    "plt.style.use('ggplot')\n",
    "import torch\n",
    "\n",
    "sys.path.append('../src')\n",
    "# import deepymod_torch.VE_params as VE_params\n",
    "# import deepymod_torch.VE_datagen as VE_datagen\n",
    "import VE_params\n",
    "# from deepymod_torch.DeepMod import run_deepmod\n",
    "# from deepymod_torch.library_functions import mech_library_real\n",
    "\n",
    "# random seeding\n",
    "np_seed = 2\n",
    "torch_seed = 0\n",
    "np.random.seed(np_seed)\n",
    "torch.manual_seed(torch_seed)"
   ]
  },
  {
   "cell_type": "code",
   "execution_count": 2,
   "metadata": {},
   "outputs": [],
   "source": [
    "# general_path = 'Oscilloscope data CRI electronics analogy/'\n",
    "# specific_path = 'AWG 7V half sinc KELVIN 1 cap/' # It is precisely here that changes the data we are grabbing to test.\n",
    "# path = general_path + specific_path\n",
    "\n",
    "# Some of these factors are just for saving at the end but...\n",
    "# ... omega is used in time scaling.\n",
    "# ... mech_model is used to predict coeffs and recover mech params\n",
    "input_type = 'Strain'\n",
    "mech_model = 'GKM'\n",
    "func_desc = 'Half Sinc'\n",
    "omega = np.pi\n",
    "Amp = 7\n",
    "input_expr = lambda t: Amp*np.sin(omega*t)/(omega*t)\n",
    "input_torch_lambda = lambda t: Amp*torch.sin(omega*t)/(omega*t)\n",
    "\n",
    "# channel_1_data = np.loadtxt(path+'Channel 1 total voltage.csv', delimiter=',', skiprows=3)\n",
    "# channel_2_data = np.loadtxt(path+'Channel 2 voltage shunt resistor.csv', delimiter=',', skiprows=3)\n",
    "\n",
    "channel_1_data = np.loadtxt('Channel 1 total voltage.csv', delimiter=',', skiprows=3)\n",
    "channel_2_data = np.loadtxt('Channel 2 voltage shunt resistor.csv', delimiter=',', skiprows=3)"
   ]
  },
  {
   "cell_type": "markdown",
   "metadata": {},
   "source": [
    "The data contains a 'dead' period at the beginning before the voltage manipulation began, and then restarts the manipulation later on. We do not need to keep this data as it provides very little new information and makes the data significantly harder to fit. Below, by plotting the voltage data and tweaking the start and end points, we can isolate the interesting data."
   ]
  },
  {
   "cell_type": "code",
   "execution_count": 3,
   "metadata": {},
   "outputs": [
    {
     "data": {
      "text/plain": [
       "[<matplotlib.lines.Line2D at 0x7f75692fe908>]"
      ]
     },
     "execution_count": 3,
     "metadata": {},
     "output_type": "execute_result"
    },
    {
     "data": {
      "image/png": "[encoded data removed]",
      "text/plain": [
       "<Figure size 432x288 with 1 Axes>"
      ]
     },
     "metadata": {
      "needs_background": "light"
     },
     "output_type": "display_data"
    }
   ],
   "source": [
    "plt.plot(channel_1_data[806:3305, 1])"
   ]
  },
  {
   "cell_type": "code",
   "execution_count": 4,
   "metadata": {},
   "outputs": [],
   "source": [
    "lower = 806\n",
    "upper = 3305\n",
    "\n",
    "voltage_array = channel_1_data[lower:upper, 1:]\n",
    "voltage_shunt_array = channel_2_data[lower:upper, 1:]\n",
    "time_array = channel_1_data[lower:upper, :1]"
   ]
  },
  {
   "cell_type": "markdown",
   "metadata": {},
   "source": [
    "## Overide voltage for calculated sinc curve"
   ]
  },
  {
   "cell_type": "code",
   "execution_count": 5,
   "metadata": {},
   "outputs": [],
   "source": [
    "voltage_array = input_expr(time_array-min(time_array) + 10**-10)"
   ]
  },
  {
   "cell_type": "code",
   "execution_count": 6,
   "metadata": {},
   "outputs": [],
   "source": [
    "# voltage_array = channel_1_data[:, 1:]\n",
    "# voltage_shunt_array = channel_2_data[:, 1:]\n",
    "# time_array = channel_1_data[:, :1]"
   ]
  },
  {
   "cell_type": "markdown",
   "metadata": {},
   "source": [
    "Here I record the measured resistance values made with the multimeter. The values r_0, r_1, r_2 are only used to make predictions on the expected coefficients. r_shunt more critically is used to convert the voltage measured across the shunt resistor to the current through both it, and the whole mech model block."
   ]
  },
  {
   "cell_type": "code",
   "execution_count": 7,
   "metadata": {},
   "outputs": [],
   "source": [
    "r_0 = 1.99e3 # measured using multimeter\n",
    "r_1 = 1.99e3 # measured using multimeter\n",
    "r_2 = 1.99e3 # measured using multimeter\n",
    "\n",
    "equiv_E = [1/r_0, 1/r_1]\n",
    "equiv_eta = [1e-3]"
   ]
  },
  {
   "cell_type": "code",
   "execution_count": 8,
   "metadata": {},
   "outputs": [],
   "source": [
    "# Maxwell shunt\n",
    "r_shunt = 10.2 # measured using multimeter\n",
    "# Kelvin shunt\n",
    "# r_shunt = 10.5 # measured using multimeter\n",
    "\n",
    "current_array = voltage_shunt_array/r_shunt"
   ]
  },
  {
   "cell_type": "code",
   "execution_count": 9,
   "metadata": {},
   "outputs": [
    {
     "data": {
      "text/plain": [
       "[<matplotlib.lines.Line2D at 0x7f75671d08d0>]"
      ]
     },
     "execution_count": 9,
     "metadata": {},
     "output_type": "execute_result"
    },
    {
     "data": {
      "image/png": "[encoded data removed]",
      "text/plain": [
       "<Figure size 432x288 with 1 Axes>"
      ]
     },
     "metadata": {
      "needs_background": "light"
     },
     "output_type": "display_data"
    }
   ],
   "source": [
    "plt.plot(time_array, voltage_array, label='voltage', linestyle='None', marker='.', markersize=1)"
   ]
  },
  {
   "cell_type": "code",
   "execution_count": 10,
   "metadata": {},
   "outputs": [
    {
     "data": {
      "text/plain": [
       "[<matplotlib.lines.Line2D at 0x7f75671ada20>]"
      ]
     },
     "execution_count": 10,
     "metadata": {},
     "output_type": "execute_result"
    },
    {
     "data": {
      "image/png": "[encoded data removed]",
      "text/plain": [
       "<Figure size 432x288 with 1 Axes>"
      ]
     },
     "metadata": {
      "needs_background": "light"
     },
     "output_type": "display_data"
    }
   ],
   "source": [
    "plt.plot(time_array, current_array, label='current', linestyle='None', marker='.', markersize=1)"
   ]
  },
  {
   "cell_type": "markdown",
   "metadata": {},
   "source": [
    "## Data Treatment"
   ]
  },
  {
   "cell_type": "code",
   "execution_count": 11,
   "metadata": {},
   "outputs": [],
   "source": [
    "# 'normalising'\n",
    "t_sf = omega/1.2 # Aim for this to be such that the T of the scaled data is a bit less than 2pi\n",
    "V_sf = 1/np.max(abs(voltage_array))\n",
    "I_sf = 1/np.max(abs(current_array))\n",
    "scaled_time_array = time_array*t_sf\n",
    "scaled_voltage = voltage_array*V_sf\n",
    "scaled_current = current_array*I_sf\n",
    "\n",
    "# scaled_input_expr = lambda t: V_sf*input_expr(t/t_sf)\n",
    "scaled_input_torch_lambda = lambda t: V_sf*input_torch_lambda(t/t_sf)\n",
    "# scaled_voltage = scaled_input_expr(time_array-min(time_array) + 10**-10)\n",
    "\n",
    "# structuring\n",
    "target_array = np.concatenate((scaled_voltage, scaled_current), axis=1)"
   ]
  },
  {
   "cell_type": "code",
   "execution_count": 12,
   "metadata": {},
   "outputs": [],
   "source": [
    "# random sampling\n",
    "number_of_samples = 1000\n",
    "\n",
    "reordered_row_indices = np.random.permutation(scaled_time_array.size)\n",
    "reduced_time_array = scaled_time_array[reordered_row_indices, :][:number_of_samples]\n",
    "reduced_target_array = target_array[reordered_row_indices, :][:number_of_samples]"
   ]
  },
  {
   "cell_type": "markdown",
   "metadata": {},
   "source": [
    "## Predicting coefficients"
   ]
  },
  {
   "cell_type": "markdown",
   "metadata": {},
   "source": [
    "First of all, we can forget that our problem has scaled data and do two things. First, remember that while capacitance is equivalent to viscosity, reistance is equivalent to the reciprocal of the elastic modulus. Second, we can put these viscosities and resistances into the function for calculating the expected coefficients. Intuitively for once, we interpret the model params as desribing a maxwell model. We do this because it was a Maxwell type model that we constructed on the breadboard, and so the parameters must be combined in a maxwell type fashion to return the equation coefficients."
   ]
  },
  {
   "cell_type": "code",
   "execution_count": 13,
   "metadata": {},
   "outputs": [
    {
     "data": {
      "text/plain": [
       "[0.502512562814070, 2000.00000000000, 1990.00000000000]"
      ]
     },
     "execution_count": 13,
     "metadata": {},
     "output_type": "execute_result"
    }
   ],
   "source": [
    "pre_scaled_coeff_guess = VE_params.coeffs_from_model_params(equiv_E, equiv_eta, mech_model)\n",
    "pre_scaled_coeff_guess"
   ]
  },
  {
   "cell_type": "markdown",
   "metadata": {},
   "source": [
    "Thanks to our scaling, the coefficients we are going to discover here are actually also scaled compared to the coefficients as they would have been if no scaling had taken place. This is because we have two dependant quantities that have been scaled differently. If it had been just one scale factor, the coefficients would have been the same.\n",
    "\n",
    "The LHS of the equation, the first time derivative of voltage, has been scaled the same way as any other voltage term. As a result, the coefficient(s) for voltage term(s) will already be scaled correctly.  This is because, although the voltage seen by DeepMoD is 10x lower than in reality, this would only need to be balanced by a coeffient 10x higher if the total of the RHS (the LHS) hadn't also been made 10x lower. As the coeffient of the LHS is always one, and the time derivative is now 10x smaller, all terms on the RHS should also be 10x smaller than before. A coefficient on the voltage term remaining that is also 10x smaller is unnecessary, as the voltage is already 10x smaller.\n",
    "\n",
    "However, for the current terms, they will all be 100x bigger, due to scaling, so the coeffients must be 1000x smaller than an unscaled set of coeffs to preserve each coeff\\*term product as being 10x smaller than before scaling, to match the LHS.\n",
    "\n",
    "In summary, we need to take the current coeffients and divide them by 1000 to predict the coeffients as they will be for the normalised data.\n",
    "\n",
    "The formula for scaling each cofficient is thus:\n",
    "\n",
    "$$\n",
    "c_n = C_n\\frac{\\alpha_{LHS}}{\\alpha_n}\n",
    "$$\n",
    "\n",
    "where $C_n$ is the true coeffient for the nth term, $c_n$ is the scaled version that DeepMoD will find, $\\alpha_n$ is the scale factor that was applied to the dependant quantity in term n, and $\\alpha_{LHS}$ is the scale factor that was applied to the dependant quantity put on the LHS. "
   ]
  },
  {
   "cell_type": "code",
   "execution_count": 14,
   "metadata": {},
   "outputs": [
    {
     "data": {
      "text/plain": [
       "[0.191945660010326, 0.470777646792833, 1.22633053221288]"
      ]
     },
     "execution_count": 14,
     "metadata": {},
     "output_type": "execute_result"
    }
   ],
   "source": [
    "scaled_coeff_guess = VE_params.scaled_coeffs_from_true(pre_scaled_coeff_guess, t_sf, V_sf, I_sf)\n",
    "scaled_coeff_guess"
   ]
  },
  {
   "cell_type": "markdown",
   "metadata": {},
   "source": [
    "## DeepMod prep"
   ]
  },
  {
   "cell_type": "markdown",
   "metadata": {},
   "source": [
    "Transform into tensors for use by pytorch"
   ]
  },
  {
   "cell_type": "code",
   "execution_count": 15,
   "metadata": {},
   "outputs": [],
   "source": [
    "time_tensor = torch.tensor(reduced_time_array, dtype=torch.float32, requires_grad=True)\n",
    "target_tensor = torch.tensor(reduced_target_array, dtype=torch.float32)"
   ]
  },
  {
   "cell_type": "markdown",
   "metadata": {},
   "source": [
    "## Defining Library"
   ]
  },
  {
   "cell_type": "code",
   "execution_count": 16,
   "metadata": {},
   "outputs": [],
   "source": [
    "from torch.autograd import grad\n",
    "\n",
    "# def mech_library_real(inputs, **library_config):    \n",
    "    \n",
    "#     prediction, data = inputs\n",
    "    \n",
    "#     # The first column of prediction is always strain\n",
    "#     strain_derivs = auto_deriv(data, prediction[:, :1], library_config)\n",
    "#     strain_theta = torch.cat((prediction[:, :1], strain_derivs), dim=1)\n",
    "    \n",
    "#     # The second column is always stress\n",
    "#     stress_derivs = auto_deriv(data, prediction[:, 1:], library_config)\n",
    "#     stress_theta = torch.cat((prediction[:, 1:], stress_derivs), dim=1)\n",
    "    \n",
    "#     strain_t = strain_theta[:, 1:2] # Extract the first time derivative of strain\n",
    "#     strain_theta = torch.cat((strain_theta[:, 0:1], strain_theta[:, 2:]), dim=1) # remove this before it gets put into theta\n",
    "#     strain_theta *= -1 # The coefficient of all strain terms will always be negative. rather than hoping deepmod will find these negative terms, we assume the negative factor here and later on DeepMoD will just find positive coefficients\n",
    "#     theta = torch.cat((strain_theta, stress_theta), dim=1) # I have arbitrarily set the convention of making Strain the first columns of data\n",
    "    \n",
    "#     return [strain_t], theta\n",
    "\n",
    "\n",
    "def mech_library(inputs, **library_config):    \n",
    "    \n",
    "    prediction, data = inputs\n",
    "    \n",
    "    input_theta = library_config['input_theta']\n",
    "    if data.shape[0] == 1: # Swaps real input_theta out for dummy in initialisation pass.\n",
    "        input_theta = torch.ones((1, input_theta.shape[1]))\n",
    "    \n",
    "    # Next use the result of the feedforward pass of the NN to calculate derivatives of your prediction with respect to time. \n",
    "    output_derivs = auto_deriv(data, prediction, library_config['diff_order'])\n",
    "    output_theta = torch.cat((prediction, output_derivs), dim=1)\n",
    "    \n",
    "    # Next identify the input/output as Stress/Strain and organise into returned variables\n",
    "    input_type = library_config['input_type']\n",
    "    if input_type == 'Strain':\n",
    "        strain = input_theta\n",
    "        stress = output_theta\n",
    "    elif input_type == 'Stress':\n",
    "        strain = output_theta\n",
    "        stress = input_theta\n",
    "    else:\n",
    "        print('Improper description of input choice. Was: '+input_type+'. Should be either \\'Strain\\' or \\'Stress\\'')\n",
    "        \n",
    "    strain_t = strain[:, 1:2] # Extract the first time derivative of strain\n",
    "    strain = torch.cat((strain[:, 0:1], strain[:, 2:]), dim=1) # remove this before it gets put into theta\n",
    "    strain *= -1 # The coefficient of all strain terms will always be negative. rather than hoping deepmod will find these negative terms, we assume the negative factor here and later on DeepMoD will just find positive coefficients\n",
    "    theta = torch.cat((strain, stress), dim=1) # I have arbitrarily set the convention of making Strain the first columns of data\n",
    "    \n",
    "    return [strain_t], theta\n",
    "\n",
    "\n",
    "def auto_deriv(data, prediction, max_order):\n",
    "    '''\n",
    "    data and prediction must be single columned tensors.\n",
    "    If it is desired to calculate the derivatives of different predictions wrt different data, this function must be called multiple times.\n",
    "    This function does not return a column with the zeroth derivative (the prediction).\n",
    "    '''\n",
    "    \n",
    "    # First derivative builds off prediction.\n",
    "    derivs = grad(prediction, data, grad_outputs=torch.ones_like(prediction), create_graph=True)[0]\n",
    "    for _ in range(max_order-1):\n",
    "        # Higher derivatives chain derivatives from first derivative.\n",
    "        derivs = torch.cat((derivs, grad(derivs[:, -1:], data, grad_outputs=torch.ones_like(prediction), create_graph=True)[0]), dim=1)\n",
    "                \n",
    "    return derivs"
   ]
  },
  {
   "cell_type": "markdown",
   "metadata": {},
   "source": [
    "#### Manipulation derivative library pre-calculation"
   ]
  },
  {
   "cell_type": "code",
   "execution_count": 17,
   "metadata": {},
   "outputs": [],
   "source": [
    "library_diff_order = 1\n",
    "\n",
    "input_data = scaled_input_torch_lambda(time_tensor)\n",
    "input_derivs = auto_deriv(time_tensor, input_data, library_diff_order)\n",
    "input_theta = torch.cat((input_data.detach(), input_derivs.detach()), dim=1)"
   ]
  },
  {
   "cell_type": "code",
   "execution_count": 18,
   "metadata": {},
   "outputs": [],
   "source": [
    "library_config = {'diff_order': library_diff_order,\n",
    "                  'input_type': input_type,\n",
    "                  'input_theta': input_theta}"
   ]
  },
  {
   "cell_type": "markdown",
   "metadata": {},
   "source": [
    "> THIS IS THE BREAK POINT FOR NOW. Below relies to heavily on src code changes or wrapper to send immediately. I'll work on that now.\n",
    "\n",
    "It will be necessary to make the import statements for deepmod class etc here"
   ]
  }
 ],
 "metadata": {
  "kernelspec": {
   "display_name": "Python 3",
   "language": "python",
   "name": "python3"
  },
  "language_info": {
   "codemirror_mode": {
    "name": "ipython",
    "version": 3
   },
   "file_extension": ".py",
   "mimetype": "text/x-python",
   "name": "python",
   "nbconvert_exporter": "python",
   "pygments_lexer": "ipython3",
   "version": "3.6.9"
  }
 },
 "nbformat": 4,
 "nbformat_minor": 4
}
