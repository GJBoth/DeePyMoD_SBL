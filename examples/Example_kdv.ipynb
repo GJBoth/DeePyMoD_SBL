{
 "cells": [
  {
   "cell_type": "markdown",
   "metadata": {},
   "source": [
    "In this notebook we show how to use the new deepymod code and phimal utilities to load data and perform data analysis:"
   ]
  },
  {
   "cell_type": "code",
   "execution_count": 12,
   "metadata": {},
   "outputs": [
    {
     "name": "stdout",
     "output_type": "stream",
     "text": [
      "The autoreload extension is already loaded. To reload it, use:\n",
      "  %reload_ext autoreload\n"
     ]
    }
   ],
   "source": [
    "import numpy as np\n",
    "import pandas as pd\n",
    "import torch\n",
    "\n",
    "from DeePyMoD_SBL.deepymod_torch.library_functions import library_1D_in\n",
    "from DeePyMoD_SBL.deepymod_torch.DeepMod import DeepModDynamic\n",
    "from DeePyMoD_SBL.deepymod_torch.training import train_dynamic_logprob_scaled\n",
    "from sklearn.linear_model import LassoLarsIC, LarsCV\n",
    "\n",
    "\n",
    "import time\n",
    "from DeePyMoD_SBL.deepymod_torch.output import Tensorboard, progress\n",
    "from DeePyMoD_SBL.deepymod_torch.losses import reg_loss, mse_loss, l1_loss\n",
    "from DeePyMoD_SBL.deepymod_torch.sparsity import scaling, threshold\n",
    "from numpy import pi\n",
    "\n",
    "from phimal_utilities.data import Dataset\n",
    "from phimal_utilities.data.burgers import BurgersDelta\n",
    "from phimal_utilities.analysis import load_tensorboard\n",
    "\n",
    "if torch.cuda.is_available():\n",
    "    torch.set_default_tensor_type('torch.cuda.FloatTensor')\n",
    "\n",
    "import seaborn as sns\n",
    "import matplotlib.pyplot as plt\n",
    "plt.style.use('ggplot')\n",
    "import time\n",
    "%load_ext autoreload\n",
    "%autoreload 2"
   ]
  },
  {
   "cell_type": "markdown",
   "metadata": {},
   "source": [
    "# Making data"
   ]
  },
  {
   "cell_type": "code",
   "execution_count": 3,
   "metadata": {},
   "outputs": [
    {
     "name": "stdout",
     "output_type": "stream",
     "text": [
      "Shape of grid: (512, 201)\n"
     ]
    }
   ],
   "source": [
    "data = np.load('kdv.npy', allow_pickle=True).item()\n",
    "print('Shape of grid:', data['x'].shape)"
   ]
  },
  {
   "cell_type": "markdown",
   "metadata": {},
   "source": [
    "Create a dataset by giving your solution to the object and its parameters (make sure they're named)"
   ]
  },
  {
   "cell_type": "code",
   "execution_count": 4,
   "metadata": {},
   "outputs": [
    {
     "name": "stdout",
     "output_type": "stream",
     "text": [
      "(102912, 2) (102912, 1)\n"
     ]
    }
   ],
   "source": [
    "X = np.transpose((data['t'].flatten(), data['x'].flatten()))\n",
    "y = np.real(data['u']).reshape((data['u'].size, 1))\n",
    "print(X.shape, y.shape)\n",
    "noise_level = 0.20\n",
    "y_noisy = y + noise_level * np.std(y) * np.random.randn(y[:,0].size, 1)\n",
    "number_of_samples = 3000\n",
    "\n",
    "idx = np.random.permutation(y.shape[0])\n",
    "X_train = torch.tensor(X[idx, :][:number_of_samples], dtype=torch.float32, requires_grad=True)\n",
    "y_train = torch.tensor(y_noisy[idx, :][:number_of_samples], dtype=torch.float32)"
   ]
  },
  {
   "cell_type": "markdown",
   "metadata": {},
   "source": [
    "# Running deepmod"
   ]
  },
  {
   "cell_type": "markdown",
   "metadata": {},
   "source": [
    "Now we show how to use the new deepmod. We first define which sparsity estimator we want to use. All estimators from scikitlearn are fine. set fit_intercept to false as that term is in our model."
   ]
  },
  {
   "cell_type": "code",
   "execution_count": 5,
   "metadata": {},
   "outputs": [],
   "source": [
    "estimator = LarsCV(fit_intercept=False)"
   ]
  },
  {
   "cell_type": "markdown",
   "metadata": {},
   "source": [
    "Then we define the config and build the model as always:"
   ]
  },
  {
   "cell_type": "code",
   "execution_count": 6,
   "metadata": {},
   "outputs": [
    {
     "data": {
      "text/plain": [
       "'\\nfunction_approximator = network(n_in=2, hidden_dims=[30, 30, 30, 30, 30], n_out=1)\\nlibrary = Library(function=library_1D_in, poly_order=2, deriv_order=2)\\nsparse_estimator = Estimator(fit_intercept=False)\\n\\nmodel = DeepMoD(function_approximator, library, sparse_estimator)\\n'"
      ]
     },
     "execution_count": 6,
     "metadata": {},
     "output_type": "execute_result"
    }
   ],
   "source": [
    "config = {'n_in': 2, 'hidden_dims': [50, 50, 50, 50, 50], 'n_out': 1, 'library_function':library_1D_in, 'library_args':{'poly_order': 2, 'diff_order': 3}, 'sparsity_estimator': estimator}\n",
    "model = DeepModDynamic(**config)\n",
    "\n",
    "\n",
    "#In the future, I want to change the api so that we would do the following:\n",
    "'''\n",
    "function_approximator = network(n_in=2, hidden_dims=[30, 30, 30, 30, 30], n_out=1)\n",
    "library = Library(function=library_1D_in, poly_order=2, deriv_order=2)\n",
    "sparse_estimator = Estimator(fit_intercept=False)\n",
    "\n",
    "model = DeepMoD(function_approximator, library, sparse_estimator)\n",
    "'''\n",
    "# main reason is not to get a massive config dictionary which is not very clear. This would also be super flexible."
   ]
  },
  {
   "cell_type": "markdown",
   "metadata": {},
   "source": [
    "Define the optimizer:"
   ]
  },
  {
   "cell_type": "code",
   "execution_count": 7,
   "metadata": {},
   "outputs": [],
   "source": [
    "optimizer = torch.optim.Adam(model.network_parameters(), amsgrad=True)"
   ]
  },
  {
   "cell_type": "markdown",
   "metadata": {},
   "source": [
    "And train for 15k:. We start the sparsity update after 5000 iterations so we have a good estimate of the data and update it every 200 iterations after:"
   ]
  },
  {
   "cell_type": "code",
   "execution_count": 14,
   "metadata": {},
   "outputs": [],
   "source": [
    "# Defining training function\n",
    "def train(model, data, target, optimizer, max_iterations, loss_func_args, log_dir=None):\n",
    "    start_time = time.time()\n",
    "    number_of_terms = [coeff_vec.shape[0] for coeff_vec in model(data)[3]]\n",
    "    board = Tensorboard(number_of_terms, log_dir)\n",
    "    \n",
    "    # Training\n",
    "    print('| Iteration | Progress | Time remaining |     Cost |      MSE |      Reg |       LL |')\n",
    "    for iteration in torch.arange(0, max_iterations + 1):\n",
    "        # Calculating prediction and library and scaling\n",
    "        prediction, time_deriv_list, sparse_theta_list, coeff_vector_list, theta = model(data)\n",
    "        coeff_vector_scaled_list = scaling(coeff_vector_list, sparse_theta_list, time_deriv_list) \n",
    "        \n",
    "        # Calculating loss\n",
    "        loss_mse = mse_loss(prediction, target)\n",
    "        loss_reg = reg_loss(time_deriv_list, sparse_theta_list, coeff_vector_list)\n",
    "        loss_ll = torch.log(2 * pi * loss_mse)\n",
    "        loss_ll_fit = torch.log(2 * pi * loss_mse) + loss_reg / loss_mse\n",
    "        loss = torch.sum(loss_ll) + torch.sum(loss_ll_fit)\n",
    "        \n",
    "        # Writing\n",
    "        if iteration % 100 == 0:\n",
    "            # Write progress to command line\n",
    "            progress(iteration, start_time, max_iterations, loss.item(), torch.sum(loss_mse).item(), torch.sum(loss_reg).item(), torch.sum(loss_ll).item())\n",
    "            \n",
    "            # Calculate error for theta\n",
    "            \n",
    "            # Write to tensorboard\n",
    "            board.write(iteration, loss, loss_mse, loss_reg, loss_ll, coeff_vector_list, coeff_vector_scaled_list)\n",
    "\n",
    "        # Optimizer step\n",
    "        optimizer.zero_grad()\n",
    "        loss.backward()\n",
    "        optimizer.step()\n",
    "\n",
    "    board.close()\n"
   ]
  },
  {
   "cell_type": "code",
   "execution_count": 15,
   "metadata": {},
   "outputs": [
    {
     "name": "stdout",
     "output_type": "stream",
     "text": [
      "| Iteration | Progress | Time remaining |     Cost |      MSE |      Reg |       LL |\n",
      "      25000    100.00%               0s   -1.18e+01   4.34e-04   5.98e-06   -5.91e+00 "
     ]
    }
   ],
   "source": [
    "train(model, X_train, y_train, optimizer, 25000, loss_func_args={'start_sparsity_update': 3000, 'sparsity_update_period': 250})"
   ]
  },
  {
   "cell_type": "markdown",
   "metadata": {},
   "source": [
    "We get the following coefficients from the sparsity model (which are biased by the l1):"
   ]
  },
  {
   "cell_type": "code",
   "execution_count": 20,
   "metadata": {},
   "outputs": [
    {
     "data": {
      "text/plain": [
       "tensor([[  0.0000, -30.0000],\n",
       "        [  0.1000, -30.0000],\n",
       "        [  0.2000, -30.0000],\n",
       "        ...,\n",
       "        [ 19.8000,  29.8828],\n",
       "        [ 19.9000,  29.8828],\n",
       "        [ 20.0000,  29.8828]], dtype=torch.float64)"
      ]
     },
     "execution_count": 20,
     "metadata": {},
     "output_type": "execute_result"
    }
   ],
   "source": [
    "torch.tensor(X)"
   ]
  },
  {
   "cell_type": "code",
   "execution_count": 21,
   "metadata": {},
   "outputs": [],
   "source": [
    "solution = model(torch.tensor(X, dtype=torch.float32, requires_grad=True))"
   ]
  },
  {
   "cell_type": "code",
   "execution_count": 22,
   "metadata": {},
   "outputs": [
    {
     "data": {
      "text/plain": [
       "<matplotlib.image.AxesImage at 0x7f9c9c1716d8>"
      ]
     },
     "execution_count": 22,
     "metadata": {},
     "output_type": "execute_result"
    },
    {
     "data": {
      "image/png": "[encoded data removed]",
      "text/plain": [
       "<Figure size 432x288 with 1 Axes>"
      ]
     },
     "metadata": {},
     "output_type": "display_data"
    }
   ],
   "source": [
    "plt.imshow(solution[0].cpu().detach().numpy().reshape(data['x'].shape))"
   ]
  },
  {
   "cell_type": "code",
   "execution_count": 23,
   "metadata": {},
   "outputs": [
    {
     "name": "stderr",
     "output_type": "stream",
     "text": [
      "/opt/conda/lib/python3.6/site-packages/numpy/core/_asarray.py:85: ComplexWarning: Casting complex values to real discards the imaginary part\n",
      "  return array(a, dtype, copy=False, order=order)\n"
     ]
    },
    {
     "data": {
      "text/plain": [
       "[<matplotlib.lines.Line2D at 0x7f9c9c13c358>]"
      ]
     },
     "execution_count": 23,
     "metadata": {},
     "output_type": "execute_result"
    },
    {
     "data": {
      "image/png": "[encoded data removed]",
      "text/plain": [
       "<Figure size 432x288 with 1 Axes>"
      ]
     },
     "metadata": {},
     "output_type": "display_data"
    }
   ],
   "source": [
    "plt.plot(data['u'].reshape(data['x'].shape)[:,50])\n",
    "plt.plot(solution[0].cpu().detach().numpy().reshape(data['x'].shape)[:,50])"
   ]
  },
  {
   "cell_type": "code",
   "execution_count": 17,
   "metadata": {},
   "outputs": [
    {
     "data": {
      "text/plain": [
       "[tensor([False,  True,  True,  True,  True,  True, False, False, False,  True,\n",
       "          True,  True])]"
      ]
     },
     "execution_count": 17,
     "metadata": {},
     "output_type": "execute_result"
    }
   ],
   "source": [
    "model.constraints.sparsity_mask\n"
   ]
  },
  {
   "cell_type": "code",
   "execution_count": 18,
   "metadata": {},
   "outputs": [
    {
     "data": {
      "text/plain": [
       "array([ 0.        , -0.13874751,  0.00258826, -0.83956189, -0.00254154,\n",
       "       -1.50947243,  0.        ,  0.        ,  0.        , -0.01159605,\n",
       "       -0.0161077 ,  0.03622867])"
      ]
     },
     "execution_count": 18,
     "metadata": {},
     "output_type": "execute_result"
    }
   ],
   "source": [
    "model.sparsity_estimator.coef_"
   ]
  },
  {
   "cell_type": "markdown",
   "metadata": {},
   "source": [
    "The unbiased coefficients we get from the network by:"
   ]
  },
  {
   "cell_type": "code",
   "execution_count": 19,
   "metadata": {},
   "outputs": [
    {
     "data": {
      "text/plain": [
       "[tensor([[-0.1390],\n",
       "         [-0.8524],\n",
       "         [-4.7745],\n",
       "         [-0.9714],\n",
       "         [-0.0761]], grad_fn=<MmBackward>)]"
      ]
     },
     "execution_count": 19,
     "metadata": {},
     "output_type": "execute_result"
    }
   ],
   "source": [
    "model.constraints.coeff_vector"
   ]
  },
  {
   "cell_type": "markdown",
   "metadata": {},
   "source": [
    "It has one extra term, but its super small. Thats an issue for next time. This is done with 10% noise."
   ]
  },
  {
   "cell_type": "markdown",
   "metadata": {},
   "source": [
    "# Analysing"
   ]
  },
  {
   "cell_type": "markdown",
   "metadata": {},
   "source": [
    "To analyse more in depth, we can load the tensorboard file:"
   ]
  },
  {
   "cell_type": "code",
   "execution_count": 53,
   "metadata": {},
   "outputs": [],
   "source": [
    "# right now works with file path, will change to experiment_ID \n",
    "df = load_tensorboard('runs/Apr22_16-06-14_4b6076e78386/')"
   ]
  },
  {
   "cell_type": "code",
   "execution_count": 54,
   "metadata": {},
   "outputs": [
    {
     "data": {
      "text/html": [
       "<div>\n",
       "<style scoped>\n",
       "    .dataframe tbody tr th:only-of-type {\n",
       "        vertical-align: middle;\n",
       "    }\n",
       "\n",
       "    .dataframe tbody tr th {\n",
       "        vertical-align: top;\n",
       "    }\n",
       "\n",
       "    .dataframe thead th {\n",
       "        text-align: right;\n",
       "    }\n",
       "</style>\n",
       "<table border=\"1\" class=\"dataframe\">\n",
       "  <thead>\n",
       "    <tr style=\"text-align: right;\">\n",
       "      <th></th>\n",
       "      <th>Total_loss</th>\n",
       "      <th>MSE_0</th>\n",
       "      <th>Regression_0</th>\n",
       "      <th>L1_0</th>\n",
       "      <th>coeff_0_0</th>\n",
       "      <th>coeff_0_1</th>\n",
       "      <th>coeff_0_2</th>\n",
       "      <th>coeff_0_3</th>\n",
       "      <th>coeff_0_4</th>\n",
       "      <th>coeff_0_5</th>\n",
       "      <th>...</th>\n",
       "      <th>coeff_0_8</th>\n",
       "      <th>scaled_coeff_0_0</th>\n",
       "      <th>scaled_coeff_0_1</th>\n",
       "      <th>scaled_coeff_0_2</th>\n",
       "      <th>scaled_coeff_0_3</th>\n",
       "      <th>scaled_coeff_0_4</th>\n",
       "      <th>scaled_coeff_0_5</th>\n",
       "      <th>scaled_coeff_0_6</th>\n",
       "      <th>scaled_coeff_0_7</th>\n",
       "      <th>scaled_coeff_0_8</th>\n",
       "    </tr>\n",
       "  </thead>\n",
       "  <tbody>\n",
       "    <tr>\n",
       "      <th>0</th>\n",
       "      <td>0.051412</td>\n",
       "      <td>0.051405</td>\n",
       "      <td>0.000007</td>\n",
       "      <td>0.000007</td>\n",
       "      <td>0.012150</td>\n",
       "      <td>-0.325502</td>\n",
       "      <td>-0.853040</td>\n",
       "      <td>-0.853617</td>\n",
       "      <td>11.300903</td>\n",
       "      <td>-7.467178</td>\n",
       "      <td>...</td>\n",
       "      <td>110.875488</td>\n",
       "      <td>0.857205</td>\n",
       "      <td>-0.397089</td>\n",
       "      <td>-0.692373</td>\n",
       "      <td>-1.903975</td>\n",
       "      <td>0.736789</td>\n",
       "      <td>-0.180344</td>\n",
       "      <td>1.055231</td>\n",
       "      <td>0.070499</td>\n",
       "      <td>0.209822</td>\n",
       "    </tr>\n",
       "    <tr>\n",
       "      <th>100</th>\n",
       "      <td>0.013880</td>\n",
       "      <td>0.013007</td>\n",
       "      <td>0.000874</td>\n",
       "      <td>0.000874</td>\n",
       "      <td>-0.016194</td>\n",
       "      <td>-0.187640</td>\n",
       "      <td>0.001426</td>\n",
       "      <td>0.086010</td>\n",
       "      <td>-0.824461</td>\n",
       "      <td>0.361347</td>\n",
       "      <td>...</td>\n",
       "      <td>-0.707848</td>\n",
       "      <td>-0.329426</td>\n",
       "      <td>-0.605109</td>\n",
       "      <td>0.004689</td>\n",
       "      <td>0.386760</td>\n",
       "      <td>-0.568317</td>\n",
       "      <td>0.370190</td>\n",
       "      <td>-0.225219</td>\n",
       "      <td>0.556316</td>\n",
       "      <td>-0.279357</td>\n",
       "    </tr>\n",
       "    <tr>\n",
       "      <th>200</th>\n",
       "      <td>0.006283</td>\n",
       "      <td>0.005862</td>\n",
       "      <td>0.000421</td>\n",
       "      <td>0.000421</td>\n",
       "      <td>0.009538</td>\n",
       "      <td>-0.232684</td>\n",
       "      <td>0.037852</td>\n",
       "      <td>0.233261</td>\n",
       "      <td>0.411873</td>\n",
       "      <td>-0.211583</td>\n",
       "      <td>...</td>\n",
       "      <td>-0.275103</td>\n",
       "      <td>0.182986</td>\n",
       "      <td>-0.945609</td>\n",
       "      <td>0.219352</td>\n",
       "      <td>1.061824</td>\n",
       "      <td>0.489359</td>\n",
       "      <td>-0.503140</td>\n",
       "      <td>-1.754082</td>\n",
       "      <td>-0.560536</td>\n",
       "      <td>-0.320851</td>\n",
       "    </tr>\n",
       "    <tr>\n",
       "      <th>300</th>\n",
       "      <td>0.003656</td>\n",
       "      <td>0.003487</td>\n",
       "      <td>0.000170</td>\n",
       "      <td>0.000170</td>\n",
       "      <td>0.012385</td>\n",
       "      <td>-0.105834</td>\n",
       "      <td>0.012952</td>\n",
       "      <td>-0.071539</td>\n",
       "      <td>-0.746077</td>\n",
       "      <td>0.346926</td>\n",
       "      <td>...</td>\n",
       "      <td>-0.680861</td>\n",
       "      <td>0.213806</td>\n",
       "      <td>-0.407004</td>\n",
       "      <td>0.091915</td>\n",
       "      <td>-0.272326</td>\n",
       "      <td>-0.954558</td>\n",
       "      <td>1.170330</td>\n",
       "      <td>-0.047470</td>\n",
       "      <td>0.460189</td>\n",
       "      <td>-1.240764</td>\n",
       "    </tr>\n",
       "    <tr>\n",
       "      <th>400</th>\n",
       "      <td>0.001758</td>\n",
       "      <td>0.001608</td>\n",
       "      <td>0.000150</td>\n",
       "      <td>0.000150</td>\n",
       "      <td>0.008800</td>\n",
       "      <td>-0.120296</td>\n",
       "      <td>0.024360</td>\n",
       "      <td>-0.004866</td>\n",
       "      <td>-0.542959</td>\n",
       "      <td>0.208395</td>\n",
       "      <td>...</td>\n",
       "      <td>-0.368399</td>\n",
       "      <td>0.106491</td>\n",
       "      <td>-0.367870</td>\n",
       "      <td>0.160300</td>\n",
       "      <td>-0.013724</td>\n",
       "      <td>-0.646523</td>\n",
       "      <td>0.754378</td>\n",
       "      <td>-0.301574</td>\n",
       "      <td>0.097489</td>\n",
       "      <td>-0.862853</td>\n",
       "    </tr>\n",
       "  </tbody>\n",
       "</table>\n",
       "<p>5 rows × 22 columns</p>\n",
       "</div>"
      ],
      "text/plain": [
       "     Total_loss     MSE_0  Regression_0      L1_0  coeff_0_0  coeff_0_1  \\\n",
       "0      0.051412  0.051405      0.000007  0.000007   0.012150  -0.325502   \n",
       "100    0.013880  0.013007      0.000874  0.000874  -0.016194  -0.187640   \n",
       "200    0.006283  0.005862      0.000421  0.000421   0.009538  -0.232684   \n",
       "300    0.003656  0.003487      0.000170  0.000170   0.012385  -0.105834   \n",
       "400    0.001758  0.001608      0.000150  0.000150   0.008800  -0.120296   \n",
       "\n",
       "     coeff_0_2  coeff_0_3  coeff_0_4  coeff_0_5  ...   coeff_0_8  \\\n",
       "0    -0.853040  -0.853617  11.300903  -7.467178  ...  110.875488   \n",
       "100   0.001426   0.086010  -0.824461   0.361347  ...   -0.707848   \n",
       "200   0.037852   0.233261   0.411873  -0.211583  ...   -0.275103   \n",
       "300   0.012952  -0.071539  -0.746077   0.346926  ...   -0.680861   \n",
       "400   0.024360  -0.004866  -0.542959   0.208395  ...   -0.368399   \n",
       "\n",
       "     scaled_coeff_0_0  scaled_coeff_0_1  scaled_coeff_0_2  scaled_coeff_0_3  \\\n",
       "0            0.857205         -0.397089         -0.692373         -1.903975   \n",
       "100         -0.329426         -0.605109          0.004689          0.386760   \n",
       "200          0.182986         -0.945609          0.219352          1.061824   \n",
       "300          0.213806         -0.407004          0.091915         -0.272326   \n",
       "400          0.106491         -0.367870          0.160300         -0.013724   \n",
       "\n",
       "     scaled_coeff_0_4  scaled_coeff_0_5  scaled_coeff_0_6  scaled_coeff_0_7  \\\n",
       "0            0.736789         -0.180344          1.055231          0.070499   \n",
       "100         -0.568317          0.370190         -0.225219          0.556316   \n",
       "200          0.489359         -0.503140         -1.754082         -0.560536   \n",
       "300         -0.954558          1.170330         -0.047470          0.460189   \n",
       "400         -0.646523          0.754378         -0.301574          0.097489   \n",
       "\n",
       "     scaled_coeff_0_8  \n",
       "0            0.209822  \n",
       "100         -0.279357  \n",
       "200         -0.320851  \n",
       "300         -1.240764  \n",
       "400         -0.862853  \n",
       "\n",
       "[5 rows x 22 columns]"
      ]
     },
     "execution_count": 54,
     "metadata": {},
     "output_type": "execute_result"
    }
   ],
   "source": [
    "df.head(5)"
   ]
  },
  {
   "cell_type": "markdown",
   "metadata": {},
   "source": [
    "All the keys are:"
   ]
  },
  {
   "cell_type": "code",
   "execution_count": 55,
   "metadata": {},
   "outputs": [
    {
     "data": {
      "text/plain": [
       "Index(['Total_loss', 'MSE_0', 'Regression_0', 'L1_0', 'coeff_0_0', 'coeff_0_1',\n",
       "       'coeff_0_2', 'coeff_0_3', 'coeff_0_4', 'coeff_0_5', 'coeff_0_6',\n",
       "       'coeff_0_7', 'coeff_0_8', 'scaled_coeff_0_0', 'scaled_coeff_0_1',\n",
       "       'scaled_coeff_0_2', 'scaled_coeff_0_3', 'scaled_coeff_0_4',\n",
       "       'scaled_coeff_0_5', 'scaled_coeff_0_6', 'scaled_coeff_0_7',\n",
       "       'scaled_coeff_0_8'],\n",
       "      dtype='object')"
      ]
     },
     "execution_count": 55,
     "metadata": {},
     "output_type": "execute_result"
    }
   ],
   "source": [
    "df.keys()"
   ]
  },
  {
   "cell_type": "markdown",
   "metadata": {},
   "source": [
    "We plot the losses:"
   ]
  },
  {
   "cell_type": "code",
   "execution_count": 56,
   "metadata": {},
   "outputs": [
    {
     "data": {
      "text/plain": [
       "Text(0.5, 1.0, 'Regression')"
      ]
     },
     "execution_count": 56,
     "metadata": {},
     "output_type": "execute_result"
    },
    {
     "data": {
      "image/png": "[encoded data removed]",
      "text/plain": [
       "<Figure size 1440x360 with 3 Axes>"
      ]
     },
     "metadata": {},
     "output_type": "display_data"
    }
   ],
   "source": [
    "plt.figure(figsize=(20, 5))\n",
    "\n",
    "plt.subplot(131)\n",
    "plt.semilogy(df.index, df['Total_loss'], label='Total')\n",
    "plt.semilogy(df.index, df['MSE_0'], label='MSE')\n",
    "plt.semilogy(df.index, df['Regression_0'], label='PI')\n",
    "plt.title('All losses')\n",
    "plt.legend()\n",
    "\n",
    "plt.subplot(132)\n",
    "plt.semilogy(df.index, df['MSE_0'], label='MSE')\n",
    "plt.title('MSE')\n",
    "\n",
    "plt.subplot(133)\n",
    "plt.semilogy(df.index, df['Regression_0'], label='PI')\n",
    "plt.title('Regression')"
   ]
  },
  {
   "cell_type": "markdown",
   "metadata": {},
   "source": [
    "Now let's look at the coefficients:"
   ]
  },
  {
   "cell_type": "code",
   "execution_count": 57,
   "metadata": {},
   "outputs": [],
   "source": [
    "coeff_keys = [key for key in df.keys() if key[:5]=='coeff']\n",
    "scaled_coeff_keys = [key for key in df.keys() if key[:6]=='scaled']"
   ]
  },
  {
   "cell_type": "code",
   "execution_count": 63,
   "metadata": {},
   "outputs": [
    {
     "data": {
      "text/plain": [
       "Text(0.5, 1.0, 'Coefficients')"
      ]
     },
     "execution_count": 63,
     "metadata": {},
     "output_type": "execute_result"
    },
    {
     "data": {
      "image/png": "[encoded data removed]",
      "text/plain": [
       "<Figure size 432x288 with 1 Axes>"
      ]
     },
     "metadata": {},
     "output_type": "display_data"
    }
   ],
   "source": [
    "for key in coeff_keys:\n",
    "    plt.plot(df[key], label=f'{key[-1]}')\n",
    "plt.legend()\n",
    "plt.ylim([-1.5, 0.5])\n",
    "plt.title('Coefficients')"
   ]
  },
  {
   "cell_type": "code",
   "execution_count": 61,
   "metadata": {},
   "outputs": [
    {
     "data": {
      "text/plain": [
       "Text(0.5, 1.0, 'Scaled coefficients')"
      ]
     },
     "execution_count": 61,
     "metadata": {},
     "output_type": "execute_result"
    },
    {
     "data": {
      "image/png": "[encoded data removed]",
      "text/plain": [
       "<Figure size 432x288 with 1 Axes>"
      ]
     },
     "metadata": {},
     "output_type": "display_data"
    }
   ],
   "source": [
    "for key in scaled_coeff_keys:\n",
    "    plt.plot(df[key], label=f'{key[-1]}')\n",
    "plt.legend()\n",
    "plt.ylim([-1.5, 1])\n",
    "plt.title('Scaled coefficients')"
   ]
  },
  {
   "cell_type": "markdown",
   "metadata": {},
   "source": [
    "So we do see a few kinks but not many and certainly with minimal effect. We can also check when terms in are the model:"
   ]
  },
  {
   "cell_type": "code",
   "execution_count": 104,
   "metadata": {},
   "outputs": [],
   "source": [
    "in_model = []\n",
    "for key in scaled_coeff_keys:\n",
    "    in_model.append(df[key].to_numpy()[:, None])\n",
    "in_model = np.concatenate(in_model, axis=1)\n",
    "in_model[np.abs(in_model) > 0 ]= 1"
   ]
  },
  {
   "cell_type": "code",
   "execution_count": 106,
   "metadata": {},
   "outputs": [
    {
     "data": {
      "text/plain": [
       "Text(0.5, 1, 'Heatmap of coefficients in model')"
      ]
     },
     "execution_count": 106,
     "metadata": {},
     "output_type": "execute_result"
    },
    {
     "data": {
      "image/png": "[encoded data removed]",
      "text/plain": [
       "<Figure size 432x288 with 2 Axes>"
      ]
     },
     "metadata": {},
     "output_type": "display_data"
    }
   ],
   "source": [
    "sns.heatmap(in_model)\n",
    "plt.title('Heatmap of coefficients in model')"
   ]
  },
  {
   "cell_type": "code",
   "execution_count": null,
   "metadata": {},
   "outputs": [],
   "source": []
  }
 ],
 "metadata": {
  "kernelspec": {
   "display_name": "Python 3",
   "language": "python",
   "name": "python3"
  },
  "language_info": {
   "codemirror_mode": {
    "name": "ipython",
    "version": 3
   },
   "file_extension": ".py",
   "mimetype": "text/x-python",
   "name": "python",
   "nbconvert_exporter": "python",
   "pygments_lexer": "ipython3",
   "version": "3.6.9"
  }
 },
 "nbformat": 4,
 "nbformat_minor": 4
}
